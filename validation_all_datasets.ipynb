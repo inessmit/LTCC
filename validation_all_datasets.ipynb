{
 "cells": [
  {
   "cell_type": "markdown",
   "metadata": {},
   "source": [
    "# Comparing different set of query results"
   ]
  },
  {
   "cell_type": "code",
   "execution_count": 182,
   "metadata": {
    "collapsed": false
   },
   "outputs": [],
   "source": [
    "import sqlite3 as lite\n",
    "import common_functions_cache as c\n",
    "import pickle\n",
    "from sqlalchemy import create_engine\n",
    "import pandas as pd"
   ]
  },
  {
   "cell_type": "code",
   "execution_count": 183,
   "metadata": {
    "collapsed": true
   },
   "outputs": [],
   "source": [
    "conn = lite.connect('cluster_db')"
   ]
  },
  {
   "cell_type": "code",
   "execution_count": 184,
   "metadata": {
    "collapsed": true
   },
   "outputs": [],
   "source": [
    "cursor = conn.cursor()"
   ]
  },
  {
   "cell_type": "markdown",
   "metadata": {},
   "source": [
    "### Initial 300 query only high category and Peter not found"
   ]
  },
  {
   "cell_type": "code",
   "execution_count": 7,
   "metadata": {
    "collapsed": false
   },
   "outputs": [
    {
     "data": {
      "text/plain": [
       "<sqlite3.Cursor at 0x10d962a40>"
      ]
     },
     "execution_count": 7,
     "metadata": {},
     "output_type": "execute_result"
    }
   ],
   "source": [
    "cursor.execute('select * from queries where query_id = 8')"
   ]
  },
  {
   "cell_type": "code",
   "execution_count": 8,
   "metadata": {
    "collapsed": false
   },
   "outputs": [
    {
     "data": {
      "text/plain": [
       "[(8,\n",
       "  '(ABSTRACT:\"L-type calcium channel\" OR ABSTRACT:\"L-type Ca channel\" OR ABSTRACT:\"L-type calcium current\" OR ABSTRACT:\"L-type Ca2+ current\" OR ABSTRACT:\"L-type Ca current\" OR ABSTRACT:\"calcium channel, L-type\" OR ABSTRACT:\"ICa,L\" OR ABSTRACT:\"Cav1.2\" OR ABSTRACT:\"L-type Ca++ channel\" OR ABSTRACT:\"L-type Ca++ current\" OR ABSTRACT:\"DHPR\" OR ABSTRACT:\"Cav1.x\" OR ABSTRACT:\"DHP receptor\" OR ABSTRACT:\"DHP channel\") AND (ABSTRACT:\"IC50\" OR ABSTRACT:\"AC50\" OR ABSTRACT:\"XC50\" OR ABSTRACT:\"EC50\")',\n",
       "  293,\n",
       "  '2015-9-14')]"
      ]
     },
     "execution_count": 8,
     "metadata": {},
     "output_type": "execute_result"
    }
   ],
   "source": [
    "cursor.fetchall()"
   ]
  },
  {
   "cell_type": "code",
   "execution_count": 9,
   "metadata": {
    "collapsed": true
   },
   "outputs": [],
   "source": [
    "high_category_list = [25596477,1706275,12005367,1701359,2550449,25057870,7693284,1645340,14645142,7828652,10877527,9565772,11743888,8287905,14597602,2536427,7693914,7616442,7957608,1380380,14718255,10482912,9200565,7996445,10212396,8485628,10051142,16086157,8794826,9788778,16524785,9151307,16445575,9151306,1658607,9405427,12396023,17023597,7791099,7881746,18829731,22975497,9242181,9098694,7957616,25179083,11332571,9360010,7723746,24508520,16302909,1347567,9709405,12165041,8371147,8799581,12674757,10482914,25535742,10333718,25016086,7520693,9776350,16157773,10440104,12966159,19378468,8897446,16173926,9146880,10651150,9421274,7751400,14623763,18092154,8842417,18362602,23396228,9593072,7897598,19634509,1709243,8341720,8897484,17519531,15881613,11953130,12624815,7760349,7711935,11392461,7475051,16308426,12605020,15243307,8821512,10511122,12548079,19809324,9639341,8709127,18310913,8897484,9876109]"
   ]
  },
  {
   "cell_type": "code",
   "execution_count": 10,
   "metadata": {
    "collapsed": true
   },
   "outputs": [],
   "source": [
    "Peter_found_pdf = [2550449, 25057870, 7693284, 1645340, 14645142, 11743888, 14597602, 1380380, 14718255, 10482912, 8485628, 10051142, 8794826, 9405427, 17023597, 7881746, 9242181, 8799581, 10482914, 25535742, 7520693, 9776350, 16157773, 12966159, 9146880, 9421274, 14623763, 8842417, 18362602, 9639341, 18310913]"
   ]
  },
  {
   "cell_type": "code",
   "execution_count": 11,
   "metadata": {
    "collapsed": true
   },
   "outputs": [],
   "source": [
    "high_not_found = list(set(high_category_list) - set(Peter_found_pdf))"
   ]
  },
  {
   "cell_type": "code",
   "execution_count": 12,
   "metadata": {
    "collapsed": false
   },
   "outputs": [
    {
     "data": {
      "text/plain": [
       "72"
      ]
     },
     "execution_count": 12,
     "metadata": {},
     "output_type": "execute_result"
    }
   ],
   "source": [
    "len(high_not_found)"
   ]
  },
  {
   "cell_type": "code",
   "execution_count": 13,
   "metadata": {
    "collapsed": false
   },
   "outputs": [],
   "source": [
    "with open('terms_for_highlighting.pkl', 'rb') as f: \n",
    "    broader_terms = pickle.load(f)  "
   ]
  },
  {
   "cell_type": "code",
   "execution_count": 14,
   "metadata": {
    "collapsed": false,
    "scrolled": true
   },
   "outputs": [
    {
     "data": {
      "text/html": [
       "<style>.chem { color: red; }\n",
       ".bio { color: blue; }\n",
       ".tissue { color: magenta; }\n",
       ".other_terms { color: DarkTurquoise; }\n",
       ".sodium { color: Lime; }</style><table border=\"1\" class=\"dataframe\">\n",
       "  <thead>\n",
       "    <tr style=\"text-align: right;\">\n",
       "      <th></th>\n",
       "      <th>pmid</th>\n",
       "      <th>pmid_link</th>\n",
       "      <th>year</th>\n",
       "      <th>title</th>\n",
       "      <th>abstract</th>\n",
       "      <th>journal</th>\n",
       "      <th>inChEMBL</th>\n",
       "      <th>score</th>\n",
       "      <th>avail</th>\n",
       "      <th>pdf_links</th>\n",
       "      <th>other_links</th>\n",
       "      <th>campus_links</th>\n",
       "      <th>request_access</th>\n",
       "      <th>error_comment</th>\n",
       "    </tr>\n",
       "  </thead>\n",
       "  <tbody>\n",
       "    <tr>\n",
       "      <th>1 </th>\n",
       "      <td> 25596477</td>\n",
       "      <td> <a target=\"_blank\" href=\"http://www.ncbi.nlm.nih.gov/pubmed/?term=25596477\">25596477</a></td>\n",
       "      <td> 2015</td>\n",
       "      <td>                                                                                                                                                                                                                                                                                                                        Synthesis and <span class=\"bio\">L-type calcium channel</span> blocking activity of new chiral oxadiazolothiazinones.</td>\n",
       "      <td>                                                                                                                                                                                                                                                                                                                                                                                               Oxadiazolo[3,4-c][1,4]thiazin-3-ones are <span class=\"tissue\">cardiovascular </span>agents that <span class=\"other_terms\">block</span> <span class=\"bio\">L-type calcium channels</span>. Previous data of <span class=\"tissue\">cardiac</span> and vasorelaxant activity on guinea-pig for several derivatives indicated the two positions ortho to the thiazine's sulphur as crucial for modulating the activity; but these positions are likely susceptible to metabolic biotransformations, as indicated by in silico predictions. We designed new derivatives, and obtained three negative inotropic agents with <span class=\"chem\">EC50</span> in the low nanomolar range, more potent than all the precursors published so far. In particular, benzocondensation at the thiazine ring led to 3a (<span class=\"chem\">EC50</span> = 0.013 μM) and 3b (<span class=\"chem\">EC50</span> = 0.006 μM). Besides negative inotropy, we also observed relaxant activity on nonvascular muscle in the micromolar range. We resolved the new derivatives by chiral chromatography, and determined their absolute configuration by comparing experimental and calculated chiroptical properties (VCD, ECD and ORD): they hold the same absolute configuration-optical rotation relationship, (S)-(+)/(R)-(-). Both <span class=\"tissue\">cardiac</span> and nonvascular activity are majorly or mostly retained in the R-form for all the <span class=\"chem\">compounds</span>, but for the nonvascular activity we observed a strong stereoselectivity for 3a, with the R-form in the nanomolar range (<span class=\"chem\">IC50</span> = 0.020 μM) and 259-fold more potent than the S-one.</td>\n",
       "      <td>                                                                                                                                               European journal of medicinal chemistry</td>\n",
       "      <td> 0</td>\n",
       "      <td>  9.88</td>\n",
       "      <td>      S</td>\n",
       "      <td>                                                                                                       </td>\n",
       "      <td>                                                                                                              </td>\n",
       "      <td>                                                                                                 <a target=\"_blank\" href=\"http://www.sciencedirect.com/science/article/pii/S0223523414011532\">campus_link_0</a></td>\n",
       "      <td>                                                                                                                                                                                                                                                                                                                                                                                                                                                                                                                                                                                                                                                                                                 </td>\n",
       "      <td> </td>\n",
       "    </tr>\n",
       "    <tr>\n",
       "      <th>2 </th>\n",
       "      <td>  1706275</td>\n",
       "      <td>   <a target=\"_blank\" href=\"http://www.ncbi.nlm.nih.gov/pubmed/?term=1706275\">1706275</a></td>\n",
       "      <td> 1990</td>\n",
       "      <td>                                                                                                                                                                                                                                                                                                        <span class=\"bio\">Ca2+ channel</span> inhibition by a new dihydropyridine derivative, S11568, and its enantiomers S12967 and S12968.</td>\n",
       "      <td>                                                                                                                                                                                                                                                                                                                                                 Biochemical and electrophysiological techniques were used to describe the <span class=\"bio\">Ca2+ channel</span> blocking properties of a new dihydropyridine derivative, S11568 (+/-)- ([(amino-2-ethoxy)-2-ethoxy]methyl)-2-(dichloro-2',3'-phenyl)-4- ethoxy-carbonyl-3-methoxycarbonyl-5-methyl-6-dihydro-1,4-pyridine and its enantiomers S12967 ((+)-S11568) and S12968 ((-)-S11568). In <span class=\"chem\">binding</span> studies, S11568 and S12968 displaced specifically bound [3H]PN 200-110 from <span class=\"tissue\">cardiac</span> and vascular smooth muscle preparations with <span class=\"chem\">potencies</span> of 5.6-51 nM, respectively. S12967 was 6- to 18-fold less potent than S12968. A good correlation was found between the <span class=\"chem\">IC50</span> value for the inhibition of 45Ca2+ uptake by A7r5 aortic smooth muscle cells and <span class=\"chem\">binding</span> data. Whole-cell patch clamp studies in both guinea-pig ventricular myocytes and A7r5 cells yielded similar results. At holding potential (VH) -50 mV, S12968 inhibited <span class=\"bio\">L-type Ca2+ current</span> with an <span class=\"chem\">IC50</span> value near 70 nM, 2- to 3-fold more potently than S11568 and 30-fold more potently than S12967. With VH -100 mV, all three <span class=\"chem\">compounds</span> were less potent, with <span class=\"chem\">IC50</span> values ranging from 500 nM to 3 microM. These results demonstrate conclusively that S12968 is the more active enantiomer. Furthermore, the pronounced voltage dependence of its actions in vitro suggests that in vivo it could exhibit good selectivity for vascular smooth muscle over <span class=\"tissue\">cardiac</span> muscle.</td>\n",
       "      <td>                                                                                                                                                      European journal of pharmacology</td>\n",
       "      <td> 0</td>\n",
       "      <td>  6.99</td>\n",
       "      <td>      S</td>\n",
       "      <td>                                                                                                       </td>\n",
       "      <td>                                                                                                              </td>\n",
       "      <td>                                                                                                  <a target=\"_blank\" href=\"http://www.sciencedirect.com/science/article/pii/001429999094115E\">campus_link_0</a></td>\n",
       "      <td>                                                                                                                                                                                                                                                                                                                                                                                                                                                                                                                                                                                                                                                                                                 </td>\n",
       "      <td> </td>\n",
       "    </tr>\n",
       "    <tr>\n",
       "      <th>3 </th>\n",
       "      <td> 12005367</td>\n",
       "      <td> <a target=\"_blank\" href=\"http://www.ncbi.nlm.nih.gov/pubmed/?term=12005367\">12005367</a></td>\n",
       "      <td> 2002</td>\n",
       "      <td>                                                                                                                                                                                                                                                                                                                                                        Synthesis and spasmolytic action of 2-substituted thienopyrimidin-4-one derivatives.</td>\n",
       "      <td>                                                                                                                                                                                                            In the search for novel <span class=\"chem\">compounds</span> to treat disorders of smooth muscle function, efforts have focused on some 2-substituted thieno[2,3-d]pyrimidin-4-one derivatives that show interesting spasmolytic action. Our laboratories have developed a new series of quaternary salts of 2-substituted thieno[2,3-d]pyrimidin-4-one and thieno[3,2-d]pyrimidin-4-one isomers with therapeutic potential. Thesesubstances were prepared starting from simple derivatives of thiophene. Their spasmolytic activity was evaluated on transmurally stimulated guinea-pig ileum. The most active <span class=\"chem\">compounds</span> (<span class=\"chem\">IC50</span> 1.12-2.71 microM) 7f-7h, 12d and 12f had the terminal piperidino nucleus in the thioalkyl chain and lacked two methyl groups in the thiophene ring. Their relaxant activity on the isolated ileum was potentiated (approx. 20-25%) by phosphodiesterase inhibitors. <span class=\"chem\">Compounds</span> 7f-h, 12d and 12f were less effective in inhibiting contractions of the guinea-pig ileum induced by acetylcholine (<span class=\"chem\">IC50</span> 26.7-41.4 microM) or histamine (<span class=\"chem\">IC50</span> 41.5-63.4 microM) and had a moderate <span class=\"chem\">binding</span> activity to muscarinic receptors in membrane homogenates from the rat <span class=\"tissue\">heart</span> (M2 sites; pKi values between 5.55+/-0.08 and 5.14+/-0.12; n = 3) and submaxillary gland (M3 sites; pKi values between 6.15+/-0.07 and 5.76+/-0.08; n = 3). Action involving soluble guanylyl cyclase or any potential <span class=\"chem\">binding</span> to guinea-pig ventricular <span class=\"bio\">L-type calcium channels</span> was not considered likely. It is concluded that at least two different mechanisms of action contribute to their spasmolytic activity.</td>\n",
       "      <td>                                                                                                                                              The Journal of pharmacy and pharmacology</td>\n",
       "      <td> 0</td>\n",
       "      <td>  5.79</td>\n",
       "      <td>      S</td>\n",
       "      <td>                                                                                                       </td>\n",
       "      <td>                                                                                                              </td>\n",
       "      <td>                                            <a target=\"_blank\" href=\"http://onlinelibrary.wiley.com/doi/10.1211/0022357021778871/abstract;jsessionid=FE86491D97E1A9C1C0B43034EB1B61D1.f04t01\">campus_link_0</a></td>\n",
       "      <td>                                                                                                                                                                                                                                                                                                                                                                                                                                                                                                                                                                                                                                                                                                 </td>\n",
       "      <td> </td>\n",
       "    </tr>\n",
       "    <tr>\n",
       "      <th>4 </th>\n",
       "      <td>  1701359</td>\n",
       "      <td>   <a target=\"_blank\" href=\"http://www.ncbi.nlm.nih.gov/pubmed/?term=1701359\">1701359</a></td>\n",
       "      <td> 1990</td>\n",
       "      <td>                                                                                                                                                                         Effects of forskolin and <span class=\"chem\">analogues</span> on nicotinic receptor-mediated <span class=\"sodium\">sodium</span> flux, <span class=\"bio\">voltage-dependent calcium</span> flux, and voltage-dependent rubidium efflux in pheochromocytoma PC12 cells.</td>\n",
       "      <td> 1. Forskolin, a naturally occurring diterpene that activates adenylate cyclase, HL706, a water-soluble derivative of forskolin (6 beta-[(piperidino)acetoxy]-7-desacetylforskolin) that is less potent than forskolin in activating adenylate cyclase, and 1,9-dideoxyforskolin, an <span class=\"chem\">analogue</span> that does not activate adenylate cyclase, were examined for effects on the nicotinic receptor-mediated 22Na+ flux, a high potassium-induced 45Ca2+ flux through <span class=\"bio\">L-type calcium channels</span>, and a high potassium-induced 86Rb+ efflux through a <span class=\"bio\">calcium</span>-dependent potassium <span class=\"bio\">channels</span> in PC12 cells. 2. Forskolin and <span class=\"chem\">analogues</span> at 30 microM completely blocked carbamylcholine-elicited flux of 22Na+ through the nicotinic receptor-gated <span class=\"bio\">channel</span>. 1,9-Dideoxyforskolin had an <span class=\"chem\">IC50</span> value of 1.6 microM with forskolin and HL706 being two- to three fold less potent. 3. Forskolin and its <span class=\"chem\">analogues</span> appear to be noncompetitive blockers of the neuronal nicotinic receptor-<span class=\"bio\">channel</span> complex in PC12 cells, but unlike many noncompetitive blockers, did not markedly enhance desensitization. Instead, forskolin, but not HL706 or 1,9-dideoxyforskolin, slightly antagonized the desensitization evoked by high concentrations of carbamylcholine. N-Ethylcarboxamidoadenosine, an adenosine <span class=\"chem\">analogue</span> that elevates cyclic AMP and 8-bromo-cyclic AMP had no effect on desensitization. 4. Forskolin, HL706, and 1,9-dideoxyforskolin in the presence of carbamylcholine inhibited the <span class=\"chem\">binding</span> of a noncompetitive <span class=\"other_terms\">blocker</span>, [3H]perhydrohistrionicotoxin, to the muscle-type nicotinic receptor-<span class=\"bio\">channel</span> complex in Torpedo electroplax membranes with <span class=\"chem\">IC50</span> values of 20 microM. Forskolin had no ...</td>\n",
       "      <td>                                                                                                                                                   Cellular and molecular neurobiology</td>\n",
       "      <td> 0</td>\n",
       "      <td>  5.10</td>\n",
       "      <td>      S</td>\n",
       "      <td>                                                                                                       </td>\n",
       "      <td>                                                                                                              </td>\n",
       "      <td>                                                                                                                <a target=\"_blank\" href=\"http://link.springer.com/article/10.1007/BF00711180\">campus_link_0</a></td>\n",
       "      <td>                                                                                                                                                                                                                                                                                                                                                                                                                                                                                                                                                                                                                                                                                                 </td>\n",
       "      <td> </td>\n",
       "    </tr>\n",
       "    <tr>\n",
       "      <th>5 </th>\n",
       "      <td>  7828652</td>\n",
       "      <td>   <a target=\"_blank\" href=\"http://www.ncbi.nlm.nih.gov/pubmed/?term=7828652\">7828652</a></td>\n",
       "      <td> 1994</td>\n",
       "      <td>                                                                                                                                                                                                                                                                                                                        Inhibition of <span class=\"bio\">L-type Ca2+ channels</span> in portal vein myocytes by the enantiomers of oxodipine.</td>\n",
       "      <td> We studied the effects of the enantiomers of the dihydropyridine derivative, 4-(2,3 methylenedioxyphenyl)-1,4-dihydro-2,6-dimethyl-3 carboxyethyl-5-carboxymethyl-pyridine (oxodipine), on voltage-dependent <span class=\"bio\">Ca2+ channels</span> of rat portal vein myocytes by combining electrophysiological techniques and <span class=\"chem\">binding</span> studies. (+)- and (-)-oxodipine depressed the <span class=\"bio\">L-type Ca2+ current</span> in a concentration-dependent manner, with similar <span class=\"chem\">IC50</span> values (around 10 nM) but had no appreciable effect on the intracellular Ca2+ stores. The steady-state inactivation curve for the Ca2+ current was shifted along the voltage axis to negative membrane potentials indicating that the <span class=\"other_terms\">block</span> of the Ca2+ current by oxodipine enantiomers increased with depolarization. The voltage-dependent inhibitory property of oxodipine was related to an increase in [3H](+)-4-(benzo-2-oxa-1,3-diazol-4-yl)-1,4-dihydro-2,6-dimethy lpy ridine- 3,5-dicarboxylic acid 3-isopropyl, 5-methyl ester (isradipine) <span class=\"chem\">binding</span> <span class=\"other_terms\">affinity</span> without change in <span class=\"chem\">binding</span> capacity. In normally polarized intact strips, interactions of (+)- and (-)-oxodipine with [3H](+)-isradipine <span class=\"chem\">binding</span> indicated a stimulation of the radioligand <span class=\"chem\">binding</span> at low concentrations of (-)-oxodipine while the (+) enantiomer seemed to act as a competitive <span class=\"chem\">ligand</span>. Depolarization of intact strips with 135 mM K(+)-solutions increased the apparent <span class=\"other_terms\">affinity</span> of the enantiomers of oxodipine, and abolished the stimulating effect of (-)-oxodipine on the <span class=\"chem\">binding</span> of [3H](+)-isradipine. Inhibition of Ca2+ current was increased in the simultaneous presence of 1 nM of (+)- and (-)-oxodipine when compared to the inhibitions induced by...</td>\n",
       "      <td>                                                                                                                                                      European journal of pharmacology</td>\n",
       "      <td> 0</td>\n",
       "      <td> -1.26</td>\n",
       "      <td>      S</td>\n",
       "      <td>                                                                                                       </td>\n",
       "      <td>                                                                                                              </td>\n",
       "      <td>                                                                                                  <a target=\"_blank\" href=\"http://www.sciencedirect.com/science/article/pii/0922410694900329\">campus_link_0</a></td>\n",
       "      <td>                                                                                                                                                                                                                                                                                                                                                                                                                                                                                                                                                                                                                                                                                                 </td>\n",
       "      <td> </td>\n",
       "    </tr>\n",
       "    <tr>\n",
       "      <th>6 </th>\n",
       "      <td> 10877527</td>\n",
       "      <td> <a target=\"_blank\" href=\"http://www.ncbi.nlm.nih.gov/pubmed/?term=10877527\">10877527</a></td>\n",
       "      <td> 2000</td>\n",
       "      <td>                                                                                                                                                                                                                                                    Inhibitory action of troglitazone, an insulin-sensitizing agent, on the <span class=\"bio\">calcium</span> current in <span class=\"tissue\">cardiac</span> ventricular cells of guinea pig.</td>\n",
       "      <td>                                                                                                                                                                                                                                                                                                                                                                                                                                                                                                                                                                                                                                                                                                                                                                                                                                                                                                                                                                                                                                                                                                                                 We investigated the effects of troglitazone, a new orally active hypoglycemic agent, on the voltage-dependent <span class=\"bio\">L-type Ca2+ current</span> in single <span class=\"tissue\">cardiac</span> ventricular myocytes of guinea pigs by the whole-cell voltage clamp technique. Troglitazone blocked the Ca2+ currents in a concentration-dependent manner. The inhibitory effect was more potent at the holding potential (HP) of - 50 mV than at - 80 mV. The half-maximum inhibiting concentration (<span class=\"chem\">IC50</span>) of troglitazone was 0.8 microM with the Hill coefficient of 0.84 at -50 mV HP. In contrast, the <span class=\"chem\">IC50</span> value was higher than 10 microM at -80 mV HP. These results suggest that troglitazone at therapeutic concentrations inhibit the <span class=\"bio\">Ca2+ channels</span> and may exert <span class=\"tissue\">cardioprotective</span> effects in diabetic conditions.</td>\n",
       "      <td>                                                                                                                                                      Japanese journal of pharmacology</td>\n",
       "      <td> 0</td>\n",
       "      <td> -1.99</td>\n",
       "      <td>      S</td>\n",
       "      <td>                                                                                                       </td>\n",
       "      <td>                                                                                                              </td>\n",
       "      <td>                                                                                                    <a target=\"_blank\" href=\"https://www.jstage.jst.go.jp/article/jjp/82/2/82_2_102/_article\">campus_link_0</a></td>\n",
       "      <td>                                                                                                                                                                                                                                                                                                                                                                                                                                                                                                                                                                                                                                                                                                 </td>\n",
       "      <td> </td>\n",
       "    </tr>\n",
       "    <tr>\n",
       "      <th>7 </th>\n",
       "      <td>  9565772</td>\n",
       "      <td>   <a target=\"_blank\" href=\"http://www.ncbi.nlm.nih.gov/pubmed/?term=9565772\">9565772</a></td>\n",
       "      <td> 1998</td>\n",
       "      <td>                                                                                                                                                                                                                                                                                                   <span class=\"bio\">Calcium</span> <span class=\"other_terms\">antagonist</span> properties of the bisbenzylisoquinoline alkaloid cycleanine.</td>\n",
       "      <td>                                                                                                                                                                                                                                                                                                                                                                                                                                             The alkaloid cycleanine ([12aR-(12aR,24aR)]-2,3,12a,13,14,15,24,24a-octa hydro-5,6,17,18- tetramethoxy-1,13-dimethyl-8, 11:20,23-dietheno-1H,12H [1,10]dioxacyclooctadecino[2,3,4-ij:11,12,13-i'j']diisoquinolin e) was extracted from the bulbs of Stephania glabra (Roxb) Miers and its effects on <span class=\"tissue\">cardiac</span> and smooth muscle preparations were studied and compared to those of nifedipine (1,4-dihydro-2, 6-dimethyl-4-(2-nitrophenyl)-3,5-pyridine dicarboxylic acid dimethylesther). Cycleanine inhibited the KCl-induced contraction of rabbit aortic rings with higher <span class=\"chem\">potency</span> than nifedipine. IC50s for cycleanine and nifedipine were 0.8 and 7.10(-9) M respectively. Cycleanine had minor effects on the norepinephrine-induced contraction of rabbit aortic rings. Cycleanine and nifedipine also depressed the contraction of rat ventricular preparations but with lower <span class=\"chem\">potency</span> (<span class=\"chem\">IC50</span> = 3 and 0.03.10(-6) M respectively). Action potential duration of rat right ventricular strips was decreased by both <span class=\"chem\">compounds</span>. <span class=\"bio\">L-type Ca-current</span> (ICaL) of single rat ventricular <span class=\"tissue\">cardiomyocytes </span>was inhibited by cycleanine in a voltage- and frequency-dependent manner. With a higher <span class=\"chem\">potency</span> nifedipine inhibited ICaL in a tonic and almost frequency-independent manner. The results suggest that cycleanine can act as a potent vascular selective Ca-<span class=\"other_terms\">antagonist</span>.</td>\n",
       "      <td>                                                                                                                                                   Fundamental & clinical pharmacology</td>\n",
       "      <td> 0</td>\n",
       "      <td> -3.12</td>\n",
       "      <td>      S</td>\n",
       "      <td>                                                                                                       </td>\n",
       "      <td>                                                                                                              </td>\n",
       "      <td>                                                                                     <a target=\"_blank\" href=\"http://onlinelibrary.wiley.com/doi/10.1111/j.1472-8206.1998.tb00939.x/abstract\">campus_link_0</a></td>\n",
       "      <td>                                                                                                                                                                                                                                                                                                                                                                                                                                                                                                                                                                                                                                                                                                 </td>\n",
       "      <td> </td>\n",
       "    </tr>\n",
       "    <tr>\n",
       "      <th>8 </th>\n",
       "      <td>  8287905</td>\n",
       "      <td>   <a target=\"_blank\" href=\"http://www.ncbi.nlm.nih.gov/pubmed/?term=8287905\">8287905</a></td>\n",
       "      <td> 1993</td>\n",
       "      <td>                                                                                                                                                                                                                                                                                           Voltage-dependent modulation of <span class=\"bio\">L-type Ca2+ current</span> by manidipine in guinea-pig <span class=\"tissue\">heart</span> cells.</td>\n",
       "      <td>                                                                                                                                                                                                                                                                                                                                                                                                                                                                                                                                                                                                                                                                                                                                                                                                                                                                                                                                                                                                                                                                                                                                                       Effects of manidipine, a dihydropyridine derivative, on <span class=\"bio\">L-type Ca2+ currents</span> were examined in guinea-pig ventricular cells, using the whole-cell patch-clamp method. At a holding potential of -37 mV, manidipine decreased the Ca2+ current at concentrations above 0.1 nM, and abolished it at 100 nM (<span class=\"chem\">IC50</span> = 2.6 nM). At a holding potential of -78 mV, manidipine did not suppress the Ca2+ current at concentrations less than 100 nM, but increased the Ca2+ current slightly at a concentration of 10 nM. The antagonistic effect of manidipine was significant at concentrations above 100 nM (<span class=\"chem\">IC50</span> = 400 nM). The voltage-dependent effect of manidipine on the Ca2+ current may explain the weak negative inotropism of manidipine in ventricular muscles, and provide an electrophysiological basis for its vascular selectivity.</td>\n",
       "      <td>                                                                                                                                                      European journal of pharmacology</td>\n",
       "      <td> 0</td>\n",
       "      <td> -3.89</td>\n",
       "      <td>      S</td>\n",
       "      <td>                                                                                                       </td>\n",
       "      <td>                                                                                                              </td>\n",
       "      <td>                                                                                                  <a target=\"_blank\" href=\"http://www.sciencedirect.com/science/article/pii/001429999390437M\">campus_link_0</a></td>\n",
       "      <td>                                                                                                                                                                                                                                                                                                                                                                                                                                                                                                                                                                                                                                                                                                 </td>\n",
       "      <td> </td>\n",
       "    </tr>\n",
       "    <tr>\n",
       "      <th>9 </th>\n",
       "      <td>  2536427</td>\n",
       "      <td>   <a target=\"_blank\" href=\"http://www.ncbi.nlm.nih.gov/pubmed/?term=2536427\">2536427</a></td>\n",
       "      <td> 1989</td>\n",
       "      <td>                                                                                                                                                                                                                                                                          Effects of McN-6186 on <span class=\"bio\">voltage-dependent Ca</span>++ <span class=\"bio\">channels</span> in <span class=\"tissue\">heart</span> and pituitary cells.</td>\n",
       "      <td>                                                                                                                                                                                                                                                                                                                                                                                                                                                                                                                McN-6186 (N-[2-(3,5-dimethoxyphenyl)ethyl]-5-methoxy-alpha-methyl-2 -(phenylethynyl) benzeneethanamine hydrochloride is a <span class=\"chem\">compound</span> structurally distinct from other <span class=\"bio\">Ca++ channel</span> <span class=\"chem\">ligands</span>. McN-6186 showed some stimulation of 1,4-dihydropyridine-sensitive Ca++ uptake in neonatal rat ventricular cells at concentrations of 1 and 3 nM. At higher concentrations McN-6186 inhibited this uptake in rat ventricular cells at concentrations approximately 100-fold less than those needed to <span class=\"other_terms\">block</span> the corresponding Ca++ uptake in rat anterior pituitary (GH3) cells. McN-6186 (2 microM) inhibited <span class=\"bio\">L-type Ca++ channel</span> current in neonatal rat ventricular cells in a voltage-dependent manner while having little or no effect on this current in GH3 cells. In some ventricular cells tested, the T-type Ca++ current was also blocked by 2 microM McN-6186. McN-6186 inhibited (+)-[3H]PN200-110 <span class=\"chem\">binding</span> in rat <span class=\"tissue\">cardiac</span> membranes with an <span class=\"chem\">IC50</span> value of 1.45 X 10(-7) M and a shallow Hill slope (nH = 0.42). It is concluded that McN-6186 blocks <span class=\"bio\">L-type Ca++ channels</span> in <span class=\"tissue\">heart</span> cells preferentially to those found in GH3 cells. Furthermore, McN-6186 may have other sites and mechanisms of action in addition to <span class=\"bio\">L-type Ca++ channel</span> blockade.</td>\n",
       "      <td>                                                                                                                             The Journal of pharmacology and experimental therapeutics</td>\n",
       "      <td> 0</td>\n",
       "      <td> -4.31</td>\n",
       "      <td> F, F12</td>\n",
       "      <td>  <a target=\"_blank\" href=\"http://intl-jpet.aspetjournals.org/cgi/reprint/248/1/164.pdf\">pdf_link_0</a></td>\n",
       "      <td>  <a target=\"_blank\" href=\"http://intl-jpet.aspetjournals.org/cgi/content/abstract/248/1/164\">other_link_0</a></td>\n",
       "      <td>                                                                                                                                                                                                               </td>\n",
       "      <td>                                                                                                                                                                                                                                                                                                                                                                                                                                                                                                                                                                                                                                                                                                 </td>\n",
       "      <td> </td>\n",
       "    </tr>\n",
       "    <tr>\n",
       "      <th>10</th>\n",
       "      <td>  7693914</td>\n",
       "      <td>   <a target=\"_blank\" href=\"http://www.ncbi.nlm.nih.gov/pubmed/?term=7693914\">7693914</a></td>\n",
       "      <td> 1993</td>\n",
       "      <td>                                                                                                                                                                                                                                                                                                                Pharmacology of CP-99,994; a nonpeptide <span class=\"other_terms\">antagonist</span> of the tachykinin neurokinin-1 receptor.</td>\n",
       "      <td>                                                                                                                                                                                                                                                                                                                                                                                                                                                                                                                                                                                                                            (+)-(2S,3S)-3-(2-methoxybenzylamino)-2-phenylpiperidine (CP-99,994) binds selectively and with high <span class=\"other_terms\">affinity</span> (Ki = 0.25 nM) to neurokinin (NK)-1 tachykinin receptors in a human cell line and in guinea pigs where it acts as an <span class=\"other_terms\">antagonist</span> as evidenced by its blockade of substance P-induced excitation of locus coeruleus neurons in vitro. Subcutaneously administered CP-99,994 antagonized locomotor activity in guinea pigs induced by intraventricular infusion of [Sar9,Met(O2)11]-substance P (50 micrograms) with an <span class=\"chem\">ID50</span> = 0.59 mg/kg, indicating that CP-99,994 penetrates into the central nervous system. Orally administered CP-99,994 potently blocked (<span class=\"chem\">ID50</span> = 4 mg/kg) the leakage of Evans blue dye into trachea and bronchi elicited by exposure of guinea pigs to aerosol capsaicin (1 mM). CP-99,994 has reduced <span class=\"other_terms\">affinity</span> (<span class=\"chem\">IC50</span> = 3 microM) for the <span class=\"bio\">L-type calcium channel</span> in contrast to CP-96,345 (<span class=\"chem\">IC50</span> = 27 nM) an earlier nonpeptide <span class=\"other_terms\">antagonist</span>. Thus, CP-99,994 represents an important pharmacological tool for investigating the physiological role of substance P and a potentially novel therapeutic agent for treating a variety of diseases.</td>\n",
       "      <td>                                                                                                                             The Journal of pharmacology and experimental therapeutics</td>\n",
       "      <td> 0</td>\n",
       "      <td> -4.34</td>\n",
       "      <td> F, F12</td>\n",
       "      <td>  <a target=\"_blank\" href=\"http://intl-jpet.aspetjournals.org/cgi/reprint/267/1/472.pdf\">pdf_link_0</a></td>\n",
       "      <td>  <a target=\"_blank\" href=\"http://intl-jpet.aspetjournals.org/cgi/content/abstract/267/1/472\">other_link_0</a></td>\n",
       "      <td>                                                                                                                                                                                                               </td>\n",
       "      <td>                                                                                                                                                                                                                                                                                                                                                                                                                                                                                                                                                                                                                                                                                                 </td>\n",
       "      <td> </td>\n",
       "    </tr>\n",
       "    <tr>\n",
       "      <th>11</th>\n",
       "      <td>  7616442</td>\n",
       "      <td>   <a target=\"_blank\" href=\"http://www.ncbi.nlm.nih.gov/pubmed/?term=7616442\">7616442</a></td>\n",
       "      <td> 1995</td>\n",
       "      <td>                                                                                                                                                                                                                                                               Interaction of Ro 40-5967 and verapamil with the stably expressed alpha 1-subunit of the <span class=\"tissue\">cardiac</span> <span class=\"bio\">L-type calcium channel</span>.</td>\n",
       "      <td>                                                                                                                                                                                                                                                                                                                                                                                                                                                                 The interaction of the nondihydropyridine <span class=\"bio\">calcium channel</span> <span class=\"other_terms\">antagonist</span> Ro 40-5967 with the stably expressed class C alpha 1-subunit of the <span class=\"tissue\">cardiac</span> <span class=\"bio\">L-type calcium channel</span> was investigated and compared with that of verapamil by using the whole cell patch clamp configuration. Both <span class=\"chem\">compounds</span> blocked the Ba++ inward current. The <span class=\"chem\">IC50</span> values at a holding potential of -80 or -40 mV were 4.9 and 1.4 microM for Ro 40-5967 and 250 and 15.5 microM for verapamil. Both Ro 40-5967 and verapamil induced a partial tonic <span class=\"other_terms\">block</span> at a holding potential of -80 mV. The <span class=\"other_terms\">block</span> increased with high depolarization rates. Both Ro 40-5967 and verapamil shifted the steady-state inactivation curve by more than 20 mV to hyperpolarized membrane potentials and decreased the inactivation rate constant. The effect of Ro 40-5967, but not that of verapamil, was attenuated by intracellular dialysis with GTP gamma S. The <span class=\"other_terms\">affinity</span> for verapamil was not affected by replacing Ba++ by Ca++, but was increased by the coexpression of the beta 3-subunit. These results indicate that both <span class=\"chem\">compounds</span> interact with high <span class=\"other_terms\">affinity</span> with the inactivated <span class=\"bio\">channel</span> state, but may interact additionally with the open <span class=\"bio\">channel</span>.</td>\n",
       "      <td>                                                                                                                             The Journal of pharmacology and experimental therapeutics</td>\n",
       "      <td> 0</td>\n",
       "      <td> -4.89</td>\n",
       "      <td> F12, F</td>\n",
       "      <td>   <a target=\"_blank\" href=\"http://intl-jpet.aspetjournals.org/cgi/reprint/274/1/54.pdf\">pdf_link_0</a></td>\n",
       "      <td>   <a target=\"_blank\" href=\"http://intl-jpet.aspetjournals.org/cgi/content/abstract/274/1/54\">other_link_0</a></td>\n",
       "      <td>                                                                                                                                                                                                               </td>\n",
       "      <td>                                                                                                                                                                                                                                                                                                                                                                                                                                                                                                                                                                                                                                                                                                 </td>\n",
       "      <td> </td>\n",
       "    </tr>\n",
       "    <tr>\n",
       "      <th>12</th>\n",
       "      <td>  7957608</td>\n",
       "      <td>   <a target=\"_blank\" href=\"http://www.ncbi.nlm.nih.gov/pubmed/?term=7957608\">7957608</a></td>\n",
       "      <td> 1994</td>\n",
       "      <td>                                                                                                                                                                                                                                                                                                                                    Effects of azelastine on membrane currents in tracheal smooth muscle cells isolated from the guinea-pig.</td>\n",
       "      <td>                                                                                                                                                                                                                                                                                                                                                                                                             Azelastine [4-(p-chlorobenzyl)-2-(hexahydro-1-methyl -1H-azepin-4-yl)-1-(2H)-phthalazinone hydrochloride], an anti-allergic agent, inhibited the high K(+)-induced contraction in tracheal smooth muscle cells isolated from the guinea-pig. In order to investigate the ionic mechanisms, we examined the effects of azelastine on membrane currents, using the tight-seal whole cell voltage clamp technique. Azelastine (1-100 microM) caused an inhibition of the Ba2+ inward current (IBa) through the voltage-dependent <span class=\"bio\">L-type Ca2+ channel</span> in a concentration-dependent manner. The inhibitory effect of azelastine on IBa was fully reversible. The <span class=\"chem\">IC50</span> value for azelastine-induced inhibition of IBa was approximately 8 microM, and 100 microM azelastine completely suppressed IBa. Azelastine exerted mainly a tonic <span class=\"other_terms\">block</span> of IBa but did not show use dependence. Azelastine (10 microM) shifted the quasi-steady-state inactivation curve of IBa to more negative membrane potentials by approximately -20 mV, suggesting that the inhibitory effect of azelastine on IBa was voltage-dependent. In addition, azelastine produced inhibitory actions on other membrane currents (i.e. the voltage-dependent transient outward K+ current and the Ca(2+)-activated oscillatory K+ current) at doses higher than 10 microM. These results suggest that azelastine inhibits the voltage-dependent <span class=\"bio\">L-type Ca2+ current</span> in single tracheal smooth muscle cells, which may contribute to the anti-allergic actions of azelastine in airways.</td>\n",
       "      <td>                                                                                                                                                      European journal of pharmacology</td>\n",
       "      <td> 0</td>\n",
       "      <td> -5.53</td>\n",
       "      <td>      S</td>\n",
       "      <td>                                                                                                       </td>\n",
       "      <td>                                                                                                              </td>\n",
       "      <td>                                                                                                  <a target=\"_blank\" href=\"http://www.sciencedirect.com/science/article/pii/0014299994905037\">campus_link_0</a></td>\n",
       "      <td>                                                                                                                                                                                                                                                                                                                                                                                                                                                                                                                                                                                                                                                                                                 </td>\n",
       "      <td> </td>\n",
       "    </tr>\n",
       "    <tr>\n",
       "      <th>13</th>\n",
       "      <td>  9200565</td>\n",
       "      <td>   <a target=\"_blank\" href=\"http://www.ncbi.nlm.nih.gov/pubmed/?term=9200565\">9200565</a></td>\n",
       "      <td> 1997</td>\n",
       "      <td>                                                                                                                                                                                                                                                                                                                                                                 Ionic mechanisms of tetrandrine in cultured rat aortic smooth muscle cells.</td>\n",
       "      <td>                                                                                                                                                                                                                                                                                                                                                                                                                                                                                                                                                                                                                                                                                                                     The ionic mechanism of tetrandrine, an alkaloid extracted from the Chinese medicinal herb Radix stephania tetrandrae, was investigated in A7r5 vascular smooth muscle cells. The nystatin-perforated whole-cell voltage-clamp technique was performed to examine the effects of tetrandrine on ionic currents. Tetrandrine (1-100 microM) reversibly caused an inhibition of <span class=\"bio\">L-type</span> voltage-dependent Ca2+ current (I(Ca,L)) in a concentration-dependent manner. Tetrandrine did not cause any change in the overall shape of the current-voltage relationship of I(Ca,L). The <span class=\"chem\">IC50</span> value of tetrandrine-induced inhibition of I(Ca,L) was 5 microM. In the presence of Bay K 8644 (3 microM) or cyclopiazonic acid (30 microM), tetrandrine still produced a significant inhibition of I(Ca,L). The inhibitory effects of tetrandrine on I(Ca,L) exhibited tonic and use-dependent characteristics. Moreover. tetrandrine (3 microM) shifted the steady-state inactivation curve of I(Ca,L) to more negative membrane potentials by approximately -15 mV. These results indicate that tetrandrine directly inhibits the voltage-dependent <span class=\"bio\">L-type Ca2+ current</span> in vascular smooth muscle cells, which may predominantly contribute to the vasodilatory actions of tetrandrine.</td>\n",
       "      <td>                                                                                                                                                      European journal of pharmacology</td>\n",
       "      <td> 0</td>\n",
       "      <td> -7.23</td>\n",
       "      <td>      S</td>\n",
       "      <td>                                                                                                       </td>\n",
       "      <td>                                                                                                              </td>\n",
       "      <td>                                                                                                 <a target=\"_blank\" href=\"http://www.sciencedirect.com/science/article/pii/S0014299997896665\">campus_link_0</a></td>\n",
       "      <td>                                                                                                                                                                                                                                                                                                                                                                                                                                                                                                                                                                                                                                                                                                 </td>\n",
       "      <td> </td>\n",
       "    </tr>\n",
       "    <tr>\n",
       "      <th>14</th>\n",
       "      <td>  8897484</td>\n",
       "      <td>   <a target=\"_blank\" href=\"http://www.ncbi.nlm.nih.gov/pubmed/?term=8897484\">8897484</a></td>\n",
       "      <td> 1996</td>\n",
       "      <td>                                                                                                                                                                                                                                                                                                  Effect of SR33805 on barium current and asymmetric intramembrane charge movement in freshly dissociated mouse cerebellar Purkinje neurons.</td>\n",
       "      <td>                                                                                                                                                                                                                                                                                                                                                                                                                                                                                                                                                                                                                                                                                                                                                                                                                                                                          SR33805 is a novel <span class=\"bio\">calcium channel</span> <span class=\"other_terms\">blocker</span> that binds selectively and with high <span class=\"other_terms\">affinity</span> to the alpha 1 subunit of the <span class=\"bio\">L-type calcium channel</span>. The <span class=\"chem\">binding</span> site for SR33805 is distinct from other classical <span class=\"bio\">calcium channel</span> blockers although they interact allosterically. The <span class=\"other_terms\">block</span> by SR33805 of the neuronal <span class=\"bio\">L-type calcium current</span> has been reported [Romey, G. and Lazdunski, M., J. Pharmacol. Exp. Ther., 271 (1994) 1348-1352.]. In Purkinje neurons, the <span class=\"bio\">L-type calcium current</span> is nearly absent. Nevertheless, we have shown the presence of intramembrane charge movement related to the dihydropyridines (DHP) receptor in these neurons. We show here that SR33805 has no effect on barium currents recorded in Purkinje cells but is a very potent <span class=\"other_terms\">blocker</span> of intramembrane charge movement. It reduces charge movement to 48% of control with an <span class=\"chem\">IC50</span> of 0.5 nM.</td>\n",
       "      <td>                                                                                                                                                                  Neuroscience letters</td>\n",
       "      <td> 0</td>\n",
       "      <td> -7.43</td>\n",
       "      <td>      S</td>\n",
       "      <td>                                                                                                       </td>\n",
       "      <td>                                                                                                              </td>\n",
       "      <td>                                                                                                  <a target=\"_blank\" href=\"http://www.sciencedirect.com/science/article/pii/030439409613038X\">campus_link_0</a></td>\n",
       "      <td>                                                                                                                                                                                                                                                                                                                                                                                                                                                                                                                                                                                                                                                                                                 </td>\n",
       "      <td> </td>\n",
       "    </tr>\n",
       "    <tr>\n",
       "      <th>15</th>\n",
       "      <td>  7996445</td>\n",
       "      <td>   <a target=\"_blank\" href=\"http://www.ncbi.nlm.nih.gov/pubmed/?term=7996445\">7996445</a></td>\n",
       "      <td> 1994</td>\n",
       "      <td>                                                                                                                                                                                                                                                            Effects of a new class of <span class=\"bio\">calcium</span> antagonists, SR33557 (fantofarone) and SR33805, on neuronal voltage-activated <span class=\"bio\">Ca++ channels</span>.</td>\n",
       "      <td>                                                                                                                                                                                                                                                                                                                                                                                                                                                                                                                                                                                                                                                                                                                                                 SR33557 (fantofarone) and SR33805 are structurally novel <span class=\"bio\">calcium</span> antagonists that bind selectively to the alpha 1-subunit of the <span class=\"bio\">L-type Ca++ channel</span> at a site distinct from the classical 1,4-dihydrophyridine, phenylalkylamine and benzothiazepine sites but in allosteric interactions with them. Blocking effects of fantofarone and SR33805 on the different types of voltage-activated Ca++ currents have been investigated with the whole-cell patch-clamp method in chick dorsal root ganglion neurons (for T-, L- and N-type currents) and in rat cerebellar Purkinje neurons (for P-type current) in primary culture. Neuronal <span class=\"bio\">L-type Ca++ channels</span> are blocked totally by fantofarone and SR33805 in the microM range of concentration as in skeletal muscle and <span class=\"tissue\">cardiac</span> cells at a holding membrane potential of -80 mV. The sequence of efficacy is SR33805 (<span class=\"chem\">IC50</span> = 26 nM) > fantofarone (<span class=\"chem\">IC50</span> = 0.35 microM). N- and P-type <span class=\"bio\">channels</span> are not very sensitive to fanto-farone and SR33805 (<span class=\"chem\">IC50</span> approximately 5 microM). The T-type <span class=\"bio\">channel</span> is not affected by these drugs.</td>\n",
       "      <td>                                                                                                                             The Journal of pharmacology and experimental therapeutics</td>\n",
       "      <td> 0</td>\n",
       "      <td> -7.77</td>\n",
       "      <td> F12, F</td>\n",
       "      <td> <a target=\"_blank\" href=\"http://intl-jpet.aspetjournals.org/cgi/reprint/271/3/1348.pdf\">pdf_link_0</a></td>\n",
       "      <td> <a target=\"_blank\" href=\"http://intl-jpet.aspetjournals.org/cgi/content/abstract/271/3/1348\">other_link_0</a></td>\n",
       "      <td>                                                                                                                                                                                                               </td>\n",
       "      <td>                                                                                                                                                                                                                                                                                                                                                                                                                                                                                                                                                                                                                                                                                                 </td>\n",
       "      <td> </td>\n",
       "    </tr>\n",
       "    <tr>\n",
       "      <th>16</th>\n",
       "      <td> 10212396</td>\n",
       "      <td> <a target=\"_blank\" href=\"http://www.ncbi.nlm.nih.gov/pubmed/?term=10212396\">10212396</a></td>\n",
       "      <td> 1998</td>\n",
       "      <td>                                                                                                                                                                                                                                                                                                       Trifluoperazine enhancement of Ca2+-dependent inactivation of <span class=\"bio\">L-type Ca2+ currents</span> in Helix aspersa neurons.</td>\n",
       "      <td> The effects of trifluoperazine hydrochloride (TFP), a calmodulin <span class=\"other_terms\">antagonist</span>, on <span class=\"bio\">L-type Ca2+ currents</span> (<span class=\"bio\">L-type</span> ICa2+) and their Ca(2+)-dependent inactivation, were studied in identified Helix aspersa neurons, using two microelectrode voltage clamp. Changes in [Ca2+]i were measured in unclamped fura-2 loaded neurons. Bath applied TFP produced a reversible and dose-dependent reduction in amplitude of <span class=\"bio\">L-type</span> ICa2+ (<span class=\"chem\">IC50</span> = 28 microM). Using a double-pulse protocol, we found that TFP enhances the efficacy of Ca(2+)-dependent inactivation of <span class=\"bio\">L-type</span> ICa2+. Trifluoperazine sulfoxide (50 microM), a TFP derivative with low calmodulin-<span class=\"other_terms\">antagonist</span> activity, did not have any effects on either amplitude or inactivation of <span class=\"bio\">L-type</span> ICa2+. TFP (20 microM) increased basal [Ca2+]i from 147 +/- 37 nM to 650 +/- 40 nM (N = 7). The increase in [Ca2+]i was prevented by removal of external Ca2+ and curtailed by depletion of caffeine-sensitive intracellular Ca2+ stores. Since TFP may also <span class=\"other_terms\">block</span> protein kinase C (PKC), we tested the effect of a PKC activator (12-C-tetradecanoyl-phorbol-13-acetate) on <span class=\"bio\">L-type Ca2+ currents</span>. This <span class=\"chem\">compound</span> produced an increase in <span class=\"bio\">L-type</span> ICa2+ without enhancing Ca(2+)-dependent inactivation. The results show that 1) TFP reduces <span class=\"bio\">L-type</span> ICa2+ while enhancing the efficacy of Ca(2+)-dependent inactivation. 2) TFP produces an increase in basal [Ca2+]i which may contribute to the enhancement of Ca(2+)-dependent inactivation. 3) PKC up-regulates <span class=\"bio\">L-type</span> ICa2+ without altering the efficacy of Ca(2+)-dependent inactivation. 4) The TFP effects cannot be attributed to its action as PKC <span class=\"other_t...</td>\n",
       "      <td>                                                                                                                                                        Invertebrate neuroscience : IN</td>\n",
       "      <td> 0</td>\n",
       "      <td> -8.60</td>\n",
       "      <td>      S</td>\n",
       "      <td>                                                                                                       </td>\n",
       "      <td>                                                                                                              </td>\n",
       "      <td>               <a target=\"_blank\" href=\"http://link.springer.com/article/10.1007/BF02577687\">campus_link_0</a>, <a target=\"_blank\" href=\"http://link.springer.com/article/10.1007/BF02577687\">campus_link_1</a></td>\n",
       "      <td>                                                                                                                                                                                                                                                                                                                                                                                                                                                                                                                                                                                                                                                                                                 </td>\n",
       "      <td> </td>\n",
       "    </tr>\n",
       "    <tr>\n",
       "      <th>17</th>\n",
       "      <td> 16086157</td>\n",
       "      <td> <a target=\"_blank\" href=\"http://www.ncbi.nlm.nih.gov/pubmed/?term=16086157\">16086157</a></td>\n",
       "      <td> 2005</td>\n",
       "      <td>                                                                                                                                                                                                                                 Effects of SEA0400 and KB-R7943 on <span class=\"sodium\">Na</span>+/Ca2+ exchange current and <span class=\"bio\">L-type Ca2+ current</span> in canine ventricular <span class=\"tissue\">cardiomyocytes</span>.</td>\n",
       "      <td> SEA0400 and KB-R7943 are <span class=\"chem\">compounds</span> synthesised to <span class=\"other_terms\">block</span> transsarcolemmal <span class=\"sodium\">Na</span>+/Ca2+ exchange current (I(<span class=\"sodium\">Na</span>/Ca)); however, they have also been shown to inhibit <span class=\"bio\">L-type Ca2+ current</span> (I(Ca)). The potential value of these <span class=\"chem\">compounds</span> depends critically on their relative selectivity for I(<span class=\"sodium\">Na</span>/Ca) over I(Ca). In the present work, therefore, the concentration-dependent effects of SEA0400 and KB-R7943 on I(<span class=\"sodium\">Na</span>/Ca) and I(Ca) were studied and compared in canine ventricular <span class=\"tissue\">cardiomyocytes </span>using the whole-cell configuration of the patch clamp technique. SEA0400 and KB-R7943 decreased I(<span class=\"sodium\">Na</span>/Ca) in a concentration-dependent manner, having <span class=\"chem\">EC50</span> values of 111+/-43 nM and 3.35+/-0.82 microM, when suppressing inward currents, while the respective <span class=\"chem\">EC50</span> values were estimated at 108+/-18 nM and 4.74+/-0.69 microM in the case of outward current <span class=\"other_terms\">block</span>. SEA0400 and KB-R7943 also blocked I(Ca), having comparable <span class=\"chem\">EC50</span> values (3.6 microM and 3.2 microM, respectively). At higher concentrations (10 microM) both drugs accelerated inactivation of I(Ca), retarded recovery from inactivation and shifted the voltage dependence of inactivation towards more negative voltages. The voltage dependence of activation was slightly modified by SEA0400, but not by KB-R7943. Based on the relatively good selectivity of submicromolar concentrations of SEA0400--but not KB-R7943--for I(<span class=\"sodium\">Na</span>/Ca) over I(Ca), SEA0400 appears to be a suitable tool to study the role of I(<span class=\"sodium\">Na</span>/Ca) in Ca2+ handling in canine <span class=\"tissue\">cardiac</span> cells. At concentrations higher than 1 microM, how...</td>\n",
       "      <td>                                                                                                                                        Naunyn-Schmiedeberg's archives of pharmacology</td>\n",
       "      <td> 0</td>\n",
       "      <td> -9.25</td>\n",
       "      <td>      S</td>\n",
       "      <td>                                                                                                       </td>\n",
       "      <td>                                                                                                              </td>\n",
       "      <td> <a target=\"_blank\" href=\"http://link.springer.com/article/10.1007/s00210-005-1079-x\">campus_link_0</a>, <a target=\"_blank\" href=\"http://link.springer.com/article/10.1007/s00210-005-1079-x\">campus_link_1</a></td>\n",
       "      <td>                                                                                                                                                                                                                                                                                                                                                                                                                                                                                                                                                                                                                                                                                                 </td>\n",
       "      <td> </td>\n",
       "    </tr>\n",
       "    <tr>\n",
       "      <th>18</th>\n",
       "      <td>  9788778</td>\n",
       "      <td>   <a target=\"_blank\" href=\"http://www.ncbi.nlm.nih.gov/pubmed/?term=9788778\">9788778</a></td>\n",
       "      <td> 1998</td>\n",
       "      <td>                                                                                                                                                                                                                                                                                            Characteristics of <span class=\"bio\">Ca2+ channel</span> blockade by oxodipine and elgodipine in rat <span class=\"tissue\">cardiomyocytes</span>.</td>\n",
       "      <td>                                                                                                                                                                                                                                                                                                                                                                                             The two novel dihydropyridines, oxodipine and elgodipine greatly depressed the KCl-induced contraction of rabbit aorta and decreased the <span class=\"tissue\">cardiac</span> force of contraction of rat ventricular strips with lower <span class=\"chem\">potency</span>. Both <span class=\"chem\">compounds</span> markedly shortened <span class=\"tissue\">cardiac</span> action potentials. In rat cultured neonatal ventricular myocytes, oxodipine and elgodipine decreased the <span class=\"bio\">L-type Ca2+ current</span> (I(CaL)) with <span class=\"chem\">IC50</span> of 0.24 and 0.33 microM respectively while oxodipine was slightly more potent on the T-type Ca2+ current (I(CaT)) than elgodipine (<span class=\"chem\">IC50</span> = 0.41 vs. 2.18 microM). Both <span class=\"chem\">compounds</span> were less potent in inhibiting I(CaL) of adult <span class=\"tissue\">cardiomyocytes. </span>Oxodipine exhibited mostly a tonic <span class=\"other_terms\">block</span> of both currents while elgodipine induced mainly a use-dependent <span class=\"other_terms\">block</span>. Oxodipine and elgodipine increased by at least one order of magnitude their inhibitory <span class=\"chem\">potency</span> on I(CaT) and I(CaL) when the cells were partially depolarized. We conclude that the mechanisms of inhibition of <span class=\"bio\">Ca2+ channels</span> by these two dihydropyridines are different and suggest that the underlying mechanism of vascular selectivity is the voltage-dependent <span class=\"other_terms\">block</span> of I(CaL), with the use-dependent inhibition of Ca2+ currents by elgodipine further contributing to this selectivity.</td>\n",
       "      <td>                                                                                                                                                      European journal of pharmacology</td>\n",
       "      <td> 0</td>\n",
       "      <td> -9.72</td>\n",
       "      <td>      S</td>\n",
       "      <td>                                                                                                       </td>\n",
       "      <td>                                                                                                              </td>\n",
       "      <td>                                                                                                 <a target=\"_blank\" href=\"http://www.sciencedirect.com/science/article/pii/S0014299998005433\">campus_link_0</a></td>\n",
       "      <td>                                                                                                                                                                                                                                                                                                                                                                                                                                                                                                                                                                                                                                                                                                 </td>\n",
       "      <td> </td>\n",
       "    </tr>\n",
       "    <tr>\n",
       "      <th>19</th>\n",
       "      <td> 16524785</td>\n",
       "      <td> <a target=\"_blank\" href=\"http://www.ncbi.nlm.nih.gov/pubmed/?term=16524785\">16524785</a></td>\n",
       "      <td> 2006</td>\n",
       "      <td>                                                                                                                                                                                                                      <span class=\"bio\">Calcium channel</span> blockade as a <span class=\"bio\">target</span> for the <span class=\"tissue\">cardiovascular </span>effects induced by the 8 (17), 12E, 14-labdatrien-18-oic acid (labdane-302).</td>\n",
       "      <td>                                                                                                                                                                                                                                                                                                                                                                                                                                                                                                                                                                                                                                                                              The <span class=\"tissue\">cardiovascular </span>effects induced by labdane-302, a diterpene isolated from the stems of Xylopia langsdorffianna St. Hill and Tull, were evaluated in male Wistar rats. In normotensive, conscious animals, labdane-302 produced dose-dependent hypotension and tachycardia. These effects were significantly attenuated after pre-treatment with L-NAME (20 mg/kg, i.v.). In isolated mesenteric artery rings, labdane-302 (10(-10)-10(-4)M) elicited concentration-dependent relaxation of phenylephrine-induced contractions (<span class=\"chem\">IC50</span> = 5.4 +/- 1.4 microM). Endothelium removal, and pre-treatment with L-NAME (100 microM) or indomethacin (10 microM) caused significant reductions in sensitivity. Labdane-302 also caused concentration-dependent relaxation in arterial rings pre-contracted with high extracellular KCl (80 mM). In Ca2+-free depolarized preparations, labdane-302 inhibited contractions produced by cumulative increases in extracellular Ca2+ concentration. In GH3 cells, labdane-302 (100 microM) inhibited whole-cell <span class=\"bio\">L-type Ca2+ currents</span> by approximately 50%. These results demonstrate that labdane-302 causes hypotension through peripheral vasodilation, mediated in part by NO and PGI2 and by blockade of Ca2+ entry through <span class=\"bio\">L-type Ca2+ channels</span>.</td>\n",
       "      <td>                                                                                                                                                                 Vascular pharmacology</td>\n",
       "      <td> 0</td>\n",
       "      <td>-10.20</td>\n",
       "      <td>      S</td>\n",
       "      <td>                                                                                                       </td>\n",
       "      <td>                                                                                                              </td>\n",
       "      <td>                                                                                                 <a target=\"_blank\" href=\"http://www.sciencedirect.com/science/article/pii/S1537189106000425\">campus_link_0</a></td>\n",
       "      <td>                                                                                                                                                                                                                                                                                                                                                                                                                                                                                                                                                                                                                                                                                                 </td>\n",
       "      <td> </td>\n",
       "    </tr>\n",
       "    <tr>\n",
       "      <th>20</th>\n",
       "      <td>  9151307</td>\n",
       "      <td>   <a target=\"_blank\" href=\"http://www.ncbi.nlm.nih.gov/pubmed/?term=9151307\">9151307</a></td>\n",
       "      <td> 1997</td>\n",
       "      <td>                                                                                                                                                                                                                             Inhibitory effects of NS-21, a novel drug for urinary incontinence, and its active metabolite, RCC-36, on <span class=\"bio\">L-type calcium currents</span> in isolated guinea pig detrusor smooth muscle cells.</td>\n",
       "      <td>                                                                                                                                                                                                                                                                                                                                                                                                                  The inhibitory effects of NS-21, a newly developed drug for the treatment of urinary frequency and urinary incontinence, and its active metabolite, RCC-36, on <span class=\"bio\">L-type Ca2+ currents</span> (ICa) in guinea pig detrusor smooth muscle cells have been compared to those of terodiline by a whole-cell patch-clamp technique. Like terodiline (10 microM), both NS-21 (10 microM) and RCC-36 (10 microM) induced a sizeable decrease in ICa elicited from a holding potential of -60 mV without changing the current-voltage relationship. The three drugs shifted the inactivation curves for ICa in the hyperpolarizing direction by 13 to 20 mV but had no effect on the activation curves for ICa resulting in a decrease in the <span class=\"bio\">calcium</span> window current. The inhibitory effects of NS-21 and RCC-36 were greater than those of terodiline. The three drugs inhibited ICa in a concentration- and holding-potential-dependent manner. The <span class=\"chem\">IC50</span> values at a holding potential of -60 mV were 7.9 microM for NS-21, 6.4 microM for RCC-36, and 5.9 microM for terodiline, and at -40 mV they were 1.3, 1.2, and 3.5 microM, respectively. The ratio calculated by dividing the <span class=\"chem\">IC50</span> value at -60 mV by the value at -40 mV was 6.1, 5.3 and 1.7, respectively, indicating that the inhibitory effects of NS-21 and RCC-36 on ICa were more sensitive to voltage than those of terodiline. These results suggest that NS-21 and RCC-36 could be more effective in the treatment of urinary bladder ailments, such as urinary frequency and urinary incontinence.</td>\n",
       "      <td>                                                                                                                                        Naunyn-Schmiedeberg's archives of pharmacology</td>\n",
       "      <td> 0</td>\n",
       "      <td>-10.55</td>\n",
       "      <td>      S</td>\n",
       "      <td>                                                                                                       </td>\n",
       "      <td>                                                                                                              </td>\n",
       "      <td>               <a target=\"_blank\" href=\"http://link.springer.com/article/10.1007/PL00004998\">campus_link_0</a>, <a target=\"_blank\" href=\"http://link.springer.com/article/10.1007/PL00004998\">campus_link_1</a></td>\n",
       "      <td>                                                                                                                                                                                                                                                                                                                                                                                                                                                                                                                                                                                                                                                                                                 </td>\n",
       "      <td> </td>\n",
       "    </tr>\n",
       "    <tr>\n",
       "      <th>21</th>\n",
       "      <td> 16445575</td>\n",
       "      <td> <a target=\"_blank\" href=\"http://www.ncbi.nlm.nih.gov/pubmed/?term=16445575\">16445575</a></td>\n",
       "      <td> 2005</td>\n",
       "      <td>                                                                                                                                                                                                                                               The neuroprotective agent sipatrigine blocks multiple <span class=\"tissue\">cardiac</span> ion <span class=\"bio\">channels</span> and causes triangulation of the ventricular action potential.</td>\n",
       "      <td> Sipatrigine (BW 619C89), a <span class=\"other_terms\">blocker</span> of neuronal <span class=\"sodium\">Na</span>+ and <span class=\"bio\">Ca2+ channels</span> that is structurally related to lamotrigine, has been shown to be neuroprotective in models of cortical ischaemia. Although associated with <span class=\"tissue\">cardiovascular </span>effects in animal models in vivo, there is no published information concerning the effects of sipatrigine on <span class=\"tissue\">cardiac</span> ion currents and action potentials (AP). The aim of the present study was to examine the effects of sipatrigine on the delayed rectifier currents (I(Kr) and I(Ks)), the inward rectifier current (I(K1)), the <span class=\"bio\">L-type Ca2+ current</span> (I(Ca,L)) and the fast <span class=\"sodium\">Na</span>+ current (I(<span class=\"sodium\">Na</span>)), as well as on AP duration at 30% (APD30) and 90% (APD90) repolarization, in guinea-pig isolated ventricular myocytes. Each of the currents was inhibited by sipatrigine, demonstrating the drug to be a relatively broad-spectrum <span class=\"other_terms\">blocker</span> of cation <span class=\"bio\">channels</span> in the <span class=\"tissue\">heart</span>. However, sipatrigine was a comparatively more potent <span class=\"other_terms\">inhibitor</span> of I(Kr) (<span class=\"chem\">IC50</span> = 0.85 micromol/L) and I(Ks) (<span class=\"chem\">IC50</span> = 0.92 micromol/L) than of I(K1) (<span class=\"chem\">IC50</span> = 5.3 micromol/L), I(Ca,L) (<span class=\"chem\">IC50</span> = 6.0 micromol/L) and I(<span class=\"sodium\">Na</span>) (<span class=\"chem\">IC50</span> = 25.5 micromol/L). Consistent with <span class=\"other_terms\">block</span> of I(Kr), I(Ks) and I(K1), sipatrigine (1-30 micromol/L) produced a concentration-dependent prolongation of APD90. Although lower concentrations of sipatrigine (< or = 3 micromol/L) caused APD(30) prolongation, higher concentrations (> or = 10 micromol/L) shortened APD30, consistent with an involvement of I(Ca,L) blockade...</td>\n",
       "      <td>                                                                                                                                   Clinical and experimental pharmacology & physiology</td>\n",
       "      <td> 0</td>\n",
       "      <td>-10.86</td>\n",
       "      <td>      S</td>\n",
       "      <td>                                                                                                       </td>\n",
       "      <td>                                                                                                              </td>\n",
       "      <td>                                                                                       <a target=\"_blank\" href=\"http://onlinelibrary.wiley.com/doi/10.1111/j.1440-1681.2005.04312.x/abstract\">campus_link_0</a></td>\n",
       "      <td>                                                                                                                                                                                                                                                                                                                                                                                                                                                                                                                                                                                                                                                                                                 </td>\n",
       "      <td> </td>\n",
       "    </tr>\n",
       "    <tr>\n",
       "      <th>22</th>\n",
       "      <td>  9151306</td>\n",
       "      <td>   <a target=\"_blank\" href=\"http://www.ncbi.nlm.nih.gov/pubmed/?term=9151306\">9151306</a></td>\n",
       "      <td> 1997</td>\n",
       "      <td>                                                                                                                                                                                                                                                                                                      <span class=\"tissue\">Cardiac</span> electrophysiological actions of NS-21 and its active metabolite, RCC-36, compared with terodiline.</td>\n",
       "      <td>                                                                                                                                                                                                                                                                                                                                              Terodiline, an anticholinergic drug with a Ca2+ blocking action, is thought to be associated with torsade de pointes, a serious ventricular tachycardia. NS-21 is a newly developed drug for the treatment of urinary frequency and urinary incontinence and it has pharmacological properties similar to those of terodiline. It remains unknown, however, whether NS-21 and its active metabolite, RCC-36, have any proarrhythmic activity. The electrophysiological properties of NS-21 and RCC-36 were examined in guinea pig ventricular myocytes and were compared with those of terodiline using the whole-cell patch-clamp technique. NS-21, RCC-36 and terodiline inhibited <span class=\"bio\">L-type Ca2+ currents</span> in a concentration-dependent manner with <span class=\"chem\">IC50</span> values of 27.0, 27.0 and 33.5 microM, respectively. At a concentration of 10 microM, terodiline inhibited both the time-dependent current and the tail current of the delayed rectifier K+ current, with the latter being significantly inhibited at voltages more positive than +10 mV. In contrast, NS-21 and RCC-36 had almost no effect on either of these currents. Terodiline also inhibited the inward rectifier K+ current significantly at voltages more negative than -100 mV, whereas NS-21 and RCC-36 had little effect. If the proarrhythmic activity of terodiline resulted primarily from the combined inhibition of K+ and Ca2+ currents, one might expect that NS-21 and RCC-36, which inhibit <span class=\"bio\">L-type Ca2+ currents</span> without affecting either the delayed rectifier K+ current or the inward rectifier K+ current, would not share the proarrhythmic activities of terodiline.</td>\n",
       "      <td>                                                                                                                                        Naunyn-Schmiedeberg's archives of pharmacology</td>\n",
       "      <td> 0</td>\n",
       "      <td>-11.42</td>\n",
       "      <td>      S</td>\n",
       "      <td>                                                                                                       </td>\n",
       "      <td>                                                                                                              </td>\n",
       "      <td>               <a target=\"_blank\" href=\"http://link.springer.com/article/10.1007/PL00004997\">campus_link_0</a>, <a target=\"_blank\" href=\"http://link.springer.com/article/10.1007/PL00004997\">campus_link_1</a></td>\n",
       "      <td>                                                                                                                                                                                                                                                                                                                                                                                                                                                                                                                                                                                                                                                                                                 </td>\n",
       "      <td> </td>\n",
       "    </tr>\n",
       "    <tr>\n",
       "      <th>23</th>\n",
       "      <td>  1658607</td>\n",
       "      <td>   <a target=\"_blank\" href=\"http://www.ncbi.nlm.nih.gov/pubmed/?term=1658607\">1658607</a></td>\n",
       "      <td> 1991</td>\n",
       "      <td>                                                                                                                                                                                                                                                                                                      Ethaverine, a derivative of papaverine, inhibits <span class=\"tissue\">cardiac</span> <span class=\"bio\">L-type calcium channels</span>.</td>\n",
       "      <td> Ethaverine is a derivative of papaverine used in the treatment of peripheral vascular disease and is thought to cause vasodilation by reducing intracellular Ca2+ concentrations in vascular smooth muscle cells. We tested its effects on single, dihydropyridine-sensitive, <span class=\"bio\">L-type calcium channels</span> from porcine <span class=\"tissue\">cardiac</span> muscle, incorporated into planar lipid bilayers. <span class=\"bio\">L-type calcium channels</span> were activated by step depolarizations from a holding potential of -60 mV to a test potential of 0 mV, and unitary currents carried by 100 mM BaCl2 were recorded. <span class=\"bio\">Channel</span> activity was enhanced by the presence of the dihydropyridine agonist (+)-202-791 (0.5 microM) and the activated alpha subunit of the stimulatory GTP-<span class=\"chem\">binding</span> protein, Gs. We found that 0.3-30 microM ethaverine on either side of the <span class=\"bio\">channel</span> caused a reduction in the <span class=\"bio\">channel</span> open probability (<span class=\"chem\">EC50</span> approximately 1 microM), with the higher concentrations inhibiting <span class=\"bio\">channel</span> activity almost completely. In addition, the ethaverine caused a small reduction in the unitary current amplitude of single open <span class=\"bio\">channels</span> (approximately 20%). To test whether the effect of ethaverine on open probability was due to a <span class=\"chem\">displacement</span> of the dihydropyridine agonist, we studied the effect of ethaverine on the <span class=\"chem\">binding</span> of [3H]nitrendipine to <span class=\"tissue\">cardiac</span> sarcolemma and found that ethaverine inhibited [3H]nitrendipine <span class=\"chem\">binding</span> with a Ki of approximately 8.5 microM. Ethaverine also inhibited the <span class=\"chem\">binding</span> of [3H]diltiazem and [3H]verapamil, with Ki values of 1-2 microM. Because ethaverine is structurally related to verapamil, it is likely that ethaverine acts by <span clas...</td>\n",
       "      <td>                                                                                                                                                                Molecular pharmacology</td>\n",
       "      <td> 0</td>\n",
       "      <td>-11.57</td>\n",
       "      <td> F, F12</td>\n",
       "      <td>    <a target=\"_blank\" href=\"http://molpharm.aspetjournals.org/cgi/reprint/40/5/750.pdf\">pdf_link_0</a></td>\n",
       "      <td>    <a target=\"_blank\" href=\"http://molpharm.aspetjournals.org/cgi/content/abstract/40/5/750\">other_link_0</a></td>\n",
       "      <td>                                                                                                                                                                                                               </td>\n",
       "      <td>                                                                                                                                                                                                                                                                                                                                                                                                                                                                                                                                                                                                                                                                                                 </td>\n",
       "      <td> </td>\n",
       "    </tr>\n",
       "    <tr>\n",
       "      <th>24</th>\n",
       "      <td> 12396023</td>\n",
       "      <td> <a target=\"_blank\" href=\"http://www.ncbi.nlm.nih.gov/pubmed/?term=12396023\">12396023</a></td>\n",
       "      <td> 2002</td>\n",
       "      <td>                                                                                                                                                                                                                          A carbamate-type cholinesterase <span class=\"other_terms\">inhibitor</span> 2-sec-butylphenyl N-methylcarbamate insecticide blocks <span class=\"bio\">L-type Ca2+ channel</span> in guinea pig ventricular myocytes.</td>\n",
       "      <td>                                                                                                                                                                                                                                      2-sec-Butylphenyl N-methylcarbamate (BPMC) is a carbamate-type cholinesterase (ChE) <span class=\"other_terms\">inhibitor</span> with unique toxicological properties such as noncholinergic <span class=\"tissue\">cardiovascular </span>collapse. Effects of BPMC on <span class=\"bio\">L-type Ca2+ channel</span> currents (ICa(L)) were studied in isolated guinea pig ventricular myocytes using the whole-cell patch-clamp technique, since the examination of <span class=\"tissue\">cardiovascular </span>responses indicated its Ca2+ antagonistic action. BPMC induced bradycardic and hypotensive responses in vivo and inhibited contraction of isolated papillary muscles (<span class=\"chem\">IC50</span> = 1.3 x 10(-4) M) in guinea pigs. BPMC produced reversible <span class=\"other_terms\">block</span> of ICa(L) in the concentration range of 10(-4) - 10(-3) M. At test potentials between -30 mV and +20 mV, BPMC at 3 x 10(-4) M caused marked acceleration of decay rate of ICa(L) with moderate reduction of peak ICa(L) amplitude. BPMC (3 x 10(-4) M) shifted the steady-state inactivation curve to the hyperpolarizing direction by 12.7 mV. Decay rate of Ba2+ currents (IBa(L)) was also accelerated by BPMC. Fitting analysis of inactivation kinetics of IBa(L) with a two-exponential equation revealed that BPMC accelerates the slow inactivation component. At concentrations for blocking peak IBa(L) by ca. 30%, the inactivation kinetics of IBa(L) were significantly accelerated by BPMC, but merely slightly accelerated by <span class=\"bio\">Ca2+ channel</span> antagonists such as diltiazem, nifedipine, or verapamil. These results indicate that BPMC, in addition to the inhibition of ChE, blocks <span class=\"bio\">L-type Ca2+ channels</span> by accelerating voltage-dependent inactivation.</td>\n",
       "      <td>                                                                                                                                                      Japanese journal of pharmacology</td>\n",
       "      <td> 0</td>\n",
       "      <td>-11.81</td>\n",
       "      <td>      S</td>\n",
       "      <td>                                                                                                       </td>\n",
       "      <td>                                                                                                              </td>\n",
       "      <td>                                                                                                     <a target=\"_blank\" href=\"https://www.jstage.jst.go.jp/article/jjp/90/1/90_1_12/_article\">campus_link_0</a></td>\n",
       "      <td>                                                                                                                                                                                                                                                                                                                                                                                                                                                                                                                                                                                                                                                                                                 </td>\n",
       "      <td> </td>\n",
       "    </tr>\n",
       "    <tr>\n",
       "      <th>25</th>\n",
       "      <td>  7791099</td>\n",
       "      <td>   <a target=\"_blank\" href=\"http://www.ncbi.nlm.nih.gov/pubmed/?term=7791099\">7791099</a></td>\n",
       "      <td> 1995</td>\n",
       "      <td>                                                                                                                                                                                                            Electrophysiological effect of BRL-32872, a novel antiarrhythmic agent with potassium and <span class=\"bio\">calcium channel</span> blocking properties, in guinea pig <span class=\"tissue\">cardiac</span> isolated preparations.</td>\n",
       "      <td>                                                                                                                                                                                                                                                   The effects of N-(3,4-dimethoxyphenyl)-N-[3[[2-(3,4-dimethoxyphenyl) ethyl] propyl]-4-nitrobenzamide hydrochloride (BRL-32872), a novel antiarrhythmic agent, were studied in guinea pig <span class=\"tissue\">cardiac</span> preparations using standard microelectrode and patch-clamp techniques. In papillary muscle, BRL-32872 did not change resting membrane potential and maximum rate of depolarization but prolonged action potential duration (APD) by 24% +/- 2% at 1.0 microM. When the concentration was increased to 3.0 and 10.0 microM, the effect on APD was not further enhanced, and a bell-shaped dose-response curve resulted. Patch-clamp experiments in isolated myocytes showed that BRL-32872 inhibited the rapidly activating component of the delayed rectifier potassium current (<span class=\"chem\">EC50</span> = 0.028 microM) and the <span class=\"bio\">L-type calcium current</span> (<span class=\"chem\">EC50</span> = 2.8 microM) but had a limited effect on the inward rectifier potassium current. In papillary muscles stimulated at 300, 500, 1000 and 2000 msec, the effect of BRL-32872 in prolonging APD did not vary (P = .717). By contrast, N-(4-(1-[2-(6-methyl-2-pyridyl)ethyl]-4-piperidyl)- carbonyl]phenyl)methanesulfonamide dihydrochloride dihydrate (E-4031), a pure class III antiarrhythmic agent, increased APD more at slower than at faster stimulation rates (P = .001), which illustrated the reverse frequency-dependence of this agent. Among the 35 experiments performed with BRL-32872, only one fiber showed early afterdepolarizations (EADs), and these, which occurred at 1.0 microM, were suppressed at higher concentration (3.0 microM). Moreover, EADs induced by E-4031 were suppressed by BRL-32872 (3.0 microM).(ABSTRACT TRUNCATED AT 250 WORDS)</td>\n",
       "      <td>                                                                                                                             The Journal of pharmacology and experimental therapeutics</td>\n",
       "      <td> 0</td>\n",
       "      <td>-12.51</td>\n",
       "      <td> F, F12</td>\n",
       "      <td> <a target=\"_blank\" href=\"http://intl-jpet.aspetjournals.org/cgi/reprint/273/3/1264.pdf\">pdf_link_0</a></td>\n",
       "      <td> <a target=\"_blank\" href=\"http://intl-jpet.aspetjournals.org/cgi/content/abstract/273/3/1264\">other_link_0</a></td>\n",
       "      <td>                                                                                                                                                                                                               </td>\n",
       "      <td>                                                                                                                                                                                                                                                                                                                                                                                                                                                                                                                                                                                                                                                                                                 </td>\n",
       "      <td> </td>\n",
       "    </tr>\n",
       "    <tr>\n",
       "      <th>26</th>\n",
       "      <td> 18829731</td>\n",
       "      <td> <a target=\"_blank\" href=\"http://www.ncbi.nlm.nih.gov/pubmed/?term=18829731\">18829731</a></td>\n",
       "      <td> 2008</td>\n",
       "      <td>                                                                                                                                                                                                                                                                                                                                                                                             Electrophysiological safety of sibutramine HCl.</td>\n",
       "      <td>                                                                                                                                                                                                                                                                                                                                                                                                                                                                                                                                                                                                                                                                                                                                                                                                                                                                                            Sibutramine is known to induce <span class=\"tissue\">cardiovascular </span>side effects such as tachycardia, vasodilation, and hypertension. The present study was aimed to examine the effects of sibutramine on action potential of guinea pig papillary muscle, recombinant hERG currents (IhERG), and inward currents (INa and ICa) of rat ventricular myocytes. Sibutramine at 30 mug/mL induced a shortening of action potential duration (APD) of guinea pig papillary muscle; on average, APD30 and APD90 were shortened by 23% and 17% at a stimulation rate of 1 Hz, respectively. Sibutramine suppressed the following currents: IhERG (<span class=\"chem\">IC50</span>:2.408 +/- 0.5117 microg/mL), <span class=\"bio\">L-type Ca current</span> (<span class=\"chem\">IC50</span>:2.709 +/- 0.4701 microg/mL), and <span class=\"sodium\">Na</span> current (<span class=\"chem\">IC50</span>:7.718 +/- 1.7368 microg/mL). Sibutramine blocked IhERG, ICa, and INa in a concentration-dependent manner. In conclusion, sibutramine exerted a shortening effect on APD in guinea pig papillary muscle through its more powerful blocking effects on ICa and INa rather than IhERG.</td>\n",
       "      <td>                                                                                                                                                       Human & experimental toxicology</td>\n",
       "      <td> 0</td>\n",
       "      <td>-12.67</td>\n",
       "      <td>   F, S</td>\n",
       "      <td>               <a target=\"_blank\" href=\"http://het.sagepub.com/cgi/reprint/27/7/553.pdf\">pdf_link_0</a></td>\n",
       "      <td>               <a target=\"_blank\" href=\"http://het.sagepub.com/cgi/content/abstract/27/7/553\">other_link_0</a></td>\n",
       "      <td>                                                                                                                                                                                                               </td>\n",
       "      <td>                                                                                                                                                                                                                                                                                                                                                                                                                                                                                                                                                                                                                                                                                                 </td>\n",
       "      <td> </td>\n",
       "    </tr>\n",
       "    <tr>\n",
       "      <th>27</th>\n",
       "      <td>  7760349</td>\n",
       "      <td>   <a target=\"_blank\" href=\"http://www.ncbi.nlm.nih.gov/pubmed/?term=7760349\">7760349</a></td>\n",
       "      <td> 1995</td>\n",
       "      <td>                                                                                                                                                                                                        Inhibition of <span class=\"tissue\">cardiac</span> <span class=\"bio\">L-type calcium channels</span> by quaternary amlodipine: implications for pharmacokinetics and access to dihydropyridine <span class=\"chem\">binding</span> site.</td>\n",
       "      <td> We have used whole cell patch clamp procedures to investigate the inhibition of <span class=\"bio\">L-type calcium channel</span> currents in guinea pig ventricular cells by the permanently charged dihydropyridine (DHP)<span class=\"chem\">compound</span> UK-118,434-05 (quaternary amlodipine, QA). The location of the charge group of this drug <span class=\"chem\">molecule</span> is approximately three times closer to the active DHP moiety than is the case for SDZ-207-180, the only other previously-investigated quaternary DHP <span class=\"chem\">molecule</span>. Like SDZ-207-180, QA inhibits <span class=\"bio\">channel</span> activity only by external application, consistent with an externally, but not internally, accessible <span class=\"chem\">binding</span> site, and once blocked, <span class=\"bio\">channels</span> do not recover availability by membrane hyperpolarization independent of extracellular pH. However inhibition by QA occurs at roughly 20 x lower <span class=\"chem\">potency</span> than comparable inhibition by SDZ-207-180. Low <span class=\"other_terms\">affinity</span> <span class=\"chem\">binding</span> to the DHP <span class=\"chem\">binding</span> site was confirmed directly with radioligand <span class=\"chem\">binding</span>. The permanently charged amlodipine derivative inhibited radioligand DHP <span class=\"chem\">binding</span> in partially purified rabbit skeletal muscle transverse tubule membranes with a pseudo-Hill slope close to unity and an <span class=\"chem\">IC50</span> value of 4.2 +/- 0.6 microM. These results indicate that the characteristically slow pharmacokinetics of tertiary amlodipine are due to the unusually stable inhibition of L-<span class=\"bio\">channels</span> caused by the ionized fraction of drug <span class=\"chem\">molecules</span>. Furthermore, because the distance between the ionized head group and the DHP moiety is so short, the low <span class=\"other_terms\">affinity</span> <span class=\"chem\">binding</span> and <span class=\"bio\">channel</...</td>\n",
       "      <td>                                                                                                                                          Journal of molecular and cellular cardiology</td>\n",
       "      <td> 0</td>\n",
       "      <td>-13.07</td>\n",
       "      <td>       </td>\n",
       "      <td>                                                                                                       </td>\n",
       "      <td>                                                                                                              </td>\n",
       "      <td>                                                                                                 <a target=\"_blank\" href=\"http://www.sciencedirect.com/science/article/pii/S0022282808800247\">campus_link_0</a></td>\n",
       "      <td>                                                                                                                                                                                                                                                                                                                                                                                                                                                                                                                                                                                                                                                                                                 </td>\n",
       "      <td> </td>\n",
       "    </tr>\n",
       "    <tr>\n",
       "      <th>28</th>\n",
       "      <td> 22975497</td>\n",
       "      <td> <a target=\"_blank\" href=\"http://www.ncbi.nlm.nih.gov/pubmed/?term=22975497\">22975497</a></td>\n",
       "      <td> 2012</td>\n",
       "      <td>                                                                                                                                                                                                                                                                                                                  Blockade of K+ and <span class=\"bio\">Ca2+ channels</span> by azole antifungal agents in neonatal rat ventricular myocytes.</td>\n",
       "      <td>                                                                                                                                                                                                                                                                                                                                                                                                                                                                             Some azole antifungal agents induce long QT syndrome and arrhythmias. Although composite functions of ion <span class=\"bio\">channels</span> in <span class=\"tissue\">cardiomyocytes </span>contribute to the shaping of action potentials, information on the effects of azole antifungal agents on ion currents, except human-ether-a-go-go-related gene (HERG) K+ currents, is largely lacking. Using the whole cell patch-clamp technique, we investigated the effects of four azole agents (miconazole, ketoconazole, fluconazole, and itraconazole) on inward rectifying K+ currents (IKir), voltage-gated <span class=\"bio\">L-type Ca2+ currents</span> (ICaL), and delayed rectifier K+ currents (IKdr) in rat neonate ventricular myocytes. Strikingly, miconazole and ketoconazole strongly inhibited IKir, IKdr, and ICaL at clinically relevant concentrations. The <span class=\"chem\">IC50</span> values of miconazole for IKdr, IKir, and ICaL inhibition were 2.5, 10.4, and 3.0 µM, respectively. The <span class=\"chem\">IC50</span> values of ketoconazole for IKdr, IKir and ICaL inhibition were 3.2, 20.8, and 3.5 µM, respectively. Fluconazole and itraconazole had relatively little effect on ion currents. These findings indicate that miconazole and ketoconazole are multiple ion <span class=\"bio\">channel</span> inhibitors in <span class=\"tissue\">cardiomyocytes. </span>We suggest that it is necessary to consider this inhibition of ion <span class=\"bio\">channels</span> by azole agents when assessing <span class=\"tissue\">cardiovascular </span>side effects.</td>\n",
       "      <td>                                                                                                                                                  Biological & pharmaceutical bulletin</td>\n",
       "      <td> 0</td>\n",
       "      <td>-13.14</td>\n",
       "      <td>       </td>\n",
       "      <td>                                                                                                       </td>\n",
       "      <td>                                                                                                              </td>\n",
       "      <td>                                                                                                <a target=\"_blank\" href=\"https://www.jstage.jst.go.jp/article/bpb/35/9/35_b12-00002/_article\">campus_link_0</a></td>\n",
       "      <td>                                                                                                                                                                                                                                                                                                                                                                                                                                                                                                                                                                                                                                                                                                 </td>\n",
       "      <td> </td>\n",
       "    </tr>\n",
       "    <tr>\n",
       "      <th>29</th>\n",
       "      <td>  9098694</td>\n",
       "      <td>   <a target=\"_blank\" href=\"http://www.ncbi.nlm.nih.gov/pubmed/?term=9098694\">9098694</a></td>\n",
       "      <td> 1997</td>\n",
       "      <td>                                                                                                                                                                                                                            A novel benzothiazine <span class=\"bio\">Ca2+ channel</span> <span class=\"other_terms\">antagonist</span>, semotiadil, inhibits <span class=\"tissue\">cardiac</span> <span class=\"bio\">L-type Ca2+ currents</span>.</td>\n",
       "      <td>                                           The influence of semotiadil fumarate, a novel vasoselective <span class=\"bio\">Ca2+ channel</span> <span class=\"other_terms\">antagonist</span> with a benzothiazine skeleton, was measured on the high-threshold Ca2+ current <span class=\"bio\">ICa,L</span> in guinea-pig ventricular myocytes prepared by coronary perfusion with collagenase solution. Patch- and voltage-clamp methods were used to measure <span class=\"bio\">ICa,L</span>. Diltiazem, nifedipine and amlodipine were studied for comparison. Samotiadil could be shown to inhibit <span class=\"bio\">ICa,L</span> in a dose-dependent manner in concentrations similar to those of diltiazem but was less effective than amlodipine and nifedipine. The <span class=\"chem\">IC50</span> for nifedipine and amlodipine was in the range between 0.1 and 1 microM and that of semotiadil and diltiazem was between 10 and 100 microM. Recovery from inactivation of <span class=\"bio\">ICa,L</span> in the control and under the influence of nifedipine 0.01 microM) and amlodipine (0.1 microM) was complete alter I. Semotiadil (0.1 microM) and diltiazem (1 microM) prolonged the time to full recovery to 20 s. This significant delay in the recovery of <span class=\"bio\">ICa,L</span> produced by semotiadil indicates a mode of action similar to that of the verapamil type of <span class=\"bio\">Ca2+ channel</span> antagonists and masses a clear distinction between it and the dihydropyridines, which have no effect on the recovery process. The rate dependence of the effect in combination with a distinct influence of the holding potential underlines the use dependence of the mechanism underlying the effect of semotiadil. The well-known high vasoselectivity of semotiadil in combination with a relatively low <span class=\"bio\">Ca2+ channel</span> antagonistic influence on the <span class=\"tissue\">heart</span> makes semotiadil an interesting candidate for the treatment of coronary <span class=\"tissue\">heart</span> diseases.</td>\n",
       "      <td>                                                                                                                                                      European journal of pharmacology</td>\n",
       "      <td> 0</td>\n",
       "      <td>-13.27</td>\n",
       "      <td>      S</td>\n",
       "      <td>                                                                                                       </td>\n",
       "      <td>                                                                                                              </td>\n",
       "      <td>                                                                                                 <a target=\"_blank\" href=\"http://www.sciencedirect.com/science/article/pii/S0014299996009958\">campus_link_0</a></td>\n",
       "      <td>                                                                                                                                                                                                                                                                                                                                                                                                                                                                                                                                                                                                                                                                                                 </td>\n",
       "      <td> </td>\n",
       "    </tr>\n",
       "    <tr>\n",
       "      <th>30</th>\n",
       "      <td>  7957616</td>\n",
       "      <td>   <a target=\"_blank\" href=\"http://www.ncbi.nlm.nih.gov/pubmed/?term=7957616\">7957616</a></td>\n",
       "      <td> 1994</td>\n",
       "      <td>                                                                                                                                                                                                                                              Diphenylamine-2-carboxylate blocks voltage-dependent <span class=\"sodium\">Na</span>+ and <span class=\"bio\">Ca2+ channels</span> in rat ventricular <span class=\"tissue\">cardiomyocytes</span>.</td>\n",
       "      <td>                                                                                                                                                                                                                      Diphenylamine-2-carboxylate (DPC) is a known and widely used <span class=\"other_terms\">blocker</span> of chloride <span class=\"bio\">channels</span>. In the present study, the effect of DPC on fast <span class=\"sodium\">Na</span>+ <span class=\"bio\">channels</span> and slow <span class=\"bio\">L-type Ca2+ channels</span> in freshly isolated rat ventricular myocytes was investigated. Currents were recorded (at 25 degrees C) in whole-cell voltage-clamp. The fast <span class=\"sodium\">Na</span>+ current (INa(f)) was recorded in Ca(2+)-, K(+)-free solutions (external and pipette), with depolarizing pulses applied from -80 mV to -20 mV. The <span class=\"bio\">L-type Ca2+ current</span> (ICa(L)) was recorded in <span class=\"sodium\">Na</span>(+)-, K(+)-free (external) and Ca(2+)-, K(+)-free (pipette) solutions, with depolarizing steps applied from -40 mV (holding potential) to +10 mV. Perfusion with different concentrations of DPC (from 0.01 to 10 mM) blocked the INa(f) and ICa(L) currents in a dose-dependent manner. The concentrations of DPC producing half-maximum inhibition (<span class=\"chem\">IC50</span>) were 0.18 mM and 0.47 mM, respectively, for INa(f) and ICa(L). The effect of DPC on INa(f) occurred rapidly, namely within 1 min after addition of the drug and was completed within 3 min. The effect of DPC on ICa(L) had a similar time-course, the maximal steady-state effect being reached by 4-7 min. The effect of DPC was rapidly and completely reversible upon washout. In conclusion, DPC inhibits <span class=\"sodium\">Na</span>+ and Ca2+ currents in rat ventricular <span class=\"tissue\">cardiomyocytes, </span>and is equally potent, or even more potent, than that reported for Cl- <span class=\"bio\">channels</span> or other DPC-sensitive <span class=\"bio\">channels</span>.</td>\n",
       "      <td>                                                                                                                                                      European journal of pharmacology</td>\n",
       "      <td> 0</td>\n",
       "      <td>-13.50</td>\n",
       "      <td>      S</td>\n",
       "      <td>                                                                                                       </td>\n",
       "      <td>                                                                                                              </td>\n",
       "      <td>                                                                                                  <a target=\"_blank\" href=\"http://www.sciencedirect.com/science/article/pii/0014299994905134\">campus_link_0</a></td>\n",
       "      <td>                                                                                                                                                                                                                                                                                                                                                                                                                                                                                                                                                                                                                                                                                                 </td>\n",
       "      <td> </td>\n",
       "    </tr>\n",
       "    <tr>\n",
       "      <th>31</th>\n",
       "      <td> 25179083</td>\n",
       "      <td> <a target=\"_blank\" href=\"http://www.ncbi.nlm.nih.gov/pubmed/?term=25179083\">25179083</a></td>\n",
       "      <td> 2014</td>\n",
       "      <td>                                                                                                                                                                                                The human ether-a'-go-go related gene (hERG) K+ <span class=\"bio\">channel</span> blockade by the investigative selective-serotonin reuptake <span class=\"other_terms\">inhibitor</span> CONA-437: limited dependence on S6 aromatic residues.</td>\n",
       "      <td> Diverse non-<span class=\"tissue\">cardiac</span> drugs adversely influence <span class=\"tissue\">cardiac</span> electrophysiology by inhibiting repolarising K(+) currents mediated by <span class=\"bio\">channels</span> encoded by the human ether-a-go-go-related gene (hERG). In this study, pharmacological blockade of hERG K(+) <span class=\"bio\">channel</span> current (I(hERG)) by a novel investigative serotonin-selective reuptake <span class=\"other_terms\">inhibitor</span> (SSRI), CONA-437, was investigated. Whole-cell patch-clamp measurements of I(hERG) were made from human embryonic kidney (HEK 293) cells expressing wild-type (WT) or mutant forms of the hERG <span class=\"bio\">channel</span>. With a step-ramp voltage-command, peak I(hERG) was inhibited with an <span class=\"chem\">IC(50</span>) of 1.34 μM at 35 ±1°C; the <span class=\"chem\">IC(50</span>) with the same protocol was not significantly different at room temperature. Voltage-command waveform selection had only a modest effect on the <span class=\"chem\">potency</span> of I(hERG) <span class=\"other_terms\">block</span>: the <span class=\"chem\">IC50</span> with a ventricular action potential command was 0.72 μM. I(hERG) blockade developed rapidly with time following membrane depolarisation and showed a weak dependence on voltage, accompanied by a shift of ≈ -5 mV in voltage-dependence of activation. There was no significant effect of CONA-437 on voltage-dependence of I(hERG) inactivation, though at some voltages an apparent acceleration of the time-course of inactivation was observed. Significantly, mutation of the S6 aromatic amino acid residues Y652 and F656 had only a modest effect on I(hERG) blockade by CONA-437 (a 3-4 fold shift in <span class=\"other_terms\">affinity</span>). CONA-437 at up to 30 μM had no significant effect on either Nav1.5 <span class=\"sodium\">sodium</span> <span class=\"bio\">channels</span> or <span class=\"bio\">L-type calcium channels</span>. In conclusion, the novel SSRI CONA-437 is particu...</td>\n",
       "      <td>                                                                                      Journal of physiology and pharmacology : an official journal of the Polish Physiological Society</td>\n",
       "      <td> 0</td>\n",
       "      <td>-13.60</td>\n",
       "      <td>       </td>\n",
       "      <td>                                                                                                       </td>\n",
       "      <td>                                                                                                              </td>\n",
       "      <td>                                                                                                                                          <a target=\"_blank\" href=\"http://www.jpp.krakow.pl/\">campus_link_0</a></td>\n",
       "      <td>                                                                                                                                                                                                                                                                                                                                                                                                                                                                                                                                                                                                                                                                                                 </td>\n",
       "      <td> </td>\n",
       "    </tr>\n",
       "    <tr>\n",
       "      <th>32</th>\n",
       "      <td> 11332571</td>\n",
       "      <td> <a target=\"_blank\" href=\"http://www.ncbi.nlm.nih.gov/pubmed/?term=11332571\">11332571</a></td>\n",
       "      <td> 2001</td>\n",
       "      <td>                                                                                                                                                                                                                                                                                                             Chromanol 293B inhibits slowly activating delayed rectifier and transient outward currents in canine left ventricular myocytes.</td>\n",
       "      <td>                                                                                                                                                                                                                                                                                                                                                                                                                                                                                                           INTRODUCTION: Drugs that selectively inhibit the slowly activating component of the delayed rectifier potassium current (I(Ks)) are being considered as possible antiarrhythmic agents, because they produce more prolongation of action potential duration at fast rates with less transmural dispersion of repolarization compared with blockers of the rapidly activating component (I(Kr)). Although the chromanol derivative chromanol 293B has been shown to be relatively selective in blocking I(Ks) in some species, its selectivity is far from established. METHODS AND RESULTS: The present study uses whole-cell, patch-clamp technique to examine the selectivity of this <span class=\"chem\">compound</span> for inhibition of I(Ks) in comparison with other repolarizing ionic currents, such as I(Kr), inward rectifier potassium current (I(Kl)), transient outward current (I(to)), and <span class=\"bio\">L-type calcium current</span> (I(Ca-L)) in canine left ventricular mid-myocardial and endocardial cells. Chromanol 293B blocked I(Ks) with an <span class=\"chem\">IC50</span> of 1.8 microM and I(to) with an <span class=\"chem\">IC50</span> of 38 microM. Concentrations as high as 30 microM did not affect I(Kl), I(Kr), or I(Ca-L). Higher concentrations of chromanol 293B (100 microM) caused a slight, but statistically insignificant, inhibition of I(Kr). CONCLUSION: Our results indicate that chromanol 293B is a relatively selective <span class=\"other_terms\">blocker</span> of I(Ks) in canine left ventricular myocytes.</td>\n",
       "      <td>                                                                                                                                           Journal of cardiovascular electrophysiology</td>\n",
       "      <td> 0</td>\n",
       "      <td>-13.71</td>\n",
       "      <td>      S</td>\n",
       "      <td>                                                                                                       </td>\n",
       "      <td>                                                                                                              </td>\n",
       "      <td>                                                                                       <a target=\"_blank\" href=\"http://onlinelibrary.wiley.com/doi/10.1046/j.1540-8167.2001.00472.x/abstract\">campus_link_0</a></td>\n",
       "      <td>                                                                                                                                                                                                                                                                                                                                                                                                                                                                                                                                                                                                                                                                                                 </td>\n",
       "      <td> </td>\n",
       "    </tr>\n",
       "    <tr>\n",
       "      <th>33</th>\n",
       "      <td>  7723746</td>\n",
       "      <td>   <a target=\"_blank\" href=\"http://www.ncbi.nlm.nih.gov/pubmed/?term=7723746\">7723746</a></td>\n",
       "      <td> 1995</td>\n",
       "      <td>                                                                                                                                                                                                                                                                 Direct <span class=\"other_terms\">block</span> of <span class=\"bio\">calcium</span> <span class=\"bio\">channels</span> by dioctanoylglycerol in pregnant rat myometrial cells.</td>\n",
       "      <td>                                                                                                                                                                                                                                                                                                                                                                                                      The effect of 1,2-dioctanoyl-sn-glycerol (DiC8), a diacylglycerol and potent protein kinase C (PKC) activator, on the voltage-dependent slow (<span class=\"bio\">L-type</span>) Ca2+ current [lCa(L)] was examined using whole-cell voltage clamp of myometrial cells freshly isolated from late pregnant rats. Bath application of DiC8 (25 microM) decreased ICa(L) by 50.7 +/- 2.4% (n = 22). The effect was reversible and dose dependent (<span class=\"chem\">IC50</span> of 15.3 microM). The effect of DiC8 was not reversed or prevented by application of calphostin C, a selective PKC <span class=\"other_terms\">inhibitor</span>. In addition, 1-oleoyl-2-acetyl-sn-glycerol, another PKC activator, did not produce an inhibitory effect on ICa(L), even at a concentration of 100 microM; ICa(L) was actually slightly stimulated (10.6 +/- 5.1%, n = 6). The steady state inactivation curve for ICa(L) was shifted to the left by DiC8 application (by approximately 15 mV at 25 microM), whereas the activation curve was not affected; the shift should produce a voltage-dependent <span class=\"other_terms\">block</span>. DiC8 decreased ICa(L) progressively during repetitive step depolarizations (use-dependent <span class=\"other_terms\">block</span>). We conclude from these results that (a) DiC8 inhibits ICa(L) independently of PKC in uterine muscle cells and (b) DiC8 preferentially acts on the inactivated state and/or open state of the <span class=\"bio\">L-type Ca2+ channels</span>. Therefore, caution must be exercised when studying PKC actions on ion <span class=\"bio\">channel</span> regulation using DiC8 as a PKC activator.</td>\n",
       "      <td>                                                                                                                                                                Molecular pharmacology</td>\n",
       "      <td> 0</td>\n",
       "      <td>-13.77</td>\n",
       "      <td> F, F12</td>\n",
       "      <td>    <a target=\"_blank\" href=\"http://molpharm.aspetjournals.org/cgi/reprint/47/4/842.pdf\">pdf_link_0</a></td>\n",
       "      <td>    <a target=\"_blank\" href=\"http://molpharm.aspetjournals.org/cgi/content/abstract/47/4/842\">other_link_0</a></td>\n",
       "      <td>                                                                                                                                                                                                               </td>\n",
       "      <td>                                                                                                                                                                                                                                                                                                                                                                                                                                                                                                                                                                                                                                                                                                 </td>\n",
       "      <td> </td>\n",
       "    </tr>\n",
       "    <tr>\n",
       "      <th>34</th>\n",
       "      <td> 24508520</td>\n",
       "      <td> <a target=\"_blank\" href=\"http://www.ncbi.nlm.nih.gov/pubmed/?term=24508520\">24508520</a></td>\n",
       "      <td> 2014</td>\n",
       "      <td>                                                                                                                                                                                                                                                                              The hypotensive agent dodoneine inhibits <span class=\"bio\">L-type Ca2+ current</span> with negative inotropic effect on rat <span class=\"tissue\">heart</span>.</td>\n",
       "      <td>                                                                                                                                                       Agelanthus dodoneifolius is one of the medicinal plants used in African pharmacopeia and traditional medicine for the treatment of <span class=\"tissue\">cardiovascular </span>diseases. A <span class=\"chem\">chemical</span> analysis has identified one of the active principles: Dodoneine (Ddn). It is a new dihydropyranone which exerts hypotensive and vasorelaxant effects on rat. Since the mechanism of the hypotensive effect is unknown, we performed a variety of preclinical and mechanistic studies to characterize the specific <span class=\"tissue\">cardiac</span> effect of Ddn at tissue (ex-vivo) and cellular levels (in-vitro) in order to determine a molecular <span class=\"bio\">target</span>. Ddn effects were evaluated in an isolated rat <span class=\"tissue\">heart</span> preparation using Langendorff retrograde perfusion and then, the effects of Ddn were characterized in freshly dissociated <span class=\"tissue\">cardiac</span> ventricular myocytes using the whole-cell patch-clamp configuration. Ex-vivo, Ddn produced a dose-dependent negative inotropic effect with an <span class=\"chem\">IC50</span> value of 10 µM without changed <span class=\"tissue\">heart</span> rate. 100 µM Ddn decreased left ventricular developed pressure of about 40%. In isolated <span class=\"tissue\">cardiac</span> myocytes, Ddn reduced I(Ca),L density of about 30% with an <span class=\"chem\">IC50</span> value estimated at 3 µM. Ddn did not change current-voltage relation but it shifted the inactivation curve toward negative potentials and modified the half inactivation potentials. Furthermore, Ddn induced a phasic-dependent blocking on <span class=\"bio\">ICa,L</span>. This study demonstrates that the hypotensive property of dodoneine is likely associated with a negative inotropic effect and the blockade of the <span class=\"bio\">L-type calcium channels</span>.</td>\n",
       "      <td>                                                                                                                                                      European journal of pharmacology</td>\n",
       "      <td> 0</td>\n",
       "      <td>-14.38</td>\n",
       "      <td>      S</td>\n",
       "      <td>                                                                                                       </td>\n",
       "      <td>                                                                                                              </td>\n",
       "      <td>                                                                                                 <a target=\"_blank\" href=\"http://www.sciencedirect.com/science/article/pii/S0014299914000958\">campus_link_0</a></td>\n",
       "      <td>                                                                                                                                                                                                                                                                                                                                                                                                                                                                                                                                                                                                                                                                                                 </td>\n",
       "      <td> </td>\n",
       "    </tr>\n",
       "    <tr>\n",
       "      <th>35</th>\n",
       "      <td> 16302909</td>\n",
       "      <td> <a target=\"_blank\" href=\"http://www.ncbi.nlm.nih.gov/pubmed/?term=16302909\">16302909</a></td>\n",
       "      <td> 2005</td>\n",
       "      <td>                                                                                                                                                                                                                                                                                                                                                                                   The mechanism of atrial antiarrhythmic action of RSD1235.</td>\n",
       "      <td>      INTRODUCTION: RSD1235 is a novel drug recently shown to convert AF rapidly and safely in patients.(1) Its mechanism of action has been investigated in a rat model of ischemic arrhythmia, along with changes in action potential (AP) morphology in isolated rat ventricular myocytes and effects on cloned <span class=\"bio\">channels</span>. METHODS AND RESULTS: Ischemic arrhythmias were inhibited with an <span class=\"chem\">ED50</span> of 1.5 micromol/kg/min, and repolarization times increased with non-significant effects on PR and QRS durations. AP prolongation was observed in rat myocytes at low doses, with plateau elevation and a reduction in the AP overshoot at higher doses. RSD1235 showed selectivity for voltage-gated K+ <span class=\"bio\">channels</span> with <span class=\"chem\">IC50</span> values of 13 microM on hKv1.5 (1 Hz) versus 38 and 30 microM on Kv4.2 and Kv4.3, respectively, and 21 microM on hERG <span class=\"bio\">channels</span>. RSD1235 did not <span class=\"other_terms\">block</span> IK1 (<span class=\"chem\">IC50</span> > 1 mM) nor <span class=\"bio\">ICa,L</span> (<span class=\"chem\">IC50</span>= 220 microM) at 1 Hz in guinea pig ventricular myocytes (n = 4-5). The drug displayed mild (<span class=\"chem\">IC50</span>= 43 microM at 1 Hz) open-<span class=\"bio\">channel</span> blockade of Nav1.5 with rapid recovery kinetics after rate reduction (10-->1 Hz, 75% recovery with tau= 320 msec). Nav1.5 blocking <span class=\"chem\">potency</span> increased with stimulus frequency from an <span class=\"chem\">IC50</span>= 40 microM at 0.25 Hz, to an <span class=\"chem\">IC50</span>= 9 microM at 20 Hz, and with depolarization increasing from 107 microM at -120 mV to 31 microM at -60 mV (1 Hz). CONCLUSIONS: These data suggest that RSD1235's clinical selectivity and AF conversion efficacy result from <span class=\"other_terms\">block</span> of potassium <span class=\"bio\">channels</span> combined with frequency- and voltage-dependent <span class=\"other_terms\">block</span> of INa.</td>\n",
       "      <td>                                                                                                                                           Journal of cardiovascular electrophysiology</td>\n",
       "      <td> 0</td>\n",
       "      <td>-14.62</td>\n",
       "      <td>      S</td>\n",
       "      <td>                                                                                                       </td>\n",
       "      <td>                                                                                                              </td>\n",
       "      <td>                                                                                       <a target=\"_blank\" href=\"http://onlinelibrary.wiley.com/doi/10.1111/j.1540-8167.2005.50028.x/abstract\">campus_link_0</a></td>\n",
       "      <td>                                                                                                                                                                                                                                                                                                                                                                                                                                                                                                                                                                                                                                                                                                 </td>\n",
       "      <td> </td>\n",
       "    </tr>\n",
       "    <tr>\n",
       "      <th>36</th>\n",
       "      <td>  1347567</td>\n",
       "      <td>   <a target=\"_blank\" href=\"http://www.ncbi.nlm.nih.gov/pubmed/?term=1347567\">1347567</a></td>\n",
       "      <td> 1992</td>\n",
       "      <td>                                                                                                                                                                                                                                                                                                                                                                 Mechanism of inhibitory effects of azelastine on smooth muscle contraction.</td>\n",
       "      <td> The mechanism of inhibitory effects of azelastine, an antiallergic and antiasthmatic agent, on depolarization- and alpha-1 adrenergic agonist-induced contractions of intact smooth muscle was studied. The effects of azelastine on membrane currents were determined in isolated guinea pig ileum smooth muscle cells with the whole-cell clamp technique; the effects on contraction were evaluated in receptor- and G-protein-coupled, alpha-toxin-permeabilized rabbit femoral artery and portal vein smooth muscle strips. Azelastine (1-20 microM), like dihydropyridines, inhibited spontaneous rhythmic and high K(+)-induced contractions, mainly through inhibition of the voltage-dependent (<span class=\"bio\">L-type</span>) Ca++ current. The tonic component of high K+ contractions was inhibited more than the phasic component, correlating to voltage-dependent inhibition of Ca++ current by the drug. Azelastine (<span class=\"chem\">IC50</span> of 0.25 microM), a known histamine <span class=\"other_terms\">blocker</span>, also reversibly inhibited alpha-1 agonist-induced contractions in the presence and absence of extracellular Ca++. Both major pathways of pharmacomechanical coupling, agonist-induced Ca++ release from the sarcoplasmic reticulum and Ca++ sensitization of the regulatory/contractile apparatus were blocked by the same concentration of drug in permeabilized as in intact muscle. Inositol 1,4,5-trisphosphate-induced Ca++ release and guanosine 5'-O-(tau-thiotriphosphate)-induced Ca++ sensitization, however, were not inhibited. Azelastine at high (greater than 10 microM) concentrations reversibly inhibited Ca(++)-activated contraction, more potently at lower Ca++ concentration and in phasic smooth muscle, but inhibited neither adenosine 5'-O-(tau-thiotriphosphate)-induced, Ca(++)-independent nor phorbol ester-induced contractions. These results indicate that azelastine is a genuine Ca++ <span class=\"other_terms\">antagonist</span> that inhibits <span class=\"bio\">voltage-gated Ca</s...</td>\n",
       "      <td>                                                                                                                             The Journal of pharmacology and experimental therapeutics</td>\n",
       "      <td> 0</td>\n",
       "      <td>-15.81</td>\n",
       "      <td> F, F12</td>\n",
       "      <td> <a target=\"_blank\" href=\"http://intl-jpet.aspetjournals.org/cgi/reprint/260/3/1300.pdf\">pdf_link_0</a></td>\n",
       "      <td> <a target=\"_blank\" href=\"http://intl-jpet.aspetjournals.org/cgi/content/abstract/260/3/1300\">other_link_0</a></td>\n",
       "      <td>                                                                                                                                                                                                               </td>\n",
       "      <td>                                                                                                                                                                                                                                                                                                                                                                                                                                                                                                                                                                                                                                                                                                 </td>\n",
       "      <td> </td>\n",
       "    </tr>\n",
       "    <tr>\n",
       "      <th>37</th>\n",
       "      <td>  9709405</td>\n",
       "      <td>   <a target=\"_blank\" href=\"http://www.ncbi.nlm.nih.gov/pubmed/?term=9709405\">9709405</a></td>\n",
       "      <td> 1998</td>\n",
       "      <td>                                                                                                                                                                                                                             Effects of the chromanol 293B, a selective <span class=\"other_terms\">blocker</span> of the slow, component of the delayed rectifier K+ current, on repolarization in human and guinea pig ventricular myocytes.</td>\n",
       "      <td> OBJECTIVES: The slow component of the delayed rectifier K+ current (IKs) is believed to be important in <span class=\"tissue\">cardiac</span> repolarization, and may be a potential <span class=\"bio\">target</span> for antiarrhythmic drugs, but its study has been limited by a lack of specific blockers. The chromanol derivate 293B blocks currents expressed by minK and not HERG in Xenopus oocytes, but little is known about its effects on native currents and action potentials. We aimed to establish the effects of 293B on K+, <span class=\"sodium\">Na</span>+ and Ca2+ currents and action potentials in human and guinea pig <span class=\"tissue\">cardiomyocytes. </span>METHODS: Whole-cell patch clamp techniques were applied to assess the effects of 293B on isolated myocytes at 36 degrees C. RESULTS: Delayed rectifier current (IK) elicited by pulses to +60 mV from a holding potential of -50 mV in guinea pig myocytes was strongly inhibited by 293B (maximum inhibition 96.9 +/- 0.8%; 50% inhibitory concentration, <span class=\"chem\">EC50</span>, 1.02 microM), but IK during pulses to -10 mV was unaffected (3.9 +/- 8.4% inhibition at 50 microM). Half-activation voltages, current-voltage relations, and current densities of drug-resistant and drug-sensitive IK correspond to those of IKr and IKs respectively. Inward rectifier K+ current, <span class=\"sodium\">Na</span>+ current and <span class=\"bio\">L-type Ca2+ current</span> were unaffected by 293B. Transient outward current in human ventricular myocytes was inhibited by 293B at an <span class=\"chem\">EC50</span> of 24 microM, less than one twentieth the <span class=\"chem\">potency</span> for IKs inhibition in guinea pig myocytes. While dofetilide prolonged action potential duration (APD) with strong reverse use dependence, 293B prolonged guinea pig and human ventricular APD to a similar fractional extent at all frequencies. CONCLUSIONS: 293B is a selective IKs <span class=\"other_terms\">blocker</span>, and the frequency dependence of APD...</td>\n",
       "      <td>                                                                                                                                                               Cardiovascular research</td>\n",
       "      <td> 0</td>\n",
       "      <td>-15.84</td>\n",
       "      <td>      S</td>\n",
       "      <td>                                                                                                       </td>\n",
       "      <td>                                                                                                              </td>\n",
       "      <td>     <a target=\"_blank\" href=\"http://cardiovascres.oxfordjournals.org/content/38/2/441\">campus_link_0</a>, <a target=\"_blank\" href=\"http://cardiovascres.oxfordjournals.org/content/38/2/441\">campus_link_1</a></td>\n",
       "      <td>                                                                                                                                                                                                                                                                                                                                                                                                                                                                                                                                                                                                                                                                                                 </td>\n",
       "      <td> </td>\n",
       "    </tr>\n",
       "    <tr>\n",
       "      <th>38</th>\n",
       "      <td> 12165041</td>\n",
       "      <td> <a target=\"_blank\" href=\"http://www.ncbi.nlm.nih.gov/pubmed/?term=12165041\">12165041</a></td>\n",
       "      <td> 2002</td>\n",
       "      <td>                                                                                                                                                                                                                                                                                             Mode-dependent inhibition by quinidine of <span class=\"sodium\">Na</span>+-Ca2+ exchanger current from guinea-pig isolated ventricular myocytes.</td>\n",
       "      <td> 1. The aim of the present study was to determine whether or not the class Ia anti-arrhythmic agent quinidine modulates ionic current (INaCa) generated by the sarcolemmal <span class=\"sodium\">Na</span>+-Ca2+ exchanger of adult ventricular <span class=\"tissue\">cardiac</span> myocytes. 2. Selective whole-cell voltage-clamp recordings of INaCa were made from guinea-pig ventricular myocytes, with major interfering currents blocked. The INaCa was measured as the ionic current sensitive to 10 mmol/L external Ni2+ during a descending voltage ramp protocol. 3. The effects of quinidine concentrations in the range 10-100 micromol/L were studied. Quinidine produced a concentration-dependent partial blockade of outward INaCa, generated by reverse-mode exchange. At +60 mV, 100 micromol/L quinidine blocked INaCa by 33.0 +/- 4.1% (mean+/-SEM; n = 4). This was the maximal concentration that we were able to test, because concentrations of quinidine higher than 100 micromol/L were found to be toxic to cells under our conditions. The drug did not produce any significant inhibition of inward INaCa (generated by forward-mode exchange). 4. The Ni2+-insensitive residual current was not significantly altered by quinidine at any membrane potential, confirming that the inhibitory effects of quinidine we observed could be attributed to an action on the <span class=\"sodium\">Na</span>+-Ca2+ exchanger. 5. For the purpose of comparison, quinidine was tested against <span class=\"bio\">L-type Ca current</span> (<span class=\"bio\">ICa,L</span>). It blocked peak <span class=\"bio\">ICa,L</span> at 0 mV, with an <span class=\"chem\">IC50</span> of 14.9 +/- 1.5 micromol/L. Thus, quinidine was less potent against the exchanger than against <span class=\"bio\">ICa,L</span>. 6. Our data suggest that quinidine preferentially inhibits the Naout/Cain mode of exchanger function. We conclude that this drug is a weak <span class=\"other_terms\">inhibitor</span> of ventricular INaCa and that the inhibitory effect is mo...</td>\n",
       "      <td>                                                                                                                                   Clinical and experimental pharmacology & physiology</td>\n",
       "      <td> 0</td>\n",
       "      <td>-15.94</td>\n",
       "      <td>      S</td>\n",
       "      <td>                                                                                                       </td>\n",
       "      <td>                                                                                                              </td>\n",
       "      <td>                                                                                       <a target=\"_blank\" href=\"http://onlinelibrary.wiley.com/doi/10.1046/j.1440-1681.2002.03731.x/abstract\">campus_link_0</a></td>\n",
       "      <td>                                                                                                                                                                                                                                                                                                                                                                                                                                                                                                                                                                                                                                                                                                 </td>\n",
       "      <td> </td>\n",
       "    </tr>\n",
       "    <tr>\n",
       "      <th>39</th>\n",
       "      <td>  8371147</td>\n",
       "      <td>   <a target=\"_blank\" href=\"http://www.ncbi.nlm.nih.gov/pubmed/?term=8371147\">8371147</a></td>\n",
       "      <td> 1993</td>\n",
       "      <td>                                                                                                                                                                                                               The <span class=\"tissue\">cardioprotective</span>, vasorelaxant and electrophysiological profile of the large conductance <span class=\"bio\">calcium</span>-activated potassium <span class=\"bio\">channel</span> opener NS-004.</td>\n",
       "      <td>                                                                                                      A series of <span class=\"chem\">compounds</span> have been reported which open the large conductance <span class=\"bio\">calcium</span> activated potassium <span class=\"bio\">channel</span> (maxi-K). By utilizing the most potent <span class=\"chem\">compound</span>, NS-004 [1-(5-chloro-2-hydroxyphenyl)-5-trifluromethyl-1,3-dihydro-2-be nzimidazol-2- one], we studied the role of maxi-K <span class=\"bio\">channels</span> in ischemic myocardium. Isolated rat hearts were pretreated with vehicle or NS-004 (6-36 microM). NS-004 caused a concentration-dependent reduction in left ventricular developed pressure and an increase in coronary flow. In global ischemia (25 min), a concentration-dependent increase in time to contracture was found in NS-004 (6-20 microM)-treated hearts (EC25 = 8.6 microM). Neither iberiotoxin (50 nM), a maxi-K <span class=\"other_terms\">blocker</span>, nor glyburide (1 microM), an adenosine triphosphate-sensitive potassium <span class=\"bio\">channel</span> <span class=\"other_terms\">blocker</span>, reversed the preischemic or ischemic effects of 20 microM NS-004. NS-004 relaxed phenylephrine- and KCl- contracted rat aortic smooth muscle (<span class=\"chem\">IC50</span> = 9.2 microM). This relaxation was unaffected by 50 and 200 nM iberiotoxin. Whole cell potassium currents in ventricular myocytes demonstrated no significant increases in outward potassium current after treatment with NS-004 (1-20 microM). A small, but significant, increase in outward potassium current was observed with 50 microM NS-004. When peak inward <span class=\"bio\">L-type calcium currents</span> were measured in ventricular myocytes, a concentration-dependent inhibition was observed in the presence of NS-004 (1-50 microM). Iberiotoxin (50 nM) did not alter the inhibition of inward <span class=\"bio\">calcium</span> current observed in the presence of NS-004.(ABSTRACT TRUNCATED AT 250 WORDS)</td>\n",
       "      <td>                                                                                                                             The Journal of pharmacology and experimental therapeutics</td>\n",
       "      <td> 0</td>\n",
       "      <td>-16.72</td>\n",
       "      <td> F, F12</td>\n",
       "      <td> <a target=\"_blank\" href=\"http://intl-jpet.aspetjournals.org/cgi/reprint/266/3/1422.pdf\">pdf_link_0</a></td>\n",
       "      <td> <a target=\"_blank\" href=\"http://intl-jpet.aspetjournals.org/cgi/content/abstract/266/3/1422\">other_link_0</a></td>\n",
       "      <td>                                                                                                                                                                                                               </td>\n",
       "      <td>                                                                                                                                                                                                                                                                                                                                                                                                                                                                                                                                                                                                                                                                                                 </td>\n",
       "      <td> </td>\n",
       "    </tr>\n",
       "    <tr>\n",
       "      <th>40</th>\n",
       "      <td> 12674757</td>\n",
       "      <td> <a target=\"_blank\" href=\"http://www.ncbi.nlm.nih.gov/pubmed/?term=12674757\">12674757</a></td>\n",
       "      <td> 2002</td>\n",
       "      <td>                                                                                                                                                                                                                                               Effects of arecoline on <span class=\"bio\">calcium channel</span> currents and caffeine-induced <span class=\"bio\">calcium</span> release in isolated single ventricular myocyte of guinea pig.</td>\n",
       "      <td>                                                                                                                                                                                                                                                                                                                                                                                                                                                                                                                                                                                                                                                                                                                                                                                                                                                                                                      The effects of Arecoline (Are) on <span class=\"bio\">calcium</span> mobilization were investigated. In isolated single ventricular myocyte of guinea pig, patch clamp whole cell recording techniques were used to record the current of <span class=\"bio\">L-type calcium channel</span> and cytosolic Ca2+ level ([Ca2+]i) labeled with fluorescence probe Fluo-3/AM was measured under a laser scanning confocal microscope. Results revealed that Are (3-100 mumol/L) could inhibit <span class=\"bio\">L-type calcium current</span> in a concentration-dependent manner and the value of <span class=\"chem\">IC50</span> was 33.73 mumol/L (n = 5). In the absence of extracellular <span class=\"bio\">calcium</span>, the resting levels of [Ca2+]i was not affected by Are (n = 6, P > 0.05), but pretreatment with Are (30 mumol/L) could significantly inhibit the [Ca2+]i elevation induced by caffeine (10 mmol/L, n = 6, P < 0.01). It was concluded that Are could inhibit not only <span class=\"bio\">calcium</span> influx through <span class=\"bio\">L-type calcium channel</span> but also <span class=\"bio\">calcium</span> release from sarcoplasmic reticulum.</td>\n",
       "      <td> Journal of Huazhong University of Science and Technology. Medical sciences = Hua zhong ke ji da xue xue bao. Yi xue Ying De wen ban = Huazhong keji daxue xuebao. Yixue Yingdewen ban</td>\n",
       "      <td> 0</td>\n",
       "      <td>-16.81</td>\n",
       "      <td>      S</td>\n",
       "      <td>                                                                                                       </td>\n",
       "      <td>                                                                                                              </td>\n",
       "      <td>                                                                                                                <a target=\"_blank\" href=\"http://link.springer.com/article/10.1007/BF02896763\">campus_link_0</a></td>\n",
       "      <td>                                                                                                                                                                                                                                                                                                                                                                                                                                                                                                                                                                                                                                                                                                 </td>\n",
       "      <td> </td>\n",
       "    </tr>\n",
       "    <tr>\n",
       "      <th>41</th>\n",
       "      <td> 10333718</td>\n",
       "      <td> <a target=\"_blank\" href=\"http://www.ncbi.nlm.nih.gov/pubmed/?term=10333718\">10333718</a></td>\n",
       "      <td> 1999</td>\n",
       "      <td>                                                                                                                                                                                                                                                                                                                     Fluoxetine inhibits <span class=\"bio\">L-type</span> Ca2+ and transient outward K+ currents in rat ventricular myocytes.</td>\n",
       "      <td> The most common <span class=\"tissue\">cardiovascular </span>side effects of antidepressants are <span class=\"tissue\">cardiac</span> arrhythmias and orthostatic hypotension. Little is known, however, about the mechanisms by which these adverse reactions may occur, especially with regard to newer drugs such as fluoxetine. We hypothesized that these side effects may have an electrophysiological basis at the level of the <span class=\"tissue\">cardiac</span> myocyte. Thus, we investigated the effects of fluoxetine and other antidepressants on action potentials and ionic currents of rat ventricular myocytes using the amphotericin B perforated patch clamp technique. Fluoxetine (10 microM) prolonged the action potential duration (APD50) to 146.7 +/- 12.9% of control value without altering resting membrane potential. Fluoxetine and sertraline potently inhibited the <span class=\"bio\">L-type Ca2+ current</span> (<span class=\"chem\">IC50</span> = 2.82 and 2.31 microM, respectively), but did not significantly modify the steady-state inactivation. Amitriptyline and imipramine had similar, but slightly weaker, effects (<span class=\"chem\">IC50</span> = 3.75 and 4.05 microM, respectively). Fluoxetine attenuated the peak transient outward K+ current and also altered current kinetics, as shown by accelerated decay. Fluoxetine did not change the voltage-dependence of the steady-state inactivation. Sertraline, amitriptyline and imipramine inhibited the transient outward K+ current with <span class=\"chem\">potencies</span> very similar to fluoxetine. In contrast to the other antidepressants tested, trazodone weakly inhibited the Ca2+ and K+ currents and moclobemide had no detectable effect. Our comparative pharmacology data suggest that selective serotonin reuptake inhibitors, such as fluoxetine, are as potent as tricyclic antidepressants in inhibiting <span class=\"bio\">L-type</span> Ca2+ and transient outward K+ currents. These inhibitory effects may contribute to <span class=\"tissue\">c...</td>\n",
       "      <td>                                                                                                                                                                Yonsei medical journal</td>\n",
       "      <td> 0</td>\n",
       "      <td>-19.09</td>\n",
       "      <td>       </td>\n",
       "      <td>                                                                                                       </td>\n",
       "      <td>                                                                                                              </td>\n",
       "      <td>                                                                                                                                               <a target=\"_blank\" href=\"http://www.eymj.org/\">campus_link_0</a></td>\n",
       "      <td>                                                                                                                                                                                                                                                                                                                                                                                                                                                                                                                                                                                                                                                                                                 </td>\n",
       "      <td> </td>\n",
       "    </tr>\n",
       "    <tr>\n",
       "      <th>42</th>\n",
       "      <td> 25016086</td>\n",
       "      <td> <a target=\"_blank\" href=\"http://www.ncbi.nlm.nih.gov/pubmed/?term=25016086\">25016086</a></td>\n",
       "      <td> 2014</td>\n",
       "      <td>                                                                                                                                                                                                                                                                                                               Alterations of contractions and <span class=\"bio\">L-type Ca2+ currents</span> by murrayafoline-A in rat ventricular myocytes.</td>\n",
       "      <td>                                                                                                                                                                                                                We examined the effects of murrayafoline-A (1-methoxy-3-methylcarbazole, Mu-A), which is isolated from the dried roots of Glycosmis stenocarpa, on cell shortenings and <span class=\"bio\">L-type Ca2+ currents</span> (<span class=\"bio\">ICa,L</span>) in rat ventricular myocytes. Cell shortenings and <span class=\"bio\">ICa,L</span> were measured using the video edge detection method and patch-clamp techniques, respectively. Mu-A transiently increased cell shortenings in a concentration-dependent manner with an <span class=\"chem\">EC50</span> of ~20 μM. The maximal effect of Mu-A, approximately 175% of the control, was observed at ≥100 μM. The positive inotropic effect of Mu-A (25 μM) reached a maximum after ~2-min exposures, and then decayed after a ~1-min steady-state. During the Mu-A-induced positive inotropy, the rate of contraction was accelerated, whereas the rate of relaxation was not significantly altered. To understand the possible mechanism for the Mu-A-induced positive inotropy, the <span class=\"bio\">ICa,L</span> was assessed. Mu-A transiently enhanced the <span class=\"bio\">ICa,L</span>. Concentration-dependence of the increase in <span class=\"bio\">ICa,L</span> by Mu-A was similar to that of positive inotropic effect of Mu-A. The maximal effect of Mu-A (25 μM) on <span class=\"bio\">ICa,L</span> was observed at 2-3 min after the application of Mu-A. A partial inhibition of <span class=\"bio\">ICa,L</span> using verapamil (1 μM) induced a right shift of concentration-response curve of the positive inotropic effect of Mu-A and significantly attenuated the effect. These results suggest that Mu-A may transiently enhance contractility, at least in part, by increasing the Ca2+ influx through the <span class=\"bio\">L-type Ca2+ channels</span> in rat ventricular myocytes.</td>\n",
       "      <td>                                                                                                                                                      European journal of pharmacology</td>\n",
       "      <td> 0</td>\n",
       "      <td>-19.72</td>\n",
       "      <td>      S</td>\n",
       "      <td>                                                                                                       </td>\n",
       "      <td>                                                                                                              </td>\n",
       "      <td>                                                                                                 <a target=\"_blank\" href=\"http://www.sciencedirect.com/science/article/pii/S0014299914005159\">campus_link_0</a></td>\n",
       "      <td>                                                                                                                                                                                                                                                                                                                                                                                                                                                                                                                                                                                                                                                                                                 </td>\n",
       "      <td> </td>\n",
       "    </tr>\n",
       "    <tr>\n",
       "      <th>43</th>\n",
       "      <td> 10440104</td>\n",
       "      <td> <a target=\"_blank\" href=\"http://www.ncbi.nlm.nih.gov/pubmed/?term=10440104\">10440104</a></td>\n",
       "      <td> 1999</td>\n",
       "      <td>                                                                                                                                                                                                                                                                                                         Carvedilol blocks the repolarizing K+ currents and the <span class=\"bio\">L-type Ca2+ current</span> in rabbit ventricular myocytes.</td>\n",
       "      <td> Carvedilol ((+/-)-1-(carbazol-4-yloxy)-3-[[2-(o-methoxyphenoxy)ethyl]am ino]-2-propanol), a beta-adrenoceptor-blocking agent with vasodilator properties, has been reported to produce dose-related improvements in left ventricular function and reduction in mortality in patients with chronic <span class=\"tissue\">heart</span> failure. However, its electrophysiological effects have not been elucidated. We studied ion <span class=\"bio\">channel</span> and action potential modulation by carvedilol in rabbit ventricular preparations using whole-cell voltage-clamp and standard microelectrode techniques. In ventricular myocytes, carvedilol blocked the rapidly activating component of the delayed rectifier K+ current (I(Kr)) in a concentration-dependent manner (<span class=\"chem\">IC50</span> = 0.35 microM). This <span class=\"other_terms\">block</span> was voltage- and time-independent; a prolongation of the depolarizing pulses from a holding potential of -50 mV to +10 mV within the range of 100-3000 ms did not affect the extent of I(Kr) <span class=\"other_terms\">block</span>. Carvedilol also inhibited the <span class=\"bio\">L-type Ca2+ current</span> (I(Ca)), the transient outward K+ current (I(to)) and the slowly activating component of the delayed rectifier K+ current (I(Ks)) with <span class=\"chem\">IC50</span> of 3.59, 3.34, and 12.54 microM, respectively. Carvedilol (0.3-30 microM) had no significant effects on the inward rectifier K+ current. In papillary muscles from rabbits pretreated with reserpine, action potential duration was prolonged by 7-12% with 1 microM and by 12-24% with 3 microM carvedilol at stimulation frequencies of 0.1-3.0 Hz. No further action potential duration prolongation was observed at concentrations higher than 3 microM. These results suggest that concomitant <span class=\"other_terms\">block</span> of K+ and Ca2+ currents by carvedilol resulted in a moderate prolongation of action potential duration with minimal reverse frequency-dependence. Such el...</td>\n",
       "      <td>                                                                                                                                                      European journal of pharmacology</td>\n",
       "      <td> 0</td>\n",
       "      <td>-21.73</td>\n",
       "      <td>      S</td>\n",
       "      <td>                                                                                                       </td>\n",
       "      <td>                                                                                                              </td>\n",
       "      <td>                                                                                                 <a target=\"_blank\" href=\"http://www.sciencedirect.com/science/article/pii/S0014299999003684\">campus_link_0</a></td>\n",
       "      <td>                                                                                                                                                                                                                                                                                                                                                                                                                                                                                                                                                                                                                                                                                                 </td>\n",
       "      <td> </td>\n",
       "    </tr>\n",
       "    <tr>\n",
       "      <th>44</th>\n",
       "      <td> 19378468</td>\n",
       "      <td> <a target=\"_blank\" href=\"http://www.ncbi.nlm.nih.gov/pubmed/?term=19378468\">19378468</a></td>\n",
       "      <td> 2009</td>\n",
       "      <td>                                                                                                                                                                                                                                            Underlying mechanism of actions of tefluthrin, a pyrethroid insecticide, on voltage-gated ion currents and on action currents in pituitary tumor (GH3) cells and GnRH-secreting (GT1-7) neurons.</td>\n",
       "      <td>                                                                                                                                                                                                                                                                                                                                                                                                 Tefluthrin is a synthetic pyrethroid and involved in acute neurotoxic effects. How this <span class=\"chem\">compound</span> affects ion currents in endocrine or neuroendocrine cells remains unclear. Its effects on membrane ion currents in pituitary tumor (GH3) cells and in hypothalamic (GT1-7) neurons were investigated. Application of Tef (10 microM) increased the amplitude of voltage-gated <span class=\"sodium\">Na</span>+ current (INa), along with a slowing in current inactivation and deactivation in GH3 cells. The current-voltage relationship of INa was shifted to more negative potentials in the presence of this <span class=\"chem\">compound</span>. Tef increased INa with an <span class=\"chem\">EC50</span> value of 3.2 +/- 0.8 microM. It also increased the amplitude of persistent INa. Tef reduced the amplitude of <span class=\"bio\">L-type Ca2+ current</span>. This agent slightly inhibited K+ outward current; however, it had no effect on the activity of large-conductance Ca2+-activated K+ <span class=\"bio\">channels</span>. Under cell-attached voltage-clamp recordings, Tef (10 microM) increased amplitude and frequency of spontaneous action currents, along with appearance of oscillatory inward currents. Tef-induced inward currents were suppressed after further application of tetrodotoxin, riluzole or ranolazine. In GT1-7 cells, Tef also increased the amplitude and frequency of action currents. Taken together, the effects of Tef and its structural related pyrethroids on ion currents can contribute to the underlying mechanisms through which they affect endocrine or neuroendocrine function in vivo.</td>\n",
       "      <td>                                                                                                                                                                            Toxicology</td>\n",
       "      <td> 0</td>\n",
       "      <td>-22.61</td>\n",
       "      <td>      S</td>\n",
       "      <td>                                                                                                       </td>\n",
       "      <td>                                                                                                              </td>\n",
       "      <td>                                                                                                 <a target=\"_blank\" href=\"http://www.sciencedirect.com/science/article/pii/S0300483X09000444\">campus_link_0</a></td>\n",
       "      <td>                                                                                                                                                                                                                                                                                                                                                                                                                                                                                                                                                                                                                                                                                                 </td>\n",
       "      <td> </td>\n",
       "    </tr>\n",
       "    <tr>\n",
       "      <th>45</th>\n",
       "      <td>  8897446</td>\n",
       "      <td>   <a target=\"_blank\" href=\"http://www.ncbi.nlm.nih.gov/pubmed/?term=8897446\">8897446</a></td>\n",
       "      <td> 1996</td>\n",
       "      <td>                                                                                                                                                                                                                                                                                              Modulation of <span class=\"bio\">L-type Ca current</span> by denopamine, a nonparenteral partial beta 1 stimulant, in rabbit ventricular cells.</td>\n",
       "      <td>                                                                                                                                                                                                                                                                                 The effects of denopamine, a nonparenteral partial beta agonist which is used clinically in Japan, on the <span class=\"bio\">L-type Ca2+ current</span> (ICa) were examined in rabbit ventricular cells. Denopamine stimulated basal ICa with a maximum response of +33.2% and a concentration for half-maximal response (<span class=\"chem\">EC50</span>) of 0.039 microM. The maximum response of ICa was only a quarter of that induced by isoprenaline (ISO), while 10 microM denopamine elicited 70-75% of the maximum inotropic response in the papillary muscle preparations. The denopamine stimulation of ICa was abolished by selective beta 1 antagonists (atenolol or bisoprolol). Pretreatment with forskolin or dialysis with cAMP also abolished the stimulation. Denopamine, in turn, inhibited ISO-stimulated ICa. This inhibition was not affected by pretreatment with pertussis toxin or prazosin. The presence of denopamine at various concentrations caused a rightward shift in the concentration/response curve for ISO stimulation of ICa. The Schild plot for this effect had a slope of 0.99 and Kp of 0.20 microM. In the presence of guanosine-5'-O-(3-thiotriphosphate) (GTP gamma S) (0.5 mM) in the pipette, denopamine (10 microM) stimulated the ICa to 86 +/- 5% of the maximum response induced by ISO. These findings indicate that denopamine modulates ICa exclusively through the beta 1 adrenoceptor-adenylate cyclase pathway, that the stimulatory GTP-<span class=\"chem\">binding</span> protein regulates the agonistic <span class=\"chem\">potency</span> of denopamine, and that the signal from the beta 1 adrenoceptors is amplified between ICa and the tension development, which would contribute to the spare capacity of beta adrenoceptors.</td>\n",
       "      <td>                                                                                                                                        Naunyn-Schmiedeberg's archives of pharmacology</td>\n",
       "      <td> 0</td>\n",
       "      <td>-23.06</td>\n",
       "      <td>      S</td>\n",
       "      <td>                                                                                                       </td>\n",
       "      <td>                                                                                                              </td>\n",
       "      <td>                                                                                                                <a target=\"_blank\" href=\"http://link.springer.com/article/10.1007/BF00168434\">campus_link_0</a></td>\n",
       "      <td>                                                                                                                                                                                                                                                                                                                                                                                                                                                                                                                                                                                                                                                                                                 </td>\n",
       "      <td> </td>\n",
       "    </tr>\n",
       "    <tr>\n",
       "      <th>46</th>\n",
       "      <td> 16173926</td>\n",
       "      <td> <a target=\"_blank\" href=\"http://www.ncbi.nlm.nih.gov/pubmed/?term=16173926\">16173926</a></td>\n",
       "      <td> 2005</td>\n",
       "      <td>                                                                                                                                                                                             Increased vascular selectivity and prolonged pharmacological efficacy of the <span class=\"bio\">L-type Ca2+ channel</span> <span class=\"other_terms\">antagonist</span> lercanidipine in human <span class=\"tissue\">cardiovascular </span>tissue.</td>\n",
       "      <td>                                                                                                                                                                  1. The present study investigates the vasoselectivity of lercanidipine (LER), a 1,4-dihydropyridine <span class=\"bio\">calcium channel</span> <span class=\"other_terms\">blocker</span>, compared with amlodipine (AML) and nifedipine (NIF) in human <span class=\"tissue\">cardiovascular </span>tissue. Experiments were performed either in human left ventricular failing myocardium (orthotopic <span class=\"tissue\">heart</span> transplants) or in isolated right atrial trabeculae and isolated vessel preparations of arteria mammaria obtained from patients undergoing aortocoronary bypass operation. 2. The obtained rank order for the <span class=\"bio\">L-type Ca2+ channel</span> <span class=\"other_terms\">affinity</span> in human tissue was LER > NIF >or= AML. Lercanidipine had the lowest negative inotropic efficacy (1 micromol/L LER: 60.3% basal < AML: 79.1% basal < NIF: 92.4 basal) and <span class=\"chem\">potency</span> (<span class=\"chem\">IC50</span> NIF: 3.5 nmol/L < AML: 48 nmol/L < Ler: 127 nmol/L) in right atrial trabeculae. 3. The vasorelaxant <span class=\"chem\">potency</span> of LER (<span class=\"chem\">IC50</span> 0.5 nmol/L) and AML (<span class=\"chem\">IC50</span> 0.8 nmol/L) was similar and significantly increased compared with that of NIF (<span class=\"chem\">IC50</span> 5.9 nmol/L) in arteria mammaria preparations of the very same patients. 4. The following rank order was obtained for vasoselectivity: LER (260) < AML (60) < NIF (0.6). 5. The pharmacological effects of LER and AML were still present 2 h after drug washout. 3. Lercanidipine is characterized by a high vasoselectivity and a prolonged interaction with the <span class=\"bio\">L-type calcium channel</span> in human <span class=\"tissue\">cardiovascular </span>tissue This may be advantageous, especially in the treatment of patients with arterial hypertension.</td>\n",
       "      <td>                                                                                                                                   Clinical and experimental pharmacology & physiology</td>\n",
       "      <td> 0</td>\n",
       "      <td>-24.96</td>\n",
       "      <td>      S</td>\n",
       "      <td>                                                                                                       </td>\n",
       "      <td>                                                                                                              </td>\n",
       "      <td>                                                                                       <a target=\"_blank\" href=\"http://onlinelibrary.wiley.com/doi/10.1111/j.1440-1681.2005.04265.x/abstract\">campus_link_0</a></td>\n",
       "      <td>                                                                                                                                                                                                                                                                                                                                                                                                                                                                                                                                                                                                                                                                                                 </td>\n",
       "      <td> </td>\n",
       "    </tr>\n",
       "    <tr>\n",
       "      <th>47</th>\n",
       "      <td> 10651150</td>\n",
       "      <td> <a target=\"_blank\" href=\"http://www.ncbi.nlm.nih.gov/pubmed/?term=10651150\">10651150</a></td>\n",
       "      <td> 2000</td>\n",
       "      <td>                                                                                                                                                                                                                                                                                                                     Inhibitory effect of mibefradil on contractions induced by sympathetic neurotransmitter release in the rat tail artery.</td>\n",
       "      <td> This study tested whether mibefradil exerts a stronger inhibitory effect than verapamil on sympathetic neurotransmitter release provoked by electrical field stimulation. Tail arteries (diameter 620+/-9 microm) were obtained from male Wistar rats. Ring segments of 2 mm length were mounted in an isometric wire myograph. After an appropriate period of equilibration and a priming procedure the vessels were either subjected to electrical field stimulation (EFS; frequency 0.25-4 Hz for 30 s) or a concentration-response curve was generated with either noradrenaline (concentration range 0.03-3 microM) or ATP (concentration 0.3 mM) which served as baseline parameters. EFS-induced contractions were stable and reproducible and were blocked by tetrodotoxin (1 microM), guanethidine (3 microM), and the combination of suramin (0.5 mM) and prazosin (3 microM). EFS-induced contractions (1 Hz) were almost completely inhibited by 10 microM mibefradil (97%) but only partly by 10 microM verapamil (73%). Log <span class=\"chem\">IC50</span> values were -5.6 for mibefradil and -6.6 for verapamil. <span class=\"bio\">Calcium</span> antagonists were equipotent in inhibiting noradrenaline (maximum inhibition by mibefradil and verapamil by 70% and 75%, respectively; log <span class=\"chem\">IC50</span>: -6.5 and -6.7, respectively) and ATP-mediated contractions (maximum inhibition by mibefradil and verapamil by 92% and 97%, respectively; log <span class=\"chem\">IC50</span>: -6.5 and -7.0, respectively). Consequently mibefradil displays an additional effect on contractions provoked by EFS-induced sympathetic noradrenaline release which cannot be explained by <span class=\"bio\">L-type calcium channel</span> blockade. Probably this effect of mibefradil is mediated by the blockade of prejunctional N-type <span class=\"bio\">calcium</span> <span class=\"bio\">channels</span>, thereby inhibiting sympathetic noradrenaline release. Since activation of the sympathetic nervous system in hypertension is both co...</td>\n",
       "      <td>                                                                                                                                        Naunyn-Schmiedeberg's archives of pharmacology</td>\n",
       "      <td> 0</td>\n",
       "      <td>-26.11</td>\n",
       "      <td>      S</td>\n",
       "      <td>                                                                                                       </td>\n",
       "      <td>                                                                                                              </td>\n",
       "      <td>         <a target=\"_blank\" href=\"http://link.springer.com/article/10.1007/s002109900155\">campus_link_0</a>, <a target=\"_blank\" href=\"http://link.springer.com/article/10.1007/s002109900155\">campus_link_1</a></td>\n",
       "      <td>                                                                                                                                                                                                                                                                                                                                                                                                                                                                                                                                                                                                                                                                                                 </td>\n",
       "      <td> </td>\n",
       "    </tr>\n",
       "    <tr>\n",
       "      <th>48</th>\n",
       "      <td>  7751400</td>\n",
       "      <td>   <a target=\"_blank\" href=\"http://www.ncbi.nlm.nih.gov/pubmed/?term=7751400\">7751400</a></td>\n",
       "      <td> 1995</td>\n",
       "      <td>                                                                                                                                                                                                                                                                                                                  The effect of 2,3-butanedione 2-monoxime (BDM) on ventricular trabeculae from the avian <span class=\"tissue\">heart</span>.</td>\n",
       "      <td>                                                                                                                                                                                                                                                                                                                                                                                  2,3-butanedione 2-monoxime (BDM, 3-30 mM) decreased twitch force of intact ventricular trabeculae isolated from 19-day embryonic chick hearts in a dose-dependent manner. The responses to BDM were rapid and reversible. In an attempt to determine the cellular basis for the inhibitory effect of BDM, experiments were carried out on skinned muscle fibres and isolated myocytes. In trabeculae skinned with Triton X-100, BDM depressed maximum <span class=\"bio\">calcium</span> activated force (Fmax) with an <span class=\"chem\">IC50</span> of 14 mM. At 3 mM BDM, the proportional decrease in twitch force in intact tissue was similar to that of Fmax in skinned tissue. At higher BDM concentrations (10 and 30 mM), however, the proportional decrease in twitch force was greater than that of Fmax. BDM (up to 10 mM) had no effect on the normalized force-pCa relationship. In saponin-skinned preparations, BDM (3 and 30 mM) released <span class=\"bio\">calcium</span> from the fully loaded sarcoplasmic reticulum to a slightly greater extent in the absence of <span class=\"bio\">calcium</span> (pCa 8.5) than in the presence of a fixed level of free <span class=\"bio\">calcium</span> (pCa 5.5). Whole cell patch clamping of freshly isolated chick myocytes demonstrated that BDM caused a dose-dependent decrease in the T- and <span class=\"bio\">L-type calcium current</span>. Therefore, at low BDM concentrations (3 mM), the decrease in twitch force can be ascribed predominantly to depression of the contractile apparatus while, at higher concentrations of BDM, there is an additional inhibitory effect of BDM on excitation-contraction coupling.</td>\n",
       "      <td>                                                                                                                                          Journal of muscle research and cell motility</td>\n",
       "      <td> 0</td>\n",
       "      <td>-26.59</td>\n",
       "      <td>      S</td>\n",
       "      <td>                                                                                                       </td>\n",
       "      <td>                                                                                                              </td>\n",
       "      <td>                                                                                                                <a target=\"_blank\" href=\"http://link.springer.com/article/10.1007/BF00125305\">campus_link_0</a></td>\n",
       "      <td>                                                                                                                                                                                                                                                                                                                                                                                                                                                                                                                                                                                                                                                                                                 </td>\n",
       "      <td> </td>\n",
       "    </tr>\n",
       "    <tr>\n",
       "      <th>49</th>\n",
       "      <td> 18092154</td>\n",
       "      <td> <a target=\"_blank\" href=\"http://www.ncbi.nlm.nih.gov/pubmed/?term=18092154\">18092154</a></td>\n",
       "      <td> 2008</td>\n",
       "      <td>                                                                                                                                                                                                                                                                                                                                      Electrophysiological profile of propiverine--relationship to <span class=\"tissue\">cardiac</span> risk.</td>\n",
       "      <td> Drugs that prolong the QT interval by blocking human ether-a-go-go (HERG) <span class=\"bio\">channels</span> may enhance the risk of ventricular arrhythmia. The spasmolytic drug propiverine is widely used for the therapy of overactive bladder (OAB). Here, we have investigated the effects of propiverine on <span class=\"tissue\">cardiac</span> ion <span class=\"bio\">channels</span> and action potentials as well as on contractile properties of <span class=\"tissue\">cardiac</span> tissue, in order to estimate its <span class=\"tissue\">cardiac</span> safety profile, because other drugs used in this indication had to be withdrawn due to safety reasons. Whole-cell patch clamp technique was used to record the following <span class=\"tissue\">cardiac</span> ion currents: rapidly and slowly activating delayed rectifier K+ current (I(Kr), I(Ks)), ultra rapidly activating delayed rectifier K+ current (I(Kur)), inwardly rectifying K+ current I(K1), transient outward K+ current (I(to)), and <span class=\"bio\">L-type Ca2+ current</span> (I(Ca,L)). Action potentials in <span class=\"tissue\">cardiac</span> tissue biopsies were recorded with conventional microelectrodes. The torsade de pointes screening assay (TDPScreen) was used for drug scoring. Propiverine blocked in a concentration-dependent manner HERG <span class=\"bio\">channels</span> expressed in HEK293 cells, as well as native I(Kr) current in ventricular myocytes of guinea pig (<span class=\"chem\">IC50</span> values: 10 microM and 1.8 microM respectively). At high concentrations (100 microM), propiverine suppressed I(Ks). I(K1) and the transient outward current I(to) and I(Kur) were not affected. In guinea-pig ventricular and human atrial myocytes, propiverine also blocked I(Ca,L) (<span class=\"chem\">IC50</span> values: 34.7 microM and 41.7 microM, respectively) and reduced force of contraction. Despite <span class=\"other_terms\">block</span> of I(Kr), action potential duration was not prolonged in guinea-pig and human ventricular ...</td>\n",
       "      <td>                                                                                                                                        Naunyn-Schmiedeberg's archives of pharmacology</td>\n",
       "      <td> 0</td>\n",
       "      <td>-34.83</td>\n",
       "      <td>      S</td>\n",
       "      <td>                                                                                                       </td>\n",
       "      <td>                                                                                                              </td>\n",
       "      <td> <a target=\"_blank\" href=\"http://link.springer.com/article/10.1007/s00210-007-0231-1\">campus_link_0</a>, <a target=\"_blank\" href=\"http://link.springer.com/article/10.1007/s00210-007-0231-1\">campus_link_1</a></td>\n",
       "      <td>                                                                                                                                                                                                                                                                                                                                                                                                                                                                                                                                                                                                                                                                                                 </td>\n",
       "      <td> </td>\n",
       "    </tr>\n",
       "    <tr>\n",
       "      <th>50</th>\n",
       "      <td> 23396228</td>\n",
       "      <td> <a target=\"_blank\" href=\"http://www.ncbi.nlm.nih.gov/pubmed/?term=23396228\">23396228</a></td>\n",
       "      <td> 2013</td>\n",
       "      <td>                                                                                                                                                                                                                      Electrophysiological and mechanical effects of caffeic acid phenethyl ester, a novel <span class=\"tissue\">cardioprotective</span> agent with antiarrhythmic activity, in guinea-pig <span class=\"tissue\">heart</span>.</td>\n",
       "      <td> Caffeic acid phenethyl ester (CAPE) is an active component of propolis that exhibits <span class=\"tissue\">cardioprotective</span> and antiarrhythmic effects. The detailed mechanisms underlying these effects, however, are not entirely understood. The aim of this study was to elucidate the electromechanical effects of CAPE in guinea-pig <span class=\"tissue\">cardiac</span> preparations. Intracardiac electrograms, left ventricular (LV) pressure, and the anti-arrhythmic efficacy were determined using isolated hearts. Action potentials of papillary muscles were assessed with microelectrodes, Ca(2+) transients were measured by fluorescence, and ion fluxes were measured by patch-clamp techniques. In a perfused <span class=\"tissue\">heart</span> model, CAPE prolonged the atrio-ventricular conduction interval, the Wenckebach cycle length, and the refractory periods of the AV node and His-Purkinje system, while shortening the QT interval. CAPE reduced the occurrence of reperfusion-induced ventricular fibrillation and decreased LV pressure in isolated hearts. In papillary muscles, CAPE shortened the action potential duration and reduced both the maximum upstroke velocity and contractile force. In fura-2-loaded single ventricular myocytes, CAPE decreased cell shortening and the Ca(2+) transient amplitude. Patch-clamp experiments revealed that CAPE produced a use-dependent decrease in <span class=\"bio\">L-type</span> Ca(2+) current (<span class=\"bio\">ICa,L</span>) (<span class=\"chem\">IC50</span>=1.1 μM) and <span class=\"sodium\">Na</span>(+) current (INa) (<span class=\"chem\">IC50</span>=0.43 μM), caused a negative-shift of the voltage-dependent inactivation and a delay of recovery from inactivation. CAPE decreased the delayed outward K(+) current (IK) slightly, without affecting the inward rectifier K(+) current (IK1). These results suggest that the preferential inhibition of Ca(2+) inward and <span class=\"sodium\">Na</span>(+) inward currents by CAPE may induce major electromech...</td>\n",
       "      <td>                                                                                                                                                      European journal of pharmacology</td>\n",
       "      <td> 0</td>\n",
       "      <td>-43.27</td>\n",
       "      <td>      S</td>\n",
       "      <td>                                                                                                       </td>\n",
       "      <td>                                                                                                              </td>\n",
       "      <td>                                                                                                 <a target=\"_blank\" href=\"http://www.sciencedirect.com/science/article/pii/S0014299913000605\">campus_link_0</a></td>\n",
       "      <td>                                                                                                                                                                                                                                                                                                                                                                                                                                                                                                                                                                                                                                                                                                 </td>\n",
       "      <td> </td>\n",
       "    </tr>\n",
       "    <tr>\n",
       "      <th>51</th>\n",
       "      <td>  9593072</td>\n",
       "      <td>   <a target=\"_blank\" href=\"http://www.ncbi.nlm.nih.gov/pubmed/?term=9593072\">9593072</a></td>\n",
       "      <td> 1998</td>\n",
       "      <td>                                                                                                                                                                                                                                                                                                                     Activation of <span class=\"bio\">L-type calcium channel</span> by tolazoline derivatives: role of isothiocyanate moiety.</td>\n",
       "      <td> Studies have investigated the pharmacologic mechanism of 2-(4'-isothiocyanatobenzyl) imidazoline (IBI) and analogs for interaction with imidazoline receptors (IRs), alpha-adrenergic receptors (alpha-ARs), and <span class=\"bio\">calcium</span> <span class=\"bio\">channels</span> in <span class=\"tissue\">cardiovascular </span>muscle systems. IBI differs from tolazoline by substitution of an electrophilic isothiocyanato (NCS) group. Unlike tolazoline, which is a partial alpha-AR agonist, IBI produced an irreversible, slow-onset, and sustained contraction of rat aorta with an median effective concentration (<span class=\"chem\">EC50</span>) value of 5 microM, and a maximal contraction (116%) greater than that of phenylephrine (100%) and tolazoline (59%). The IBI-induced contractions were dependent on <span class=\"bio\">calcium</span> <span class=\"bio\">channels</span> and independent of alpha-ARs or IRs. Similarly, structure-activity relation studies in rat aortic smooth muscles on a series of synthesized IBI analogs indicated that NCS analogs, but not those without the NCS group, exhibited effects by a non-alpha-AR, non-IR, but a <span class=\"bio\">calcium channel</span>-dependent mechanism. Thus the presence of an intact IBI ring in these analogs is not a requirement for these activities. Further, IBI inhibited dihydropyridine (DHP, [3H]PN 200-110 and [3H]Bay K 8644) <span class=\"chem\">binding</span> to <span class=\"bio\">L-type calcium channels</span> of T-tubule membranes in rabbit skeletal muscle. In contrast to nifedipine, IBI and NCS derivatives (nifedipine-NCS, naphazoline-NCS) only partially (50-88%) displaced specific <span class=\"chem\">binding</span> of these radioligands. A single site of noncooperative interaction was observed for nifedipine (nH = 0.97), whereas tolazoline-NCS (IBI, nH = 1.46) and nifedipine-NCS (nH = 1.37) exhibited a positive cooperativity in <span class=\"chem\">binding</span> to DHP sites. These receptor-<span class=\"chem\">binding</span> data i...</td>\n",
       "      <td>                                                                                                                                                Journal of cardiovascular pharmacology</td>\n",
       "      <td> 0</td>\n",
       "      <td>  0.66</td>\n",
       "      <td>      S</td>\n",
       "      <td>                                                                                                       </td>\n",
       "      <td>                                                                                                              </td>\n",
       "      <td>                                                                                                                                                                                                               </td>\n",
       "      <td>                                                                                              <a target=\"_blank\" href=\"http://wtgcsfx.hosted.exlibrisgroup.com/wtsc/cgi/public/docdel.cgi?source=Entrez%3APubMed+(Via+SFX)&meduid=9593072&month=5&author=Lei%2C+L&issue=5&ISBN=&article=Activation+of+L-type+calcium+channel+by+tolazoline+derivatives%3A+role+of+isothiocyanate+moiety.&publisher=Raven+Press&journal=Journal+of+cardiovascular+pharmacology&doi=10.1097%2F00005344-199805000-00011&ISSN=0160-2446&abbrev=J+CARDIOVASC+PHARMACOL&recipient=libadmin%40sanger.ac.uk&volume=31&genre=article&publiPlace=New+York%2C+N.Y.&sender=&pages=721-33&year=1998\">request_access_link_0</a></td>\n",
       "      <td> </td>\n",
       "    </tr>\n",
       "    <tr>\n",
       "      <th>52</th>\n",
       "      <td>  7897598</td>\n",
       "      <td>   <a target=\"_blank\" href=\"http://www.ncbi.nlm.nih.gov/pubmed/?term=7897598\">7897598</a></td>\n",
       "      <td> 1994</td>\n",
       "      <td>                                                                                                                                                                                                                                                                                                                    In-vitro smooth muscle relaxant activity of a series of vecuronium <span class=\"chem\">analogues</span> in the rat aorta.</td>\n",
       "      <td>                                                                                                                                                                                                                                                                                                                                                                                                                                                                                                  The ability of a series of 17-ester <span class=\"chem\">analogues</span> of vecuronium to elicit a direct relaxant effect on vascular smooth muscle has been studied using rat isolated aortic rings contracted with 40 mM KCl. The <span class=\"chem\">IC50</span> for inhibition of KCl-induced contractions increased with increasing size of the 17-ester substituent, such that vecuronium (17 beta-acetate) was the least potent with an <span class=\"chem\">IC50</span> of around 50 microM and Org-9827 (17 alpha-pivalate) was the most potent with an <span class=\"chem\">IC50</span> of around 5 microM. In addition, for the weaker-acting <span class=\"chem\">compounds</span>, the 17 alpha-esters were more potent than their corresponding 17 beta-esters, although this difference was lost as the size of the 17-ester substituent increased. From the results obtained here, it is concluded that the hypotensive activity of some of the newer neuromuscular blocking steroids seen in cats, pigs and dogs in-vivo is probably, at least in part, a consequence of a direct relaxant effect of the <span class=\"chem\">compound</span> on vascular smooth muscle through inhibition of voltage-activated, <span class=\"bio\">L-type</span>, <span class=\"bio\">calcium</span> <span class=\"bio\">channels</span>. This may have both advantageous and disadvantageous clinical consequences when using large doses of one of the newer vecuronium <span class=\"chem\">analogues</span> with a low relative neuromuscular-blocking <span class=\"chem\">potency</span>.</td>\n",
       "      <td>                                                                                                                                              The Journal of pharmacy and pharmacology</td>\n",
       "      <td> 0</td>\n",
       "      <td>  0.34</td>\n",
       "      <td>      S</td>\n",
       "      <td>                                                                                                       </td>\n",
       "      <td>                                                                                                              </td>\n",
       "      <td>                                                                                                                                                                                                               </td>\n",
       "      <td>                                                                           <a target=\"_blank\" href=\"http://wtgcsfx.hosted.exlibrisgroup.com/wtsc/cgi/public/docdel.cgi?source=Entrez%3APubMed+(Via+SFX)&meduid=7897598&month=11&author=Fiddes%2C+S&issue=11&ISBN=&article=In-vitro+smooth+muscle+relaxant+activity+of+a+series+of+vecuronium+analogues+in+the+rat+aorta.&publisher=Pharmaceutical+Society+of+Great+Britain.&doi=10.1111%2Fj.2042-7158.1994.tb05713.x&journal=Journal+of+Pharmacy+and+Pharmacology&ISSN=0022-3573&abbrev=J+PHARM+PHARMACOL&volume=46&recipient=libadmin%40sanger.ac.uk&genre=article&publiPlace=London%2C&sender=&pages=911-6&year=1994\">request_access_link_0</a></td>\n",
       "      <td> </td>\n",
       "    </tr>\n",
       "    <tr>\n",
       "      <th>53</th>\n",
       "      <td> 19634509</td>\n",
       "      <td> <a target=\"_blank\" href=\"http://www.ncbi.nlm.nih.gov/pubmed/?term=19634509\">19634509</a></td>\n",
       "      <td> 2009</td>\n",
       "      <td>                                                                                                                                                                                                                                                                             Evaluation of the inhibitory effect of dihydropyridines on N-type <span class=\"bio\">calcium channel</span> by virtual three-dimensional pharmacophore modeling.</td>\n",
       "      <td> Currently, a new type of <span class=\"bio\">calcium channel</span> blockers, which can inhibit not only <span class=\"bio\">L-type calcium channels</span> abundantly expressed in vascular smooth muscles, but also N-type <span class=\"bio\">calcium</span> <span class=\"bio\">channels</span> that abound in the sympathetic nerve endings, have been developed. In this study, analysis on a like-for-like basis of the L- and N-type <span class=\"bio\">calcium channel</span>-<span class=\"chem\">inhibitory activity</span> of typical dihydropyridine-type <span class=\"bio\">calcium</span>-<span class=\"bio\">channel</span> blockers (DHPs) was performed. Moreover, to understand the differences of N-type <span class=\"bio\">calcium channel</span> inhibition among DHPs, the <span class=\"chem\">binding</span> of DHPs to the <span class=\"bio\">channel</span> was investigated by means of hypothetical three-dimensional pharmacophore modeling using multiple calculated low-energy conformers of the DHPs. All of the tested <span class=\"chem\">compounds</span>, i.e. cilnidipine (CAS 132203-70-4), efonidipine (CAS 111011-76-8), amlodipine (CAS 111470-99-6), benidipine (CAS 85387-35-5), azelnidipine (CAS 123524-52-7) and nifedipine (CAS 21829-25-4), potently inhibited the <span class=\"bio\">L-type calcium channel</span>, whereas only cilnidipine inhibited the N-type <span class=\"bio\">calcium channel</span> (<span class=\"chem\">IC50</span> value: 51.2 nM). A virtual three-dimensional structure of the N-type <span class=\"bio\">calcium channel</span> was generated by using the structure of the peptide omega-conotoxin GVIA, a standard <span class=\"other_terms\">inhibitor</span> of the <span class=\"bio\">channel</span>, and cilnidipine was found to fit well into this pharmacophore model. Lipophilic potential maps of omega-conotoxin GVIA and cilnidipine supported this finding. Conformational overlay of cilnidipine and the other DHPs indicated that amlodipine and nifedipine were not compatible with the pharmacophore ...</td>\n",
       "      <td>                                                                                                                                                                Arzneimittel-Forschung</td>\n",
       "      <td> 0</td>\n",
       "      <td>  0.08</td>\n",
       "      <td>      S</td>\n",
       "      <td>                                                                                                       </td>\n",
       "      <td>                                                                                                              </td>\n",
       "      <td>                                                                                                                                                                                                               </td>\n",
       "      <td>                                                                              <a target=\"_blank\" href=\"http://wtgcsfx.hosted.exlibrisgroup.com/wtsc/cgi/public/docdel.cgi?source=Entrez%3APubMed+(Via+SFX)&meduid=19634509&author=Ogihara%2C+T&issue=6&ISBN=&article=Evaluation+of+the+inhibitory+effect+of+dihydropyridines+on+N-type+calcium+channel+by+virtual+three-dimensional+pharmacophore+modeling.&publisher=Editio+Cantor&journal=Arzneimittel-Forschung&doi=10.1055%2Fs-0031-1296398&ISSN=0004-4172&abbrev=ARZNEIMITTELFORSCHUNG&recipient=libadmin%40sanger.ac.uk&volume=59&genre=article&publiPlace=Aulendorf+%5BGermany%5D&sender=&pages=283-8&year=2009\">request_access_link_0</a></td>\n",
       "      <td> </td>\n",
       "    </tr>\n",
       "    <tr>\n",
       "      <th>54</th>\n",
       "      <td>  1709243</td>\n",
       "      <td>   <a target=\"_blank\" href=\"http://www.ncbi.nlm.nih.gov/pubmed/?term=1709243\">1709243</a></td>\n",
       "      <td> 1991</td>\n",
       "      <td>                                                                                                                                                                                                                                                                                  Inhibition of <span class=\"bio\">L-type</span> but not T-type <span class=\"bio\">calcium channel</span> current by a new dihydropyridine derivative, S11568.</td>\n",
       "      <td>                                                                                                                                                                                                                                                                                                                                                                                                                                                                                                                                                                                                                                                                                                                                                                                                                                                                                                                                                                                                                                                                                                                                                                                                                S11568, (+-)[((amino-2-ethoxy)-2-ethoxy]-methyl)-2-(dichloro-2', 3'-phenyl)-4-ethoxycarbonyl-3-methoxycarbonyl-5-methyl-6-dihydro-1,4-pyr idine HCl, is a new dihydropyridine derivative that is water soluble and relatively insensitive to light. The <span class=\"bio\">Ca2+ channel</span> <span class=\"chem\">inhibitory activity</span> of S11568 was tested in whole-cell patch clamp recordings from cultured embryonic chick <span class=\"tissue\">cardiomyocytes </span>in 40 mM Ba2(+)-containing medium that revealed T-type and <span class=\"bio\">L-type</span> components of inward current through <span class=\"bio\">calcium</span> <span class=\"bio\">channels</span>. S11568 inhibited <span class=\"bio\">L-type Ca2+ current</span> with an <span class=\"chem\">IC50</span> value near 1 microM but was without effect on the T-type barium current.</td>\n",
       "      <td>                                                                                                                                                Journal of cardiovascular pharmacology</td>\n",
       "      <td> 0</td>\n",
       "      <td> -0.03</td>\n",
       "      <td>       </td>\n",
       "      <td>                                                                                                       </td>\n",
       "      <td>                                                                                                              </td>\n",
       "      <td>                                                                                                                                                                                                               </td>\n",
       "      <td>                                                                               <a target=\"_blank\" href=\"http://wtgcsfx.hosted.exlibrisgroup.com/wtsc/cgi/public/docdel.cgi?source=Entrez%3APubMed+(Via+SFX)&meduid=1709243&month=2&author=Randle%2C+J+C&issue=2&ISBN=&article=Inhibition+of+L-type+but+not+T-type+calcium+channel+current+by+a+new+dihydropyridine+derivative%2C+S11568.&publisher=Raven+Press&journal=Journal+of+cardiovascular+pharmacology&doi=10.1097%2F00005344-199102000-00024&ISSN=0160-2446&abbrev=J+CARDIOVASC+PHARMACOL&recipient=libadmin%40sanger.ac.uk&volume=17&genre=article&publiPlace=New+York%2C+N.Y.&sender=&pages=348-50&year=1991\">request_access_link_0</a></td>\n",
       "      <td> </td>\n",
       "    </tr>\n",
       "    <tr>\n",
       "      <th>55</th>\n",
       "      <td>  8341720</td>\n",
       "      <td>   <a target=\"_blank\" href=\"http://www.ncbi.nlm.nih.gov/pubmed/?term=8341720\">8341720</a></td>\n",
       "      <td> 1993</td>\n",
       "      <td>                                                                                                                                                                                                        Isolation, identification and synthesis of an endogenous arachidonic amide that inhibits <span class=\"bio\">calcium channel</span> <span class=\"other_terms\">antagonist</span> 1,4-dihydropyridine <span class=\"chem\">binding</span>.</td>\n",
       "      <td>                                                                                                                                                                                                                                                                                                                                                    This study was part of a broad search for endogenous regulators of <span class=\"bio\">L-type calcium channels</span>. The screening for active fractions was done by measuring inhibition [3H]1,4-dihydropyridine (DHP) <span class=\"chem\">binding</span> to rat <span class=\"tissue\">cardiac</span> and cortex membranes. An inhibitory fraction, termed lyophilized brain hexane-extractable <span class=\"other_terms\">inhibitor</span> (LBHI), was isolated from hexane extracts of lyophilized calf brain. The active substance was purified by a series of chromatographic steps. 13C nuclear magnetic resonance (NMR), 1H coherence spectroscopy (COSY) NMR and fast atom bombardment (FAB) mass spectroscopy suggested that LBHI was N-arachidonic acid-2-hydroxyethylamide. Synthesis of this substance and subsequent high performance liquid chromatography (HPLC) and NMR analysis confirmed this structure. Synthetic LBHI (SLBHI) inhibited [3H]DHP <span class=\"chem\">binding</span> to rat cortex membranes with an <span class=\"chem\">IC50</span> value of congruent to 15 microM and a Hill coefficient of congruent to 2. Saturation analysis in the presence of SLBHI showed a change in KD (equilibrium dissociation constant), but not maximal <span class=\"chem\">binding</span> capacity (Bmax). SLBHI produced an increased dissociation rate, which, along with the Hill slope of > 1, suggested a non-competitive interaction with the DHP <span class=\"chem\">binding</span> site. The results suggest that arachidonic acid derivatives may be endogenous modifiers of the DHP <span class=\"bio\">calcium</span> <span class=\"other_terms\">antagonist</span> <span class=\"chem\">binding</span> site.</td>\n",
       "      <td>                                                                                                                               Prostaglandins, leukotrienes, and essential fatty acids</td>\n",
       "      <td> 0</td>\n",
       "      <td> -6.24</td>\n",
       "      <td>      S</td>\n",
       "      <td>                                                                                                       </td>\n",
       "      <td>                                                                                                              </td>\n",
       "      <td>                                                                                                                                                                                                               </td>\n",
       "      <td> <a target=\"_blank\" href=\"http://wtgcsfx.hosted.exlibrisgroup.com/wtsc/cgi/public/docdel.cgi?source=Entrez%3APubMed+(Via+SFX)&meduid=8341720&month=6&author=Johnson%2C+D+E&issue=6&ISBN=&article=Isolation%2C+identification+and+synthesis+of+an+endogenous+arachidonic+amide+that+inhibits+calcium+channel+antagonist+1%2C4-dihydropyridine+binding.&publisher=Churchill+Livingstone&journal=Prostaglandins%2C+leukotrienes+and+essential+fatty+acids&doi=10.1016%2F0952-3278(93)90048-2&ISSN=0952-3278&abbrev=PROSTAGLANDINS+LEUKOT+ESSENT+FATTY+ACIDS&recipient=libadmin%40sanger.ac.uk&volume=48&genre=article&publiPlace=Edinburgh&sender=&pages=429-37&year=1993\">request_access_link_0</a></td>\n",
       "      <td> </td>\n",
       "    </tr>\n",
       "    <tr>\n",
       "      <th>56</th>\n",
       "      <td> 17519531</td>\n",
       "      <td> <a target=\"_blank\" href=\"http://www.ncbi.nlm.nih.gov/pubmed/?term=17519531\">17519531</a></td>\n",
       "      <td> 2007</td>\n",
       "      <td>                                                                                                                                                                                                                                                                                                                             Effects of thiopental on Ca2+ currents and intracellular Ca2+ transient in single atrial cells from guinea pig.</td>\n",
       "      <td>                                                                                                                                                                                                                                                                                                                                                                                                                                                                                                                                                                                                                                                                                                                                                                                                                                                                                                                                                                                                               The effects of thiopental on Ca2+ currents and intracellular Ca2+ transient in single atrial cells from guinea pigs were studied by means of a whole-cell voltage-clamp method and Ca2+-sensitive fluorescent dye. Thiopental inhibited <span class=\"bio\">L-type</span> voltage-dependent Ca2+ currents in a concentration-dependent manner (<span class=\"chem\">IC50</span>=2.8.10(-5) mol/l). Moreover, the mode of Ca2+ current inhibition by thiopental showed no use dependency. Electrical stimulation-induced intracellular Ca2+ transient was significantly suppressed by 10(-5) mol/l thiopental. However, the caffeine-sensitive Ca2+ releasing pathway from sarcoplasmic reticulum was not affected by thiopental. Our results indicate that thiopental inhibits <span class=\"bio\">L-type Ca2+ currents</span>, but not release of Ca2+ from sarcoplasmic reticulum. These results suggest that the negative inotropic action of thiopental is mainly due to inhibition of <span class=\"bio\">L-type Ca2+ channels</span> in guinea pig atrial myocytes.</td>\n",
       "      <td>                                                                                                                                                                          Pharmacology</td>\n",
       "      <td> 0</td>\n",
       "      <td> -8.12</td>\n",
       "      <td>      S</td>\n",
       "      <td>                                                                                                       </td>\n",
       "      <td>                                                                                                              </td>\n",
       "      <td>                                                                                                                                                                                                               </td>\n",
       "      <td>                                                                                                                                        <a target=\"_blank\" href=\"http://wtgcsfx.hosted.exlibrisgroup.com/wtsc/cgi/public/docdel.cgi?source=Entrez%3APubMed+(Via+SFX)&meduid=17519531&author=Kimura%2C+M&issue=1&ISBN=&article=Effects+of+thiopental+on+Ca2%2B+currents+and+intracellular+Ca2%2B+transient+in+single+atrial+cells+from+guinea+pig.&publisher=S.+Karger&journal=Pharmacology&doi=10.1159%2F000102983&ISSN=0031-7012&abbrev=PHARMACOLOGY+BASEL&recipient=libadmin%40sanger.ac.uk&volume=80&genre=article&publiPlace=Basel%2C&sender=&pages=33-9&year=2007\">request_access_link_0</a></td>\n",
       "      <td> </td>\n",
       "    </tr>\n",
       "    <tr>\n",
       "      <th>57</th>\n",
       "      <td> 15881613</td>\n",
       "      <td> <a target=\"_blank\" href=\"http://www.ncbi.nlm.nih.gov/pubmed/?term=15881613\">15881613</a></td>\n",
       "      <td> 2005</td>\n",
       "      <td>                                                                                                                                                                                                                                                                                                                                                                  Biological activity of selected tyrosine-containing 2,5-diketopiperazines.</td>\n",
       "      <td>                                                                 The study investigates two cyclic dipeptides, cyclo(Tyr-Tyr) (cTT) and cyclo(Phe-Tyr) (cPT) with respect to their biological activity. Investigations using the whole-cell patch-clamp technique testing the effects of 100 microM cyclic dipeptide on ion <span class=\"bio\">channels</span>, revealed reversible voltage-dependant blockade for cTT, while cPT exhibited irreversible time-dependant blockade of <span class=\"bio\">L-type calcium channels</span>. The isolated retrogradely-perfused rat <span class=\"tissue\">heart</span> was used to determine the effects of 100 microM of either cTT or cPT on <span class=\"tissue\">heart</span> rate (HR), coronary flow rate (CFR), left ventricular systolic pressure (LVSP) and <span class=\"tissue\">cardiac</span> conduction speed. Results indicated opposing effects for the two <span class=\"chem\">compounds</span>, where cTT increased HR and CF while cPT decreased HR, CF, LVSP as well as conduction speed. Other biological investigations included opioid <span class=\"chem\">binding</span> and anti-neoplastic assays. Competitive <span class=\"chem\">binding</span> curves, using tritiated DAMGO, revealed significant <span class=\"chem\">binding</span> to micro-opioid receptors with <span class=\"chem\">IC50</span> values for cTT and cPT being 0.82 microM and 69.7 microM respectively. Anti-neoplastic activity was tested using three cultured cell lines: HT-29, MCF-7 and HeLa which were exposed to 2.5 mM cyclic dipeptide or 0.1 mM melphalan as a positive control. While cTT showed little activity against these lines, cPT resulted in as much as a 75.6% growth inhibition of MCF-7 cells, while also being active against HeLa (73.4% inhibition) and HT-29 (60.6%). The results indicate potential biological activity, showing a need for more investigation into tyrosine containing cyclic dipeptides and their <span class=\"chem\">analogues</span> as potential bioactive <span class=\"chem\">compounds</span>.</td>\n",
       "      <td>                                                                                                                                                                         Die Pharmazie</td>\n",
       "      <td> 0</td>\n",
       "      <td> -8.68</td>\n",
       "      <td>       </td>\n",
       "      <td>                                                                                                       </td>\n",
       "      <td>                                                                                                              </td>\n",
       "      <td>                                                                                                                                                                                                               </td>\n",
       "      <td>                                                                                                                                        <a target=\"_blank\" href=\"http://wtgcsfx.hosted.exlibrisgroup.com/wtsc/cgi/public/docdel.cgi?source=Entrez%3APubMed+(Via+SFX)&meduid=15881613&month=4&author=Kilian%2C+G&issue=4&ISBN=&article=Biological+activity+of+selected+tyrosine-containing+2%2C5-diketopiperazines.&publisher=Govi-Verlag+Pharmazeutischer+Verlag+%5Betc.%5D&journal=Die+Pharmazie&ISSN=0031-7144&abbrev=PHARMAZIE&recipient=libadmin%40sanger.ac.uk&volume=60&genre=article&publiPlace=Eschborn+%5BGermany%2C+etc.%5D%2C&sender=&pages=305-9&year=2005\">request_access_link_0</a></td>\n",
       "      <td> </td>\n",
       "    </tr>\n",
       "    <tr>\n",
       "      <th>58</th>\n",
       "      <td> 11953130</td>\n",
       "      <td> <a target=\"_blank\" href=\"http://www.ncbi.nlm.nih.gov/pubmed/?term=11953130\">11953130</a></td>\n",
       "      <td> 2002</td>\n",
       "      <td>                                                                                                                                                                                                                                                                                                             [Inhibitory action of CPU86035 on <span class=\"bio\">L-type calcium current</span> in single ventricular myocyte of guinea pig].</td>\n",
       "      <td>                                                                                                                                                                                                                                                                                                                                                                                                                                                                                                                                               OBJECTIVE: To investigate the effects of CPU86035, a recently synthesized tetrahydroberberine derivative, on the <span class=\"bio\">L-type calcium currents</span> (I(Ca.L)) in single guinea pig ventricular myocytes. METHODS: The effect of CPU86035 of different concentrations (50 approximately 250 micromomol/L) on I(Ca.L) in enzymatically dispersed single guinea pig ventricular myocytes was investigated by using whole-cell patch-clamp technique. RESULTS: (1) CPU86035 concentration-dependently inhibited I(Ca.L), with the <span class=\"chem\">IC50</span> at 75 micromol/L. (2) The inhibition of CPU86035 on I(Ca.L) was dependent on the holding potential (HP). 75 micromol/L CPU86035 inhibited I(Ca.L) by 49% +/- 2% at HP = -40 mV, and 64% +/- 4% at HP = -80 mV. (3) The homeostatic activation curve of ICa.L shifted to the right toward more positive potentials in the presence of CPU86035, with a V(1/2) of 15.4 mV +/- 0.8 mV compared with that of 15.4 +/- 0.8 mV in the control. (4) The homeostatic inactivation curve of I(Ca.L) shifted to the right toward more positive potentials in the presence of CPU86035, with a V(1/2) of -12.6 mV +/- 2.7 mV compared with that of -19.1 mV +/- 2.5 mV in the control. (5) The recovery from inactivation became slower in the presence of CPU86035. CONCLUSION: CPU86035 strongly inhibits the <span class=\"bio\">calcium channel</span>, probably by <span class=\"chem\">binding</span> to the <span class=\"bio\">channel</span> in resting stage.</td>\n",
       "      <td>                                                                                                                                                                Zhonghua yi xue za zhi</td>\n",
       "      <td> 0</td>\n",
       "      <td>-10.77</td>\n",
       "      <td>       </td>\n",
       "      <td>                                                                                                       </td>\n",
       "      <td>                                                                                                              </td>\n",
       "      <td>                                                                                                                                                                                                               </td>\n",
       "      <td>                                                                          <a target=\"_blank\" href=\"http://wtgcsfx.hosted.exlibrisgroup.com/wtsc/cgi/public/docdel.cgi?source=Entrez%3APubMed+(Via+SFX)&meduid=11953130&month=1&author=Li%2C+C&issue=1&ISBN=&article=%5BInhibitory+action+of+CPU86035+on+L-type+calcium+current+in+single+ventricular+myocyte+of+guinea+pig%5D.&publisher=%E4%B8%AD%E5%8D%8E%E5%8C%BB%E5%AD%A6%E4%BC%9A&journal=%E4%B8%AD%E5%8D%8E%E5%8C%BB%E5%AD%A6%E6%9D%82%E5%BF%97&ISSN=0376-2491&abbrev=ZHONGHUA+YIXUE+ZAZHI&recipient=libadmin%40sanger.ac.uk&volume=82&genre=article&publiPlace=%E5%8C%97%E4%BA%AC&sender=&pages=57-60&year=2002\">request_access_link_0</a></td>\n",
       "      <td> </td>\n",
       "    </tr>\n",
       "    <tr>\n",
       "      <th>59</th>\n",
       "      <td> 12624815</td>\n",
       "      <td> <a target=\"_blank\" href=\"http://www.ncbi.nlm.nih.gov/pubmed/?term=12624815\">12624815</a></td>\n",
       "      <td> 2003</td>\n",
       "      <td>                                                                                                                                                                                                                                                                   The mechanism of inhibitory actions of S-petasin, a sesquiterpene of Petasites formosanus, on <span class=\"bio\">L-type calcium current</span> in NG108-15 neuronal cells.</td>\n",
       "      <td>                                                                                                                                                                                                                                                                                                                                                                                                                                                                                  The effects of S-petasin, a sesquiterpene isolated from Petasites formosanus Kitamura, on ion currents in a mouse neuroblastoma and a rat glioma hybrid cell line, NG108-15, were examined with the aid of the whole-cell voltage-clamp technique. S-Petasin (1 - 300 microM) caused a decrease in the amplitude of <span class=\"bio\">L-type Ca2+ current</span> (I(Ca,L)) in a concentration-dependent manner, however, it did not change the overall shape of the current-voltage relationship of I(Ca,L). The <span class=\"chem\">IC50</span> value for S-petasin-induced inhibition of I(Ca,L) was 11 microM. S-Petasin (10 microM) shifted the steady-state inactivation of I(Ca,L) to a more negative membrane potential by approximately -10 mV. S-petasin could prolong the recovery of I(Ca,L) inactivation. The inhibitory effect of S-petasin on I(Ca,L) was found to exhibit tonic and use-dependent characteristics. S-Petasin could inhibit I(Ca,L) evoked by action potential waveforms effectively. S-Petasin also suppressed low voltage-activated I(Ca,L) in NG108-15 cells. S-Petasin at a concentration of 100 microM had little effect on voltage-dependent <span class=\"sodium\">Na</span>+ current; however, it did produce an inhibitory effect on delayed rectifier K+ current in a time-dependent manner. These results demonstrate that S-petasin can interact directly with <span class=\"bio\">L-type Ca2+ channels</span> in NG108-15 cells. These effects could contribute to the regulation of neuronal activity if similar results were found in neurons in vivo.</td>\n",
       "      <td>                                                                                                                                                                         Planta medica</td>\n",
       "      <td> 0</td>\n",
       "      <td>-11.95</td>\n",
       "      <td>      S</td>\n",
       "      <td>                                                                                                       </td>\n",
       "      <td>                                                                                                              </td>\n",
       "      <td>                                                                                                                                                                                                               </td>\n",
       "      <td>                                                                                    <a target=\"_blank\" href=\"http://wtgcsfx.hosted.exlibrisgroup.com/wtsc/cgi/public/docdel.cgi?source=Entrez%3APubMed+(Via+SFX)&meduid=12624815&month=2&author=Wu%2C+S+N&issue=2&ISBN=&article=The+mechanism+of+inhibitory+actions+of+S-petasin%2C+a+sesquiterpene+of+Petasites+formosanus%2C+on+L-type+calcium+current+in+NG108-15+neuronal+cells.&publisher=Georg+Thieme+Verlag.&doi=10.1055%2Fs-2003-37711&journal=Planta+medica&ISSN=0032-0943&abbrev=PLANTA+MED&volume=69&recipient=libadmin%40sanger.ac.uk&genre=article&publiPlace=Stuttgart%2C&sender=&pages=118-24&year=2003\">request_access_link_0</a></td>\n",
       "      <td> </td>\n",
       "    </tr>\n",
       "    <tr>\n",
       "      <th>60</th>\n",
       "      <td>  9360010</td>\n",
       "      <td>   <a target=\"_blank\" href=\"http://www.ncbi.nlm.nih.gov/pubmed/?term=9360010\">9360010</a></td>\n",
       "      <td> 1997</td>\n",
       "      <td>                                                                                                                                                                                                                                                                                                      Pinaverium acts as <span class=\"bio\">L-type calcium channel</span> <span class=\"other_terms\">blocker</span> on smooth muscle of colon.</td>\n",
       "      <td>                                                                                                                                                                                                                                                                                                                                                                        The effect of pinaverium was electrophysiologically characterized and compared with the established <span class=\"bio\">L-type calcium channel</span> blockers diltiazem, D600, and nitrendipine on canine colonic circular smooth muscle. Effects were studied on the electrical activity of the smooth muscle cells, in particular the spontaneously occurring slow wave. In addition, effects were examined on spontaneous contraction patterns and contractile activities generated by stimulation of cholinergic nerves or directly by stimulating muscarinic receptors. Effects were also examined on excitation of NO-releasing intrinsic nerves. Pinaverium bromide affected the slow wave by selectively inhibiting the plateau potential that is associated with generation of contractile activity. Pinaverium, similar to diltiazem and D600, produced reductions in cholinergic responses as well as spontaneous contractions. The <span class=\"chem\">IC50</span> values for inhibition of cholinergic responses for pinaverium, diltiazem, and D600 were 1.0 x 10(-6), 4.1 x 10(-7), and 5.3 x 10(-7) M, respectively. The <span class=\"chem\">IC50</span> values for inhibition of spontaneous contractile activity for pinaverium, diltiazem, and D600 were 3.8 x 10(-6), 9.7 x 10(-7), and 8.0 x 10(-7) M, respectively. Increases in contractility by carbachol were abolished by pretreatment with either pinaverium or D600. In addition, neither pinaverium nor D600 had any effects on the inhibitory NO-mediated relaxations. These data provide a rationale for the use of pinaverium in the treatment of colonic motor disorders where excessive contraction has to be suppressed.</td>\n",
       "      <td>                                                                                                                                       Canadian journal of physiology and pharmacology</td>\n",
       "      <td> 0</td>\n",
       "      <td>-13.73</td>\n",
       "      <td>      S</td>\n",
       "      <td>                                                                                                       </td>\n",
       "      <td>                                                                                                              </td>\n",
       "      <td>                                                                                                                                                                                                               </td>\n",
       "      <td>                                                                                                                    <a target=\"_blank\" href=\"http://wtgcsfx.hosted.exlibrisgroup.com/wtsc/cgi/public/docdel.cgi?source=Entrez%3APubMed+(Via+SFX)&meduid=9360010&month=8&author=Malysz%2C+J&issue=8&ISBN=&article=Pinaverium+acts+as+L-type+calcium+channel+blocker+on+smooth+muscle+of+colon.&publisher=National+Research+Council+Canada&journal=Canadian+journal+of+physiology+and+pharmacology&doi=10.1139%2Fy97-117&ISSN=0008-4212&abbrev=CAN+J+PHYSL&recipient=libadmin%40sanger.ac.uk&volume=75&genre=article&publiPlace=Ottawa%2C&sender=&pages=969-75&year=1997\">request_access_link_0</a></td>\n",
       "      <td> </td>\n",
       "    </tr>\n",
       "    <tr>\n",
       "      <th>61</th>\n",
       "      <td>  7711935</td>\n",
       "      <td>   <a target=\"_blank\" href=\"http://www.ncbi.nlm.nih.gov/pubmed/?term=7711935\">7711935</a></td>\n",
       "      <td> 1995</td>\n",
       "      <td>                                                                                                                                                                                                                                                                                                                         Effect of SR33557 on intramembrane charge movement in normal and 'muscular dysgenesis' mouse skeletal muscle cells.</td>\n",
       "      <td>                                                                                                                                                                                                                                                                                                                                                                                                                                                                                       It has been reported that the indolizinsulphone SR33557, which binds to a site on the alpha 1 subunit of the dihydropyridine receptor, blocks both <span class=\"bio\">L-type calcium channel</span> activity and contraction in skeletal muscle. Moreover, we know that charge movement plays a key role in the mechanism of excitation-contraction coupling and in controlling the opening of <span class=\"bio\">L-type calcium channels</span>. We demonstrate here that SR33557 reduces intramembrane charge movement in skeletal muscle from normal mice with an <span class=\"chem\">IC50</span> of approximately 10 nM. The drug does not completely inhibit charge movement since approximately 20% of total charge movement persists even in the presence of 30 microM SR33557. However, the SR33557-sensitive charge component is more important than the dihydropyridine-sensitive one. Surprisingly, SR33557 also reduces intramembrane charge movement in dysgenic myotubes which are characterized by a very strong reduction of the number of dihydropyridine <span class=\"chem\">binding</span> sites. In these muscles, 10 microM SR33557 reduces approximately 40% of total charge movement. These observations suggest the presence of a new component of charge movement which is sensitive to SR33557 but insensitive to nifedipine. This component is also present in dysgenic myotubes, and it could be produced by the lower molecular weight alpha 1 subunit described by Malouf, N. N., McMahon, D. K., Hainsworth, C. N. and Kay, B. K. (1992) (Neuron, 8, 899-906).</td>\n",
       "      <td>                                                                                                                                                  The European journal of neuroscience</td>\n",
       "      <td> 0</td>\n",
       "      <td>-13.86</td>\n",
       "      <td>      S</td>\n",
       "      <td>                                                                                                       </td>\n",
       "      <td>                                                                                                              </td>\n",
       "      <td>                                                                                                                                                                                                               </td>\n",
       "      <td>               <a target=\"_blank\" href=\"http://wtgcsfx.hosted.exlibrisgroup.com/wtsc/cgi/public/docdel.cgi?source=Entrez%3APubMed+(Via+SFX)&meduid=7711935&month=1&author=Strube%2C+C&issue=1&ISBN=&article=Effect+of+SR33557+on+intramembrane+charge+movement+in+normal+and+'muscular+dysgenesis'+mouse+skeletal+muscle+cells.&publisher=Published+on+behalf+of+the+European+Neuroscience+Association+by+Oxford+University+Press&doi=10.1111%2Fj.1460-9568.1995.tb01018.x&journal=European+journal+of+neuroscience&ISSN=0953-816X&abbrev=EUR+J+NEUROSCI&volume=7&recipient=libadmin%40sanger.ac.uk&genre=article&publiPlace=Oxford%2C+UK&sender=&pages=41-4&year=1995\">request_access_link_0</a></td>\n",
       "      <td> </td>\n",
       "    </tr>\n",
       "    <tr>\n",
       "      <th>62</th>\n",
       "      <td> 11392461</td>\n",
       "      <td> <a target=\"_blank\" href=\"http://www.ncbi.nlm.nih.gov/pubmed/?term=11392461\">11392461</a></td>\n",
       "      <td> 2001</td>\n",
       "      <td>                                                                                                                                                                                                                                                         Inhibition of T-type and <span class=\"bio\">L-type calcium channels</span> by mibefradil: physiologic and pharmacologic bases of <span class=\"tissue\">cardiovascular </span>effects.</td>\n",
       "      <td>                                                                                                                                                                                                                                                                                                              <span class=\"bio\">Ca2+ channel</span> antagonists of the dihydropyridine, benzothiazepine, and phenylalkylamine classes have selective effects on <span class=\"bio\">L-type</span> versus T-type <span class=\"bio\">Ca2+ channels</span>. In contrast, mibefradil was reported to be more selective for T-type <span class=\"bio\">channels</span>. We used the whole-cell patch-clamp technique to investigate the effects of mibefradil on T-type and <span class=\"bio\">L-type Ca2+ currents</span> (I(CaT) and I(CaL)) recorded at physiologic extracellular Ca2+ in different <span class=\"tissue\">cardiac</span> cell types. At a stimulation rate of 0.1 Hz, mibefradil blocked I(CaT) evoked from negative holding potentials (HPs) (-100 mV to -80 mV) with an <span class=\"chem\">IC50</span> of 0.1 microM in rat atrial cells. This concentration had no effect on I(CaL) in rat ventricular cells (<span class=\"chem\">IC50</span>: approximately3 microM). However, <span class=\"other_terms\">block</span> of I(CaL) was enhanced when the HP was depolarized to -50 mV (<span class=\"chem\">IC50</span>: approximately 0.1 microM). Besides a resting <span class=\"other_terms\">block</span>, mibefradil displayed voltage- and use-dependent effects on both I(CaT) and I(CaL). In addition, inhibition was enhanced by increasing the duration of the step-depolarizations. Similar effects were observed in human atrial and rabbit sinoatrial cells. In conclusion, mibefradil combines the voltage- and use-dependent effects of dihydropyridines and benzothiazepines on I(CaL). Inhibition of I(CaL), which has probably been underestimated before, may contribute to most of the <span class=\"tissue\">cardiovascular </span>effects of mibefradil.</td>\n",
       "      <td>                                                                                                                                                Journal of cardiovascular pharmacology</td>\n",
       "      <td> 0</td>\n",
       "      <td>-15.11</td>\n",
       "      <td>      S</td>\n",
       "      <td>                                                                                                       </td>\n",
       "      <td>                                                                                                              </td>\n",
       "      <td>                                                                                                                                                                                                               </td>\n",
       "      <td>                                                      <a target=\"_blank\" href=\"http://wtgcsfx.hosted.exlibrisgroup.com/wtsc/cgi/public/docdel.cgi?source=Entrez%3APubMed+(Via+SFX)&meduid=11392461&month=6&author=Leuranguer%2C+V&issue=6&ISBN=&article=Inhibition+of+T-type+and+L-type+calcium+channels+by+mibefradil%3A+physiologic+and+pharmacologic+bases+of+cardiovascular+effects.&publisher=Raven+Press&doi=10.1097%2F00005344-200106000-00002&journal=Journal+of+cardiovascular+pharmacology&ISSN=0160-2446&abbrev=J+CARDIOVASC+PHARMACOL&volume=37&recipient=libadmin%40sanger.ac.uk&genre=article&publiPlace=New+York%2C+N.Y.&sender=&pages=649-61&year=2001\">request_access_link_0</a></td>\n",
       "      <td> </td>\n",
       "    </tr>\n",
       "    <tr>\n",
       "      <th>63</th>\n",
       "      <td>  7475051</td>\n",
       "      <td>   <a target=\"_blank\" href=\"http://www.ncbi.nlm.nih.gov/pubmed/?term=7475051\">7475051</a></td>\n",
       "      <td> 1995</td>\n",
       "      <td>                                                                                                                                                                         Use-dependent effects of the class III antiarrhythmic agent NE-10064 (azimilide) on <span class=\"tissue\">cardiac</span> repolarization: <span class=\"other_terms\">block</span> of delayed rectifier potassium and <span class=\"bio\">L-type calcium currents</span>.</td>\n",
       "      <td>                                                                                                                                                                                                                          We studied the effects of NE-10064 (azimilide), a new antiarrhythmic agent reported to be a selective <span class=\"other_terms\">blocker</span> of the slowly activating component of the delayed rectifier, IKs. In ferret papillary muscles, NE-10064 increased effective refractory period (ERP) and decreased isometric twitch tension in a concentration-dependent manner (0.3-30 microM). Increases in ERP showed reverse use-dependence, and were greater at 1 than at 3 Hz. In contrast, changes in tension were use dependent, with larger decreases observed at 3 than at 1 Hz. In guinea pig ventricular myocytes, NE-10064 (0.3-3 microM) significantly prolonged action potential duration (APD) at 1 Hz. At 3 Hz, NE-10064 (0.3-1 microM) increased APD only slightly, and at 10 microM decreased APD and the plateau potential. NE-10064 potently blocked the rapidly activating component of the delayed rectifier, IKr (<span class=\"chem\">IC50</span> 0.4 microM), and inhibited IKs (<span class=\"chem\">IC50</span> 3 microM) with nearly 10-fold less <span class=\"chem\">potency</span>. NE-10064 (10 microM) did not <span class=\"other_terms\">block</span> the inward rectifier potassium current (IKl). NE-10064 (10 microM) blocked the <span class=\"bio\">L-type calcium current</span> (ICa) in a use-dependent manner; <span class=\"other_terms\">block</span> was greater at 3 than at 1 Hz. We conclude that (a) NE-10064's <span class=\"other_terms\">block</span> of potassium currents is relatively selective for IKr over IKs, (b) NE-10064 inhibits ICa in a use-dependent fashion, and (c) NE-10064's effects on ERP and tension in papillary muscle as well as APD and action potential plateau level in myocytes may be explained by its potassium and <span class=\"bio\">calcium channel</span> blocking properties.</td>\n",
       "      <td>                                                                                                                                                Journal of cardiovascular pharmacology</td>\n",
       "      <td> 0</td>\n",
       "      <td>-17.55</td>\n",
       "      <td>       </td>\n",
       "      <td>                                                                                                       </td>\n",
       "      <td>                                                                                                              </td>\n",
       "      <td>                                                                                                                                                                                                               </td>\n",
       "      <td>           <a target=\"_blank\" href=\"http://wtgcsfx.hosted.exlibrisgroup.com/wtsc/cgi/public/docdel.cgi?source=Entrez%3APubMed+(Via+SFX)&meduid=7475051&month=8&author=Fermini%2C+B&issue=2&ISBN=&article=Use-dependent+effects+of+the+class+III+antiarrhythmic+agent+NE-10064+(azimilide)+on+cardiac+repolarization%3A+block+of+delayed+rectifier+potassium+and+L-type+calcium+currents.&publisher=Raven+Press&doi=10.1097%2F00005344-199508000-00012&journal=Journal+of+cardiovascular+pharmacology&ISSN=0160-2446&abbrev=J+CARDIOVASC+PHARMACOL&volume=26&recipient=libadmin%40sanger.ac.uk&genre=article&publiPlace=New+York%2C+N.Y.&sender=&pages=259-71&year=1995\">request_access_link_0</a></td>\n",
       "      <td> </td>\n",
       "    </tr>\n",
       "    <tr>\n",
       "      <th>64</th>\n",
       "      <td> 16308426</td>\n",
       "      <td> <a target=\"_blank\" href=\"http://www.ncbi.nlm.nih.gov/pubmed/?term=16308426\">16308426</a></td>\n",
       "      <td> 2005</td>\n",
       "      <td>                                                                                                                                                                                                                                                                                                                                                      Effect of ajmaline on action potential and ionic currents in rat ventricular myocytes.</td>\n",
       "      <td>                                                                                                                                                                The effect of ajmaline on action potential (AP) and ionic current components has been investigated in right ventricular myocytes of rat at room temperature using the whole cell patch clamp technique. Ajmaline decreased the upstroke velocity ((dV/dt)max) of AP and the AP amplitude, increased the AP duration measured at 50 and 90% repolarization, and reversibly inhibited most components of membrane ionic current in a concentration-dependent manner. The following values of <span class=\"chem\">IC50</span> and of the Hill coefficient (nH) resulted from approximation of the measured data by the Hill formula: for fast <span class=\"sodium\">sodium</span> current (INa) <span class=\"chem\">IC50</span>=27.8+/-1.14 micromol/l and nH=1.27+/-0.25 at holding potential -75 mV, <span class=\"chem\">IC50</span>=47.2+/-1.16 micromol/l and nH=1.16+/-0.21 at holding potential -120 mV; for <span class=\"bio\">L-type calcium current</span> (ICa-L) <span class=\"chem\">IC50</span>=70.8+/-0.09 micromol/l and n(H)=0.99+/-0.09; for transient outward potassium current (Ito) <span class=\"chem\">IC50</span>=25.9+/-2.91 micromol/l and nH=1.07+/-0.15; for ATP-sensitive potassium current (IK(ATP)) <span class=\"chem\">IC50</span>=13.3+/-1.1 micromol/l and nH=1.16+/-0.15. The current measured at the end of 300 ms depolarizing impulse was composed of an ajmaline-insensitive component and a component inhibited with <span class=\"chem\">IC50</span>=61.0+/-1.1 micromol/l and nH=0.91+/-0.08. At hyperpolarizing voltages, ajmaline at high concentration of 300 micromol/l reduced the inward moiety of time-independent potassium current (IK1) by 36%. The results indicate that the inhibition of INa causes both the decreased rate of rise of depolarizing phase and the lowered amplitude of AP. The inhibition of Ito is responsible for the ajmaline-induced AP prolongation.</td>\n",
       "      <td>                                                                                                                                                     General physiology and biophysics</td>\n",
       "      <td> 0</td>\n",
       "      <td>-20.21</td>\n",
       "      <td>       </td>\n",
       "      <td>                                                                                                       </td>\n",
       "      <td>                                                                                                              </td>\n",
       "      <td>                                                                                                                                                                                                               </td>\n",
       "      <td>                                                                                                                                                    <a target=\"_blank\" href=\"http://wtgcsfx.hosted.exlibrisgroup.com/wtsc/cgi/public/docdel.cgi?source=Entrez%3APubMed+(Via+SFX)&meduid=16308426&month=9&author=B%C3%A9barov%C3%A1%2C+M&issue=3&ISBN=&article=Effect+of+ajmaline+on+action+potential+and+ionic+currents+in+rat+ventricular+myocytes.&publisher=VEDA&journal=General+physiology+and+biophysics&ISSN=0231-5882&abbrev=GEN+PHYSL+B&volume=24&recipient=libadmin%40sanger.ac.uk&genre=article&publiPlace=Bratislava%2C+CSSR&sender=&year=2005&pages=311-25\">request_access_link_0</a></td>\n",
       "      <td> </td>\n",
       "    </tr>\n",
       "    <tr>\n",
       "      <th>65</th>\n",
       "      <td> 12605020</td>\n",
       "      <td> <a target=\"_blank\" href=\"http://www.ncbi.nlm.nih.gov/pubmed/?term=12605020\">12605020</a></td>\n",
       "      <td> 2003</td>\n",
       "      <td>                                                                                                                                                                                                                                                          Electrophysiologic effects of SB-237376: a new antiarrhythmic <span class=\"chem\">compound</span> with dual potassium and <span class=\"bio\">calcium channel</span> blocking action.</td>\n",
       "      <td>                                                                                                                                                                                                                                                                                                                                                                                                                                                                                                Combined potassium and <span class=\"bio\">calcium channel</span> blocking activities are suggested to be the basis for antiarrhythmic efficacy with low proarrhythmic risk. The electrophysiologic effects of SB-237376 were investigated in single myocytes and arterially perfused wedge preparations of canine or rabbit left ventricles. The concentration-dependent prolongation of action potential duration (APD) and QT interval by SB-237376 was bell-shaped and the maximum response occurred at 1-3 microM SB-237376 inhibited rapidly activating delayed rectifier K current (I(Kr) ) with an <span class=\"chem\">IC50</span> of 0.42 microM and use-dependently blocked <span class=\"bio\">L-type Ca current</span> (I (Ca,L) ) at high concentrations. The SB-237376 (3 microM) induced phase-2 early afterdepolarizations (EADs) in five of six rabbit wedge preparations but none of six canine wedge preparations. This is probably due to larger increases of APD, QT interval, and transmural dispersion of repolarization (TDR) in rabbits than dogs. Based on the drug effects on QT interval, TDR, and EAD in rabbit ventricular wedge preparations, a scoring system predicted lower proarrhythmic risk for SB-237376 than for dl-sotalol, a specific I <span class=\"other_terms\">blocker</span>. In conclusion, SB-237376 increases APD, QT interval, and TDR mainly by I (Kr) inhibition. These effects are self-limited due to SB-237376-induced I(Ca,L) blockade at high concentrations, which may explain its lower proarrhythmic risk than dl-sotalol.</td>\n",
       "      <td>                                                                                                                                                Journal of cardiovascular pharmacology</td>\n",
       "      <td> 0</td>\n",
       "      <td>-20.72</td>\n",
       "      <td>      S</td>\n",
       "      <td>                                                                                                       </td>\n",
       "      <td>                                                                                                              </td>\n",
       "      <td>                                                                                                                                                                                                               </td>\n",
       "      <td>                                                             <a target=\"_blank\" href=\"http://wtgcsfx.hosted.exlibrisgroup.com/wtsc/cgi/public/docdel.cgi?source=Entrez%3APubMed+(Via+SFX)&meduid=12605020&month=3&author=Xu%2C+X&issue=3&ISBN=&article=Electrophysiologic+effects+of+SB-237376%3A+a+new+antiarrhythmic+compound+with+dual+potassium+and+calcium+channel+blocking+action.&publisher=Raven+Press&journal=Journal+of+cardiovascular+pharmacology&doi=10.1097%2F00005344-200303000-00010&ISSN=0160-2446&abbrev=J+CARDIOVASC+PHARMACOL&recipient=libadmin%40sanger.ac.uk&volume=41&genre=article&publiPlace=New+York%2C+N.Y.&sender=&pages=414-21&year=2003\">request_access_link_0</a></td>\n",
       "      <td> </td>\n",
       "    </tr>\n",
       "    <tr>\n",
       "      <th>66</th>\n",
       "      <td> 15243307</td>\n",
       "      <td> <a target=\"_blank\" href=\"http://www.ncbi.nlm.nih.gov/pubmed/?term=15243307\">15243307</a></td>\n",
       "      <td> 2004</td>\n",
       "      <td>                                                                                                                                                                                                                                                                                 In vivo and in vitro characterization of the novel antiarrhythmic agent SSR149744C: electrophysiological, anti-adrenergic, and anti-angiotensin II effects.</td>\n",
       "      <td> SSR149744C (SSR, 2-butyl-3-[4-[3-(dibutylamino)pro-pyl]benzoyl]-1-benzofuran-5-carboxylate isopropyl fumarate), is a new non-iodinated benzofuran derivative. The aim of this study was to evaluate in vivo its electrophysiological, hemodynamic, and anti-adrenergic properties and to determine its mechanism of action using in vitro studies. In chloralose-anesthetized dogs, SSR149744C (1-10 mg/kg i.v.) prolonged the sinus cycle length, A-H interval, Wenckebach cycle length, atrial effective refractory period (ERP), and atrio-ventricular node ERP in a dose-dependent manner without change of ventricular ERP and HV, QRS, or QTc intervals. Arterial blood pressure and ventricular inotropism were slightly decreased. SSR149744C, which has no or low <span class=\"other_terms\">affinity</span> for alpha 1 and beta 1 adrenergic and angiotensin II AT1 receptors, reduced isoproterenol-induced tachycardia and phenylephrine- or angiotensin II-induced hypertension in anaesthetized dogs. In guinea pig papillary muscle, SSR149744C did not modify the resting potential, action potential amplitude and duration, but reduced the dV/dt max of the depolarization phase in a frequency-dependent manner. In isolated guinea pig <span class=\"tissue\">cardiomyocytes </span>and transfected CHO cells, SSR149744C (0.01-30 microM) inhibited several potassium currents: IKr (<span class=\"chem\">IC50</span> approximately 10 microM), IKs (<span class=\"chem\">IC50</span> approximately 30 microM), IK(ACh) (<span class=\"chem\">IC50</span> = 0.09 microM), and IKv1.5 (<span class=\"chem\">IC50</span> = 2.7 microM), the <span class=\"bio\">L-type calcium current</span>: ICa(L) (<span class=\"chem\">IC50</span> approximately 5 microM) and also the amplitude of [Ca2+]i transient and cell shortening. Therefore, SSR149744C appears to have a multifactorial mechanism of action, which combines the blockade of several ion <span class=\"bio\">channels</span> with the inhibition of responses of alpha 1 and beta 1 adrenergic as well as...</td>\n",
       "      <td>                                                                                                                                                Journal of cardiovascular pharmacology</td>\n",
       "      <td> 0</td>\n",
       "      <td>-21.54</td>\n",
       "      <td>      S</td>\n",
       "      <td>                                                                                                       </td>\n",
       "      <td>                                                                                                              </td>\n",
       "      <td>                                                                                                                                                                                                               </td>\n",
       "      <td>                        <a target=\"_blank\" href=\"http://wtgcsfx.hosted.exlibrisgroup.com/wtsc/cgi/public/docdel.cgi?source=Entrez%3APubMed+(Via+SFX)&meduid=15243307&month=8&author=Gautier%2C+P&issue=2&ISBN=&article=In+vivo+and+in+vitro+characterization+of+the+novel+antiarrhythmic+agent+SSR149744C%3A+electrophysiological%2C+anti-adrenergic%2C+and+anti-angiotensin+II+effects.&publisher=Raven+Press&journal=Journal+of+cardiovascular+pharmacology&doi=10.1097%2F00005344-200408000-00015&ISSN=0160-2446&abbrev=J+CARDIOVASC+PHARMACOL&recipient=libadmin%40sanger.ac.uk&volume=44&genre=article&publiPlace=New+York%2C+N.Y.&sender=&pages=244-57&year=2004\">request_access_link_0</a></td>\n",
       "      <td> </td>\n",
       "    </tr>\n",
       "    <tr>\n",
       "      <th>67</th>\n",
       "      <td>  8821512</td>\n",
       "      <td>   <a target=\"_blank\" href=\"http://www.ncbi.nlm.nih.gov/pubmed/?term=8821512\">8821512</a></td>\n",
       "      <td> 1996</td>\n",
       "      <td>                                                                                                                                                                                                                                                                                 Pharmacological in vitro studies of the new 1,4-dihydropyridine <span class=\"bio\">calcium</span> <span class=\"other_terms\">antagonist</span> lercanidipine.</td>\n",
       "      <td> The present studies were undertaken to examine the in vitro <span class=\"bio\">calcium</span> antagonistic properties of lercanidipine (CAS 132866-11-6, Rec 15/2375) in vascular and non-vascular tissues, as well as its <span class=\"chem\">binding</span> profile and in particular its <span class=\"other_terms\">affinity</span> to the <span class=\"bio\">calcium channel</span> <span class=\"chem\">binding</span> sites. Lercanidipine proved to be endowed with high <span class=\"other_terms\">affinity</span> for the dihydropyridine subunit of the <span class=\"bio\">L-type calcium channel</span>, where it was much more potent than on the other receptors tested. The nature of the interaction of lercanidipine with the <span class=\"bio\">calcium channel</span> appears competitive, as evidenced by a progressive increase in the apparent Kd of the <span class=\"chem\">ligand</span> with no change in Bmax. The performed functional in vitro studies in isolated vascular and <span class=\"tissue\">cardiac</span> tissues demonstrated that lercanidipine has a slower onset and offset of <span class=\"bio\">calcium</span> antagonistic activity compared with other <span class=\"bio\">calcium</span> antagonists. The time-course of inhibition of vascular smooth muscle contraction showed substantial differences after addition of lercanidipine with regard to the other <span class=\"bio\">calcium</span> antagonists tested (nitrendipine and amlodipine). On repeated washing of rat aorta to remove the drugs from the preparation, the effects of nitrendipine disappeared rapidly. After amlodipine incubation, contractility of the tissue was still impaired after 6 h washout with the highest concentrations tested, but completely recovered in 1-3 h after washout of the lowest concentration. On the contrary, the preparations incubated with lercanidipine showed a decrease in contractility that reached the maximum 1 to 3 h after the removal of the <span class=\"chem\">compound</span> from the bath at all the active concent...</td>\n",
       "      <td>                                                                                                                                                                Arzneimittel-Forschung</td>\n",
       "      <td> 0</td>\n",
       "      <td>-21.60</td>\n",
       "      <td>       </td>\n",
       "      <td>                                                                                                       </td>\n",
       "      <td>                                                                                                              </td>\n",
       "      <td>                                                                                                                                                                                                               </td>\n",
       "      <td>                                                                                                                                      <a target=\"_blank\" href=\"http://wtgcsfx.hosted.exlibrisgroup.com/wtsc/cgi/public/docdel.cgi?source=Entrez%3APubMed+(Via+SFX)&meduid=8821512&month=1&author=Guarneri%2C+L&issue=1&ISBN=&article=Pharmacological+in+vitro+studies+of+the+new+1%2C4-dihydropyridine+calcium+antagonist+lercanidipine.&publisher=Editio+Cantor&journal=Arzneimittel-Forschung&ISSN=0004-4172&abbrev=ARZNEIMITTELFORSCHUNG&recipient=libadmin%40sanger.ac.uk&volume=46&genre=article&publiPlace=Aulendorf+%5BGermany%5D&sender=&pages=15-24&year=1996\">request_access_link_0</a></td>\n",
       "      <td> </td>\n",
       "    </tr>\n",
       "    <tr>\n",
       "      <th>68</th>\n",
       "      <td> 10511122</td>\n",
       "      <td> <a target=\"_blank\" href=\"http://www.ncbi.nlm.nih.gov/pubmed/?term=10511122\">10511122</a></td>\n",
       "      <td> 1999</td>\n",
       "      <td>                                                                                                                                                                                                                                                                                          Direct <span class=\"other_terms\">block</span> of <span class=\"bio\">Ca2+ channels</span> by calmidazolium in cultured vascular smooth muscle cells.</td>\n",
       "      <td> We investigated the action of calmidazolium (CMZ), an <span class=\"other_terms\">inhibitor</span> of calmodulin (CaM), on the <span class=\"bio\">L-type Ca2+ currents</span> (ICa(L)) of cultured vascular smooth muscle (VSM) cells (A7r5 cell line), by using the whole-cell voltage-clamp method. All experiments were conducted at room temperature (24-25 degrees C). The peak IBa (<span class=\"bio\">Ca2+ channel</span> current with 5 mM Ba2+ as charge carrier) was evoked every 15 s by a test potential to +10 mV from a holding potential of -60 mV. To elevate intracellular free Ca2+ concentration ([Ca]i) to pCa 6.5, the pipette solution contained a Ca2+-EGTA buffer (pCa 6.5) to allow equilibration with the cells. Bath application of 1 microM CMZ reduced the peak amplitude of IBa to 36.7+/-4.9% (n = 8); maximal effect occurred within 7-8 min. Peak IBa continued to decrease even after washing out the CMZ. Recovery of IBa was not observed even after 10 min of washout. Even in presence of an peptide <span class=\"other_terms\">inhibitor</span> of CaM-dependent protein kinase-II (5.2 microM) in the pipette solution, CMZ inhibited IBa to 27.8 +/-5.3% (n = 7). To exclude the possibility that other Ca2+/ CaM-dependent kinases and phosphatases may regulate <span class=\"bio\">Ca2+ channel</span> activity, we examined the effect of CMZ on IBa when [Ca]i was reduced by use of Ca2+/EGTA-buffered pipette solutions. At pCa approximately equal to 10 (10 mM EGTA and only contaminant Ca2+), CMZ inhibited IBa to 33.4+/-5.9% (n = 14) with a median inhibitory concentration (<span class=\"chem\">IC50</span>) value of 0.29 microM. The activation curve (pCa approximately equal to 10) was shifted in the positive direction by 6.3 mV; the inactivation curve was shifted in the negative direction by 5.0 mV. CMZ decreased IBa progressively during repetitive step depolarizations. CMZ did not slow the rate of recovery from inactivation. In conclusion, CMZ inhibits <span class=\"bio\">Ca2+ channel</span> current ...</td>\n",
       "      <td>                                                                                                                                                Journal of cardiovascular pharmacology</td>\n",
       "      <td> 0</td>\n",
       "      <td>-24.41</td>\n",
       "      <td>      S</td>\n",
       "      <td>                                                                                                       </td>\n",
       "      <td>                                                                                                              </td>\n",
       "      <td>                                                                                                                                                                                                               </td>\n",
       "      <td>                                                                                             <a target=\"_blank\" href=\"http://wtgcsfx.hosted.exlibrisgroup.com/wtsc/cgi/public/docdel.cgi?source=Entrez%3APubMed+(Via+SFX)&meduid=10511122&month=10&author=Sunagawa%2C+M&issue=4&ISBN=&article=Direct+block+of+Ca2%2B+channels+by+calmidazolium+in+cultured+vascular+smooth+muscle+cells.&publisher=Raven+Press&journal=Journal+of+cardiovascular+pharmacology&doi=10.1097%2F00005344-199910000-00003&ISSN=0160-2446&abbrev=J+CARDIOVASC+PHARMACOL&recipient=libadmin%40sanger.ac.uk&volume=34&genre=article&publiPlace=New+York%2C+N.Y.&sender=&pages=488-96&year=1999\">request_access_link_0</a></td>\n",
       "      <td> </td>\n",
       "    </tr>\n",
       "    <tr>\n",
       "      <th>69</th>\n",
       "      <td> 12548079</td>\n",
       "      <td> <a target=\"_blank\" href=\"http://www.ncbi.nlm.nih.gov/pubmed/?term=12548079\">12548079</a></td>\n",
       "      <td> 2003</td>\n",
       "      <td>                                                                                                                                                                                                                                                                                                                                                         Electrophysiologic characterization of dronedarone in guinea pig ventricular cells.</td>\n",
       "      <td> The electrophysiological properties of dronedarone (SR33589), a noniodinated amiodarone-like agent, were studied on action potential (AP) and contraction of papillary muscle and on membrane ionic currents, Ca2+ transient, and shortening of ventricular cells of the guinea pig <span class=\"tissue\">heart</span>. In multicellular preparations, dronedarone (3, 10, and 30 microM) decreased maximum rate of rise of AP (dV/dt max) with a concentration- and frequency-dependent relationship; resting potential was not modified and AP amplitude was decreased only at 30 microM. The effects of dronedarone on AP durations (APDs) at different percentages of repolarization were not significantly changed, except for a slight decrease in APD30 and APD50 at the highest concentration. In isolated ventricular myocytes, dronedarone inhibited rapidly activating delayed-rectifier K+ current (I(Kr)) (median inhibitory concentration [<span class=\"chem\">IC50</span>] </= 3 microM voltage-independent); slowly activating delayed-rectifier K+ current (I(Ks)) (<span class=\"chem\">IC50</span> approximately/= 10 microM voltage-dependent and time-, frequency-, or use-independent); and inward rectifier potassium current (I(K1)) (<span class=\"chem\">IC50</span> >/= 30 microM). Dronedarone blocked <span class=\"bio\">L-type Ca2+ current</span> (I(Ca(L))) (<span class=\"chem\">IC50</span> = 0.18 +/- 0.018 microM at a stimulation frequency of 0.033 Hz) in a use- and frequency-dependent manner. Simultaneously to these electrophysiological effects, dronedarone reduced contraction amplitudes of papillary muscle and decreased Ca2+ transient and shortening of ventricular myocytes. The results show that dronedarone is a multichannel <span class=\"other_terms\">blocker</span> because it decreases dV/dt max (I(<span class=\"sodium\">Na</span>)), I(Ca(L)), I(Kr), I(Ks), and I(K1). These effects are accompanied by a reduction in free intracellular <span class=\"bio\">calcium</span> and contraction amplitudes. Dronedarone doe...</td>\n",
       "      <td>                                                                                                                                                Journal of cardiovascular pharmacology</td>\n",
       "      <td> 0</td>\n",
       "      <td>-29.26</td>\n",
       "      <td>      S</td>\n",
       "      <td>                                                                                                       </td>\n",
       "      <td>                                                                                                              </td>\n",
       "      <td>                                                                                                                                                                                                               </td>\n",
       "      <td>                                                                                                     <a target=\"_blank\" href=\"http://wtgcsfx.hosted.exlibrisgroup.com/wtsc/cgi/public/docdel.cgi?source=Entrez%3APubMed+(Via+SFX)&meduid=12548079&month=2&author=Gautier%2C+P&issue=2&ISBN=&article=Electrophysiologic+characterization+of+dronedarone+in+guinea+pig+ventricular+cells.&publisher=Raven+Press&journal=Journal+of+cardiovascular+pharmacology&doi=10.1097%2F00005344-200302000-00007&ISSN=0160-2446&abbrev=J+CARDIOVASC+PHARMACOL&recipient=libadmin%40sanger.ac.uk&volume=41&genre=article&publiPlace=New+York%2C+N.Y.&sender=&pages=191-202&year=2003\">request_access_link_0</a></td>\n",
       "      <td> </td>\n",
       "    </tr>\n",
       "    <tr>\n",
       "      <th>70</th>\n",
       "      <td> 19809324</td>\n",
       "      <td> <a target=\"_blank\" href=\"http://www.ncbi.nlm.nih.gov/pubmed/?term=19809324\">19809324</a></td>\n",
       "      <td> 2010</td>\n",
       "      <td>                                                                                                                                                                                                                                                                                                       Effects of articaine and ropivacaine on <span class=\"bio\">calcium</span> handling and contractility in canine ventricular myocardium.</td>\n",
       "      <td>  BACKGROUND AND OBJECTIVE: In spite of the widespread clinical use of articaine and ropivacaine there is little information available on the effects of these drugs on myocardial Ca handling. In the present study, therefore, the concentration-dependent effects of articaine and ropivacaine on the components of intracellular Ca handling were studied and compared in canine ventricular myocardium. METHODS: Contractility was measured in ventricular trabeculae, [Ca]i transients were recorded from electrically stimulated isolated ventricular myocytes loaded with the <span class=\"bio\">calcium</span>-sensitive dye fura-2, <span class=\"bio\">L-type Ca current</span> was recorded under whole cell patch clamp conditions, and the release and reuptake of Ca was monitored in sarcoplasmic reticulum vesicles. RESULTS: Articaine and ropivacaine caused a reversible and concentration-dependent decrease in amplitude of the [Ca]i transient (<span class=\"chem\">EC50</span> = 87.4 +/- 12 and 99.3 +/- 17 micromol l, respectively), which was congruent with the reduction obtained for contractility (<span class=\"chem\">EC50</span> = 73.7 +/- 10 and 72.8 +/- 14 micromol l, respectively). No significant change in diastolic [Ca]i was found. <span class=\"bio\">L-type Ca current</span> was significantly reduced by articaine and ropivacaine with <span class=\"chem\">EC50</span> values of 327 +/- 56 and 263 +/- 67 micromol l, respectively. Neither Ca release and Ca uptake nor the ATPase activity of the sarcoplasmic reticulum vesicles was altered by articaine or ropivacaine at concentrations less than 200 micromol l. In summary, articaine and ropivacaine caused no significant changes at the therapeutically relevant concentrations of the micromolar range. No significant differences between the effects of articaine and ropivacaine on contractility, [Ca]i transients, <span class=\"bio\">L-type Ca current</span>, and sarcoplasmic reticulum Ca release and uptake were observed. CONCLUSIONS: Under conditions of n...</td>\n",
       "      <td>                                                                                                                                                   European journal of anaesthesiology</td>\n",
       "      <td> 0</td>\n",
       "      <td>-36.03</td>\n",
       "      <td>      S</td>\n",
       "      <td>                                                                                                       </td>\n",
       "      <td>                                                                                                              </td>\n",
       "      <td>                                                                                                                                                                                                               </td>\n",
       "      <td>                 <a target=\"_blank\" href=\"http://wtgcsfx.hosted.exlibrisgroup.com/wtsc/cgi/public/docdel.cgi?source=Entrez%3APubMed+(Via+SFX)&meduid=19809324&month=2&author=Szentandr%C3%A1ssy%2C+N&issue=2&ISBN=&article=Effects+of+articaine+and+ropivacaine+on+calcium+handling+and+contractility+in+canine+ventricular+myocardium.&publisher=Published+on+behalf+of+the+European+Academy+of+Anaesthesiology+by+Blackwell+Scientific&doi=10.1097%2FEJA.0b013e328331a37b&journal=European+Journal+of+Anaesthesiology&ISSN=0265-0215&abbrev=EUR+J+ANAESTH&volume=27&recipient=libadmin%40sanger.ac.uk&genre=article&publiPlace=Oxford&sender=&pages=153-61&year=2010\">request_access_link_0</a></td>\n",
       "      <td> </td>\n",
       "    </tr>\n",
       "    <tr>\n",
       "      <th>71</th>\n",
       "      <td>  8709127</td>\n",
       "      <td>   <a target=\"_blank\" href=\"http://www.ncbi.nlm.nih.gov/pubmed/?term=8709127\">8709127</a></td>\n",
       "      <td> 1996</td>\n",
       "      <td> <span class=\"tissue\">Cardiovascular </span>characterization of pyrrolo[2,1-d][1,5]benzothiazepine derivatives <span class=\"chem\">binding</span> selectively to the peripheral-type benzodiazepine receptor (PBR): from dual PBR <span class=\"other_terms\">affinity</span> and <span class=\"bio\">calcium</span> <span class=\"other_terms\">antagonist</span> activity to novel and selective <span class=\"bio\">calcium</span> entry blockers.</td>\n",
       "      <td> The synthesis and <span class=\"tissue\">cardiovascular </span>characterization of a series of novel pyrrolo[2,1-d][1,5]-benzothiazepine derivatives (54-68) are described. Selective peripheral-type benzodiazepine receptor (PBR) <span class=\"chem\">ligands</span>, such as PK 11195 and Ro 5-4864, have recently been found to possess low but significant <span class=\"chem\">inhibitory activity</span> of <span class=\"bio\">L-type calcium channels</span>, and this property is implicated in the <span class=\"tissue\">cardiovascular </span>effects observed with these <span class=\"chem\">compounds</span>. In functional studies both PK 11195 (1-(2-chlorophenyl)-N-methyl-N-(1-methylpropyl)-3-isoquinolinecarboxa mide) and Ro 5-4864 (4'-chlorodiazepam) did not display selectivity between <span class=\"tissue\">cardiac</span> and vascular tissue. Therefore, several 7-(acyloxy)-6-arylpyrrolo[2,1-d][1,5]benzothiazepines, potent and selective peripheral-type benzodiazepine receptor <span class=\"chem\">ligands</span> recently developed by us (3, 7-20), were subjected to <span class=\"bio\">calcium channel</span> receptor <span class=\"chem\">binding</span> assay. Some of these <span class=\"chem\">compounds</span> showed an unexpected <span class=\"chem\">potency</span> in <span class=\"chem\">displacing</span> the <span class=\"chem\">binding</span> of [3H]nitrendipine from <span class=\"bio\">L-type calcium channels</span>, much higher than that reported for PK 11195 and Ro 5-4864 and equal to or higher than that of reference <span class=\"bio\">calcium</span> antagonists such as verapamil and (+)-cis-diltiazem. Specifically, in rat cortex homogenate, our prototypic PBR <span class=\"chem\">ligand</span> 7-acetoxy-6-(p-methoxyphenyl)pyrrolo[2,1-d][1,5]benzothiazepine (3) showed an <span class=\"chem\">IC50</span> equal to 0.13 nM for inhibition of [3H]nitrendipine <span class=\"chem\">binding</span>. Furthermore, in functional studies this <span class=\"chem\">compound</span> displayed a clear-cut selectivity for...</td>\n",
       "      <td>                                                                                                                                                        Journal of medicinal chemistry</td>\n",
       "      <td> 1</td>\n",
       "      <td> 19.57</td>\n",
       "      <td>      S</td>\n",
       "      <td>                                                                                                       </td>\n",
       "      <td>                                                                                                              </td>\n",
       "      <td>                                                                                                                                                                                                               </td>\n",
       "      <td>                                                                                                                                                                                                                                                                                                                                                                                                                                                                                                                                                                                                                                                                                                 </td>\n",
       "      <td> </td>\n",
       "    </tr>\n",
       "    <tr>\n",
       "      <th>72</th>\n",
       "      <td>  9876109</td>\n",
       "      <td>   <a target=\"_blank\" href=\"http://www.ncbi.nlm.nih.gov/pubmed/?term=9876109\">9876109</a></td>\n",
       "      <td> 1998</td>\n",
       "      <td>                                                                                                                                                                                                                             New 1,4-dihydropyridines conjugated to furoxanyl moieties, endowed with both nitric oxide-like and <span class=\"bio\">calcium channel</span> <span class=\"other_terms\">antagonist</span> vasodilator activities.</td>\n",
       "      <td>                                                                                                                                                                                                                               A series of 4-phenyl-1,4-dihydropyridines substituted at the ortho and meta positions of the phenyl ring with NO-donating furoxan moieties and their non-NO-releasing furazan <span class=\"chem\">analogues</span> were synthesized and pharmacologically characterized. The vasodilator activities of these <span class=\"chem\">compounds</span> were evaluated on rat aorta and expressed as <span class=\"chem\">EC50</span> values or as EC50iGC values when obtained in the presence of inhibitors of guanylate cyclase methylene blue (MB) and 1H-[1,2,4]oxadiazolo[4,3-a]quinoxalin-1-one (ODQ). Affinities to 1, 4-<span class=\"bio\">DHP receptors</span> on <span class=\"bio\">Ca2+ channels</span>, expressed as <span class=\"chem\">IC50</span> values, were determined through <span class=\"chem\">displacement</span> experiments of [3H]nitrendipine on rat cortex homogenates. A linear correlation between <span class=\"chem\">IC50</span> and <span class=\"chem\">EC50</span> values was found for <span class=\"chem\">compounds</span> unable to release NO. EC50calcd values for derivatives containing NO-donor moieties, expression of the Ca2+-blocking component of their vasodilator activity, were interpolated on this linear regression. They showed a good correspondence with EC50iGC values determined in the presence of soluble guanylate cyclase inhibitors. Analysis of EC50iGC/<span class=\"chem\">EC50</span> ratios provided a useful tool to distinguish well-balanced hybrids from derivatives biased toward Ca2+-blocking or NO-dependent vasodilator activity. A detrimental effect on <span class=\"other_terms\">affinity</span> to the 1, 4-<span class=\"bio\">DHP receptor</span>, due to substitution at the ortho and meta positions of the 4-phenyl ring, was observed. SAR to explain this effect is proposed.</td>\n",
       "      <td>                                                                                                                                                        Journal of medicinal chemistry</td>\n",
       "      <td> 1</td>\n",
       "      <td> 12.82</td>\n",
       "      <td>      S</td>\n",
       "      <td>                                                                                                       </td>\n",
       "      <td>                                                                                                              </td>\n",
       "      <td>                                                                                                                                                                                                               </td>\n",
       "      <td>                                                                                                                                                                                                                                                                                                                                                                                                                                                                                                                                                                                                                                                                                                 </td>\n",
       "      <td> </td>\n",
       "    </tr>\n",
       "  </tbody>\n",
       "</table>"
      ],
      "text/plain": [
       "<IPython.core.display.HTML object>"
      ]
     },
     "execution_count": 14,
     "metadata": {},
     "output_type": "execute_result"
    }
   ],
   "source": [
    "c.colour_terms(c.get_df(db_name = 'cluster_db', sql_condition = 'r.pmid in ({})'.format(str([int(i) for i in high_not_found]).strip(\"']'\").split(\"[\")[1]), query_id_list = [8])[0], markup_list = broader_terms)"
   ]
  },
  {
   "cell_type": "markdown",
   "metadata": {},
   "source": [
    "### Different queries in cluster_db"
   ]
  },
  {
   "cell_type": "code",
   "execution_count": 179,
   "metadata": {
    "collapsed": false
   },
   "outputs": [
    {
     "data": {
      "text/plain": [
       "<sqlite3.Cursor at 0x10d962a40>"
      ]
     },
     "execution_count": 179,
     "metadata": {},
     "output_type": "execute_result"
    }
   ],
   "source": [
    "cursor.execute('select * from queries')"
   ]
  },
  {
   "cell_type": "code",
   "execution_count": 180,
   "metadata": {
    "collapsed": false
   },
   "outputs": [
    {
     "data": {
      "text/plain": [
       "[(1,\n",
       "  '(ABSTRACT:\"calcium channel modulator\" OR ABSTRACT:\"calcium channel antagonist\" OR ABSTRACT:\"calcium channel block\" OR ABSTRACT:\"calcium channel inhibitor\" OR ABSTRACT:\"calcium channel affinity\" OR ABSTRACT:\"Ca2+ channel modulator\" OR ABSTRACT:\"Ca2+ channel antagonist\" OR ABSTRACT:\"Ca2+ channel block\" OR ABSTRACT:\"Ca2+ channel inhibitor\" OR ABSTRACT:\"Ca2+ channel affinity\" OR ABSTRACT:\"Ca(2+) channel modulator\" OR ABSTRACT:\"Ca(2+) channel antagonist\" OR ABSTRACT:\"Ca(2+) channel block\" OR ABSTRACT:\"Ca(2+) channel inhibitor\" OR ABSTRACT:\"Ca(2+) channel affinity\" OR ABSTRACT:\"Ca(2+)-channel-blocking\" OR ABSTRACT:\"Ca(2+)-channel block\" OR ABSTRACT:\"calcium antagonist\" OR ABSTRACT:\"calcium entry antagonist\") AND (ABSTRACT:\"IC50\" OR ABSTRACT:\"IC(50)\" OR ABSTRACT:\"inhibitory activity\" OR ABSTRACT:\"analogue\" OR ABSTRACT:\"ligand\" OR ABSTRACT:\"binding\" OR ABSTRACT:\"potency\" OR ABSTRACT:\"potencies\" OR ABSTRACT:\"displacement\" OR ABSTRACT:\"displacing\" OR ABSTRACT:\"inhibitory concentration\" OR ABSTRACT:\"EC50\" OR ABSTRACT:\"EC(50)\")',\n",
       "  2138,\n",
       "  '2015-8-11'),\n",
       " (2,\n",
       "  '(ABSTRACT:\"calcium channel\" OR ABSTRACT:\"Ca channel\" OR ABSTRACT:\"Ca(2+) channel\" OR ABSTRACT:\"Ca(2+)-channel\" OR ABSTRACT:\"Ca2+ channel\" OR ABSTRACT:\"Ca2+ current\" OR ABSTRACT:\"calcium current\" OR ABSTRACT:\"Ca current\" OR ABSTRACT:\"Ca(2+) current\" OR ABSTRACT:\"Ca(2+)-current\" OR ABSTRACT:\"Ca++ channel\" OR ABSTRACT:\"Ca++ current\" OR ABSTRACT:\"LTCC\" OR ABSTRACT:\"Ca(V)1.\" OR ABSTRACT:\"CaV1.\" OR ABSTRACT:\"I(Ca)\" OR ABSTRACT:\"(ICa)\" OR ABSTRACT:\"ICa,L\" OR ABSTRACT:\"L-type\") AND (ABSTRACT:\"IC50\" OR ABSTRACT:\"IC(50)\" OR ABSTRACT:\"inhibitory activity\" OR ABSTRACT:\"analogue\" OR ABSTRACT:\"ligand\" OR ABSTRACT:\"potency\" OR ABSTRACT:\"potencies\" OR ABSTRACT:\"inhibitory concentration\" OR ABSTRACT:\"antagonist\" OR ABSTRACT:\"affinity\" OR ABSTRACT:\"EC50\" OR ABSTRACT:\"EC(50)\")',\n",
       "  16875,\n",
       "  '2015-8-11'),\n",
       " (3,\n",
       "  '(ABSTRACT:\"calcium channel\" OR ABSTRACT:\"Ca channel\" OR ABSTRACT:\"Ca(2+) channel\" OR ABSTRACT:\"Ca(2+)-channel\" OR ABSTRACT:\"Ca2+ channel\" OR ABSTRACT:\"Ca2+ current\" OR ABSTRACT:\"calcium current\" OR ABSTRACT:\"Ca current\" OR ABSTRACT:\"Ca(2+) current\" OR ABSTRACT:\"Ca(2+)-current\" OR ABSTRACT:\"LTCC\" OR ABSTRACT:\"Ca(V)1.\" OR ABSTRACT:\"CaV1.\" OR ABSTRACT:\"I(Ca)\" OR ABSTRACT:\"(ICa)\" OR ABSTRACT:\"ICa,L\") AND (ABSTRACT:\"IC50\" OR ABSTRACT:\"IC(50)\" OR ABSTRACT:\"compound\" OR ABSTRACT:\"molecule\" OR ABSTRACT:\"inhibitory activity\" OR ABSTRACT:\"analogue\" OR ABSTRACT:\"ligand\" OR ABSTRACT:\"binding\" OR ABSTRACT:\"potency\" OR ABSTRACT:\"potencies\" OR ABSTRACT:\"displacement\" OR ABSTRACT:\"displacing\" OR ABSTRACT:\"inhibitory concentration\" OR ABSTRACT:\"inhibit\" OR ABSTRACT:\"modulator\" OR ABSTRACT:\"block\" OR ABSTRACT:\"antagonist\" OR ABSTRACT:\"affinity\" OR ABSTRACT:\"EC50\" OR ABSTRACT:\"EC(50)\")',\n",
       "  39654,\n",
       "  '2015-8-13'),\n",
       " (4,\n",
       "  '(ABSTRACT:\"calcium channel\" OR ABSTRACT:\"Ca channel\" OR ABSTRACT:\"Ca(2+) channel\" OR ABSTRACT:\"Ca(2+)-channel\" OR ABSTRACT:\"Ca2+ channel\" OR ABSTRACT:\"Ca2+ current\" OR ABSTRACT:\"calcium current\" OR ABSTRACT:\"Ca current\" OR ABSTRACT:\"Ca(2+) current\" OR ABSTRACT:\"Ca(2+)-current\" OR ABSTRACT:\"LTCC\" OR ABSTRACT:\"Ca(V)1.\" OR ABSTRACT:\"CaV1.\" OR ABSTRACT:\"I(Ca)\" OR ABSTRACT:\"(ICa)\" OR ABSTRACT:\"ICa,L\") AND (ABSTRACT:\"compound\" OR ABSTRACT:\"molecule\" OR ABSTRACT:\"binding\" OR ABSTRACT:\"displacement\" OR ABSTRACT:\"displacing\" OR ABSTRACT:\"chemical\" OR ABSTRACT:\"modulator\" OR ABSTRACT:\"block\")',\n",
       "  26785,\n",
       "  '2015-8-13'),\n",
       " (5,\n",
       "  '(ABSTRACT:\"calcium channel\" OR ABSTRACT:\"Ca channel\" OR ABSTRACT:\"Ca(2+) channel\" OR ABSTRACT:\"Ca(2+)-channel\" OR ABSTRACT:\"Ca2+ channel\" OR ABSTRACT:\"Ca2+ current\" OR ABSTRACT:\"calcium current\" OR ABSTRACT:\"Ca current\" OR ABSTRACT:\"Ca(2+) current\" OR ABSTRACT:\"Ca(2+)-current\" OR ABSTRACT:\"LTCC\" OR ABSTRACT:\"Ca(V)1.\" OR ABSTRACT:\"CaV1.\" OR ABSTRACT:\"I(Ca)\" OR ABSTRACT:\"(ICa)\" OR ABSTRACT:\"ICa,L\") AND (ABSTRACT:\"compound\" OR ABSTRACT:\"molecule\" OR ABSTRACT:\"binding\" OR ABSTRACT:\"displacement\" OR ABSTRACT:\"displacing\" OR ABSTRACT:\"chemical\" OR ABSTRACT:\"modulator\" OR ABSTRACT:\"block\")',\n",
       "  26785,\n",
       "  '2015-8-13'),\n",
       " (6,\n",
       "  '(ABSTRACT:\"calcium channel\" OR ABSTRACT:\"L-type calcium channel\" OR ABSTRACT:\"LTCC\") AND (ABSTRACT:\"QSAR\" OR ABSTRACT:\"structure-activity relationship\")',\n",
       "  115,\n",
       "  '2015-9-14'),\n",
       " (7,\n",
       "  '(ext_id:\"14528490\" OR ext_id:\"10575370\" OR ext_id:\"21975802\")',\n",
       "  3,\n",
       "  '2015-9-14'),\n",
       " (8,\n",
       "  '(ABSTRACT:\"L-type calcium channel\" OR ABSTRACT:\"L-type Ca channel\" OR ABSTRACT:\"L-type calcium current\" OR ABSTRACT:\"L-type Ca2+ current\" OR ABSTRACT:\"L-type Ca current\" OR ABSTRACT:\"calcium channel, L-type\" OR ABSTRACT:\"ICa,L\" OR ABSTRACT:\"Cav1.2\" OR ABSTRACT:\"L-type Ca++ channel\" OR ABSTRACT:\"L-type Ca++ current\" OR ABSTRACT:\"DHPR\" OR ABSTRACT:\"Cav1.x\" OR ABSTRACT:\"DHP receptor\" OR ABSTRACT:\"DHP channel\") AND (ABSTRACT:\"IC50\" OR ABSTRACT:\"AC50\" OR ABSTRACT:\"XC50\" OR ABSTRACT:\"EC50\")',\n",
       "  293,\n",
       "  '2015-9-14'),\n",
       " (9,\n",
       "  '(ABSTRACT:\"calcium channel\" OR ABSTRACT:\"Ca channel\" OR ABSTRACT:\"Ca(2+) channel\" OR ABSTRACT:\"Ca(2+)-channel\" OR ABSTRACT:\"Ca2+ channel\" OR ABSTRACT:\"Ca2+ current\" OR ABSTRACT:\"calcium current\" OR ABSTRACT:\"Ca current\" OR ABSTRACT:\"Ca(2+) current\" OR ABSTRACT:\"Ca(2+)-current\" OR ABSTRACT:\"Ca++ channel\" OR ABSTRACT:\"Ca++ current\" OR ABSTRACT:\"LTCC\" OR ABSTRACT:\"I(Ca)\" OR ABSTRACT:\"(ICa)\" OR ABSTRACT:\"ICa,L\" OR ABSTRACT:\"L-type\" OR ABSTRACT:\"Ca(V)1.2\" OR ABSTRACT:\"CaV1.2\") AND (ABSTRACT:\"IC50\" OR ABSTRACT:\"IC(50)\")',\n",
       "  2033,\n",
       "  '2015-9-23')]"
      ]
     },
     "execution_count": 180,
     "metadata": {},
     "output_type": "execute_result"
    }
   ],
   "source": [
    "cursor.fetchall()"
   ]
  },
  {
   "cell_type": "markdown",
   "metadata": {},
   "source": [
    "### ChEMBL pmids for LTCC"
   ]
  },
  {
   "cell_type": "code",
   "execution_count": 17,
   "metadata": {
    "collapsed": false
   },
   "outputs": [
    {
     "data": {
      "text/plain": [
       "(1317, 28)"
      ]
     },
     "execution_count": 17,
     "metadata": {},
     "output_type": "execute_result"
    }
   ],
   "source": [
    "# Data that Francis selected for LTCC from ChEMBL\n",
    "engine = create_engine(open('/Users/Ines/alchemy_ines_login.txt').read().strip())\n",
    "\n",
    "sql = '''select * from TT_LTCC_CURVE_DATA a order by\n",
    "    a.species\n",
    "  , a.parent_cmpd_chemblid\n",
    "  , a.active'''\n",
    "\n",
    "\n",
    "data = pd.read_sql(sql, engine)\n",
    "\n",
    "data.shape"
   ]
  },
  {
   "cell_type": "code",
   "execution_count": 18,
   "metadata": {
    "collapsed": true
   },
   "outputs": [],
   "source": [
    "pre_chembl_pmids = []\n",
    "pre_chembl_pmids = list(data['pubmed_id'].unique())"
   ]
  },
  {
   "cell_type": "code",
   "execution_count": 19,
   "metadata": {
    "collapsed": false
   },
   "outputs": [
    {
     "data": {
      "text/plain": [
       "[8474099.0,\n",
       " 1507200.0,\n",
       " nan,\n",
       " 3339603.0,\n",
       " 10447952.0,\n",
       " 1311765.0,\n",
       " 2435903.0,\n",
       " 7837222.0,\n",
       " 2840498.0,\n",
       " 2142737.0]"
      ]
     },
     "execution_count": 19,
     "metadata": {},
     "output_type": "execute_result"
    }
   ],
   "source": [
    "pre_chembl_pmids[:10]"
   ]
  },
  {
   "cell_type": "code",
   "execution_count": 20,
   "metadata": {
    "collapsed": true
   },
   "outputs": [],
   "source": [
    "pre_chembl_pmids.remove(pre_chembl_pmids[2]) # this was 'nan' removed here\n",
    "chembl_pmids = []\n",
    "\n",
    "for pmid in pre_chembl_pmids:\n",
    "    chembl_pmids.append(pmid.astype(int))"
   ]
  },
  {
   "cell_type": "code",
   "execution_count": 21,
   "metadata": {
    "collapsed": false
   },
   "outputs": [
    {
     "data": {
      "text/plain": [
       "81"
      ]
     },
     "execution_count": 21,
     "metadata": {},
     "output_type": "execute_result"
    }
   ],
   "source": [
    "#Number of articles contributing LTCC data in ChEMBL\n",
    "len(set(pre_chembl_pmids))"
   ]
  },
  {
   "cell_type": "code",
   "execution_count": 22,
   "metadata": {
    "collapsed": false
   },
   "outputs": [
    {
     "data": {
      "text/plain": [
       "[8474099,\n",
       " 1507200,\n",
       " 3339603,\n",
       " 10447952,\n",
       " 1311765,\n",
       " 2435903,\n",
       " 7837222,\n",
       " 2840498,\n",
       " 2142737,\n",
       " 2329573]"
      ]
     },
     "execution_count": 22,
     "metadata": {},
     "output_type": "execute_result"
    }
   ],
   "source": [
    "chembl_pmids[:10]"
   ]
  },
  {
   "cell_type": "markdown",
   "metadata": {},
   "source": [
    "### Mirams references (those that had pmid) # This is all references not just LTCC"
   ]
  },
  {
   "cell_type": "code",
   "execution_count": 23,
   "metadata": {
    "collapsed": true
   },
   "outputs": [],
   "source": [
    "Mirams_paper = [21300721]"
   ]
  },
  {
   "cell_type": "code",
   "execution_count": 24,
   "metadata": {
    "collapsed": true
   },
   "outputs": [],
   "source": [
    "#References for IC50 values in Table 1\n",
    "Mirams_refs = [\n",
    "    16308426\n",
    "    , 15599706\n",
    "    , 2176700\n",
    "    , 2434173\n",
    "    , 7532747\n",
    "    , 17005919\n",
    "    , 18048694\n",
    "    , 10742304\n",
    "    , 12130750\n",
    "    , 2579237\n",
    "    , 2571988\n",
    "    , 7527502\n",
    "    , 2050292\n",
    "    , 19673885\n",
    "    , 9374794\n",
    "    , 11961040\n",
    "    , 2434345\n",
    "    , 12686762\n",
    "    , 8709127\n",
    "    , 10325236\n",
    "    , 7629795\n",
    "    , 8431994\n",
    "    , 8996185\n",
    "    , 15385083\n",
    "    , 12644906\n",
    "    , 11743888\n",
    "    , 12007180\n",
    "    , 15790762\n",
    "    , 10769189\n",
    "    , 9876109\n",
    "    , 10924918\n",
    "    , 7109844\n",
    "    , 2426120\n",
    "    , 3012067\n",
    "    , 16843688\n",
    "    , 1175271\n",
    "    , 12176106\n",
    "    , 10028924\n",
    "    , 12966159\n",
    "    , 15579009\n",
    "    , 12667944\n",
    "    , 15637086\n",
    "]"
   ]
  },
  {
   "cell_type": "code",
   "execution_count": 25,
   "metadata": {
    "collapsed": false
   },
   "outputs": [
    {
     "data": {
      "text/plain": [
       "42"
      ]
     },
     "execution_count": 25,
     "metadata": {},
     "output_type": "execute_result"
    }
   ],
   "source": [
    "len(Mirams_refs)"
   ]
  },
  {
   "cell_type": "markdown",
   "metadata": {},
   "source": [
    "### Big query (30,000)"
   ]
  },
  {
   "cell_type": "markdown",
   "metadata": {},
   "source": [
    "#### I have found that results of queries 2 and 5 are complementary, there is some overlap."
   ]
  },
  {
   "cell_type": "code",
   "execution_count": 26,
   "metadata": {
    "collapsed": false
   },
   "outputs": [
    {
     "data": {
      "text/plain": [
       "[(2,\n",
       "  '(ABSTRACT:\"calcium channel\" OR ABSTRACT:\"Ca channel\" OR ABSTRACT:\"Ca(2+) channel\" OR ABSTRACT:\"Ca(2+)-channel\" OR ABSTRACT:\"Ca2+ channel\" OR ABSTRACT:\"Ca2+ current\" OR ABSTRACT:\"calcium current\" OR ABSTRACT:\"Ca current\" OR ABSTRACT:\"Ca(2+) current\" OR ABSTRACT:\"Ca(2+)-current\" OR ABSTRACT:\"Ca++ channel\" OR ABSTRACT:\"Ca++ current\" OR ABSTRACT:\"LTCC\" OR ABSTRACT:\"Ca(V)1.\" OR ABSTRACT:\"CaV1.\" OR ABSTRACT:\"I(Ca)\" OR ABSTRACT:\"(ICa)\" OR ABSTRACT:\"ICa,L\" OR ABSTRACT:\"L-type\") AND (ABSTRACT:\"IC50\" OR ABSTRACT:\"IC(50)\" OR ABSTRACT:\"inhibitory activity\" OR ABSTRACT:\"analogue\" OR ABSTRACT:\"ligand\" OR ABSTRACT:\"potency\" OR ABSTRACT:\"potencies\" OR ABSTRACT:\"inhibitory concentration\" OR ABSTRACT:\"antagonist\" OR ABSTRACT:\"affinity\" OR ABSTRACT:\"EC50\" OR ABSTRACT:\"EC(50)\")',\n",
       "  16875,\n",
       "  '2015-8-11'),\n",
       " (5,\n",
       "  '(ABSTRACT:\"calcium channel\" OR ABSTRACT:\"Ca channel\" OR ABSTRACT:\"Ca(2+) channel\" OR ABSTRACT:\"Ca(2+)-channel\" OR ABSTRACT:\"Ca2+ channel\" OR ABSTRACT:\"Ca2+ current\" OR ABSTRACT:\"calcium current\" OR ABSTRACT:\"Ca current\" OR ABSTRACT:\"Ca(2+) current\" OR ABSTRACT:\"Ca(2+)-current\" OR ABSTRACT:\"LTCC\" OR ABSTRACT:\"Ca(V)1.\" OR ABSTRACT:\"CaV1.\" OR ABSTRACT:\"I(Ca)\" OR ABSTRACT:\"(ICa)\" OR ABSTRACT:\"ICa,L\") AND (ABSTRACT:\"compound\" OR ABSTRACT:\"molecule\" OR ABSTRACT:\"binding\" OR ABSTRACT:\"displacement\" OR ABSTRACT:\"displacing\" OR ABSTRACT:\"chemical\" OR ABSTRACT:\"modulator\" OR ABSTRACT:\"block\")',\n",
       "  26785,\n",
       "  '2015-8-13')]"
      ]
     },
     "execution_count": 26,
     "metadata": {},
     "output_type": "execute_result"
    }
   ],
   "source": [
    "cursor.execute('select * from queries where query_id in (2,5)')\n",
    "cursor.fetchall()"
   ]
  },
  {
   "cell_type": "code",
   "execution_count": 27,
   "metadata": {
    "collapsed": false
   },
   "outputs": [
    {
     "data": {
      "text/plain": [
       "33957"
      ]
     },
     "execution_count": 27,
     "metadata": {},
     "output_type": "execute_result"
    }
   ],
   "source": [
    "#Here are the distinct ones:\n",
    "cursor.execute('select distinct pmid from result_ids where query_id in (2,5)')\n",
    "big_query_pmids = [i[0] for i in cursor.fetchall()]\n",
    "len(big_query_pmids)"
   ]
  },
  {
   "cell_type": "code",
   "execution_count": 28,
   "metadata": {
    "collapsed": false
   },
   "outputs": [
    {
     "data": {
      "text/plain": [
       "43639"
      ]
     },
     "execution_count": 28,
     "metadata": {},
     "output_type": "execute_result"
    }
   ],
   "source": [
    "#Not distinct:\n",
    "cursor.execute('select pmid from result_ids where query_id in (2,5)')\n",
    "len(cursor.fetchall())"
   ]
  },
  {
   "cell_type": "code",
   "execution_count": 30,
   "metadata": {
    "collapsed": false
   },
   "outputs": [
    {
     "data": {
      "image/png": "[encoded data removed]",
      "text/plain": [
       "<matplotlib.figure.Figure at 0x1104bf9b0>"
      ]
     },
     "metadata": {},
     "output_type": "display_data"
    }
   ],
   "source": [
    "c.plot_scores([2,5], db_name = 'cluster_db', figure_title = 'ca')"
   ]
  },
  {
   "cell_type": "markdown",
   "metadata": {},
   "source": [
    "### Comparing top articles from big query with high_category articles from initial 300 query"
   ]
  },
  {
   "cell_type": "code",
   "execution_count": 31,
   "metadata": {
    "collapsed": true
   },
   "outputs": [],
   "source": [
    "cursor.execute('select distinct r.pmid from result_ids r join scores s on r.pmid = s.pmid join article_data a on a.pmid = r.pmid where query_id in (2,5) and score > 0 and in_chembl = 0')\n",
    "top_a_big_query = [i[0] for i in cursor.fetchall()]"
   ]
  },
  {
   "cell_type": "code",
   "execution_count": 32,
   "metadata": {
    "collapsed": false
   },
   "outputs": [
    {
     "data": {
      "text/plain": [
       "1101"
      ]
     },
     "execution_count": 32,
     "metadata": {},
     "output_type": "execute_result"
    }
   ],
   "source": [
    "len(top_a_big_query)"
   ]
  },
  {
   "cell_type": "code",
   "execution_count": 33,
   "metadata": {
    "collapsed": false
   },
   "outputs": [
    {
     "data": {
      "text/plain": [
       "11"
      ]
     },
     "execution_count": 33,
     "metadata": {},
     "output_type": "execute_result"
    }
   ],
   "source": [
    "len(set(high_category_list)&set(top_a_big_query))"
   ]
  },
  {
   "cell_type": "markdown",
   "metadata": {},
   "source": [
    "Conclude: Only 11 overlapping there in top 1100 articles. Farily different set from the HIGH-ranked abstracts."
   ]
  },
  {
   "cell_type": "markdown",
   "metadata": {},
   "source": [
    "### Comparing ChEMBL LTCC refs with top big query"
   ]
  },
  {
   "cell_type": "code",
   "execution_count": 34,
   "metadata": {
    "collapsed": false
   },
   "outputs": [
    {
     "data": {
      "text/plain": [
       "32"
      ]
     },
     "execution_count": 34,
     "metadata": {},
     "output_type": "execute_result"
    }
   ],
   "source": [
    "cursor.execute('select distinct r.pmid from result_ids r join scores s on r.pmid = s.pmid join article_data a on a.pmid = r.pmid where query_id in (2,5)')\n",
    "top_b_big_query = [i[0] for i in cursor.fetchall()]\n",
    "len(set(chembl_pmids)&set(top_b_big_query))"
   ]
  },
  {
   "cell_type": "markdown",
   "metadata": {},
   "source": [
    "32/81 chembl references are in the articles from the big search. These are almost all in the top though (b/c of ChEMBL-likeness score :) at least that's working):"
   ]
  },
  {
   "cell_type": "code",
   "execution_count": 35,
   "metadata": {
    "collapsed": false
   },
   "outputs": [
    {
     "data": {
      "text/plain": [
       "29"
      ]
     },
     "execution_count": 35,
     "metadata": {},
     "output_type": "execute_result"
    }
   ],
   "source": [
    "cursor.execute('select distinct r.pmid from result_ids r join scores s on r.pmid = s.pmid join article_data a on a.pmid = r.pmid where query_id in (2,5) and score > 0')\n",
    "top_c_big_query = [i[0] for i in cursor.fetchall()]\n",
    "len(set(chembl_pmids)&set(top_c_big_query))"
   ]
  },
  {
   "cell_type": "code",
   "execution_count": 36,
   "metadata": {
    "collapsed": false
   },
   "outputs": [
    {
     "data": {
      "text/plain": [
       "1299"
      ]
     },
     "execution_count": 36,
     "metadata": {},
     "output_type": "execute_result"
    }
   ],
   "source": [
    "len(top_c_big_query)"
   ]
  },
  {
   "cell_type": "markdown",
   "metadata": {},
   "source": [
    "### Comparing Mirams refs with top big query"
   ]
  },
  {
   "cell_type": "code",
   "execution_count": 37,
   "metadata": {
    "collapsed": false
   },
   "outputs": [
    {
     "data": {
      "text/plain": [
       "False"
      ]
     },
     "execution_count": 37,
     "metadata": {},
     "output_type": "execute_result"
    }
   ],
   "source": [
    "Mirams_paper in top_a_big_query"
   ]
  },
  {
   "cell_type": "markdown",
   "metadata": {},
   "source": [
    "Mirams paper is not in the top 1100 - low ChEMBL-likeness score:"
   ]
  },
  {
   "cell_type": "code",
   "execution_count": 38,
   "metadata": {
    "collapsed": false
   },
   "outputs": [
    {
     "data": {
      "text/plain": [
       "[(21300721, -17.29)]"
      ]
     },
     "execution_count": 38,
     "metadata": {},
     "output_type": "execute_result"
    }
   ],
   "source": [
    "cursor.execute('select * from scores where pmid = {}'.format(Mirams_paper[0]))\n",
    "cursor.fetchall()"
   ]
  },
  {
   "cell_type": "code",
   "execution_count": 158,
   "metadata": {
    "collapsed": false
   },
   "outputs": [
    {
     "data": {
      "text/plain": [
       "14856"
      ]
     },
     "execution_count": 158,
     "metadata": {},
     "output_type": "execute_result"
    }
   ],
   "source": [
    "cursor.execute(\"select distinct r.pmid from result_ids r join scores s on r.pmid = s.pmid join article_data a on a.pmid = r.pmid where query_id in (2,5) and score > -17.29 and in_chembl = '0'\")\n",
    "len(cursor.fetchall())"
   ]
  },
  {
   "cell_type": "markdown",
   "metadata": {},
   "source": [
    "Mirams' paper has rank 15000 "
   ]
  },
  {
   "cell_type": "code",
   "execution_count": 160,
   "metadata": {
    "collapsed": false
   },
   "outputs": [
    {
     "data": {
      "text/plain": [
       "18612"
      ]
     },
     "execution_count": 160,
     "metadata": {},
     "output_type": "execute_result"
    }
   ],
   "source": [
    "cursor.execute(\"select distinct r.pmid from result_ids r join scores s on r.pmid = s.pmid join article_data a on a.pmid = r.pmid where query_id in (2,5) and in_chembl = '0' and score < -17.29\")\n",
    "len(cursor.fetchall())"
   ]
  },
  {
   "cell_type": "markdown",
   "metadata": {},
   "source": [
    "How many of its total 42 refs are found in the top?"
   ]
  },
  {
   "cell_type": "code",
   "execution_count": 161,
   "metadata": {
    "collapsed": false
   },
   "outputs": [
    {
     "data": {
      "text/plain": [
       "17"
      ]
     },
     "execution_count": 161,
     "metadata": {},
     "output_type": "execute_result"
    }
   ],
   "source": [
    "len(set(Mirams_refs)&set(top_b_big_query))"
   ]
  },
  {
   "cell_type": "markdown",
   "metadata": {},
   "source": [
    "## Comparison with Wiśniowska ea 2012 article"
   ]
  },
  {
   "cell_type": "code",
   "execution_count": 68,
   "metadata": {
    "collapsed": true
   },
   "outputs": [],
   "source": [
    "Wisniowska_pmid = 22761000"
   ]
  },
  {
   "cell_type": "code",
   "execution_count": 69,
   "metadata": {
    "collapsed": false
   },
   "outputs": [
    {
     "data": {
      "text/plain": [
       "False"
      ]
     },
     "execution_count": 69,
     "metadata": {},
     "output_type": "execute_result"
    }
   ],
   "source": [
    "Wisniowska_pmid in top_a_big_query"
   ]
  },
  {
   "cell_type": "code",
   "execution_count": 134,
   "metadata": {
    "collapsed": false
   },
   "outputs": [
    {
     "data": {
      "text/plain": [
       "True"
      ]
     },
     "execution_count": 134,
     "metadata": {},
     "output_type": "execute_result"
    }
   ],
   "source": [
    "Wisniowska_pmid in top_b_big_query"
   ]
  },
  {
   "cell_type": "code",
   "execution_count": 143,
   "metadata": {
    "collapsed": false
   },
   "outputs": [
    {
     "data": {
      "text/plain": [
       "<sqlite3.Cursor at 0x10d962a40>"
      ]
     },
     "execution_count": 143,
     "metadata": {},
     "output_type": "execute_result"
    }
   ],
   "source": [
    "cursor.execute('select * from scores where pmid = 22761000')"
   ]
  },
  {
   "cell_type": "code",
   "execution_count": 144,
   "metadata": {
    "collapsed": false
   },
   "outputs": [
    {
     "data": {
      "text/plain": [
       "[(22761000, -30.06)]"
      ]
     },
     "execution_count": 144,
     "metadata": {},
     "output_type": "execute_result"
    }
   ],
   "source": [
    "cursor.fetchall()"
   ]
  },
  {
   "cell_type": "code",
   "execution_count": 154,
   "metadata": {
    "collapsed": false
   },
   "outputs": [
    {
     "data": {
      "text/plain": [
       "24897"
      ]
     },
     "execution_count": 154,
     "metadata": {},
     "output_type": "execute_result"
    }
   ],
   "source": [
    "# This is the rank \n",
    "cursor.execute('''select distinct r.pmid from result_ids r join scores s on r.pmid = s.pmid join article_data a on a.pmid = r.pmid where query_id in (2,5) and in_chembl = 0 and score > -30.06''')\n",
    "len(cursor.fetchall())"
   ]
  },
  {
   "cell_type": "code",
   "execution_count": 176,
   "metadata": {
    "collapsed": false
   },
   "outputs": [
    {
     "data": {
      "text/plain": [
       "33476"
      ]
     },
     "execution_count": 176,
     "metadata": {},
     "output_type": "execute_result"
    }
   ],
   "source": [
    "# out of:\n",
    "cursor.execute(\"select distinct r.pmid from result_ids r join scores s on r.pmid = s.pmid join article_data a on a.pmid = r.pmid where query_id in (2,5) and in_chembl = 0\")\n",
    "len(cursor.fetchall())"
   ]
  },
  {
   "cell_type": "markdown",
   "metadata": {},
   "source": [
    "### Import pmids of the references"
   ]
  },
  {
   "cell_type": "code",
   "execution_count": 83,
   "metadata": {
    "collapsed": false,
    "scrolled": true
   },
   "outputs": [],
   "source": [
    "Wisniowska_suppl = pd.read_csv('Wisniowska_suppl.txt', sep = '\\t')"
   ]
  },
  {
   "cell_type": "code",
   "execution_count": 85,
   "metadata": {
    "collapsed": false
   },
   "outputs": [
    {
     "data": {
      "text/html": [
       "<div style=\"max-height:1000px;max-width:1500px;overflow:auto;\">\n",
       "<table border=\"1\" class=\"dataframe\">\n",
       "  <thead>\n",
       "    <tr style=\"text-align: right;\">\n",
       "      <th></th>\n",
       "      <th>Number</th>\n",
       "      <th>Compound</th>\n",
       "      <th>IC50 (µM)</th>\n",
       "      <th>Reference (PMID)</th>\n",
       "      <th>Cellular model</th>\n",
       "      <th>Temperature (°C)</th>\n",
       "      <th>Ca2+ bath solution [mM]</th>\n",
       "      <th>Technique</th>\n",
       "      <th>t1 pulse (s)</th>\n",
       "      <th>Holding potential (mV)</th>\n",
       "      <th>Depolarization</th>\n",
       "    </tr>\n",
       "  </thead>\n",
       "  <tbody>\n",
       "    <tr>\n",
       "      <th>0</th>\n",
       "      <td> /measurement voltage (mV)</td>\n",
       "      <td>           NaN</td>\n",
       "      <td>  NaN</td>\n",
       "      <td>      NaN</td>\n",
       "      <td>           NaN</td>\n",
       "      <td>   NaN</td>\n",
       "      <td> NaN</td>\n",
       "      <td>           NaN</td>\n",
       "      <td>  NaN</td>\n",
       "      <td>NaN</td>\n",
       "      <td>NaN</td>\n",
       "    </tr>\n",
       "    <tr>\n",
       "      <th>1</th>\n",
       "      <td>                         1</td>\n",
       "      <td>      Ajmaline</td>\n",
       "      <td> 70.8</td>\n",
       "      <td> 16308426</td>\n",
       "      <td>        rat VM</td>\n",
       "      <td>  room</td>\n",
       "      <td> 0.9</td>\n",
       "      <td> Whole cell PC</td>\n",
       "      <td> 0.30</td>\n",
       "      <td>-40</td>\n",
       "      <td>  0</td>\n",
       "    </tr>\n",
       "    <tr>\n",
       "      <th>2</th>\n",
       "      <td>                         2</td>\n",
       "      <td> Amitriptyline</td>\n",
       "      <td> 23.2</td>\n",
       "      <td> 18048694</td>\n",
       "      <td> guinea pig VM</td>\n",
       "      <td> 20-24</td>\n",
       "      <td> 1.0</td>\n",
       "      <td> Whole cell PC</td>\n",
       "      <td> 0.07</td>\n",
       "      <td>-50</td>\n",
       "      <td>  0</td>\n",
       "    </tr>\n",
       "    <tr>\n",
       "      <th>3</th>\n",
       "      <td>                         3</td>\n",
       "      <td> Amitriptyline</td>\n",
       "      <td> 3.75</td>\n",
       "      <td> 10333718</td>\n",
       "      <td>        rat VM</td>\n",
       "      <td>  room</td>\n",
       "      <td> 2.0</td>\n",
       "      <td> Whole cell PC</td>\n",
       "      <td> 0.20</td>\n",
       "      <td>-40</td>\n",
       "      <td>  0</td>\n",
       "    </tr>\n",
       "    <tr>\n",
       "      <th>4</th>\n",
       "      <td>                         4</td>\n",
       "      <td>    Amlodipine</td>\n",
       "      <td> 0.57</td>\n",
       "      <td>  9098694</td>\n",
       "      <td> guinea pig VM</td>\n",
       "      <td>    37</td>\n",
       "      <td> 1.8</td>\n",
       "      <td> Whole cell PC</td>\n",
       "      <td> 0.35</td>\n",
       "      <td>-40</td>\n",
       "      <td>  0</td>\n",
       "    </tr>\n",
       "  </tbody>\n",
       "</table>\n",
       "</div>"
      ],
      "text/plain": [
       "                      Number       Compound IC50 (µM) Reference (PMID)  \\\n",
       "0  /measurement voltage (mV)            NaN       NaN              NaN   \n",
       "1                          1       Ajmaline      70.8         16308426   \n",
       "2                          2  Amitriptyline      23.2         18048694   \n",
       "3                          3  Amitriptyline      3.75         10333718   \n",
       "4                          4     Amlodipine      0.57          9098694   \n",
       "\n",
       "  Cellular model Temperature (°C)  Ca2+ bath solution [mM]      Technique  \\\n",
       "0            NaN              NaN                      NaN            NaN   \n",
       "1         rat VM             room                      0.9  Whole cell PC   \n",
       "2  guinea pig VM            20-24                      1.0  Whole cell PC   \n",
       "3         rat VM             room                      2.0  Whole cell PC   \n",
       "4  guinea pig VM               37                      1.8  Whole cell PC   \n",
       "\n",
       "   t1 pulse (s)  Holding potential (mV)  Depolarization  \n",
       "0           NaN                     NaN             NaN  \n",
       "1          0.30                     -40               0  \n",
       "2          0.07                     -50               0  \n",
       "3          0.20                     -40               0  \n",
       "4          0.35                     -40               0  "
      ]
     },
     "execution_count": 85,
     "metadata": {},
     "output_type": "execute_result"
    }
   ],
   "source": [
    "Wisniowska_suppl.head()"
   ]
  },
  {
   "cell_type": "code",
   "execution_count": 121,
   "metadata": {
    "collapsed": false
   },
   "outputs": [],
   "source": [
    "Wisniowska_refs = list(Wisniowska_suppl.loc[1:,'Reference (PMID)'])"
   ]
  },
  {
   "cell_type": "code",
   "execution_count": 122,
   "metadata": {
    "collapsed": false
   },
   "outputs": [],
   "source": [
    "Wisniowska_refs.remove('Arikawa 2002')"
   ]
  },
  {
   "cell_type": "code",
   "execution_count": 123,
   "metadata": {
    "collapsed": false
   },
   "outputs": [
    {
     "data": {
      "text/plain": [
       "122"
      ]
     },
     "execution_count": 123,
     "metadata": {},
     "output_type": "execute_result"
    }
   ],
   "source": [
    "len(Wisniowska_refs)"
   ]
  },
  {
   "cell_type": "code",
   "execution_count": 124,
   "metadata": {
    "collapsed": false
   },
   "outputs": [],
   "source": [
    "Wisniowska_refs = [int(i) for i in Wisniowska_refs]"
   ]
  },
  {
   "cell_type": "code",
   "execution_count": 125,
   "metadata": {
    "collapsed": false
   },
   "outputs": [
    {
     "data": {
      "text/plain": [
       "[16308426,\n",
       " 18048694,\n",
       " 10333718,\n",
       " 9098694,\n",
       " 10525060,\n",
       " 10525060,\n",
       " 17804608,\n",
       " 17804608,\n",
       " 11334859,\n",
       " 10525060]"
      ]
     },
     "execution_count": 125,
     "metadata": {},
     "output_type": "execute_result"
    }
   ],
   "source": [
    "Wisniowska_refs[:10]"
   ]
  },
  {
   "cell_type": "code",
   "execution_count": 131,
   "metadata": {
    "collapsed": false
   },
   "outputs": [
    {
     "data": {
      "text/plain": [
       "42"
      ]
     },
     "execution_count": 131,
     "metadata": {},
     "output_type": "execute_result"
    }
   ],
   "source": [
    "len(set(Wisniowska_refs) & set(top_b_big_query))"
   ]
  },
  {
   "cell_type": "code",
   "execution_count": 133,
   "metadata": {
    "collapsed": false
   },
   "outputs": [
    {
     "data": {
      "text/plain": [
       "33697"
      ]
     },
     "execution_count": 133,
     "metadata": {},
     "output_type": "execute_result"
    }
   ],
   "source": []
  },
  {
   "cell_type": "markdown",
   "metadata": {},
   "source": [
    "### Define rank function"
   ]
  },
  {
   "cell_type": "code",
   "execution_count": 164,
   "metadata": {
    "collapsed": true
   },
   "outputs": [],
   "source": [
    "# now have set in_chembl = '0'.\n",
    "def get_rank(query_id_list, pmid):\n",
    "    # get score for pmid\n",
    "    # get length of list of pmids with score higher than that score for given query_ids\n",
    "    # return rank\n",
    "    query_id = str(query_id_list).strip('[]')\n",
    "    cursor.execute('select score from scores where pmid = {}'.format(pmid))\n",
    "    score = cursor.fetchall()[0][0]\n",
    "    cursor.execute('''select distinct r.pmid from result_ids r join scores s on r.pmid = s.pmid join article_data a on a.pmid = r.pmid where query_id in ({}) \n",
    "                    and score > {} and in_chembl = 0\n",
    "                   '''.format(query_id, score))\n",
    "    return (pmid, len(cursor.fetchall()))"
   ]
  },
  {
   "cell_type": "code",
   "execution_count": 165,
   "metadata": {
    "collapsed": false
   },
   "outputs": [
    {
     "data": {
      "text/plain": [
       "(22761000, 24897)"
      ]
     },
     "execution_count": 165,
     "metadata": {},
     "output_type": "execute_result"
    }
   ],
   "source": [
    "get_rank([2,5],pmid = 22761000)"
   ]
  },
  {
   "cell_type": "code",
   "execution_count": 166,
   "metadata": {
    "collapsed": false
   },
   "outputs": [
    {
     "data": {
      "text/plain": [
       "(21300721, 14856)"
      ]
     },
     "execution_count": 166,
     "metadata": {},
     "output_type": "execute_result"
    }
   ],
   "source": [
    "get_rank([2,5],pmid = 21300721)"
   ]
  },
  {
   "cell_type": "markdown",
   "metadata": {},
   "source": [
    "### Get rank for 42 references found"
   ]
  },
  {
   "cell_type": "code",
   "execution_count": 177,
   "metadata": {
    "collapsed": false
   },
   "outputs": [
    {
     "data": {
      "text/plain": [
       "33476"
      ]
     },
     "execution_count": 177,
     "metadata": {},
     "output_type": "execute_result"
    }
   ],
   "source": [
    "cursor.execute(\"select distinct r.pmid from result_ids r join scores s on r.pmid = s.pmid join article_data a on a.pmid = r.pmid where query_id in (2,5) and in_chembl = 0\")\n",
    "len(cursor.fetchall()) \n",
    "# excluding articles already in ChEMBL"
   ]
  },
  {
   "cell_type": "code",
   "execution_count": 167,
   "metadata": {
    "collapsed": true
   },
   "outputs": [],
   "source": [
    "Wisniowska_overlap = list(set(Wisniowska_refs) & set(top_b_big_query))"
   ]
  },
  {
   "cell_type": "code",
   "execution_count": 168,
   "metadata": {
    "collapsed": false
   },
   "outputs": [
    {
     "data": {
      "text/plain": [
       "42"
      ]
     },
     "execution_count": 168,
     "metadata": {},
     "output_type": "execute_result"
    }
   ],
   "source": [
    "len(Wisniowska_overlap)"
   ]
  },
  {
   "cell_type": "code",
   "execution_count": 170,
   "metadata": {
    "collapsed": false
   },
   "outputs": [],
   "source": [
    "Wisniowska_ranks = []\n",
    "for current_pmid in Wisniowska_overlap:\n",
    "    Wisniowska_ranks.append(get_rank([2,5],pmid=current_pmid))"
   ]
  },
  {
   "cell_type": "code",
   "execution_count": 173,
   "metadata": {
    "collapsed": false
   },
   "outputs": [
    {
     "data": {
      "text/plain": [
       "[(11065219, 13080),\n",
       " (10525060, 2834),\n",
       " (19367686, 15622),\n",
       " (10900233, 18649),\n",
       " (8531209, 10267),\n",
       " (7712017, 22584),\n",
       " (7881746, 9973),\n",
       " (10333718, 16560),\n",
       " (12808473, 8415),\n",
       " (10884509, 12255)]"
      ]
     },
     "execution_count": 173,
     "metadata": {},
     "output_type": "execute_result"
    }
   ],
   "source": [
    "Wisniowska_ranks[:10]"
   ]
  },
  {
   "cell_type": "markdown",
   "metadata": {
    "collapsed": true
   },
   "source": [
    "### Query_id 9 (with terms according to article)"
   ]
  },
  {
   "cell_type": "code",
   "execution_count": 185,
   "metadata": {
    "collapsed": false
   },
   "outputs": [
    {
     "data": {
      "text/plain": [
       "[(9,\n",
       "  '(ABSTRACT:\"calcium channel\" OR ABSTRACT:\"Ca channel\" OR ABSTRACT:\"Ca(2+) channel\" OR ABSTRACT:\"Ca(2+)-channel\" OR ABSTRACT:\"Ca2+ channel\" OR ABSTRACT:\"Ca2+ current\" OR ABSTRACT:\"calcium current\" OR ABSTRACT:\"Ca current\" OR ABSTRACT:\"Ca(2+) current\" OR ABSTRACT:\"Ca(2+)-current\" OR ABSTRACT:\"Ca++ channel\" OR ABSTRACT:\"Ca++ current\" OR ABSTRACT:\"LTCC\" OR ABSTRACT:\"I(Ca)\" OR ABSTRACT:\"(ICa)\" OR ABSTRACT:\"ICa,L\" OR ABSTRACT:\"L-type\" OR ABSTRACT:\"Ca(V)1.2\" OR ABSTRACT:\"CaV1.2\") AND (ABSTRACT:\"IC50\" OR ABSTRACT:\"IC(50)\")',\n",
       "  2033,\n",
       "  '2015-9-23')]"
      ]
     },
     "execution_count": 185,
     "metadata": {},
     "output_type": "execute_result"
    }
   ],
   "source": [
    "cursor.execute('select * from queries where query_id = 9')\n",
    "cursor.fetchall()"
   ]
  },
  {
   "cell_type": "code",
   "execution_count": 186,
   "metadata": {
    "collapsed": true
   },
   "outputs": [],
   "source": [
    "cursor.execute('select distinct pmid from result_ids where query_id = 9')\n",
    "query9_list = [i[0] for i in cursor.fetchall()]"
   ]
  },
  {
   "cell_type": "code",
   "execution_count": 187,
   "metadata": {
    "collapsed": false
   },
   "outputs": [
    {
     "data": {
      "text/plain": [
       "2033"
      ]
     },
     "execution_count": 187,
     "metadata": {},
     "output_type": "execute_result"
    }
   ],
   "source": [
    "len(query9_list)"
   ]
  },
  {
   "cell_type": "code",
   "execution_count": null,
   "metadata": {
    "collapsed": true
   },
   "outputs": [],
   "source": [
    "# "
   ]
  },
  {
   "cell_type": "code",
   "execution_count": 200,
   "metadata": {
    "collapsed": false
   },
   "outputs": [
    {
     "data": {
      "text/plain": [
       "29"
      ]
     },
     "execution_count": 200,
     "metadata": {},
     "output_type": "execute_result"
    }
   ],
   "source": [
    "len(set(set(Wisniowska_refs) & set(query9_list)))"
   ]
  },
  {
   "cell_type": "code",
   "execution_count": 190,
   "metadata": {
    "collapsed": false
   },
   "outputs": [
    {
     "data": {
      "text/plain": [
       "[(9, 2420970)]"
      ]
     },
     "execution_count": 190,
     "metadata": {},
     "output_type": "execute_result"
    }
   ],
   "source": [
    "cursor.execute('select * from result_ids where pmid = 2420970 and query_id = 9')\n",
    "cursor.fetchall()"
   ]
  },
  {
   "cell_type": "code",
   "execution_count": 196,
   "metadata": {
    "collapsed": false
   },
   "outputs": [
    {
     "data": {
      "text/plain": [
       "[]"
      ]
     },
     "execution_count": 196,
     "metadata": {},
     "output_type": "execute_result"
    }
   ],
   "source": [
    "cursor.execute('select * from result_ids where pmid = 7712017 and query_id = 9')\n",
    "cursor.fetchall()"
   ]
  },
  {
   "cell_type": "code",
   "execution_count": 198,
   "metadata": {
    "collapsed": false
   },
   "outputs": [
    {
     "data": {
      "text/plain": [
       "29"
      ]
     },
     "execution_count": 198,
     "metadata": {},
     "output_type": "execute_result"
    }
   ],
   "source": [
    "len(set(Wisniowska_refs) & set(query9_list))"
   ]
  },
  {
   "cell_type": "code",
   "execution_count": 201,
   "metadata": {
    "collapsed": false
   },
   "outputs": [
    {
     "data": {
      "text/plain": [
       "False"
      ]
     },
     "execution_count": 201,
     "metadata": {},
     "output_type": "execute_result"
    }
   ],
   "source": [
    "7712017 in set(query9_list)"
   ]
  },
  {
   "cell_type": "code",
   "execution_count": null,
   "metadata": {
    "collapsed": true
   },
   "outputs": [],
   "source": []
  },
  {
   "cell_type": "code",
   "execution_count": null,
   "metadata": {
    "collapsed": true
   },
   "outputs": [],
   "source": []
  },
  {
   "cell_type": "code",
   "execution_count": null,
   "metadata": {
    "collapsed": true
   },
   "outputs": [],
   "source": []
  },
  {
   "cell_type": "code",
   "execution_count": null,
   "metadata": {
    "collapsed": true
   },
   "outputs": [],
   "source": []
  },
  {
   "cell_type": "code",
   "execution_count": null,
   "metadata": {
    "collapsed": true
   },
   "outputs": [],
   "source": []
  },
  {
   "cell_type": "code",
   "execution_count": null,
   "metadata": {
    "collapsed": true
   },
   "outputs": [],
   "source": []
  },
  {
   "cell_type": "markdown",
   "metadata": {},
   "source": [
    "# Some things out of interest"
   ]
  },
  {
   "cell_type": "markdown",
   "metadata": {},
   "source": [
    "### Number or compounds per reference for ChEMBL LTCC references"
   ]
  },
  {
   "cell_type": "code",
   "execution_count": 42,
   "metadata": {
    "collapsed": false
   },
   "outputs": [],
   "source": [
    "data?"
   ]
  },
  {
   "cell_type": "code",
   "execution_count": 43,
   "metadata": {
    "collapsed": false
   },
   "outputs": [
    {
     "data": {
      "text/plain": [
       "Index(['target_chemblid', 'pref_name', 'target_type', 'organism', 'species', 'relationship_type', 'assay_chemblid', 'description', 'assay_organism', 'parent_cmpd_chemblid', 'cmpd_chemblid', 'standard_type', 'standard_relation', 'standard_value', 'standard_units', 'pchembl_value', 'activity_comment', 'data_validity_comment', 'potential_duplicate', 'compound_key', 'published_type', 'published_relation', 'published_value', 'published_units', 'doc_chemblid', 'pubmed_id', 'reference', 'active'], dtype='object')"
      ]
     },
     "execution_count": 43,
     "metadata": {},
     "output_type": "execute_result"
    }
   ],
   "source": [
    "data.columns"
   ]
  },
  {
   "cell_type": "code",
   "execution_count": 44,
   "metadata": {
    "collapsed": false,
    "scrolled": false
   },
   "outputs": [
    {
     "data": {
      "text/html": [
       "<div style=\"max-height:1000px;max-width:1500px;overflow:auto;\">\n",
       "<table border=\"1\" class=\"dataframe\">\n",
       "  <thead>\n",
       "    <tr style=\"text-align: right;\">\n",
       "      <th></th>\n",
       "      <th>target_chemblid</th>\n",
       "      <th>pref_name</th>\n",
       "      <th>target_type</th>\n",
       "      <th>organism</th>\n",
       "      <th>species</th>\n",
       "      <th>relationship_type</th>\n",
       "      <th>assay_chemblid</th>\n",
       "      <th>description</th>\n",
       "      <th>assay_organism</th>\n",
       "      <th>parent_cmpd_chemblid</th>\n",
       "      <th>...</th>\n",
       "      <th>potential_duplicate</th>\n",
       "      <th>compound_key</th>\n",
       "      <th>published_type</th>\n",
       "      <th>published_relation</th>\n",
       "      <th>published_value</th>\n",
       "      <th>published_units</th>\n",
       "      <th>doc_chemblid</th>\n",
       "      <th>pubmed_id</th>\n",
       "      <th>reference</th>\n",
       "      <th>active</th>\n",
       "    </tr>\n",
       "  </thead>\n",
       "  <tbody>\n",
       "    <tr>\n",
       "      <th>0</th>\n",
       "      <td> CHEMBL1940</td>\n",
       "      <td> Voltage-gated L-type calcium channel alpha-1C subunit</td>\n",
       "      <td> SINGLE PROTEIN</td>\n",
       "      <td> Homo sapiens</td>\n",
       "      <td> Cat</td>\n",
       "      <td> H</td>\n",
       "      <td> CHEMBL656260</td>\n",
       "      <td> Inhibition of (-)-[3H]- D-888 binding to L-type calcium channels in kitten heart ventricle membranes</td>\n",
       "      <td> Felis catus</td>\n",
       "      <td> CHEMBL138302</td>\n",
       "      <td>...</td>\n",
       "      <td>NaN</td>\n",
       "      <td> 2d</td>\n",
       "      <td> IC50</td>\n",
       "      <td> =</td>\n",
       "      <td> 0.26</td>\n",
       "      <td> uM</td>\n",
       "      <td> CHEMBL1127038</td>\n",
       "      <td> 8474099</td>\n",
       "      <td> J. Med. Chem., v. 36, p. 439 (1993)</td>\n",
       "      <td> 1</td>\n",
       "    </tr>\n",
       "    <tr>\n",
       "      <th>1</th>\n",
       "      <td> CHEMBL1940</td>\n",
       "      <td> Voltage-gated L-type calcium channel alpha-1C subunit</td>\n",
       "      <td> SINGLE PROTEIN</td>\n",
       "      <td> Homo sapiens</td>\n",
       "      <td> Cat</td>\n",
       "      <td> H</td>\n",
       "      <td> CHEMBL656260</td>\n",
       "      <td> Inhibition of (-)-[3H]- D-888 binding to L-type calcium channels in kitten heart ventricle membranes</td>\n",
       "      <td> Felis catus</td>\n",
       "      <td> CHEMBL138302</td>\n",
       "      <td>...</td>\n",
       "      <td>NaN</td>\n",
       "      <td> 2a</td>\n",
       "      <td> IC50</td>\n",
       "      <td> =</td>\n",
       "      <td> 0.39</td>\n",
       "      <td> uM</td>\n",
       "      <td> CHEMBL1127038</td>\n",
       "      <td> 8474099</td>\n",
       "      <td> J. Med. Chem., v. 36, p. 439 (1993)</td>\n",
       "      <td> 1</td>\n",
       "    </tr>\n",
       "    <tr>\n",
       "      <th>2</th>\n",
       "      <td> CHEMBL1940</td>\n",
       "      <td> Voltage-gated L-type calcium channel alpha-1C subunit</td>\n",
       "      <td> SINGLE PROTEIN</td>\n",
       "      <td> Homo sapiens</td>\n",
       "      <td> Cat</td>\n",
       "      <td> H</td>\n",
       "      <td> CHEMBL656260</td>\n",
       "      <td> Inhibition of (-)-[3H]- D-888 binding to L-type calcium channels in kitten heart ventricle membranes</td>\n",
       "      <td> Felis catus</td>\n",
       "      <td> CHEMBL138302</td>\n",
       "      <td>...</td>\n",
       "      <td>NaN</td>\n",
       "      <td> 2c</td>\n",
       "      <td> IC50</td>\n",
       "      <td> =</td>\n",
       "      <td> 0.50</td>\n",
       "      <td> uM</td>\n",
       "      <td> CHEMBL1127038</td>\n",
       "      <td> 8474099</td>\n",
       "      <td> J. Med. Chem., v. 36, p. 439 (1993)</td>\n",
       "      <td> 1</td>\n",
       "    </tr>\n",
       "    <tr>\n",
       "      <th>3</th>\n",
       "      <td> CHEMBL1940</td>\n",
       "      <td> Voltage-gated L-type calcium channel alpha-1C subunit</td>\n",
       "      <td> SINGLE PROTEIN</td>\n",
       "      <td> Homo sapiens</td>\n",
       "      <td> Cat</td>\n",
       "      <td> H</td>\n",
       "      <td> CHEMBL656260</td>\n",
       "      <td> Inhibition of (-)-[3H]- D-888 binding to L-type calcium channels in kitten heart ventricle membranes</td>\n",
       "      <td> Felis catus</td>\n",
       "      <td> CHEMBL138302</td>\n",
       "      <td>...</td>\n",
       "      <td>NaN</td>\n",
       "      <td> 2b</td>\n",
       "      <td> IC50</td>\n",
       "      <td> =</td>\n",
       "      <td> 0.27</td>\n",
       "      <td> uM</td>\n",
       "      <td> CHEMBL1127038</td>\n",
       "      <td> 8474099</td>\n",
       "      <td> J. Med. Chem., v. 36, p. 439 (1993)</td>\n",
       "      <td> 1</td>\n",
       "    </tr>\n",
       "    <tr>\n",
       "      <th>4</th>\n",
       "      <td> CHEMBL1940</td>\n",
       "      <td> Voltage-gated L-type calcium channel alpha-1C subunit</td>\n",
       "      <td> SINGLE PROTEIN</td>\n",
       "      <td> Homo sapiens</td>\n",
       "      <td> Cat</td>\n",
       "      <td> H</td>\n",
       "      <td> CHEMBL656260</td>\n",
       "      <td> Inhibition of (-)-[3H]- D-888 binding to L-type calcium channels in kitten heart ventricle membranes</td>\n",
       "      <td> Felis catus</td>\n",
       "      <td> CHEMBL343771</td>\n",
       "      <td>...</td>\n",
       "      <td>NaN</td>\n",
       "      <td> 7a</td>\n",
       "      <td> IC50</td>\n",
       "      <td> =</td>\n",
       "      <td> 0.48</td>\n",
       "      <td> uM</td>\n",
       "      <td> CHEMBL1127038</td>\n",
       "      <td> 8474099</td>\n",
       "      <td> J. Med. Chem., v. 36, p. 439 (1993)</td>\n",
       "      <td> 1</td>\n",
       "    </tr>\n",
       "  </tbody>\n",
       "</table>\n",
       "<p>5 rows × 28 columns</p>\n",
       "</div>"
      ],
      "text/plain": [
       "  target_chemblid                                              pref_name  \\\n",
       "0      CHEMBL1940  Voltage-gated L-type calcium channel alpha-1C subunit   \n",
       "1      CHEMBL1940  Voltage-gated L-type calcium channel alpha-1C subunit   \n",
       "2      CHEMBL1940  Voltage-gated L-type calcium channel alpha-1C subunit   \n",
       "3      CHEMBL1940  Voltage-gated L-type calcium channel alpha-1C subunit   \n",
       "4      CHEMBL1940  Voltage-gated L-type calcium channel alpha-1C subunit   \n",
       "\n",
       "      target_type      organism species relationship_type assay_chemblid  \\\n",
       "0  SINGLE PROTEIN  Homo sapiens     Cat                 H   CHEMBL656260   \n",
       "1  SINGLE PROTEIN  Homo sapiens     Cat                 H   CHEMBL656260   \n",
       "2  SINGLE PROTEIN  Homo sapiens     Cat                 H   CHEMBL656260   \n",
       "3  SINGLE PROTEIN  Homo sapiens     Cat                 H   CHEMBL656260   \n",
       "4  SINGLE PROTEIN  Homo sapiens     Cat                 H   CHEMBL656260   \n",
       "\n",
       "                                                                                            description  \\\n",
       "0  Inhibition of (-)-[3H]- D-888 binding to L-type calcium channels in kitten heart ventricle membranes   \n",
       "1  Inhibition of (-)-[3H]- D-888 binding to L-type calcium channels in kitten heart ventricle membranes   \n",
       "2  Inhibition of (-)-[3H]- D-888 binding to L-type calcium channels in kitten heart ventricle membranes   \n",
       "3  Inhibition of (-)-[3H]- D-888 binding to L-type calcium channels in kitten heart ventricle membranes   \n",
       "4  Inhibition of (-)-[3H]- D-888 binding to L-type calcium channels in kitten heart ventricle membranes   \n",
       "\n",
       "  assay_organism parent_cmpd_chemblid  ...   potential_duplicate compound_key  \\\n",
       "0    Felis catus         CHEMBL138302  ...                   NaN           2d   \n",
       "1    Felis catus         CHEMBL138302  ...                   NaN           2a   \n",
       "2    Felis catus         CHEMBL138302  ...                   NaN           2c   \n",
       "3    Felis catus         CHEMBL138302  ...                   NaN           2b   \n",
       "4    Felis catus         CHEMBL343771  ...                   NaN           7a   \n",
       "\n",
       "  published_type  published_relation published_value  published_units  \\\n",
       "0           IC50                   =            0.26               uM   \n",
       "1           IC50                   =            0.39               uM   \n",
       "2           IC50                   =            0.50               uM   \n",
       "3           IC50                   =            0.27               uM   \n",
       "4           IC50                   =            0.48               uM   \n",
       "\n",
       "    doc_chemblid pubmed_id                            reference active  \n",
       "0  CHEMBL1127038   8474099  J. Med. Chem., v. 36, p. 439 (1993)      1  \n",
       "1  CHEMBL1127038   8474099  J. Med. Chem., v. 36, p. 439 (1993)      1  \n",
       "2  CHEMBL1127038   8474099  J. Med. Chem., v. 36, p. 439 (1993)      1  \n",
       "3  CHEMBL1127038   8474099  J. Med. Chem., v. 36, p. 439 (1993)      1  \n",
       "4  CHEMBL1127038   8474099  J. Med. Chem., v. 36, p. 439 (1993)      1  \n",
       "\n",
       "[5 rows x 28 columns]"
      ]
     },
     "execution_count": 44,
     "metadata": {},
     "output_type": "execute_result"
    }
   ],
   "source": [
    "data.head()"
   ]
  },
  {
   "cell_type": "code",
   "execution_count": 45,
   "metadata": {
    "collapsed": false
   },
   "outputs": [
    {
     "data": {
      "text/plain": [
       "906"
      ]
     },
     "execution_count": 45,
     "metadata": {},
     "output_type": "execute_result"
    }
   ],
   "source": [
    "#Number of unique compound-pmid rows\n",
    "len(data.loc[:,['cmpd_chemblid', 'pubmed_id']].drop_duplicates().dropna())"
   ]
  },
  {
   "cell_type": "code",
   "execution_count": 46,
   "metadata": {
    "collapsed": false
   },
   "outputs": [
    {
     "data": {
      "text/plain": [
       "899"
      ]
     },
     "execution_count": 46,
     "metadata": {},
     "output_type": "execute_result"
    }
   ],
   "source": [
    "#Number of unique compounds (regardless of pmids)\n",
    "len(data['cmpd_chemblid'].unique())"
   ]
  },
  {
   "cell_type": "code",
   "execution_count": 47,
   "metadata": {
    "collapsed": false
   },
   "outputs": [
    {
     "data": {
      "text/plain": [
       "81"
      ]
     },
     "execution_count": 47,
     "metadata": {},
     "output_type": "execute_result"
    }
   ],
   "source": [
    "#Number of unique pmids\n",
    "len(data['pubmed_id'].dropna().unique())"
   ]
  },
  {
   "cell_type": "code",
   "execution_count": 48,
   "metadata": {
    "collapsed": false
   },
   "outputs": [
    {
     "data": {
      "text/plain": [
       "10.963414634146341"
      ]
     },
     "execution_count": 48,
     "metadata": {},
     "output_type": "execute_result"
    }
   ],
   "source": [
    "#Average number of compounds per article\n",
    "899 / 82"
   ]
  },
  {
   "cell_type": "code",
   "execution_count": 49,
   "metadata": {
    "collapsed": false
   },
   "outputs": [
    {
     "data": {
      "text/html": [
       "<div style=\"max-height:1000px;max-width:1500px;overflow:auto;\">\n",
       "<table border=\"1\" class=\"dataframe\">\n",
       "  <thead>\n",
       "    <tr style=\"text-align: right;\">\n",
       "      <th></th>\n",
       "      <th>pubmed_id</th>\n",
       "      <th>cmpd_chemblid</th>\n",
       "    </tr>\n",
       "  </thead>\n",
       "  <tbody>\n",
       "    <tr>\n",
       "      <th>0 </th>\n",
       "      <td> 8474099</td>\n",
       "      <td> CHEMBL138302</td>\n",
       "    </tr>\n",
       "    <tr>\n",
       "      <th>4 </th>\n",
       "      <td> 8474099</td>\n",
       "      <td> CHEMBL343771</td>\n",
       "    </tr>\n",
       "    <tr>\n",
       "      <th>8 </th>\n",
       "      <td> 8474099</td>\n",
       "      <td>   CHEMBL6966</td>\n",
       "    </tr>\n",
       "    <tr>\n",
       "      <th>9 </th>\n",
       "      <td> 1507200</td>\n",
       "      <td>  CHEMBL29067</td>\n",
       "    </tr>\n",
       "    <tr>\n",
       "      <th>16</th>\n",
       "      <td> 3339603</td>\n",
       "      <td> CHEMBL102498</td>\n",
       "    </tr>\n",
       "  </tbody>\n",
       "</table>\n",
       "</div>"
      ],
      "text/plain": [
       "    pubmed_id cmpd_chemblid\n",
       "0     8474099  CHEMBL138302\n",
       "4     8474099  CHEMBL343771\n",
       "8     8474099    CHEMBL6966\n",
       "9     1507200   CHEMBL29067\n",
       "16    3339603  CHEMBL102498"
      ]
     },
     "execution_count": 49,
     "metadata": {},
     "output_type": "execute_result"
    }
   ],
   "source": [
    "data.loc[:,['pubmed_id', 'cmpd_chemblid']].drop_duplicates().dropna().head()"
   ]
  },
  {
   "cell_type": "code",
   "execution_count": 50,
   "metadata": {
    "collapsed": false
   },
   "outputs": [],
   "source": [
    "hist_pmid_list = []\n",
    "hist_freq_list = []\n",
    "\n",
    "for pmid in data['pubmed_id'].dropna().unique():\n",
    "    sel = len(data.loc[data['pubmed_id'] == pmid,'parent_cmpd_chemblid'].drop_duplicates())\n",
    "    \n",
    "\n",
    "    #data.query('pubmed_id == {}'.format(pmid))\n",
    "    hist_pmid_list.append(pmid.astype(int))\n",
    "    hist_freq_list.append(sel)"
   ]
  },
  {
   "cell_type": "code",
   "execution_count": 51,
   "metadata": {
    "collapsed": false
   },
   "outputs": [
    {
     "data": {
      "text/plain": [
       "[8474099, 1507200, 3339603, 10447952, 1311765]"
      ]
     },
     "execution_count": 51,
     "metadata": {},
     "output_type": "execute_result"
    }
   ],
   "source": [
    "hist_pmid_list[:5]"
   ]
  },
  {
   "cell_type": "code",
   "execution_count": 52,
   "metadata": {
    "collapsed": false
   },
   "outputs": [
    {
     "data": {
      "text/plain": [
       "[3, 1, 9, 8, 37, 2, 14, 10, 7, 8]"
      ]
     },
     "execution_count": 52,
     "metadata": {},
     "output_type": "execute_result"
    }
   ],
   "source": [
    "hist_freq_list[:10]"
   ]
  },
  {
   "cell_type": "code",
   "execution_count": 53,
   "metadata": {
    "collapsed": false
   },
   "outputs": [
    {
     "data": {
      "text/plain": [
       "0    CHEMBL138302\n",
       "4    CHEMBL343771\n",
       "8      CHEMBL6966\n",
       "Name: cmpd_chemblid, dtype: object"
      ]
     },
     "execution_count": 53,
     "metadata": {},
     "output_type": "execute_result"
    }
   ],
   "source": [
    "data.loc[data['pubmed_id'] == 8474099,'cmpd_chemblid'].drop_duplicates()"
   ]
  },
  {
   "cell_type": "code",
   "execution_count": 54,
   "metadata": {
    "collapsed": true
   },
   "outputs": [],
   "source": [
    "my_dict = {'NrCompounds': hist_freq_list, 'pmid': hist_pmid_list}"
   ]
  },
  {
   "cell_type": "code",
   "execution_count": 55,
   "metadata": {
    "collapsed": false
   },
   "outputs": [
    {
     "data": {
      "text/html": [
       "<div style=\"max-height:1000px;max-width:1500px;overflow:auto;\">\n",
       "<table border=\"1\" class=\"dataframe\">\n",
       "  <thead>\n",
       "    <tr style=\"text-align: right;\">\n",
       "      <th></th>\n",
       "      <th>NrCompounds</th>\n",
       "      <th>pmid</th>\n",
       "    </tr>\n",
       "  </thead>\n",
       "  <tbody>\n",
       "    <tr>\n",
       "      <th>4 </th>\n",
       "      <td> 37</td>\n",
       "      <td>  1311765</td>\n",
       "    </tr>\n",
       "    <tr>\n",
       "      <th>43</th>\n",
       "      <td> 69</td>\n",
       "      <td> 20382537</td>\n",
       "    </tr>\n",
       "    <tr>\n",
       "      <th>45</th>\n",
       "      <td> 37</td>\n",
       "      <td> 23688558</td>\n",
       "    </tr>\n",
       "    <tr>\n",
       "      <th>48</th>\n",
       "      <td> 90</td>\n",
       "      <td> 23651412</td>\n",
       "    </tr>\n",
       "    <tr>\n",
       "      <th>49</th>\n",
       "      <td> 33</td>\n",
       "      <td>  8709127</td>\n",
       "    </tr>\n",
       "    <tr>\n",
       "      <th>57</th>\n",
       "      <td> 33</td>\n",
       "      <td>  8831775</td>\n",
       "    </tr>\n",
       "    <tr>\n",
       "      <th>58</th>\n",
       "      <td> 35</td>\n",
       "      <td>  7473567</td>\n",
       "    </tr>\n",
       "    <tr>\n",
       "      <th>67</th>\n",
       "      <td> 39</td>\n",
       "      <td>  9016337</td>\n",
       "    </tr>\n",
       "    <tr>\n",
       "      <th>73</th>\n",
       "      <td> 87</td>\n",
       "      <td>  2066997</td>\n",
       "    </tr>\n",
       "  </tbody>\n",
       "</table>\n",
       "</div>"
      ],
      "text/plain": [
       "    NrCompounds      pmid\n",
       "4            37   1311765\n",
       "43           69  20382537\n",
       "45           37  23688558\n",
       "48           90  23651412\n",
       "49           33   8709127\n",
       "57           33   8831775\n",
       "58           35   7473567\n",
       "67           39   9016337\n",
       "73           87   2066997"
      ]
     },
     "execution_count": 55,
     "metadata": {},
     "output_type": "execute_result"
    }
   ],
   "source": [
    "my_dict = {'NrCompounds': hist_freq_list, 'pmid': hist_pmid_list}\n",
    "test_df = pd.DataFrame(data=my_dict)\n",
    "test_df.loc[test_df['NrCompounds']>30,:]"
   ]
  },
  {
   "cell_type": "code",
   "execution_count": 56,
   "metadata": {
    "collapsed": false
   },
   "outputs": [
    {
     "data": {
      "text/plain": [
       "<matplotlib.axes.AxesSubplot at 0x110455668>"
      ]
     },
     "execution_count": 56,
     "metadata": {},
     "output_type": "execute_result"
    },
    {
     "data": {
      "image/png": "[encoded data removed]",
      "text/plain": [
       "<matplotlib.figure.Figure at 0x10ee6b6d8>"
      ]
     },
     "metadata": {},
     "output_type": "display_data"
    }
   ],
   "source": [
    "test_df['NrCompounds'].plot(kind = 'hist', bins = 40, title= 'Number of unique parent_cmpd_chemblid per pubmed_id for LTCC refs')\n",
    "# Don't manage to add axis labels here but x axis = NrCompounds and y axis is frequency"
   ]
  },
  {
   "cell_type": "markdown",
   "metadata": {},
   "source": [
    "### Peter's categories and ChEMBL-likeness score"
   ]
  },
  {
   "cell_type": "markdown",
   "metadata": {},
   "source": [
    "Insert category into the df -- I noticed one HIGH article is missing in categories file? Not sure why but I don't think it affects the mean ChEMBL-id."
   ]
  },
  {
   "cell_type": "code",
   "execution_count": 57,
   "metadata": {
    "collapsed": true
   },
   "outputs": [],
   "source": [
    "categories = pd.read_csv('categories_peter.txt', delimiter = '\\t', encoding = 'ascii')\n",
    "categories.index = range(1,len(categories) + 1)\n"
   ]
  },
  {
   "cell_type": "code",
   "execution_count": 58,
   "metadata": {
    "collapsed": false
   },
   "outputs": [
    {
     "data": {
      "text/html": [
       "<div style=\"max-height:1000px;max-width:1500px;overflow:auto;\">\n",
       "<table border=\"1\" class=\"dataframe\">\n",
       "  <thead>\n",
       "    <tr style=\"text-align: right;\">\n",
       "      <th></th>\n",
       "      <th>pmid</th>\n",
       "      <th>Of interest for follow-up</th>\n",
       "      <th>PH</th>\n",
       "    </tr>\n",
       "  </thead>\n",
       "  <tbody>\n",
       "    <tr>\n",
       "      <th>1</th>\n",
       "      <td> 25596477</td>\n",
       "      <td> HIGH</td>\n",
       "      <td>NaN</td>\n",
       "    </tr>\n",
       "    <tr>\n",
       "      <th>2</th>\n",
       "      <td> 25681549</td>\n",
       "      <td>  MED</td>\n",
       "      <td>NaN</td>\n",
       "    </tr>\n",
       "    <tr>\n",
       "      <th>3</th>\n",
       "      <td>  1706275</td>\n",
       "      <td> HIGH</td>\n",
       "      <td>NaN</td>\n",
       "    </tr>\n",
       "    <tr>\n",
       "      <th>4</th>\n",
       "      <td> 12005367</td>\n",
       "      <td> HIGH</td>\n",
       "      <td>NaN</td>\n",
       "    </tr>\n",
       "    <tr>\n",
       "      <th>5</th>\n",
       "      <td>  1701359</td>\n",
       "      <td> HIGH</td>\n",
       "      <td>NaN</td>\n",
       "    </tr>\n",
       "  </tbody>\n",
       "</table>\n",
       "</div>"
      ],
      "text/plain": [
       "       pmid Of interest for follow-up  PH\n",
       "1  25596477                      HIGH NaN\n",
       "2  25681549                       MED NaN\n",
       "3   1706275                      HIGH NaN\n",
       "4  12005367                      HIGH NaN\n",
       "5   1701359                      HIGH NaN"
      ]
     },
     "execution_count": 58,
     "metadata": {},
     "output_type": "execute_result"
    }
   ],
   "source": [
    "categories.head()"
   ]
  },
  {
   "cell_type": "code",
   "execution_count": 59,
   "metadata": {
    "collapsed": false
   },
   "outputs": [
    {
     "data": {
      "text/html": [
       "<div style=\"max-height:1000px;max-width:1500px;overflow:auto;\">\n",
       "<table border=\"1\" class=\"dataframe\">\n",
       "  <thead>\n",
       "    <tr style=\"text-align: right;\">\n",
       "      <th></th>\n",
       "      <th>pmid</th>\n",
       "      <th>Of interest for follow-up</th>\n",
       "      <th>PH</th>\n",
       "    </tr>\n",
       "  </thead>\n",
       "  <tbody>\n",
       "    <tr>\n",
       "      <th>284</th>\n",
       "      <td> 1314393</td>\n",
       "      <td> MED</td>\n",
       "      <td>NaN</td>\n",
       "    </tr>\n",
       "  </tbody>\n",
       "</table>\n",
       "</div>"
      ],
      "text/plain": [
       "        pmid Of interest for follow-up  PH\n",
       "284  1314393                       MED NaN"
      ]
     },
     "execution_count": 59,
     "metadata": {},
     "output_type": "execute_result"
    }
   ],
   "source": [
    "categories.loc[categories['pmid']==1314393,:]"
   ]
  },
  {
   "cell_type": "code",
   "execution_count": 60,
   "metadata": {
    "collapsed": false
   },
   "outputs": [],
   "source": [
    "query_300_df = c.get_df(query_id_list = [8], db_name = 'cluster_db')[0]"
   ]
  },
  {
   "cell_type": "code",
   "execution_count": 61,
   "metadata": {
    "collapsed": false
   },
   "outputs": [
    {
     "data": {
      "text/plain": [
       "1    25596477\n",
       "2    11405285\n",
       "3    18310913\n",
       "4    25681549\n",
       "5     1314393\n",
       "Name: pmid, dtype: int64"
      ]
     },
     "execution_count": 61,
     "metadata": {},
     "output_type": "execute_result"
    }
   ],
   "source": [
    "query_300_df['pmid'].head()"
   ]
  },
  {
   "cell_type": "code",
   "execution_count": 62,
   "metadata": {
    "collapsed": false
   },
   "outputs": [],
   "source": [
    "def f(x):\n",
    "    for i in categories.index:\n",
    "        if x == categories.loc[i,'pmid']:\n",
    "            return categories.loc[i,'Of interest for follow-up']\n",
    "        else:\n",
    "            continue"
   ]
  },
  {
   "cell_type": "code",
   "execution_count": 63,
   "metadata": {
    "collapsed": false
   },
   "outputs": [],
   "source": [
    "query_300_df['interest'] = query_300_df['pmid'].apply(f)"
   ]
  },
  {
   "cell_type": "code",
   "execution_count": 64,
   "metadata": {
    "collapsed": false
   },
   "outputs": [
    {
     "data": {
      "text/html": [
       "<div style=\"max-height:1000px;max-width:1500px;overflow:auto;\">\n",
       "<table border=\"1\" class=\"dataframe\">\n",
       "  <thead>\n",
       "    <tr style=\"text-align: right;\">\n",
       "      <th></th>\n",
       "      <th>pmid</th>\n",
       "      <th>interest</th>\n",
       "    </tr>\n",
       "  </thead>\n",
       "  <tbody>\n",
       "    <tr>\n",
       "      <th>5</th>\n",
       "      <td> 1314393</td>\n",
       "      <td> MED</td>\n",
       "    </tr>\n",
       "  </tbody>\n",
       "</table>\n",
       "</div>"
      ],
      "text/plain": [
       "      pmid interest\n",
       "5  1314393      MED"
      ]
     },
     "execution_count": 64,
     "metadata": {},
     "output_type": "execute_result"
    }
   ],
   "source": [
    "query_300_df.loc[query_300_df['pmid']==1314393,['pmid','interest']]"
   ]
  },
  {
   "cell_type": "code",
   "execution_count": 65,
   "metadata": {
    "collapsed": false
   },
   "outputs": [
    {
     "data": {
      "text/plain": [
       "293"
      ]
     },
     "execution_count": 65,
     "metadata": {},
     "output_type": "execute_result"
    }
   ],
   "source": [
    "len(query_300_df['pmid'].drop_duplicates())"
   ]
  },
  {
   "cell_type": "code",
   "execution_count": 66,
   "metadata": {
    "collapsed": false
   },
   "outputs": [
    {
     "data": {
      "text/plain": [
       "292"
      ]
     },
     "execution_count": 66,
     "metadata": {},
     "output_type": "execute_result"
    }
   ],
   "source": [
    "len(categories['pmid'].drop_duplicates())"
   ]
  },
  {
   "cell_type": "markdown",
   "metadata": {},
   "source": [
    "#### Peter's ranking correlates with ChEMBL-likeness score"
   ]
  },
  {
   "cell_type": "code",
   "execution_count": 67,
   "metadata": {
    "collapsed": false
   },
   "outputs": [
    {
     "data": {
      "text/html": [
       "<div style=\"max-height:1000px;max-width:1500px;overflow:auto;\">\n",
       "<table border=\"1\" class=\"dataframe\">\n",
       "  <thead>\n",
       "    <tr style=\"text-align: right;\">\n",
       "      <th></th>\n",
       "      <th>pmid</th>\n",
       "      <th>year</th>\n",
       "      <th>inChEMBL</th>\n",
       "      <th>score</th>\n",
       "    </tr>\n",
       "    <tr>\n",
       "      <th>interest</th>\n",
       "      <th></th>\n",
       "      <th></th>\n",
       "      <th></th>\n",
       "      <th></th>\n",
       "    </tr>\n",
       "  </thead>\n",
       "  <tbody>\n",
       "    <tr>\n",
       "      <th>HIGH</th>\n",
       "      <td> 11604411.165049</td>\n",
       "      <td> 1999.864078</td>\n",
       "      <td> 0.019417</td>\n",
       "      <td>-12.237353</td>\n",
       "    </tr>\n",
       "    <tr>\n",
       "      <th>LOW</th>\n",
       "      <td> 10440733.573643</td>\n",
       "      <td> 1998.612403</td>\n",
       "      <td> 0.000000</td>\n",
       "      <td>-16.458915</td>\n",
       "    </tr>\n",
       "    <tr>\n",
       "      <th>MED</th>\n",
       "      <td> 11486717.883333</td>\n",
       "      <td> 1999.866667</td>\n",
       "      <td> 0.000000</td>\n",
       "      <td>-14.746667</td>\n",
       "    </tr>\n",
       "  </tbody>\n",
       "</table>\n",
       "</div>"
      ],
      "text/plain": [
       "                     pmid         year  inChEMBL      score\n",
       "interest                                                   \n",
       "HIGH      11604411.165049  1999.864078  0.019417 -12.237353\n",
       "LOW       10440733.573643  1998.612403  0.000000 -16.458915\n",
       "MED       11486717.883333  1999.866667  0.000000 -14.746667"
      ]
     },
     "execution_count": 67,
     "metadata": {},
     "output_type": "execute_result"
    }
   ],
   "source": [
    "grouped = query_300_df.groupby('interest')\n",
    "grouped.mean()"
   ]
  },
  {
   "cell_type": "code",
   "execution_count": 181,
   "metadata": {
    "collapsed": true
   },
   "outputs": [],
   "source": [
    "conn.close()"
   ]
  },
  {
   "cell_type": "code",
   "execution_count": null,
   "metadata": {
    "collapsed": true
   },
   "outputs": [],
   "source": []
  }
 ],
 "metadata": {
  "kernelspec": {
   "display_name": "Python 3",
   "language": "python",
   "name": "python3"
  },
  "language_info": {
   "codemirror_mode": {
    "name": "ipython",
    "version": 3
   },
   "file_extension": ".py",
   "mimetype": "text/x-python",
   "name": "python",
   "nbconvert_exporter": "python",
   "pygments_lexer": "ipython3",
   "version": "3.4.3"
  }
 },
 "nbformat": 4,
 "nbformat_minor": 0
}
