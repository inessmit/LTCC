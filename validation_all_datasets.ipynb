{
 "cells": [
  {
   "cell_type": "markdown",
   "metadata": {},
   "source": [
    "# Comparing different set of query results"
   ]
  },
  {
   "cell_type": "code",
   "execution_count": 229,
   "metadata": {
    "collapsed": false
   },
   "outputs": [],
   "source": [
    "import sqlite3 as lite\n",
    "import common_functions_cache as c\n",
    "import pickle\n",
    "from sqlalchemy import create_engine\n",
    "import pandas as pd"
   ]
  },
  {
   "cell_type": "code",
   "execution_count": 230,
   "metadata": {
    "collapsed": true
   },
   "outputs": [],
   "source": [
    "conn = lite.connect('cluster_db')"
   ]
  },
  {
   "cell_type": "code",
   "execution_count": 231,
   "metadata": {
    "collapsed": true
   },
   "outputs": [],
   "source": [
    "cursor = conn.cursor()"
   ]
  },
  {
   "cell_type": "markdown",
   "metadata": {},
   "source": [
    "### Initial 300 query only high category and Peter not found"
   ]
  },
  {
   "cell_type": "code",
   "execution_count": 133,
   "metadata": {
    "collapsed": false
   },
   "outputs": [
    {
     "data": {
      "text/plain": [
       "<sqlite3.Cursor at 0x10fc5d0a0>"
      ]
     },
     "execution_count": 133,
     "metadata": {},
     "output_type": "execute_result"
    }
   ],
   "source": [
    "cursor.execute('select * from queries where query_id = 8')"
   ]
  },
  {
   "cell_type": "code",
   "execution_count": 134,
   "metadata": {
    "collapsed": false
   },
   "outputs": [
    {
     "data": {
      "text/plain": [
       "[(8,\n",
       "  '(ABSTRACT:\"L-type calcium channel\" OR ABSTRACT:\"L-type Ca channel\" OR ABSTRACT:\"L-type calcium current\" OR ABSTRACT:\"L-type Ca2+ current\" OR ABSTRACT:\"L-type Ca current\" OR ABSTRACT:\"calcium channel, L-type\" OR ABSTRACT:\"ICa,L\" OR ABSTRACT:\"Cav1.2\" OR ABSTRACT:\"L-type Ca++ channel\" OR ABSTRACT:\"L-type Ca++ current\" OR ABSTRACT:\"DHPR\" OR ABSTRACT:\"Cav1.x\" OR ABSTRACT:\"DHP receptor\" OR ABSTRACT:\"DHP channel\") AND (ABSTRACT:\"IC50\" OR ABSTRACT:\"AC50\" OR ABSTRACT:\"XC50\" OR ABSTRACT:\"EC50\")',\n",
       "  293,\n",
       "  '2015-9-14')]"
      ]
     },
     "execution_count": 134,
     "metadata": {},
     "output_type": "execute_result"
    }
   ],
   "source": [
    "cursor.fetchall()"
   ]
  },
  {
   "cell_type": "code",
   "execution_count": 135,
   "metadata": {
    "collapsed": true
   },
   "outputs": [],
   "source": [
    "high_category_list = [25596477,1706275,12005367,1701359,2550449,25057870,7693284,1645340,14645142,7828652,10877527,9565772,11743888,8287905,14597602,2536427,7693914,7616442,7957608,1380380,14718255,10482912,9200565,7996445,10212396,8485628,10051142,16086157,8794826,9788778,16524785,9151307,16445575,9151306,1658607,9405427,12396023,17023597,7791099,7881746,18829731,22975497,9242181,9098694,7957616,25179083,11332571,9360010,7723746,24508520,16302909,1347567,9709405,12165041,8371147,8799581,12674757,10482914,25535742,10333718,25016086,7520693,9776350,16157773,10440104,12966159,19378468,8897446,16173926,9146880,10651150,9421274,7751400,14623763,18092154,8842417,18362602,23396228,9593072,7897598,19634509,1709243,8341720,8897484,17519531,15881613,11953130,12624815,7760349,7711935,11392461,7475051,16308426,12605020,15243307,8821512,10511122,12548079,19809324,9639341,8709127,18310913,8897484,9876109]"
   ]
  },
  {
   "cell_type": "code",
   "execution_count": 136,
   "metadata": {
    "collapsed": true
   },
   "outputs": [],
   "source": [
    "Peter_found_pdf = [2550449, 25057870, 7693284, 1645340, 14645142, 11743888, 14597602, 1380380, 14718255, 10482912, 8485628, 10051142, 8794826, 9405427, 17023597, 7881746, 9242181, 8799581, 10482914, 25535742, 7520693, 9776350, 16157773, 12966159, 9146880, 9421274, 14623763, 8842417, 18362602, 9639341, 18310913]"
   ]
  },
  {
   "cell_type": "code",
   "execution_count": 137,
   "metadata": {
    "collapsed": true
   },
   "outputs": [],
   "source": [
    "high_not_found = list(set(high_category_list) - set(Peter_found_pdf))"
   ]
  },
  {
   "cell_type": "code",
   "execution_count": 138,
   "metadata": {
    "collapsed": false
   },
   "outputs": [
    {
     "data": {
      "text/plain": [
       "72"
      ]
     },
     "execution_count": 138,
     "metadata": {},
     "output_type": "execute_result"
    }
   ],
   "source": [
    "len(high_not_found)"
   ]
  },
  {
   "cell_type": "code",
   "execution_count": 139,
   "metadata": {
    "collapsed": false
   },
   "outputs": [],
   "source": [
    "with open('terms_for_highlighting.pkl', 'rb') as f: \n",
    "    broader_terms = pickle.load(f)  "
   ]
  },
  {
   "cell_type": "code",
   "execution_count": 140,
   "metadata": {
    "collapsed": false,
    "scrolled": true
   },
   "outputs": [],
   "source": [
    "#c.colour_terms(c.get_df(db_name = 'cluster_db', sql_condition = 'r.pmid in ({})'.format(str([int(i) for i in high_not_found]).strip(\"']'\").split(\"[\")[1]), query_id_list = [8])[0], markup_list = broader_terms)"
   ]
  },
  {
   "cell_type": "markdown",
   "metadata": {},
   "source": [
    "### Different queries in cluster_db"
   ]
  },
  {
   "cell_type": "code",
   "execution_count": 141,
   "metadata": {
    "collapsed": false
   },
   "outputs": [
    {
     "data": {
      "text/plain": [
       "<sqlite3.Cursor at 0x10fc5d0a0>"
      ]
     },
     "execution_count": 141,
     "metadata": {},
     "output_type": "execute_result"
    }
   ],
   "source": [
    "cursor.execute('select * from queries')"
   ]
  },
  {
   "cell_type": "code",
   "execution_count": 142,
   "metadata": {
    "collapsed": false
   },
   "outputs": [
    {
     "data": {
      "text/plain": [
       "[(1,\n",
       "  '(ABSTRACT:\"calcium channel modulator\" OR ABSTRACT:\"calcium channel antagonist\" OR ABSTRACT:\"calcium channel block\" OR ABSTRACT:\"calcium channel inhibitor\" OR ABSTRACT:\"calcium channel affinity\" OR ABSTRACT:\"Ca2+ channel modulator\" OR ABSTRACT:\"Ca2+ channel antagonist\" OR ABSTRACT:\"Ca2+ channel block\" OR ABSTRACT:\"Ca2+ channel inhibitor\" OR ABSTRACT:\"Ca2+ channel affinity\" OR ABSTRACT:\"Ca(2+) channel modulator\" OR ABSTRACT:\"Ca(2+) channel antagonist\" OR ABSTRACT:\"Ca(2+) channel block\" OR ABSTRACT:\"Ca(2+) channel inhibitor\" OR ABSTRACT:\"Ca(2+) channel affinity\" OR ABSTRACT:\"Ca(2+)-channel-blocking\" OR ABSTRACT:\"Ca(2+)-channel block\" OR ABSTRACT:\"calcium antagonist\" OR ABSTRACT:\"calcium entry antagonist\") AND (ABSTRACT:\"IC50\" OR ABSTRACT:\"IC(50)\" OR ABSTRACT:\"inhibitory activity\" OR ABSTRACT:\"analogue\" OR ABSTRACT:\"ligand\" OR ABSTRACT:\"binding\" OR ABSTRACT:\"potency\" OR ABSTRACT:\"potencies\" OR ABSTRACT:\"displacement\" OR ABSTRACT:\"displacing\" OR ABSTRACT:\"inhibitory concentration\" OR ABSTRACT:\"EC50\" OR ABSTRACT:\"EC(50)\")',\n",
       "  2138,\n",
       "  '2015-8-11'),\n",
       " (2,\n",
       "  '(ABSTRACT:\"calcium channel\" OR ABSTRACT:\"Ca channel\" OR ABSTRACT:\"Ca(2+) channel\" OR ABSTRACT:\"Ca(2+)-channel\" OR ABSTRACT:\"Ca2+ channel\" OR ABSTRACT:\"Ca2+ current\" OR ABSTRACT:\"calcium current\" OR ABSTRACT:\"Ca current\" OR ABSTRACT:\"Ca(2+) current\" OR ABSTRACT:\"Ca(2+)-current\" OR ABSTRACT:\"Ca++ channel\" OR ABSTRACT:\"Ca++ current\" OR ABSTRACT:\"LTCC\" OR ABSTRACT:\"Ca(V)1.\" OR ABSTRACT:\"CaV1.\" OR ABSTRACT:\"I(Ca)\" OR ABSTRACT:\"(ICa)\" OR ABSTRACT:\"ICa,L\" OR ABSTRACT:\"L-type\") AND (ABSTRACT:\"IC50\" OR ABSTRACT:\"IC(50)\" OR ABSTRACT:\"inhibitory activity\" OR ABSTRACT:\"analogue\" OR ABSTRACT:\"ligand\" OR ABSTRACT:\"potency\" OR ABSTRACT:\"potencies\" OR ABSTRACT:\"inhibitory concentration\" OR ABSTRACT:\"antagonist\" OR ABSTRACT:\"affinity\" OR ABSTRACT:\"EC50\" OR ABSTRACT:\"EC(50)\")',\n",
       "  16875,\n",
       "  '2015-8-11'),\n",
       " (3,\n",
       "  '(ABSTRACT:\"calcium channel\" OR ABSTRACT:\"Ca channel\" OR ABSTRACT:\"Ca(2+) channel\" OR ABSTRACT:\"Ca(2+)-channel\" OR ABSTRACT:\"Ca2+ channel\" OR ABSTRACT:\"Ca2+ current\" OR ABSTRACT:\"calcium current\" OR ABSTRACT:\"Ca current\" OR ABSTRACT:\"Ca(2+) current\" OR ABSTRACT:\"Ca(2+)-current\" OR ABSTRACT:\"LTCC\" OR ABSTRACT:\"Ca(V)1.\" OR ABSTRACT:\"CaV1.\" OR ABSTRACT:\"I(Ca)\" OR ABSTRACT:\"(ICa)\" OR ABSTRACT:\"ICa,L\") AND (ABSTRACT:\"IC50\" OR ABSTRACT:\"IC(50)\" OR ABSTRACT:\"compound\" OR ABSTRACT:\"molecule\" OR ABSTRACT:\"inhibitory activity\" OR ABSTRACT:\"analogue\" OR ABSTRACT:\"ligand\" OR ABSTRACT:\"binding\" OR ABSTRACT:\"potency\" OR ABSTRACT:\"potencies\" OR ABSTRACT:\"displacement\" OR ABSTRACT:\"displacing\" OR ABSTRACT:\"inhibitory concentration\" OR ABSTRACT:\"inhibit\" OR ABSTRACT:\"modulator\" OR ABSTRACT:\"block\" OR ABSTRACT:\"antagonist\" OR ABSTRACT:\"affinity\" OR ABSTRACT:\"EC50\" OR ABSTRACT:\"EC(50)\")',\n",
       "  39654,\n",
       "  '2015-8-13'),\n",
       " (4,\n",
       "  '(ABSTRACT:\"calcium channel\" OR ABSTRACT:\"Ca channel\" OR ABSTRACT:\"Ca(2+) channel\" OR ABSTRACT:\"Ca(2+)-channel\" OR ABSTRACT:\"Ca2+ channel\" OR ABSTRACT:\"Ca2+ current\" OR ABSTRACT:\"calcium current\" OR ABSTRACT:\"Ca current\" OR ABSTRACT:\"Ca(2+) current\" OR ABSTRACT:\"Ca(2+)-current\" OR ABSTRACT:\"LTCC\" OR ABSTRACT:\"Ca(V)1.\" OR ABSTRACT:\"CaV1.\" OR ABSTRACT:\"I(Ca)\" OR ABSTRACT:\"(ICa)\" OR ABSTRACT:\"ICa,L\") AND (ABSTRACT:\"compound\" OR ABSTRACT:\"molecule\" OR ABSTRACT:\"binding\" OR ABSTRACT:\"displacement\" OR ABSTRACT:\"displacing\" OR ABSTRACT:\"chemical\" OR ABSTRACT:\"modulator\" OR ABSTRACT:\"block\")',\n",
       "  26785,\n",
       "  '2015-8-13'),\n",
       " (5,\n",
       "  '(ABSTRACT:\"calcium channel\" OR ABSTRACT:\"Ca channel\" OR ABSTRACT:\"Ca(2+) channel\" OR ABSTRACT:\"Ca(2+)-channel\" OR ABSTRACT:\"Ca2+ channel\" OR ABSTRACT:\"Ca2+ current\" OR ABSTRACT:\"calcium current\" OR ABSTRACT:\"Ca current\" OR ABSTRACT:\"Ca(2+) current\" OR ABSTRACT:\"Ca(2+)-current\" OR ABSTRACT:\"LTCC\" OR ABSTRACT:\"Ca(V)1.\" OR ABSTRACT:\"CaV1.\" OR ABSTRACT:\"I(Ca)\" OR ABSTRACT:\"(ICa)\" OR ABSTRACT:\"ICa,L\") AND (ABSTRACT:\"compound\" OR ABSTRACT:\"molecule\" OR ABSTRACT:\"binding\" OR ABSTRACT:\"displacement\" OR ABSTRACT:\"displacing\" OR ABSTRACT:\"chemical\" OR ABSTRACT:\"modulator\" OR ABSTRACT:\"block\")',\n",
       "  26785,\n",
       "  '2015-8-13'),\n",
       " (6,\n",
       "  '(ABSTRACT:\"calcium channel\" OR ABSTRACT:\"L-type calcium channel\" OR ABSTRACT:\"LTCC\") AND (ABSTRACT:\"QSAR\" OR ABSTRACT:\"structure-activity relationship\")',\n",
       "  115,\n",
       "  '2015-9-14'),\n",
       " (7,\n",
       "  '(ext_id:\"14528490\" OR ext_id:\"10575370\" OR ext_id:\"21975802\")',\n",
       "  3,\n",
       "  '2015-9-14'),\n",
       " (8,\n",
       "  '(ABSTRACT:\"L-type calcium channel\" OR ABSTRACT:\"L-type Ca channel\" OR ABSTRACT:\"L-type calcium current\" OR ABSTRACT:\"L-type Ca2+ current\" OR ABSTRACT:\"L-type Ca current\" OR ABSTRACT:\"calcium channel, L-type\" OR ABSTRACT:\"ICa,L\" OR ABSTRACT:\"Cav1.2\" OR ABSTRACT:\"L-type Ca++ channel\" OR ABSTRACT:\"L-type Ca++ current\" OR ABSTRACT:\"DHPR\" OR ABSTRACT:\"Cav1.x\" OR ABSTRACT:\"DHP receptor\" OR ABSTRACT:\"DHP channel\") AND (ABSTRACT:\"IC50\" OR ABSTRACT:\"AC50\" OR ABSTRACT:\"XC50\" OR ABSTRACT:\"EC50\")',\n",
       "  293,\n",
       "  '2015-9-14'),\n",
       " (9,\n",
       "  '(ABSTRACT:\"calcium channel\" OR ABSTRACT:\"Ca channel\" OR ABSTRACT:\"Ca(2+) channel\" OR ABSTRACT:\"Ca(2+)-channel\" OR ABSTRACT:\"Ca2+ channel\" OR ABSTRACT:\"Ca2+ current\" OR ABSTRACT:\"calcium current\" OR ABSTRACT:\"Ca current\" OR ABSTRACT:\"Ca(2+) current\" OR ABSTRACT:\"Ca(2+)-current\" OR ABSTRACT:\"Ca++ channel\" OR ABSTRACT:\"Ca++ current\" OR ABSTRACT:\"LTCC\" OR ABSTRACT:\"I(Ca)\" OR ABSTRACT:\"(ICa)\" OR ABSTRACT:\"ICa,L\" OR ABSTRACT:\"L-type\" OR ABSTRACT:\"Ca(V)1.2\" OR ABSTRACT:\"CaV1.2\") AND (ABSTRACT:\"IC50\" OR ABSTRACT:\"IC(50)\")',\n",
       "  2033,\n",
       "  '2015-9-23'),\n",
       " (10,\n",
       "  '(ABSTRACT:\"calcium channel\" OR ABSTRACT:\"Ca channel\" OR ABSTRACT:\"Ca(2+) channel\" OR ABSTRACT:\"Ca(2+)-channel\" OR ABSTRACT:\"Ca2+ channel\" OR ABSTRACT:\"Ca2+ current\" OR ABSTRACT:\"calcium current\" OR ABSTRACT:\"Ca current\" OR ABSTRACT:\"Ca(2+) current\" OR ABSTRACT:\"Ca(2+)-current\" OR ABSTRACT:\"Ca++ channel\" OR ABSTRACT:\"Ca++ current\" OR ABSTRACT:\"LTCC\" OR ABSTRACT:\"I(Ca)\" OR ABSTRACT:\"(ICa)\" OR ABSTRACT:\"ICa,L\" OR ABSTRACT:\"L-type\" OR ABSTRACT:\"Ca(V)1.2\" OR ABSTRACT:\"CaV1.2\" OR TITLE:\"calcium channel\" OR TITLE:\"Ca channel\" OR TITLE:\"Ca(2+) channel\" OR TITLE:\"Ca(2+)-channel\" OR TITLE:\"Ca2+ channel\" OR TITLE:\"Ca2+ current\" OR TITLE:\"calcium current\" OR TITLE:\"Ca current\" OR TITLE:\"Ca(2+) current\" OR TITLE:\"Ca(2+)-current\" OR TITLE:\"Ca++ channel\" OR TITLE:\"Ca++ current\" OR TITLE:\"LTCC\" OR TITLE:\"I(Ca)\" OR TITLE:\"(ICa)\" OR TITLE:\"ICa,L\" OR TITLE:\"L-type\" OR TITLE:\"Ca(V)1.2\" OR TITLE:\"CaV1.2\") AND (ABSTRACT:\"IC50\" OR ABSTRACT:\"IC(50)\" OR TITLE:\"IC50\" OR TITLE:\"IC(50)\")',\n",
       "  2271,\n",
       "  '2015-9-24'),\n",
       " (11,\n",
       "  '(ABSTRACT:\"calcium channel\" OR ABSTRACT:\"Ca channel\" OR ABSTRACT:\"Ca(2+) channel\" OR ABSTRACT:\"Ca(2+)-channel\" OR ABSTRACT:\"Ca2+ channel\" OR ABSTRACT:\"Ca2+ current\" OR ABSTRACT:\"calcium current\" OR ABSTRACT:\"Ca current\" OR ABSTRACT:\"Ca(2+) current\" OR ABSTRACT:\"Ca(2+)-current\" OR ABSTRACT:\"Ca++ channel\" OR ABSTRACT:\"Ca++ current\" OR ABSTRACT:\"LTCC\" OR ABSTRACT:\"I(Ca)\" OR ABSTRACT:\"(ICa)\" OR ABSTRACT:\"ICa,L\" OR ABSTRACT:\"L-type\" OR ABSTRACT:\"Ca(V)1.2\" OR ABSTRACT:\"CaV1.2\" OR TITLE:\"calcium channel\" OR TITLE:\"Ca channel\" OR TITLE:\"Ca(2+) channel\" OR TITLE:\"Ca(2+)-channel\" OR TITLE:\"Ca2+ channel\" OR TITLE:\"Ca2+ current\" OR TITLE:\"calcium current\" OR TITLE:\"Ca current\" OR TITLE:\"Ca(2+) current\" OR TITLE:\"Ca(2+)-current\" OR TITLE:\"Ca++ channel\" OR TITLE:\"Ca++ current\" OR TITLE:\"LTCC\" OR TITLE:\"I(Ca)\" OR TITLE:\"(ICa)\" OR TITLE:\"ICa,L\" OR TITLE:\"L-type\" OR TITLE:\"Ca(V)1.2\" OR TITLE:\"CaV1.2\" OR ABSTRACT:\"calcium channels\" OR ABSTRACT:\"Ca channels\" OR ABSTRACT:\"Ca(2+) channels\" OR ABSTRACT:\"Ca(2+)-channels\" OR ABSTRACT:\"Ca2+ channels\" OR ABSTRACT:\"Ca2+ currents\" OR ABSTRACT:\"calcium currents\" OR ABSTRACT:\"Ca currents\" OR ABSTRACT:\"Ca(2+) currents\" OR ABSTRACT:\"Ca(2+)-currents\" OR ABSTRACT:\"Ca++ channels\" OR ABSTRACT:\"Ca++ currents\" OR TITLE:\"calcium channels\" OR TITLE:\"Ca channels\" OR TITLE:\"Ca(2+) channels\" OR TITLE:\"Ca(2+)-channels\" OR TITLE:\"Ca2+ channels\" OR TITLE:\"Ca2+ currents\" OR TITLE:\"calcium currents\" OR TITLE:\"Ca currents\" OR TITLE:\"Ca(2+) currents\" OR TITLE:\"Ca(2+)-currents\" OR TITLE:\"Ca++ channels\" OR TITLE:\"Ca++ currents\") AND (ABSTRACT:\"IC50\" OR ABSTRACT:\"IC(50)\" OR TITLE:\"IC50\" OR TITLE:\"IC(50)\" OR ABSTRACT:\"IC50s\" OR ABSTRACT:\"IC(50)s\" OR TITLE:\"IC50s\" OR TITLE:\"IC(50)s\")',\n",
       "  2271,\n",
       "  '2015-9-24'),\n",
       " (12,\n",
       "  '(TITLE:\"calcium channel\" OR \\nABSTRACT:\"calcium channel\" OR \\nTITLE:\"Ca channel\"\\nOR ABSTRACT:\"Ca channel\" OR \\nTITLE:\"Ca(2+) channel\" OR \\nABSTRACT:\"Ca(2+)\\nchannel\" OR \\nTITLE:\"Ca(2+)-channel\" OR \\nABSTRACT:\"Ca(2+)-channel\" OR \\nTITLE:\"Ca2+\\nchannel\" OR \\nABSTRACT:\"Ca2+ channel\" OR \\nTITLE:\"Ca2+-channel\" OR\\nABSTRACT:\"Ca2+-channel\" OR \\nTITLE:\"Ca++ channel\" OR \\nABSTRACT:\"Ca++ channel\" OR\\nTITLE:\"calcium current\" OR \\nABSTRACT:\"calcium current\" OR \\nTITLE:\"Ca current\" OR\\nABSTRACT:\"Ca current\" OR \\nTITLE:\"Ca(2+) current\" OR \\nABSTRACT:\"Ca(2+) current\"\\nOR TITLE:\"Ca(2+)-current\" OR \\nABSTRACT:\"Ca(2+)-current\" OR \\nTITLE:\"Ca2+ current\"\\nOR ABSTRACT:\"Ca2+ current\" OR \\nTITLE:\"Ca2+-current\" OR \\nABSTRACT:\"Ca2+-current\"\\nOR TITLE:\"Ca++ current\" OR \\nABSTRACT:\"Ca++ current\" OR \\nTITLE:\"ICa\" OR\\nABSTRACT:\"ICa\" OR \\nTITLE:\"I(Ca)\" OR \\nABSTRACT:\"I(Ca)\" OR \\nTITLE:\"CaV1.2\" OR\\nABSTRACT:\"CaV1.2\" OR \\nTITLE:\"Ca(V)1.2\" OR \\nABSTRACT:\"Ca(V)1.2\" OR \\nTITLE:\"CaV1.2\" OR \\nABSTRACT:\"CaV 1.2\" OR\\nTITLE:\"L-type\" OR \\nABSTRACT:\"L-type\" OR \\nTITLE:\"LTCC\" OR \\nABSTRACT:\"LTCC\")\\nAND\\n(TITLE:\"IC50\" OR \\nABSTRACT:\"IC50\" OR \\nTITLE:\"IC(50)\" OR \\nABSTRACT:\"IC(50)\" OR\\nTITLE:\"EC50\" OR \\nABSTRACT:\"EC50\" OR \\nTITLE:\"EC(50)\" OR \\nABSTRACT:\"EC(50)\")\\nAND\\nSRC:\"MED\"',\n",
       "  3288,\n",
       "  '2015-10-1')]"
      ]
     },
     "execution_count": 142,
     "metadata": {},
     "output_type": "execute_result"
    }
   ],
   "source": [
    "cursor.fetchall()"
   ]
  },
  {
   "cell_type": "markdown",
   "metadata": {},
   "source": [
    "### ChEMBL pmids for LTCC"
   ]
  },
  {
   "cell_type": "code",
   "execution_count": 143,
   "metadata": {
    "collapsed": false
   },
   "outputs": [
    {
     "data": {
      "text/plain": [
       "(1317, 28)"
      ]
     },
     "execution_count": 143,
     "metadata": {},
     "output_type": "execute_result"
    }
   ],
   "source": [
    "# Data that Francis selected for LTCC from ChEMBL\n",
    "engine = create_engine(open('/Users/Ines/alchemy_ines_login.txt').read().strip())\n",
    "\n",
    "sql = '''select * from TT_LTCC_CURVE_DATA a order by\n",
    "    a.species\n",
    "  , a.parent_cmpd_chemblid\n",
    "  , a.active'''\n",
    "\n",
    "\n",
    "data = pd.read_sql(sql, engine)\n",
    "\n",
    "data.shape"
   ]
  },
  {
   "cell_type": "code",
   "execution_count": 144,
   "metadata": {
    "collapsed": true
   },
   "outputs": [],
   "source": [
    "pre_chembl_pmids = []\n",
    "pre_chembl_pmids = list(data['pubmed_id'].unique())"
   ]
  },
  {
   "cell_type": "code",
   "execution_count": 145,
   "metadata": {
    "collapsed": false
   },
   "outputs": [
    {
     "data": {
      "text/plain": [
       "[8474099.0,\n",
       " 1507200.0,\n",
       " nan,\n",
       " 3339603.0,\n",
       " 10447952.0,\n",
       " 1311765.0,\n",
       " 2435903.0,\n",
       " 7837222.0,\n",
       " 2840498.0,\n",
       " 2142737.0]"
      ]
     },
     "execution_count": 145,
     "metadata": {},
     "output_type": "execute_result"
    }
   ],
   "source": [
    "pre_chembl_pmids[:10]"
   ]
  },
  {
   "cell_type": "code",
   "execution_count": 146,
   "metadata": {
    "collapsed": true
   },
   "outputs": [],
   "source": [
    "pre_chembl_pmids.remove(pre_chembl_pmids[2]) # this was 'nan' removed here\n",
    "chembl_pmids = []\n",
    "\n",
    "for pmid in pre_chembl_pmids:\n",
    "    chembl_pmids.append(pmid.astype(int))"
   ]
  },
  {
   "cell_type": "code",
   "execution_count": 147,
   "metadata": {
    "collapsed": false
   },
   "outputs": [
    {
     "data": {
      "text/plain": [
       "81"
      ]
     },
     "execution_count": 147,
     "metadata": {},
     "output_type": "execute_result"
    }
   ],
   "source": [
    "#Number of articles contributing LTCC data in ChEMBL\n",
    "len(set(pre_chembl_pmids))"
   ]
  },
  {
   "cell_type": "code",
   "execution_count": 148,
   "metadata": {
    "collapsed": false
   },
   "outputs": [
    {
     "data": {
      "text/plain": [
       "[8474099,\n",
       " 1507200,\n",
       " 3339603,\n",
       " 10447952,\n",
       " 1311765,\n",
       " 2435903,\n",
       " 7837222,\n",
       " 2840498,\n",
       " 2142737,\n",
       " 2329573]"
      ]
     },
     "execution_count": 148,
     "metadata": {},
     "output_type": "execute_result"
    }
   ],
   "source": [
    "chembl_pmids[:10]"
   ]
  },
  {
   "cell_type": "markdown",
   "metadata": {},
   "source": [
    "### Mirams references (those that had pmid) # This is all references not just LTCC"
   ]
  },
  {
   "cell_type": "code",
   "execution_count": 149,
   "metadata": {
    "collapsed": true
   },
   "outputs": [],
   "source": [
    "Mirams_paper = [21300721]"
   ]
  },
  {
   "cell_type": "code",
   "execution_count": 150,
   "metadata": {
    "collapsed": true
   },
   "outputs": [],
   "source": [
    "#References for IC50 values in Table 1\n",
    "Mirams_refs = [\n",
    "    16308426\n",
    "    , 15599706\n",
    "    , 2176700\n",
    "    , 2434173\n",
    "    , 7532747\n",
    "    , 17005919\n",
    "    , 18048694\n",
    "    , 10742304\n",
    "    , 12130750\n",
    "    , 2579237\n",
    "    , 2571988\n",
    "    , 7527502\n",
    "    , 2050292\n",
    "    , 19673885\n",
    "    , 9374794\n",
    "    , 11961040\n",
    "    , 2434345\n",
    "    , 12686762\n",
    "    , 8709127\n",
    "    , 10325236\n",
    "    , 7629795\n",
    "    , 8431994\n",
    "    , 8996185\n",
    "    , 15385083\n",
    "    , 12644906\n",
    "    , 11743888\n",
    "    , 12007180\n",
    "    , 15790762\n",
    "    , 10769189\n",
    "    , 9876109\n",
    "    , 10924918\n",
    "    , 7109844\n",
    "    , 2426120\n",
    "    , 3012067\n",
    "    , 16843688\n",
    "    , 1175271\n",
    "    , 12176106\n",
    "    , 10028924\n",
    "    , 12966159\n",
    "    , 15579009\n",
    "    , 12667944\n",
    "    , 15637086\n",
    "]"
   ]
  },
  {
   "cell_type": "code",
   "execution_count": 151,
   "metadata": {
    "collapsed": false
   },
   "outputs": [
    {
     "data": {
      "text/plain": [
       "42"
      ]
     },
     "execution_count": 151,
     "metadata": {},
     "output_type": "execute_result"
    }
   ],
   "source": [
    "len(Mirams_refs)"
   ]
  },
  {
   "cell_type": "markdown",
   "metadata": {},
   "source": [
    "### Big query (30,000)"
   ]
  },
  {
   "cell_type": "markdown",
   "metadata": {},
   "source": [
    "#### I have found that results of queries 2 and 5 are complementary, there is some overlap."
   ]
  },
  {
   "cell_type": "code",
   "execution_count": 152,
   "metadata": {
    "collapsed": false
   },
   "outputs": [
    {
     "data": {
      "text/plain": [
       "[(2,\n",
       "  '(ABSTRACT:\"calcium channel\" OR ABSTRACT:\"Ca channel\" OR ABSTRACT:\"Ca(2+) channel\" OR ABSTRACT:\"Ca(2+)-channel\" OR ABSTRACT:\"Ca2+ channel\" OR ABSTRACT:\"Ca2+ current\" OR ABSTRACT:\"calcium current\" OR ABSTRACT:\"Ca current\" OR ABSTRACT:\"Ca(2+) current\" OR ABSTRACT:\"Ca(2+)-current\" OR ABSTRACT:\"Ca++ channel\" OR ABSTRACT:\"Ca++ current\" OR ABSTRACT:\"LTCC\" OR ABSTRACT:\"Ca(V)1.\" OR ABSTRACT:\"CaV1.\" OR ABSTRACT:\"I(Ca)\" OR ABSTRACT:\"(ICa)\" OR ABSTRACT:\"ICa,L\" OR ABSTRACT:\"L-type\") AND (ABSTRACT:\"IC50\" OR ABSTRACT:\"IC(50)\" OR ABSTRACT:\"inhibitory activity\" OR ABSTRACT:\"analogue\" OR ABSTRACT:\"ligand\" OR ABSTRACT:\"potency\" OR ABSTRACT:\"potencies\" OR ABSTRACT:\"inhibitory concentration\" OR ABSTRACT:\"antagonist\" OR ABSTRACT:\"affinity\" OR ABSTRACT:\"EC50\" OR ABSTRACT:\"EC(50)\")',\n",
       "  16875,\n",
       "  '2015-8-11'),\n",
       " (5,\n",
       "  '(ABSTRACT:\"calcium channel\" OR ABSTRACT:\"Ca channel\" OR ABSTRACT:\"Ca(2+) channel\" OR ABSTRACT:\"Ca(2+)-channel\" OR ABSTRACT:\"Ca2+ channel\" OR ABSTRACT:\"Ca2+ current\" OR ABSTRACT:\"calcium current\" OR ABSTRACT:\"Ca current\" OR ABSTRACT:\"Ca(2+) current\" OR ABSTRACT:\"Ca(2+)-current\" OR ABSTRACT:\"LTCC\" OR ABSTRACT:\"Ca(V)1.\" OR ABSTRACT:\"CaV1.\" OR ABSTRACT:\"I(Ca)\" OR ABSTRACT:\"(ICa)\" OR ABSTRACT:\"ICa,L\") AND (ABSTRACT:\"compound\" OR ABSTRACT:\"molecule\" OR ABSTRACT:\"binding\" OR ABSTRACT:\"displacement\" OR ABSTRACT:\"displacing\" OR ABSTRACT:\"chemical\" OR ABSTRACT:\"modulator\" OR ABSTRACT:\"block\")',\n",
       "  26785,\n",
       "  '2015-8-13')]"
      ]
     },
     "execution_count": 152,
     "metadata": {},
     "output_type": "execute_result"
    }
   ],
   "source": [
    "cursor.execute('select * from queries where query_id in (2,5)')\n",
    "cursor.fetchall()"
   ]
  },
  {
   "cell_type": "code",
   "execution_count": 153,
   "metadata": {
    "collapsed": false
   },
   "outputs": [
    {
     "data": {
      "text/plain": [
       "33957"
      ]
     },
     "execution_count": 153,
     "metadata": {},
     "output_type": "execute_result"
    }
   ],
   "source": [
    "#Here are the distinct ones:\n",
    "cursor.execute('select distinct pmid from result_ids where query_id in (2,5)')\n",
    "big_query_pmids = [i[0] for i in cursor.fetchall()]\n",
    "len(big_query_pmids)"
   ]
  },
  {
   "cell_type": "code",
   "execution_count": 154,
   "metadata": {
    "collapsed": false
   },
   "outputs": [
    {
     "data": {
      "text/plain": [
       "43639"
      ]
     },
     "execution_count": 154,
     "metadata": {},
     "output_type": "execute_result"
    }
   ],
   "source": [
    "#Not distinct:\n",
    "cursor.execute('select pmid from result_ids where query_id in (2,5)')\n",
    "len(cursor.fetchall())"
   ]
  },
  {
   "cell_type": "code",
   "execution_count": 155,
   "metadata": {
    "collapsed": false
   },
   "outputs": [
    {
     "data": {
      "image/png": "[encoded data removed]",
      "text/plain": [
       "<matplotlib.figure.Figure at 0x10e7be160>"
      ]
     },
     "metadata": {},
     "output_type": "display_data"
    }
   ],
   "source": [
    "c.plot_scores([2,5], db_name = 'cluster_db', figure_title = 'ca')"
   ]
  },
  {
   "cell_type": "markdown",
   "metadata": {},
   "source": [
    "### Comparing top articles from big query with high_category articles from initial 300 query"
   ]
  },
  {
   "cell_type": "code",
   "execution_count": 156,
   "metadata": {
    "collapsed": true
   },
   "outputs": [],
   "source": [
    "cursor.execute('select distinct r.pmid from result_ids r join scores s on r.pmid = s.pmid join article_data a on a.pmid = r.pmid where query_id in (2,5) and score > 0 and in_chembl = 0')\n",
    "top_a_big_query = [i[0] for i in cursor.fetchall()]"
   ]
  },
  {
   "cell_type": "code",
   "execution_count": 157,
   "metadata": {
    "collapsed": false
   },
   "outputs": [
    {
     "data": {
      "text/plain": [
       "1101"
      ]
     },
     "execution_count": 157,
     "metadata": {},
     "output_type": "execute_result"
    }
   ],
   "source": [
    "len(top_a_big_query)"
   ]
  },
  {
   "cell_type": "code",
   "execution_count": 158,
   "metadata": {
    "collapsed": false
   },
   "outputs": [
    {
     "data": {
      "text/plain": [
       "11"
      ]
     },
     "execution_count": 158,
     "metadata": {},
     "output_type": "execute_result"
    }
   ],
   "source": [
    "len(set(high_category_list)&set(top_a_big_query))"
   ]
  },
  {
   "cell_type": "markdown",
   "metadata": {},
   "source": [
    "Conclude: Only 11 overlapping there in top 1100 articles. Farily different set from the HIGH-ranked abstracts."
   ]
  },
  {
   "cell_type": "markdown",
   "metadata": {},
   "source": [
    "### Comparing ChEMBL LTCC refs with top big query"
   ]
  },
  {
   "cell_type": "code",
   "execution_count": 159,
   "metadata": {
    "collapsed": false
   },
   "outputs": [
    {
     "data": {
      "text/plain": [
       "32"
      ]
     },
     "execution_count": 159,
     "metadata": {},
     "output_type": "execute_result"
    }
   ],
   "source": [
    "cursor.execute('select distinct r.pmid from result_ids r join scores s on r.pmid = s.pmid join article_data a on a.pmid = r.pmid where query_id in (2,5)')\n",
    "top_b_big_query = [i[0] for i in cursor.fetchall()]\n",
    "len(set(chembl_pmids)&set(top_b_big_query))"
   ]
  },
  {
   "cell_type": "markdown",
   "metadata": {},
   "source": [
    "32/81 chembl references are in the articles from the big search. These are almost all in the top though (b/c of ChEMBL-likeness score :) at least that's working):"
   ]
  },
  {
   "cell_type": "code",
   "execution_count": 160,
   "metadata": {
    "collapsed": false
   },
   "outputs": [
    {
     "data": {
      "text/plain": [
       "29"
      ]
     },
     "execution_count": 160,
     "metadata": {},
     "output_type": "execute_result"
    }
   ],
   "source": [
    "cursor.execute('select distinct r.pmid from result_ids r join scores s on r.pmid = s.pmid join article_data a on a.pmid = r.pmid where query_id in (2,5) and score > 0')\n",
    "top_c_big_query = [i[0] for i in cursor.fetchall()]\n",
    "len(set(chembl_pmids)&set(top_c_big_query))"
   ]
  },
  {
   "cell_type": "code",
   "execution_count": 161,
   "metadata": {
    "collapsed": false
   },
   "outputs": [
    {
     "data": {
      "text/plain": [
       "1299"
      ]
     },
     "execution_count": 161,
     "metadata": {},
     "output_type": "execute_result"
    }
   ],
   "source": [
    "len(top_c_big_query)"
   ]
  },
  {
   "cell_type": "markdown",
   "metadata": {},
   "source": [
    "### Comparing Mirams refs with top big query"
   ]
  },
  {
   "cell_type": "code",
   "execution_count": 162,
   "metadata": {
    "collapsed": false
   },
   "outputs": [
    {
     "data": {
      "text/plain": [
       "False"
      ]
     },
     "execution_count": 162,
     "metadata": {},
     "output_type": "execute_result"
    }
   ],
   "source": [
    "Mirams_paper in top_a_big_query"
   ]
  },
  {
   "cell_type": "markdown",
   "metadata": {},
   "source": [
    "Mirams paper is not in the top 1100 - low ChEMBL-likeness score:"
   ]
  },
  {
   "cell_type": "code",
   "execution_count": 163,
   "metadata": {
    "collapsed": false
   },
   "outputs": [
    {
     "data": {
      "text/plain": [
       "[(21300721, -17.29)]"
      ]
     },
     "execution_count": 163,
     "metadata": {},
     "output_type": "execute_result"
    }
   ],
   "source": [
    "cursor.execute('select * from scores where pmid = {}'.format(Mirams_paper[0]))\n",
    "cursor.fetchall()"
   ]
  },
  {
   "cell_type": "code",
   "execution_count": 164,
   "metadata": {
    "collapsed": false
   },
   "outputs": [
    {
     "data": {
      "text/plain": [
       "14856"
      ]
     },
     "execution_count": 164,
     "metadata": {},
     "output_type": "execute_result"
    }
   ],
   "source": [
    "cursor.execute(\"select distinct r.pmid from result_ids r join scores s on r.pmid = s.pmid join article_data a on a.pmid = r.pmid where query_id in (2,5) and score > -17.29 and in_chembl = '0'\")\n",
    "len(cursor.fetchall())"
   ]
  },
  {
   "cell_type": "markdown",
   "metadata": {},
   "source": [
    "Mirams' paper has rank 15000 "
   ]
  },
  {
   "cell_type": "code",
   "execution_count": 165,
   "metadata": {
    "collapsed": false
   },
   "outputs": [
    {
     "data": {
      "text/plain": [
       "18612"
      ]
     },
     "execution_count": 165,
     "metadata": {},
     "output_type": "execute_result"
    }
   ],
   "source": [
    "cursor.execute(\"select distinct r.pmid from result_ids r join scores s on r.pmid = s.pmid join article_data a on a.pmid = r.pmid where query_id in (2,5) and in_chembl = '0' and score < -17.29\")\n",
    "len(cursor.fetchall())"
   ]
  },
  {
   "cell_type": "markdown",
   "metadata": {},
   "source": [
    "How many of its total 42 refs are found in the top?"
   ]
  },
  {
   "cell_type": "code",
   "execution_count": 166,
   "metadata": {
    "collapsed": false
   },
   "outputs": [
    {
     "data": {
      "text/plain": [
       "17"
      ]
     },
     "execution_count": 166,
     "metadata": {},
     "output_type": "execute_result"
    }
   ],
   "source": [
    "len(set(Mirams_refs)&set(top_b_big_query))"
   ]
  },
  {
   "cell_type": "markdown",
   "metadata": {},
   "source": [
    "## Comparison with Wiśniowska ea 2012 article"
   ]
  },
  {
   "cell_type": "code",
   "execution_count": 167,
   "metadata": {
    "collapsed": true
   },
   "outputs": [],
   "source": [
    "Wisniowska_pmid = 22761000"
   ]
  },
  {
   "cell_type": "code",
   "execution_count": 168,
   "metadata": {
    "collapsed": false
   },
   "outputs": [
    {
     "data": {
      "text/plain": [
       "False"
      ]
     },
     "execution_count": 168,
     "metadata": {},
     "output_type": "execute_result"
    }
   ],
   "source": [
    "Wisniowska_pmid in top_a_big_query"
   ]
  },
  {
   "cell_type": "code",
   "execution_count": 169,
   "metadata": {
    "collapsed": false
   },
   "outputs": [
    {
     "data": {
      "text/plain": [
       "True"
      ]
     },
     "execution_count": 169,
     "metadata": {},
     "output_type": "execute_result"
    }
   ],
   "source": [
    "Wisniowska_pmid in top_b_big_query"
   ]
  },
  {
   "cell_type": "code",
   "execution_count": 170,
   "metadata": {
    "collapsed": false
   },
   "outputs": [
    {
     "data": {
      "text/plain": [
       "<sqlite3.Cursor at 0x10fc5d0a0>"
      ]
     },
     "execution_count": 170,
     "metadata": {},
     "output_type": "execute_result"
    }
   ],
   "source": [
    "cursor.execute('select * from scores where pmid = 22761000')"
   ]
  },
  {
   "cell_type": "code",
   "execution_count": 171,
   "metadata": {
    "collapsed": false
   },
   "outputs": [
    {
     "data": {
      "text/plain": [
       "[(22761000, -30.06)]"
      ]
     },
     "execution_count": 171,
     "metadata": {},
     "output_type": "execute_result"
    }
   ],
   "source": [
    "cursor.fetchall()"
   ]
  },
  {
   "cell_type": "code",
   "execution_count": 172,
   "metadata": {
    "collapsed": false
   },
   "outputs": [
    {
     "data": {
      "text/plain": [
       "24897"
      ]
     },
     "execution_count": 172,
     "metadata": {},
     "output_type": "execute_result"
    }
   ],
   "source": [
    "# This is the rank \n",
    "cursor.execute('''select distinct r.pmid from result_ids r join scores s on r.pmid = s.pmid join article_data a on a.pmid = r.pmid where query_id in (2,5) and in_chembl = 0 and score > -30.06''')\n",
    "len(cursor.fetchall())"
   ]
  },
  {
   "cell_type": "code",
   "execution_count": 173,
   "metadata": {
    "collapsed": false
   },
   "outputs": [
    {
     "data": {
      "text/plain": [
       "33476"
      ]
     },
     "execution_count": 173,
     "metadata": {},
     "output_type": "execute_result"
    }
   ],
   "source": [
    "# out of:\n",
    "cursor.execute(\"select distinct r.pmid from result_ids r join scores s on r.pmid = s.pmid join article_data a on a.pmid = r.pmid where query_id in (2,5) and in_chembl = 0\")\n",
    "len(cursor.fetchall())"
   ]
  },
  {
   "cell_type": "markdown",
   "metadata": {},
   "source": [
    "### Import pmids of the references"
   ]
  },
  {
   "cell_type": "code",
   "execution_count": 174,
   "metadata": {
    "collapsed": false,
    "scrolled": true
   },
   "outputs": [],
   "source": [
    "Wisniowska_suppl = pd.read_csv('Wisniowska_suppl.txt', sep = '\\t')"
   ]
  },
  {
   "cell_type": "code",
   "execution_count": 175,
   "metadata": {
    "collapsed": false
   },
   "outputs": [
    {
     "data": {
      "text/html": [
       "<div style=\"max-height:1000px;max-width:1500px;overflow:auto;\">\n",
       "<table border=\"1\" class=\"dataframe\">\n",
       "  <thead>\n",
       "    <tr style=\"text-align: right;\">\n",
       "      <th></th>\n",
       "      <th>Number</th>\n",
       "      <th>Compound</th>\n",
       "      <th>IC50 (µM)</th>\n",
       "      <th>Reference (PMID)</th>\n",
       "      <th>Cellular model</th>\n",
       "      <th>Temperature (°C)</th>\n",
       "      <th>Ca2+ bath solution [mM]</th>\n",
       "      <th>Technique</th>\n",
       "      <th>t1 pulse (s)</th>\n",
       "      <th>Holding potential (mV)</th>\n",
       "      <th>Depolarization</th>\n",
       "    </tr>\n",
       "  </thead>\n",
       "  <tbody>\n",
       "    <tr>\n",
       "      <th>0</th>\n",
       "      <td> /measurement voltage (mV)</td>\n",
       "      <td>           NaN</td>\n",
       "      <td>  NaN</td>\n",
       "      <td>      NaN</td>\n",
       "      <td>           NaN</td>\n",
       "      <td>   NaN</td>\n",
       "      <td> NaN</td>\n",
       "      <td>           NaN</td>\n",
       "      <td>  NaN</td>\n",
       "      <td>NaN</td>\n",
       "      <td>NaN</td>\n",
       "    </tr>\n",
       "    <tr>\n",
       "      <th>1</th>\n",
       "      <td>                         1</td>\n",
       "      <td>      Ajmaline</td>\n",
       "      <td> 70.8</td>\n",
       "      <td> 16308426</td>\n",
       "      <td>        rat VM</td>\n",
       "      <td>  room</td>\n",
       "      <td> 0.9</td>\n",
       "      <td> Whole cell PC</td>\n",
       "      <td> 0.30</td>\n",
       "      <td>-40</td>\n",
       "      <td>  0</td>\n",
       "    </tr>\n",
       "    <tr>\n",
       "      <th>2</th>\n",
       "      <td>                         2</td>\n",
       "      <td> Amitriptyline</td>\n",
       "      <td> 23.2</td>\n",
       "      <td> 18048694</td>\n",
       "      <td> guinea pig VM</td>\n",
       "      <td> 20-24</td>\n",
       "      <td> 1.0</td>\n",
       "      <td> Whole cell PC</td>\n",
       "      <td> 0.07</td>\n",
       "      <td>-50</td>\n",
       "      <td>  0</td>\n",
       "    </tr>\n",
       "    <tr>\n",
       "      <th>3</th>\n",
       "      <td>                         3</td>\n",
       "      <td> Amitriptyline</td>\n",
       "      <td> 3.75</td>\n",
       "      <td> 10333718</td>\n",
       "      <td>        rat VM</td>\n",
       "      <td>  room</td>\n",
       "      <td> 2.0</td>\n",
       "      <td> Whole cell PC</td>\n",
       "      <td> 0.20</td>\n",
       "      <td>-40</td>\n",
       "      <td>  0</td>\n",
       "    </tr>\n",
       "    <tr>\n",
       "      <th>4</th>\n",
       "      <td>                         4</td>\n",
       "      <td>    Amlodipine</td>\n",
       "      <td> 0.57</td>\n",
       "      <td>  9098694</td>\n",
       "      <td> guinea pig VM</td>\n",
       "      <td>    37</td>\n",
       "      <td> 1.8</td>\n",
       "      <td> Whole cell PC</td>\n",
       "      <td> 0.35</td>\n",
       "      <td>-40</td>\n",
       "      <td>  0</td>\n",
       "    </tr>\n",
       "  </tbody>\n",
       "</table>\n",
       "</div>"
      ],
      "text/plain": [
       "                      Number       Compound IC50 (µM) Reference (PMID)  \\\n",
       "0  /measurement voltage (mV)            NaN       NaN              NaN   \n",
       "1                          1       Ajmaline      70.8         16308426   \n",
       "2                          2  Amitriptyline      23.2         18048694   \n",
       "3                          3  Amitriptyline      3.75         10333718   \n",
       "4                          4     Amlodipine      0.57          9098694   \n",
       "\n",
       "  Cellular model Temperature (°C)  Ca2+ bath solution [mM]      Technique  \\\n",
       "0            NaN              NaN                      NaN            NaN   \n",
       "1         rat VM             room                      0.9  Whole cell PC   \n",
       "2  guinea pig VM            20-24                      1.0  Whole cell PC   \n",
       "3         rat VM             room                      2.0  Whole cell PC   \n",
       "4  guinea pig VM               37                      1.8  Whole cell PC   \n",
       "\n",
       "   t1 pulse (s)  Holding potential (mV)  Depolarization  \n",
       "0           NaN                     NaN             NaN  \n",
       "1          0.30                     -40               0  \n",
       "2          0.07                     -50               0  \n",
       "3          0.20                     -40               0  \n",
       "4          0.35                     -40               0  "
      ]
     },
     "execution_count": 175,
     "metadata": {},
     "output_type": "execute_result"
    }
   ],
   "source": [
    "Wisniowska_suppl.head()"
   ]
  },
  {
   "cell_type": "code",
   "execution_count": 176,
   "metadata": {
    "collapsed": false
   },
   "outputs": [],
   "source": [
    "Wisniowska_refs = list(Wisniowska_suppl.loc[1:,'Reference (PMID)'])"
   ]
  },
  {
   "cell_type": "code",
   "execution_count": 177,
   "metadata": {
    "collapsed": false
   },
   "outputs": [],
   "source": [
    "Wisniowska_refs.remove('Arikawa 2002')"
   ]
  },
  {
   "cell_type": "code",
   "execution_count": 178,
   "metadata": {
    "collapsed": false
   },
   "outputs": [],
   "source": [
    "Wisniowska_refs.append('12110604')"
   ]
  },
  {
   "cell_type": "code",
   "execution_count": 179,
   "metadata": {
    "collapsed": false
   },
   "outputs": [
    {
     "data": {
      "text/plain": [
       "123"
      ]
     },
     "execution_count": 179,
     "metadata": {},
     "output_type": "execute_result"
    }
   ],
   "source": [
    "len(Wisniowska_refs)"
   ]
  },
  {
   "cell_type": "code",
   "execution_count": 180,
   "metadata": {
    "collapsed": false
   },
   "outputs": [
    {
     "data": {
      "text/plain": [
       "49"
      ]
     },
     "execution_count": 180,
     "metadata": {},
     "output_type": "execute_result"
    }
   ],
   "source": [
    "len(set(Wisniowska_refs))"
   ]
  },
  {
   "cell_type": "code",
   "execution_count": 181,
   "metadata": {
    "collapsed": false
   },
   "outputs": [],
   "source": [
    "Wisniowska_refs = [int(i) for i in Wisniowska_refs]"
   ]
  },
  {
   "cell_type": "code",
   "execution_count": 182,
   "metadata": {
    "collapsed": false
   },
   "outputs": [
    {
     "data": {
      "text/plain": [
       "[16308426,\n",
       " 18048694,\n",
       " 10333718,\n",
       " 9098694,\n",
       " 10525060,\n",
       " 10525060,\n",
       " 17804608,\n",
       " 17804608,\n",
       " 11334859,\n",
       " 10525060]"
      ]
     },
     "execution_count": 182,
     "metadata": {},
     "output_type": "execute_result"
    }
   ],
   "source": [
    "Wisniowska_refs[:10]"
   ]
  },
  {
   "cell_type": "code",
   "execution_count": 183,
   "metadata": {
    "collapsed": false
   },
   "outputs": [
    {
     "data": {
      "text/plain": [
       "43"
      ]
     },
     "execution_count": 183,
     "metadata": {},
     "output_type": "execute_result"
    }
   ],
   "source": [
    "len(set(Wisniowska_refs) & set(top_b_big_query))"
   ]
  },
  {
   "cell_type": "code",
   "execution_count": null,
   "metadata": {
    "collapsed": false
   },
   "outputs": [],
   "source": []
  },
  {
   "cell_type": "markdown",
   "metadata": {},
   "source": [
    "### Define rank function"
   ]
  },
  {
   "cell_type": "code",
   "execution_count": 184,
   "metadata": {
    "collapsed": true
   },
   "outputs": [],
   "source": [
    "# now have set in_chembl = '0'.\n",
    "def get_rank(query_id_list, pmid):\n",
    "    # get score for pmid\n",
    "    # get length of list of pmids with score higher than that score for given query_ids\n",
    "    # return rank\n",
    "    query_id = str(query_id_list).strip('[]')\n",
    "    cursor.execute('select score from scores where pmid = {}'.format(pmid))\n",
    "    score = cursor.fetchall()[0][0]\n",
    "    cursor.execute('''select distinct r.pmid from result_ids r join scores s on r.pmid = s.pmid join article_data a on a.pmid = r.pmid where query_id in ({}) \n",
    "                    and score > {} and in_chembl = 0\n",
    "                   '''.format(query_id, score))\n",
    "    return (pmid, len(cursor.fetchall()))"
   ]
  },
  {
   "cell_type": "code",
   "execution_count": 185,
   "metadata": {
    "collapsed": false
   },
   "outputs": [
    {
     "data": {
      "text/plain": [
       "(22761000, 24897)"
      ]
     },
     "execution_count": 185,
     "metadata": {},
     "output_type": "execute_result"
    }
   ],
   "source": [
    "get_rank([2,5],pmid = 22761000)"
   ]
  },
  {
   "cell_type": "code",
   "execution_count": 186,
   "metadata": {
    "collapsed": false
   },
   "outputs": [
    {
     "data": {
      "text/plain": [
       "(21300721, 14856)"
      ]
     },
     "execution_count": 186,
     "metadata": {},
     "output_type": "execute_result"
    }
   ],
   "source": [
    "get_rank([2,5],pmid = 21300721)"
   ]
  },
  {
   "cell_type": "markdown",
   "metadata": {},
   "source": [
    "### Get rank for 42 references found"
   ]
  },
  {
   "cell_type": "code",
   "execution_count": 187,
   "metadata": {
    "collapsed": false
   },
   "outputs": [
    {
     "data": {
      "text/plain": [
       "33476"
      ]
     },
     "execution_count": 187,
     "metadata": {},
     "output_type": "execute_result"
    }
   ],
   "source": [
    "cursor.execute(\"select distinct r.pmid from result_ids r join scores s on r.pmid = s.pmid join article_data a on a.pmid = r.pmid where query_id in (2,5) and in_chembl = 0\")\n",
    "len(cursor.fetchall()) \n",
    "# excluding articles already in ChEMBL"
   ]
  },
  {
   "cell_type": "code",
   "execution_count": 263,
   "metadata": {
    "collapsed": false
   },
   "outputs": [],
   "source": [
    "cursor.execute('select distinct r.pmid from result_ids r join scores s on r.pmid = s.pmid join article_data a on a.pmid = r.pmid where query_id = 12')\n",
    "query_12 = [i[0] for i in cursor.fetchall()]"
   ]
  },
  {
   "cell_type": "code",
   "execution_count": 264,
   "metadata": {
    "collapsed": true
   },
   "outputs": [],
   "source": [
    "Wisniowska_overlap = list(set(Wisniowska_refs) & set(query_12))"
   ]
  },
  {
   "cell_type": "code",
   "execution_count": 265,
   "metadata": {
    "collapsed": false
   },
   "outputs": [
    {
     "data": {
      "text/plain": [
       "2917"
      ]
     },
     "execution_count": 265,
     "metadata": {},
     "output_type": "execute_result"
    }
   ],
   "source": [
    "len(query_12)"
   ]
  },
  {
   "cell_type": "code",
   "execution_count": 244,
   "metadata": {
    "collapsed": false
   },
   "outputs": [
    {
     "data": {
      "text/plain": [
       "29"
      ]
     },
     "execution_count": 244,
     "metadata": {},
     "output_type": "execute_result"
    }
   ],
   "source": [
    "len(Wisniowska_overlap)"
   ]
  },
  {
   "cell_type": "code",
   "execution_count": 245,
   "metadata": {
    "collapsed": false
   },
   "outputs": [],
   "source": [
    "Wisniowska_ranks = []\n",
    "for current_pmid in Wisniowska_overlap:\n",
    "    Wisniowska_ranks.append(get_rank([12],pmid=current_pmid))"
   ]
  },
  {
   "cell_type": "code",
   "execution_count": 246,
   "metadata": {
    "collapsed": false
   },
   "outputs": [
    {
     "data": {
      "text/plain": [
       "[(11065219, 1843),\n",
       " (19367686, 2062),\n",
       " (10900233, 2287),\n",
       " (7881746, 1528),\n",
       " (10333718, 2149),\n",
       " (12808473, 1342),\n",
       " (10884509, 1784),\n",
       " (11719851, 1696),\n",
       " (3708204, 2126),\n",
       " (14530219, 1775),\n",
       " (18048694, 324),\n",
       " (17804608, 2430),\n",
       " (9242181, 1612),\n",
       " (9098694, 1617),\n",
       " (16308426, 2231),\n",
       " (11334859, 2651),\n",
       " (15067213, 2454),\n",
       " (17173968, 1979),\n",
       " (20332624, 2810),\n",
       " (20054489, 1468),\n",
       " (8732508, 597),\n",
       " (2420970, 2317),\n",
       " (1687534, 917),\n",
       " (17700718, 1891),\n",
       " (21300721, 2014),\n",
       " (2050292, 863),\n",
       " (15120629, 2532),\n",
       " (8485628, 1080),\n",
       " (14711935, 846)]"
      ]
     },
     "execution_count": 246,
     "metadata": {},
     "output_type": "execute_result"
    }
   ],
   "source": [
    "Wisniowska_ranks"
   ]
  },
  {
   "cell_type": "markdown",
   "metadata": {
    "collapsed": true
   },
   "source": [
    "### Query_id 9 (with terms according to article)"
   ]
  },
  {
   "cell_type": "code",
   "execution_count": 192,
   "metadata": {
    "collapsed": false
   },
   "outputs": [
    {
     "data": {
      "text/plain": [
       "[(9,\n",
       "  '(ABSTRACT:\"calcium channel\" OR ABSTRACT:\"Ca channel\" OR ABSTRACT:\"Ca(2+) channel\" OR ABSTRACT:\"Ca(2+)-channel\" OR ABSTRACT:\"Ca2+ channel\" OR ABSTRACT:\"Ca2+ current\" OR ABSTRACT:\"calcium current\" OR ABSTRACT:\"Ca current\" OR ABSTRACT:\"Ca(2+) current\" OR ABSTRACT:\"Ca(2+)-current\" OR ABSTRACT:\"Ca++ channel\" OR ABSTRACT:\"Ca++ current\" OR ABSTRACT:\"LTCC\" OR ABSTRACT:\"I(Ca)\" OR ABSTRACT:\"(ICa)\" OR ABSTRACT:\"ICa,L\" OR ABSTRACT:\"L-type\" OR ABSTRACT:\"Ca(V)1.2\" OR ABSTRACT:\"CaV1.2\") AND (ABSTRACT:\"IC50\" OR ABSTRACT:\"IC(50)\")',\n",
       "  2033,\n",
       "  '2015-9-23')]"
      ]
     },
     "execution_count": 192,
     "metadata": {},
     "output_type": "execute_result"
    }
   ],
   "source": [
    "cursor.execute('select * from queries where query_id = 9')\n",
    "cursor.fetchall()"
   ]
  },
  {
   "cell_type": "code",
   "execution_count": 193,
   "metadata": {
    "collapsed": true
   },
   "outputs": [],
   "source": [
    "cursor.execute('select distinct pmid from result_ids where query_id = 9')\n",
    "query9_list = [i[0] for i in cursor.fetchall()]"
   ]
  },
  {
   "cell_type": "code",
   "execution_count": 194,
   "metadata": {
    "collapsed": false
   },
   "outputs": [
    {
     "data": {
      "text/plain": [
       "2033"
      ]
     },
     "execution_count": 194,
     "metadata": {},
     "output_type": "execute_result"
    }
   ],
   "source": [
    "len(query9_list)"
   ]
  },
  {
   "cell_type": "code",
   "execution_count": 195,
   "metadata": {
    "collapsed": true
   },
   "outputs": [],
   "source": [
    "# "
   ]
  },
  {
   "cell_type": "code",
   "execution_count": 196,
   "metadata": {
    "collapsed": false
   },
   "outputs": [
    {
     "data": {
      "text/plain": [
       "29"
      ]
     },
     "execution_count": 196,
     "metadata": {},
     "output_type": "execute_result"
    }
   ],
   "source": [
    "len(set(set(Wisniowska_refs) & set(query9_list)))"
   ]
  },
  {
   "cell_type": "code",
   "execution_count": 197,
   "metadata": {
    "collapsed": false
   },
   "outputs": [
    {
     "data": {
      "text/plain": [
       "[(9, 2420970)]"
      ]
     },
     "execution_count": 197,
     "metadata": {},
     "output_type": "execute_result"
    }
   ],
   "source": [
    "cursor.execute('select * from result_ids where pmid = 2420970 and query_id = 9')\n",
    "cursor.fetchall()"
   ]
  },
  {
   "cell_type": "code",
   "execution_count": 198,
   "metadata": {
    "collapsed": false
   },
   "outputs": [
    {
     "data": {
      "text/plain": [
       "[]"
      ]
     },
     "execution_count": 198,
     "metadata": {},
     "output_type": "execute_result"
    }
   ],
   "source": [
    "cursor.execute('select * from result_ids where pmid = 7712017 and query_id = 9')\n",
    "cursor.fetchall()"
   ]
  },
  {
   "cell_type": "code",
   "execution_count": 199,
   "metadata": {
    "collapsed": false
   },
   "outputs": [
    {
     "data": {
      "text/plain": [
       "29"
      ]
     },
     "execution_count": 199,
     "metadata": {},
     "output_type": "execute_result"
    }
   ],
   "source": [
    "len(set(Wisniowska_refs) & set(query9_list))"
   ]
  },
  {
   "cell_type": "code",
   "execution_count": 200,
   "metadata": {
    "collapsed": false
   },
   "outputs": [
    {
     "data": {
      "text/plain": [
       "False"
      ]
     },
     "execution_count": 200,
     "metadata": {},
     "output_type": "execute_result"
    }
   ],
   "source": [
    "7712017 in set(query9_list)"
   ]
  },
  {
   "cell_type": "code",
   "execution_count": null,
   "metadata": {
    "collapsed": true
   },
   "outputs": [],
   "source": []
  },
  {
   "cell_type": "code",
   "execution_count": null,
   "metadata": {
    "collapsed": true
   },
   "outputs": [],
   "source": []
  },
  {
   "cell_type": "code",
   "execution_count": null,
   "metadata": {
    "collapsed": true
   },
   "outputs": [],
   "source": []
  },
  {
   "cell_type": "code",
   "execution_count": null,
   "metadata": {
    "collapsed": true
   },
   "outputs": [],
   "source": []
  },
  {
   "cell_type": "code",
   "execution_count": null,
   "metadata": {
    "collapsed": true
   },
   "outputs": [],
   "source": []
  },
  {
   "cell_type": "code",
   "execution_count": null,
   "metadata": {
    "collapsed": true
   },
   "outputs": [],
   "source": []
  },
  {
   "cell_type": "markdown",
   "metadata": {},
   "source": [
    "# Some things out of interest"
   ]
  },
  {
   "cell_type": "markdown",
   "metadata": {},
   "source": [
    "### Number or compounds per reference for ChEMBL LTCC references"
   ]
  },
  {
   "cell_type": "code",
   "execution_count": 201,
   "metadata": {
    "collapsed": false
   },
   "outputs": [],
   "source": [
    "data?"
   ]
  },
  {
   "cell_type": "code",
   "execution_count": 202,
   "metadata": {
    "collapsed": false
   },
   "outputs": [
    {
     "data": {
      "text/plain": [
       "Index(['target_chemblid', 'pref_name', 'target_type', 'organism', 'species', 'relationship_type', 'assay_chemblid', 'description', 'assay_organism', 'parent_cmpd_chemblid', 'cmpd_chemblid', 'standard_type', 'standard_relation', 'standard_value', 'standard_units', 'pchembl_value', 'activity_comment', 'data_validity_comment', 'potential_duplicate', 'compound_key', 'published_type', 'published_relation', 'published_value', 'published_units', 'doc_chemblid', 'pubmed_id', 'reference', 'active'], dtype='object')"
      ]
     },
     "execution_count": 202,
     "metadata": {},
     "output_type": "execute_result"
    }
   ],
   "source": [
    "data.columns"
   ]
  },
  {
   "cell_type": "code",
   "execution_count": 203,
   "metadata": {
    "collapsed": false
   },
   "outputs": [
    {
     "data": {
      "text/plain": [
       "906"
      ]
     },
     "execution_count": 203,
     "metadata": {},
     "output_type": "execute_result"
    }
   ],
   "source": [
    "#Number of unique compound-pmid rows\n",
    "len(data.loc[:,['cmpd_chemblid', 'pubmed_id']].drop_duplicates().dropna())"
   ]
  },
  {
   "cell_type": "code",
   "execution_count": 204,
   "metadata": {
    "collapsed": false
   },
   "outputs": [
    {
     "data": {
      "text/plain": [
       "899"
      ]
     },
     "execution_count": 204,
     "metadata": {},
     "output_type": "execute_result"
    }
   ],
   "source": [
    "#Number of unique compounds (regardless of pmids)\n",
    "len(data['cmpd_chemblid'].unique())"
   ]
  },
  {
   "cell_type": "code",
   "execution_count": 205,
   "metadata": {
    "collapsed": false
   },
   "outputs": [
    {
     "data": {
      "text/plain": [
       "81"
      ]
     },
     "execution_count": 205,
     "metadata": {},
     "output_type": "execute_result"
    }
   ],
   "source": [
    "#Number of unique pmids\n",
    "len(data['pubmed_id'].dropna().unique())"
   ]
  },
  {
   "cell_type": "code",
   "execution_count": 206,
   "metadata": {
    "collapsed": false
   },
   "outputs": [
    {
     "data": {
      "text/plain": [
       "10.963414634146341"
      ]
     },
     "execution_count": 206,
     "metadata": {},
     "output_type": "execute_result"
    }
   ],
   "source": [
    "#Average number of compounds per article\n",
    "899 / 82"
   ]
  },
  {
   "cell_type": "code",
   "execution_count": 207,
   "metadata": {
    "collapsed": false
   },
   "outputs": [
    {
     "data": {
      "text/html": [
       "<div style=\"max-height:1000px;max-width:1500px;overflow:auto;\">\n",
       "<table border=\"1\" class=\"dataframe\">\n",
       "  <thead>\n",
       "    <tr style=\"text-align: right;\">\n",
       "      <th></th>\n",
       "      <th>pubmed_id</th>\n",
       "      <th>cmpd_chemblid</th>\n",
       "    </tr>\n",
       "  </thead>\n",
       "  <tbody>\n",
       "    <tr>\n",
       "      <th>0 </th>\n",
       "      <td> 8474099</td>\n",
       "      <td> CHEMBL138302</td>\n",
       "    </tr>\n",
       "    <tr>\n",
       "      <th>4 </th>\n",
       "      <td> 8474099</td>\n",
       "      <td> CHEMBL343771</td>\n",
       "    </tr>\n",
       "    <tr>\n",
       "      <th>8 </th>\n",
       "      <td> 8474099</td>\n",
       "      <td>   CHEMBL6966</td>\n",
       "    </tr>\n",
       "    <tr>\n",
       "      <th>9 </th>\n",
       "      <td> 1507200</td>\n",
       "      <td>  CHEMBL29067</td>\n",
       "    </tr>\n",
       "    <tr>\n",
       "      <th>16</th>\n",
       "      <td> 3339603</td>\n",
       "      <td> CHEMBL102498</td>\n",
       "    </tr>\n",
       "  </tbody>\n",
       "</table>\n",
       "</div>"
      ],
      "text/plain": [
       "    pubmed_id cmpd_chemblid\n",
       "0     8474099  CHEMBL138302\n",
       "4     8474099  CHEMBL343771\n",
       "8     8474099    CHEMBL6966\n",
       "9     1507200   CHEMBL29067\n",
       "16    3339603  CHEMBL102498"
      ]
     },
     "execution_count": 207,
     "metadata": {},
     "output_type": "execute_result"
    }
   ],
   "source": [
    "data.loc[:,['pubmed_id', 'cmpd_chemblid']].drop_duplicates().dropna().head()"
   ]
  },
  {
   "cell_type": "code",
   "execution_count": 208,
   "metadata": {
    "collapsed": false
   },
   "outputs": [],
   "source": [
    "hist_pmid_list = []\n",
    "hist_freq_list = []\n",
    "\n",
    "for pmid in data['pubmed_id'].dropna().unique():\n",
    "    sel = len(data.loc[data['pubmed_id'] == pmid,'parent_cmpd_chemblid'].drop_duplicates())\n",
    "    \n",
    "\n",
    "    #data.query('pubmed_id == {}'.format(pmid))\n",
    "    hist_pmid_list.append(pmid.astype(int))\n",
    "    hist_freq_list.append(sel)"
   ]
  },
  {
   "cell_type": "code",
   "execution_count": 209,
   "metadata": {
    "collapsed": false
   },
   "outputs": [
    {
     "data": {
      "text/plain": [
       "[8474099, 1507200, 3339603, 10447952, 1311765]"
      ]
     },
     "execution_count": 209,
     "metadata": {},
     "output_type": "execute_result"
    }
   ],
   "source": [
    "hist_pmid_list[:5]"
   ]
  },
  {
   "cell_type": "code",
   "execution_count": 210,
   "metadata": {
    "collapsed": false
   },
   "outputs": [
    {
     "data": {
      "text/plain": [
       "[3, 1, 9, 8, 37, 2, 14, 10, 7, 8]"
      ]
     },
     "execution_count": 210,
     "metadata": {},
     "output_type": "execute_result"
    }
   ],
   "source": [
    "hist_freq_list[:10]"
   ]
  },
  {
   "cell_type": "code",
   "execution_count": 211,
   "metadata": {
    "collapsed": false
   },
   "outputs": [
    {
     "data": {
      "text/plain": [
       "0    CHEMBL138302\n",
       "4    CHEMBL343771\n",
       "8      CHEMBL6966\n",
       "Name: cmpd_chemblid, dtype: object"
      ]
     },
     "execution_count": 211,
     "metadata": {},
     "output_type": "execute_result"
    }
   ],
   "source": [
    "data.loc[data['pubmed_id'] == 8474099,'cmpd_chemblid'].drop_duplicates()"
   ]
  },
  {
   "cell_type": "code",
   "execution_count": 212,
   "metadata": {
    "collapsed": true
   },
   "outputs": [],
   "source": [
    "my_dict = {'NrCompounds': hist_freq_list, 'pmid': hist_pmid_list}"
   ]
  },
  {
   "cell_type": "code",
   "execution_count": 213,
   "metadata": {
    "collapsed": false
   },
   "outputs": [
    {
     "data": {
      "text/html": [
       "<div style=\"max-height:1000px;max-width:1500px;overflow:auto;\">\n",
       "<table border=\"1\" class=\"dataframe\">\n",
       "  <thead>\n",
       "    <tr style=\"text-align: right;\">\n",
       "      <th></th>\n",
       "      <th>NrCompounds</th>\n",
       "      <th>pmid</th>\n",
       "    </tr>\n",
       "  </thead>\n",
       "  <tbody>\n",
       "    <tr>\n",
       "      <th>4 </th>\n",
       "      <td> 37</td>\n",
       "      <td>  1311765</td>\n",
       "    </tr>\n",
       "    <tr>\n",
       "      <th>43</th>\n",
       "      <td> 69</td>\n",
       "      <td> 20382537</td>\n",
       "    </tr>\n",
       "    <tr>\n",
       "      <th>45</th>\n",
       "      <td> 37</td>\n",
       "      <td> 23688558</td>\n",
       "    </tr>\n",
       "    <tr>\n",
       "      <th>48</th>\n",
       "      <td> 90</td>\n",
       "      <td> 23651412</td>\n",
       "    </tr>\n",
       "    <tr>\n",
       "      <th>49</th>\n",
       "      <td> 33</td>\n",
       "      <td>  8709127</td>\n",
       "    </tr>\n",
       "    <tr>\n",
       "      <th>57</th>\n",
       "      <td> 33</td>\n",
       "      <td>  8831775</td>\n",
       "    </tr>\n",
       "    <tr>\n",
       "      <th>58</th>\n",
       "      <td> 35</td>\n",
       "      <td>  7473567</td>\n",
       "    </tr>\n",
       "    <tr>\n",
       "      <th>67</th>\n",
       "      <td> 39</td>\n",
       "      <td>  9016337</td>\n",
       "    </tr>\n",
       "    <tr>\n",
       "      <th>73</th>\n",
       "      <td> 87</td>\n",
       "      <td>  2066997</td>\n",
       "    </tr>\n",
       "  </tbody>\n",
       "</table>\n",
       "</div>"
      ],
      "text/plain": [
       "    NrCompounds      pmid\n",
       "4            37   1311765\n",
       "43           69  20382537\n",
       "45           37  23688558\n",
       "48           90  23651412\n",
       "49           33   8709127\n",
       "57           33   8831775\n",
       "58           35   7473567\n",
       "67           39   9016337\n",
       "73           87   2066997"
      ]
     },
     "execution_count": 213,
     "metadata": {},
     "output_type": "execute_result"
    }
   ],
   "source": [
    "my_dict = {'NrCompounds': hist_freq_list, 'pmid': hist_pmid_list}\n",
    "test_df = pd.DataFrame(data=my_dict)\n",
    "test_df.loc[test_df['NrCompounds']>30,:]"
   ]
  },
  {
   "cell_type": "code",
   "execution_count": 214,
   "metadata": {
    "collapsed": false
   },
   "outputs": [
    {
     "data": {
      "text/plain": [
       "<matplotlib.axes.AxesSubplot at 0x10f9c1828>"
      ]
     },
     "execution_count": 214,
     "metadata": {},
     "output_type": "execute_result"
    },
    {
     "data": {
      "image/png": "[encoded data removed]",
      "text/plain": [
       "<matplotlib.figure.Figure at 0x110f102b0>"
      ]
     },
     "metadata": {},
     "output_type": "display_data"
    }
   ],
   "source": [
    "test_df['NrCompounds'].plot(kind = 'hist', bins = 40, title= 'Number of unique parent_cmpd_chemblid per pubmed_id for LTCC refs')\n",
    "# Don't manage to add axis labels here but x axis = NrCompounds and y axis is frequency"
   ]
  },
  {
   "cell_type": "markdown",
   "metadata": {},
   "source": [
    "### Peter's categories and ChEMBL-likeness score"
   ]
  },
  {
   "cell_type": "markdown",
   "metadata": {},
   "source": [
    "Insert category into the df -- I noticed one HIGH article is missing in categories file? Not sure why but I don't think it affects the mean ChEMBL-id."
   ]
  },
  {
   "cell_type": "code",
   "execution_count": 215,
   "metadata": {
    "collapsed": true
   },
   "outputs": [],
   "source": [
    "categories = pd.read_csv('categories_peter.txt', delimiter = '\\t', encoding = 'ascii')\n",
    "categories.index = range(1,len(categories) + 1)\n"
   ]
  },
  {
   "cell_type": "code",
   "execution_count": 216,
   "metadata": {
    "collapsed": false
   },
   "outputs": [
    {
     "data": {
      "text/html": [
       "<div style=\"max-height:1000px;max-width:1500px;overflow:auto;\">\n",
       "<table border=\"1\" class=\"dataframe\">\n",
       "  <thead>\n",
       "    <tr style=\"text-align: right;\">\n",
       "      <th></th>\n",
       "      <th>pmid</th>\n",
       "      <th>Of interest for follow-up</th>\n",
       "      <th>PH</th>\n",
       "    </tr>\n",
       "  </thead>\n",
       "  <tbody>\n",
       "    <tr>\n",
       "      <th>1</th>\n",
       "      <td> 25596477</td>\n",
       "      <td> HIGH</td>\n",
       "      <td>NaN</td>\n",
       "    </tr>\n",
       "    <tr>\n",
       "      <th>2</th>\n",
       "      <td> 25681549</td>\n",
       "      <td>  MED</td>\n",
       "      <td>NaN</td>\n",
       "    </tr>\n",
       "    <tr>\n",
       "      <th>3</th>\n",
       "      <td>  1706275</td>\n",
       "      <td> HIGH</td>\n",
       "      <td>NaN</td>\n",
       "    </tr>\n",
       "    <tr>\n",
       "      <th>4</th>\n",
       "      <td> 12005367</td>\n",
       "      <td> HIGH</td>\n",
       "      <td>NaN</td>\n",
       "    </tr>\n",
       "    <tr>\n",
       "      <th>5</th>\n",
       "      <td>  1701359</td>\n",
       "      <td> HIGH</td>\n",
       "      <td>NaN</td>\n",
       "    </tr>\n",
       "  </tbody>\n",
       "</table>\n",
       "</div>"
      ],
      "text/plain": [
       "       pmid Of interest for follow-up  PH\n",
       "1  25596477                      HIGH NaN\n",
       "2  25681549                       MED NaN\n",
       "3   1706275                      HIGH NaN\n",
       "4  12005367                      HIGH NaN\n",
       "5   1701359                      HIGH NaN"
      ]
     },
     "execution_count": 216,
     "metadata": {},
     "output_type": "execute_result"
    }
   ],
   "source": [
    "categories.head()"
   ]
  },
  {
   "cell_type": "code",
   "execution_count": 217,
   "metadata": {
    "collapsed": false
   },
   "outputs": [
    {
     "data": {
      "text/html": [
       "<div style=\"max-height:1000px;max-width:1500px;overflow:auto;\">\n",
       "<table border=\"1\" class=\"dataframe\">\n",
       "  <thead>\n",
       "    <tr style=\"text-align: right;\">\n",
       "      <th></th>\n",
       "      <th>pmid</th>\n",
       "      <th>Of interest for follow-up</th>\n",
       "      <th>PH</th>\n",
       "    </tr>\n",
       "  </thead>\n",
       "  <tbody>\n",
       "    <tr>\n",
       "      <th>284</th>\n",
       "      <td> 1314393</td>\n",
       "      <td> MED</td>\n",
       "      <td>NaN</td>\n",
       "    </tr>\n",
       "  </tbody>\n",
       "</table>\n",
       "</div>"
      ],
      "text/plain": [
       "        pmid Of interest for follow-up  PH\n",
       "284  1314393                       MED NaN"
      ]
     },
     "execution_count": 217,
     "metadata": {},
     "output_type": "execute_result"
    }
   ],
   "source": [
    "categories.loc[categories['pmid']==1314393,:]"
   ]
  },
  {
   "cell_type": "code",
   "execution_count": 218,
   "metadata": {
    "collapsed": false
   },
   "outputs": [],
   "source": [
    "query_300_df = c.get_df(query_id_list = [8], db_name = 'cluster_db')[0]"
   ]
  },
  {
   "cell_type": "code",
   "execution_count": 219,
   "metadata": {
    "collapsed": false
   },
   "outputs": [
    {
     "data": {
      "text/plain": [
       "1    25596477\n",
       "2    11405285\n",
       "3    18310913\n",
       "4    25681549\n",
       "5     1314393\n",
       "Name: pmid, dtype: int64"
      ]
     },
     "execution_count": 219,
     "metadata": {},
     "output_type": "execute_result"
    }
   ],
   "source": [
    "query_300_df['pmid'].head()"
   ]
  },
  {
   "cell_type": "code",
   "execution_count": 220,
   "metadata": {
    "collapsed": false
   },
   "outputs": [],
   "source": [
    "def f(x):\n",
    "    for i in categories.index:\n",
    "        if x == categories.loc[i,'pmid']:\n",
    "            return categories.loc[i,'Of interest for follow-up']\n",
    "        else:\n",
    "            continue"
   ]
  },
  {
   "cell_type": "code",
   "execution_count": 221,
   "metadata": {
    "collapsed": false
   },
   "outputs": [],
   "source": [
    "query_300_df['interest'] = query_300_df['pmid'].apply(f)"
   ]
  },
  {
   "cell_type": "code",
   "execution_count": 222,
   "metadata": {
    "collapsed": false
   },
   "outputs": [
    {
     "data": {
      "text/html": [
       "<div style=\"max-height:1000px;max-width:1500px;overflow:auto;\">\n",
       "<table border=\"1\" class=\"dataframe\">\n",
       "  <thead>\n",
       "    <tr style=\"text-align: right;\">\n",
       "      <th></th>\n",
       "      <th>pmid</th>\n",
       "      <th>interest</th>\n",
       "    </tr>\n",
       "  </thead>\n",
       "  <tbody>\n",
       "    <tr>\n",
       "      <th>5</th>\n",
       "      <td> 1314393</td>\n",
       "      <td> MED</td>\n",
       "    </tr>\n",
       "  </tbody>\n",
       "</table>\n",
       "</div>"
      ],
      "text/plain": [
       "      pmid interest\n",
       "5  1314393      MED"
      ]
     },
     "execution_count": 222,
     "metadata": {},
     "output_type": "execute_result"
    }
   ],
   "source": [
    "query_300_df.loc[query_300_df['pmid']==1314393,['pmid','interest']]"
   ]
  },
  {
   "cell_type": "code",
   "execution_count": 223,
   "metadata": {
    "collapsed": false
   },
   "outputs": [
    {
     "data": {
      "text/plain": [
       "293"
      ]
     },
     "execution_count": 223,
     "metadata": {},
     "output_type": "execute_result"
    }
   ],
   "source": [
    "len(query_300_df['pmid'].drop_duplicates())"
   ]
  },
  {
   "cell_type": "code",
   "execution_count": 224,
   "metadata": {
    "collapsed": false
   },
   "outputs": [
    {
     "data": {
      "text/plain": [
       "292"
      ]
     },
     "execution_count": 224,
     "metadata": {},
     "output_type": "execute_result"
    }
   ],
   "source": [
    "len(categories['pmid'].drop_duplicates())"
   ]
  },
  {
   "cell_type": "markdown",
   "metadata": {},
   "source": [
    "#### Peter's ranking correlates with ChEMBL-likeness score"
   ]
  },
  {
   "cell_type": "code",
   "execution_count": 225,
   "metadata": {
    "collapsed": false
   },
   "outputs": [
    {
     "data": {
      "text/html": [
       "<div style=\"max-height:1000px;max-width:1500px;overflow:auto;\">\n",
       "<table border=\"1\" class=\"dataframe\">\n",
       "  <thead>\n",
       "    <tr style=\"text-align: right;\">\n",
       "      <th></th>\n",
       "      <th>pmid</th>\n",
       "      <th>year</th>\n",
       "      <th>inChEMBL</th>\n",
       "      <th>score</th>\n",
       "    </tr>\n",
       "    <tr>\n",
       "      <th>interest</th>\n",
       "      <th></th>\n",
       "      <th></th>\n",
       "      <th></th>\n",
       "      <th></th>\n",
       "    </tr>\n",
       "  </thead>\n",
       "  <tbody>\n",
       "    <tr>\n",
       "      <th>HIGH</th>\n",
       "      <td> 11604411.165049</td>\n",
       "      <td> 1999.864078</td>\n",
       "      <td> 0.019417</td>\n",
       "      <td>-12.237353</td>\n",
       "    </tr>\n",
       "    <tr>\n",
       "      <th>LOW</th>\n",
       "      <td> 10440733.573643</td>\n",
       "      <td> 1998.612403</td>\n",
       "      <td> 0.000000</td>\n",
       "      <td>-16.458915</td>\n",
       "    </tr>\n",
       "    <tr>\n",
       "      <th>MED</th>\n",
       "      <td> 11486717.883333</td>\n",
       "      <td> 1999.866667</td>\n",
       "      <td> 0.000000</td>\n",
       "      <td>-14.746667</td>\n",
       "    </tr>\n",
       "  </tbody>\n",
       "</table>\n",
       "</div>"
      ],
      "text/plain": [
       "                     pmid         year  inChEMBL      score\n",
       "interest                                                   \n",
       "HIGH      11604411.165049  1999.864078  0.019417 -12.237353\n",
       "LOW       10440733.573643  1998.612403  0.000000 -16.458915\n",
       "MED       11486717.883333  1999.866667  0.000000 -14.746667"
      ]
     },
     "execution_count": 225,
     "metadata": {},
     "output_type": "execute_result"
    }
   ],
   "source": [
    "grouped = query_300_df.groupby('interest')\n",
    "grouped.mean()"
   ]
  },
  {
   "cell_type": "code",
   "execution_count": 226,
   "metadata": {
    "collapsed": true
   },
   "outputs": [],
   "source": [
    "conn.close()"
   ]
  },
  {
   "cell_type": "code",
   "execution_count": null,
   "metadata": {
    "collapsed": true
   },
   "outputs": [],
   "source": []
  }
 ],
 "metadata": {
  "kernelspec": {
   "display_name": "Python 3",
   "language": "python",
   "name": "python3"
  },
  "language_info": {
   "codemirror_mode": {
    "name": "ipython",
    "version": 3
   },
   "file_extension": ".py",
   "mimetype": "text/x-python",
   "name": "python",
   "nbconvert_exporter": "python",
   "pygments_lexer": "ipython3",
   "version": "3.4.3"
  }
 },
 "nbformat": 4,
 "nbformat_minor": 0
}
