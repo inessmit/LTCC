{
 "cells": [
  {
   "cell_type": "markdown",
   "metadata": {},
   "source": [
    "# Example query  - how to run a query and get the df"
   ]
  },
  {
   "cell_type": "code",
   "execution_count": 1,
   "metadata": {
    "collapsed": true
   },
   "outputs": [],
   "source": [
    "import common_functions_cache as c\n",
    "import pickle"
   ]
  },
  {
   "cell_type": "code",
   "execution_count": 2,
   "metadata": {
    "collapsed": false
   },
   "outputs": [
    {
     "name": "stdout",
     "output_type": "stream",
     "text": [
      "Version of common functions with more caching, also using new sqlite db schema (LTCC_cache). Functions for querying abstracts on ePMC, saving results in sqlite db and displaying results in dataframe.\n",
      "More checks in this version to avoid duplicate retrieval of information from web services. \n",
      "Functions available:\n",
      "create_db(db_name)\n",
      "pop_chembl_pmids(db_name) -- this populates the chembl_pmids table with pmids from a specific chembl_version.\n",
      "def define_synonym_queries(term_dict_1, term_dict_2 = None, term_dict_3 = None)\n",
      "get_hit_profile(query_list)\n",
      "get_pmids(query, db_name) -- query is string\n",
      "get_article_data(query_id, db_name) -- query is string\n",
      "get_pmids_and_article_data(query, db_name) -- query is string\n",
      "get_availabilities(query_id, db_name)\n",
      "get_scores(query_id, db_name)\n",
      "set_chembl_values(query_id, db_name)\n",
      "get_df(query_id_list, db_name, sql_condition=None)\n",
      "separate_column_df(query_id)\n",
      "colour_terms(df, markup_list)\n",
      "plot_scores(query_id_list, db_name)\n",
      "\n"
     ]
    }
   ],
   "source": [
    "print(c.__doc__)"
   ]
  },
  {
   "cell_type": "markdown",
   "metadata": {},
   "source": [
    "## 1. Create sqlite db and populate chembl_pmids table from ChEMBL.\n",
    "This only needs to be done once. Use create_db and pop_chembl_ids functions."
   ]
  },
  {
   "cell_type": "code",
   "execution_count": 3,
   "metadata": {
    "collapsed": false
   },
   "outputs": [
    {
     "name": "stdout",
     "output_type": "stream",
     "text": [
      "Create the SQLite database in the current directory.\n",
      "    kwargs: db_name -- name of the new SQLite db you are creating\n"
     ]
    }
   ],
   "source": [
    "print(c.create_db.__doc__)"
   ]
  },
  {
   "cell_type": "code",
   "execution_count": 4,
   "metadata": {
    "collapsed": false
   },
   "outputs": [
    {
     "name": "stdout",
     "output_type": "stream",
     "text": [
      "Get all pubmed ids from ChEMBL_20 and populate the chembl_pmids table in the SQLite db with those pmids. Needs a file with login details to ChEMBL database.\n",
      "    kwargs: db_name -- name of the SQLite db of which the chembl_pmids table should be updated\n"
     ]
    }
   ],
   "source": [
    "print(c.pop_chembl_pmids.__doc__)"
   ]
  },
  {
   "cell_type": "markdown",
   "metadata": {},
   "source": [
    "## 2. Define your query"
   ]
  },
  {
   "cell_type": "markdown",
   "metadata": {},
   "source": [
    "We want to get from a set of terms to df with the resulting abstracts with hyperlinks and interesting terms highlighted.\n",
    "Two preconditions:\n",
    "* You already created an sqlite db and it is in the working directory.\n",
    "* You have a file in your /homes folder with login details for chembl, you need to specify the location of this file in the pop_chembl_pmids function in the common_functions file."
   ]
  },
  {
   "cell_type": "code",
   "execution_count": 5,
   "metadata": {
    "collapsed": false
   },
   "outputs": [
    {
     "name": "stdout",
     "output_type": "stream",
     "text": [
      "Submit one, two or three dicts with synonyms/alternative terms to be used. \n",
      "    If there are no synonyms bu just one term, just include the primary term as one item in the list that is that value of the dict.\n",
      "    For each dict the terms in the dict will be joined by OR. The three different dicts will be joined by AND in the query.\n",
      "    Returns a list of queries. It is possible to have only one item in a dictionary, if you only want to do one query.\n",
      "    Otherwise include the independent items to look for as different items in the dictionary.\n",
      "    \n",
      "    kwargs: term_dict_1 -- dict of terms (in list in value of dict) to be connected with OR in the query\n",
      "            term_dict_2 -- additional terms to be included in the same query (default = None)\n",
      "            term_dict_3 -- even more terms to be included in the same query (default = None)\n",
      "    \n"
     ]
    }
   ],
   "source": [
    "print(c.define_synonym_queries.__doc__)"
   ]
  },
  {
   "cell_type": "markdown",
   "metadata": {},
   "source": [
    "#### With terms"
   ]
  },
  {
   "cell_type": "code",
   "execution_count": 6,
   "metadata": {
    "collapsed": true
   },
   "outputs": [],
   "source": [
    "ca_terms = {'terms': ['calcium channel'\n",
    "                                , 'L-type calcium channel', 'LTCC']}\n",
    "\n",
    "chemistry_terms = {'terms': ['QSAR', 'structure-activity relationship'\n",
    "                            ]}\n"
   ]
  },
  {
   "cell_type": "code",
   "execution_count": 7,
   "metadata": {
    "collapsed": false
   },
   "outputs": [],
   "source": [
    "ca_query_1 = c.define_synonym_queries(term_dict_1=ca_terms, term_dict_2=chemistry_terms)"
   ]
  },
  {
   "cell_type": "code",
   "execution_count": 8,
   "metadata": {
    "collapsed": false
   },
   "outputs": [
    {
     "data": {
      "text/plain": [
       "'(ABSTRACT:\"calcium channel\" OR ABSTRACT:\"L-type calcium channel\" OR ABSTRACT:\"LTCC\") AND (ABSTRACT:\"QSAR\" OR ABSTRACT:\"structure-activity relationship\")'"
      ]
     },
     "execution_count": 8,
     "metadata": {},
     "output_type": "execute_result"
    }
   ],
   "source": [
    "ca_query_1[0]"
   ]
  },
  {
   "cell_type": "code",
   "execution_count": 9,
   "metadata": {
    "collapsed": false
   },
   "outputs": [
    {
     "name": "stdout",
     "output_type": "stream",
     "text": [
      "For each query in query_list print profile hits. This uses the profile module of ePMC webservices. Will print results to console.\n",
      "    kwargs: query_list -- list of queries (strings), e.g from define_synonym_queries function.\n"
     ]
    }
   ],
   "source": [
    "print(c.get_hit_profile.__doc__)"
   ]
  },
  {
   "cell_type": "markdown",
   "metadata": {},
   "source": [
    "#### With pmid_ids"
   ]
  },
  {
   "cell_type": "code",
   "execution_count": 10,
   "metadata": {
    "collapsed": true
   },
   "outputs": [],
   "source": [
    "my_pmid_list = [14528490, 10575370, 21975802]"
   ]
  },
  {
   "cell_type": "code",
   "execution_count": 11,
   "metadata": {
    "collapsed": true
   },
   "outputs": [],
   "source": [
    "def make_query_string(list_of_pmids):\n",
    "    query_string = ''\n",
    "\n",
    "    for pmid in list_of_pmids:\n",
    "        query_string = query_string + 'ext_id:\"' + str(pmid) + '\" OR '\n",
    "\n",
    "    query_string = query_string.strip('OR ^')\n",
    "    final_string = '(' + query_string + ')'\n",
    "    return final_string\n"
   ]
  },
  {
   "cell_type": "code",
   "execution_count": 12,
   "metadata": {
    "collapsed": false
   },
   "outputs": [
    {
     "data": {
      "text/plain": [
       "'(ext_id:\"14528490\" OR ext_id:\"10575370\" OR ext_id:\"21975802\")'"
      ]
     },
     "execution_count": 12,
     "metadata": {},
     "output_type": "execute_result"
    }
   ],
   "source": [
    "pmid_string = make_query_string(my_pmid_list)\n",
    "pmid_string"
   ]
  },
  {
   "cell_type": "code",
   "execution_count": 13,
   "metadata": {
    "collapsed": false
   },
   "outputs": [],
   "source": [
    "my_pmid_string = '(' + pmid_string + ') AND '"
   ]
  },
  {
   "cell_type": "markdown",
   "metadata": {},
   "source": [
    "### Check the hitcount"
   ]
  },
  {
   "cell_type": "code",
   "execution_count": 14,
   "metadata": {
    "collapsed": false
   },
   "outputs": [
    {
     "name": "stdout",
     "output_type": "stream",
     "text": [
      "(ABSTRACT:\"calcium channel\" OR ABSTRACT:\"L-type calcium channel\" OR ABSTRACT:\"LTCC\") AND (ABSTRACT:\"QSAR\" OR ABSTRACT:\"structure-activity relationship\")\n",
      "{'full text': '11', 'all': 115}\n",
      "\n",
      "total number of hits = 115\n"
     ]
    }
   ],
   "source": [
    "c.get_hit_profile([ca_query_1[0]])"
   ]
  },
  {
   "cell_type": "code",
   "execution_count": 15,
   "metadata": {
    "collapsed": false
   },
   "outputs": [
    {
     "name": "stdout",
     "output_type": "stream",
     "text": [
      "(ext_id:\"14528490\" OR ext_id:\"10575370\" OR ext_id:\"21975802\")\n",
      "{'full text': '0', 'all': 3}\n",
      "\n",
      "total number of hits = 3\n"
     ]
    }
   ],
   "source": [
    "c.get_hit_profile([pmid_string])"
   ]
  },
  {
   "cell_type": "markdown",
   "metadata": {},
   "source": [
    "## 3. Get the information from ePMC and update db"
   ]
  },
  {
   "cell_type": "markdown",
   "metadata": {},
   "source": [
    "#### If you just want to get the pmids for overlap checking, without getting the rest of the info, do this:"
   ]
  },
  {
   "cell_type": "code",
   "execution_count": 16,
   "metadata": {
    "collapsed": false
   },
   "outputs": [
    {
     "name": "stdout",
     "output_type": "stream",
     "text": [
      "For given query (string) get results in forms of idlist from ePMC. Record the query and date in the queries table. Save pmids associated with the query in the result_ids table.\n",
      "    It will be better to use the get_pmids_and_article data function, but if only getting the pmids is required for quick overlap checking, for example, then use this function.\n",
      "    Return the query_id assigned to the query in the queries table, can then be used in subsequent functions.\n",
      "    kwargs: query -- should be string\n",
      "            db_name\n",
      "    \n"
     ]
    }
   ],
   "source": [
    "print(c.get_pmids.__doc__)"
   ]
  },
  {
   "cell_type": "code",
   "execution_count": 17,
   "metadata": {
    "collapsed": false
   },
   "outputs": [
    {
     "data": {
      "text/plain": [
       "6"
      ]
     },
     "execution_count": 17,
     "metadata": {},
     "output_type": "execute_result"
    }
   ],
   "source": [
    "# This returns the newly created query_id for that query\n",
    "my_query_id1 = c.get_pmids(ca_query_1[0], 'cluster_db')\n",
    "my_query_id1"
   ]
  },
  {
   "cell_type": "code",
   "execution_count": 18,
   "metadata": {
    "collapsed": false
   },
   "outputs": [
    {
     "name": "stdout",
     "output_type": "stream",
     "text": [
      "If already perfomed the get_pmids function for a query, now go in more detail and get the article data associated with the pmids form ePMC.\n",
      "    Checks whether the pmid already exists in the article_data table and if so, skips that one and does not extract article data from ePMC.\n",
      "    Returns None. \n",
      "    kwargs: query_id -- (obtained from get_pmids function)\n",
      "            db_name\n"
     ]
    }
   ],
   "source": [
    "print(c.get_article_data.__doc__)"
   ]
  },
  {
   "cell_type": "code",
   "execution_count": 19,
   "metadata": {
    "collapsed": false
   },
   "outputs": [],
   "source": [
    "c.get_article_data(query_id = my_query_id1, db_name = 'cluster_db')"
   ]
  },
  {
   "cell_type": "markdown",
   "metadata": {},
   "source": [
    "#### Alternatively, you can do both at once:"
   ]
  },
  {
   "cell_type": "code",
   "execution_count": 20,
   "metadata": {
    "collapsed": false
   },
   "outputs": [
    {
     "name": "stdout",
     "output_type": "stream",
     "text": [
      "Does same as get_pmids and get_article_data functions but in one step, which I think is faster than doing both separately. Uses the core resulttype from ePMC search module.\n",
      "    Does not exclude articles that are in chembl because that field is set later.\n",
      "    Return the query_id assigned to the query in the queries table, can then be used in subsequent functions.\n",
      "    kwargs:\n",
      "            query -- string\n",
      "            db_name -- name of SQLite db\n",
      "    \n",
      "    \n"
     ]
    }
   ],
   "source": [
    "print(c.get_pmids_and_article_data.__doc__)"
   ]
  },
  {
   "cell_type": "code",
   "execution_count": 21,
   "metadata": {
    "collapsed": false
   },
   "outputs": [
    {
     "data": {
      "text/plain": [
       "7"
      ]
     },
     "execution_count": 21,
     "metadata": {},
     "output_type": "execute_result"
    }
   ],
   "source": [
    "my_query_id2 = c.get_pmids_and_article_data(pmid_string, db_name = 'cluster_db')\n",
    "my_query_id2"
   ]
  },
  {
   "cell_type": "markdown",
   "metadata": {},
   "source": [
    "## 4. Get further info on full text availability, chembl-likeness score and fill out in_chembl field in article_data table"
   ]
  },
  {
   "cell_type": "code",
   "execution_count": 22,
   "metadata": {
    "collapsed": false
   },
   "outputs": [
    {
     "name": "stdout",
     "output_type": "stream",
     "text": [
      "Want to check access to paper via campus subscriptions for those without 'F' or 'OA' in the availability_codes OR those without any availability codes, of a given query. \n",
      "    Check whether the SFX resolver has link to Full Text available, if so, save link in campus_links field of the article_links table, else, save link to 'request document' form in request_access field in article_links table.\n",
      "    Excludes articles already in ChEMBL. Also skips pubmed ids which have article data already retrieved.\n",
      "    kwargs: query_id -- query_id from queries table in queries_db\n",
      "            db_name -- name of SQLite database\n"
     ]
    }
   ],
   "source": [
    "print(c.get_availabilities.__doc__)"
   ]
  },
  {
   "cell_type": "code",
   "execution_count": 23,
   "metadata": {
    "collapsed": true
   },
   "outputs": [],
   "source": [
    "c.get_availabilities(query_id = my_query_id1, db_name = 'cluster_db')\n",
    "c.get_availabilities(query_id = my_query_id2, db_name = 'cluster_db')"
   ]
  },
  {
   "cell_type": "markdown",
   "metadata": {},
   "source": [
    "### Also populate the in_chembl field for newly added pmids"
   ]
  },
  {
   "cell_type": "code",
   "execution_count": 24,
   "metadata": {
    "collapsed": false
   },
   "outputs": [
    {
     "name": "stdout",
     "output_type": "stream",
     "text": [
      "For given query_id rank corresponding titles and abstracts using ChEMBL HeCaToS webservice (ChEMBL-likeness score). \n",
      "    Save in scores table. Excludes any pmids for which there is already a score in the scores table.\n",
      "    If no score could be retrieved, is saved in error table together with pmid and query_id\n",
      "    kwargs: query_id -- query_id from queries table, db_name\n"
     ]
    }
   ],
   "source": [
    "print(c.get_scores.__doc__)"
   ]
  },
  {
   "cell_type": "code",
   "execution_count": 25,
   "metadata": {
    "collapsed": false
   },
   "outputs": [],
   "source": [
    "c.get_scores(query_id = my_query_id1, db_name = 'cluster_db')"
   ]
  },
  {
   "cell_type": "code",
   "execution_count": 26,
   "metadata": {
    "collapsed": true
   },
   "outputs": [],
   "source": [
    "c.get_scores(query_id = my_query_id2, db_name = 'cluster_db')"
   ]
  },
  {
   "cell_type": "code",
   "execution_count": 27,
   "metadata": {
    "collapsed": false
   },
   "outputs": [
    {
     "name": "stdout",
     "output_type": "stream",
     "text": [
      "This function updates the article_data table and sets the in_chembl field by comparing pmid with chembl_pmids table. Needs to be done for each query_id for the sorting in the get_df to work well.\n",
      "    kwargs:\n",
      "            query_id\n",
      "            db_name\n"
     ]
    }
   ],
   "source": [
    "print(c.set_chembl_values.__doc__)"
   ]
  },
  {
   "cell_type": "code",
   "execution_count": 28,
   "metadata": {
    "collapsed": true
   },
   "outputs": [],
   "source": [
    "c.set_chembl_values(query_id = my_query_id1, db_name = 'cluster_db')"
   ]
  },
  {
   "cell_type": "code",
   "execution_count": 29,
   "metadata": {
    "collapsed": true
   },
   "outputs": [],
   "source": [
    "c.set_chembl_values(query_id = my_query_id2, db_name = 'cluster_db')"
   ]
  },
  {
   "cell_type": "markdown",
   "metadata": {},
   "source": [
    "## 5. Get your df"
   ]
  },
  {
   "cell_type": "code",
   "execution_count": 30,
   "metadata": {
    "collapsed": false
   },
   "outputs": [
    {
     "name": "stdout",
     "output_type": "stream",
     "text": [
      "Makes a dataframe for a given query/queries. Can include multiple query_ids from queries table. If only one is needed put that one item in a list. \n",
      "    Selects following information on results for a given query from the queries_db: pmid, year, title, abstract, in_chembl, score, availability_codes, pdf_links, campus_links, request_access.\n",
      "    Then sort the dataframe. First sorts on in_chembl, availability (subscription without access last), then on scores. Campus_links are only displayed if full text available from subscription.\n",
      "    At the end of the dataframe the abstracts that had an error are displayed with an error_comment. The error_comment lists the function when the error occurred.\n",
      "    Returns a tuple with first a non-HTML data frame and second an HTML version of the dataframe. Save the non-HTML version for use in the colour_terms function.\n",
      "    It is possible to add further condition(s) to the sql statement by using the sql_condition argument. One \"and\" will be inserted by the function, then can add e.g. 's.score > 10', \n",
      "    which will then be appended to the sql statement.\n",
      "    kwargs: query_id_list - list of query_ids to be included.\n",
      "            db_name -- name of SQLite database\n",
      "            sql_condition -- a further condition to be appended to the sql statement. One 'and' will be included by the function, so write the condition straight away. Default = None\n"
     ]
    }
   ],
   "source": [
    "print(c.get_df.__doc__) "
   ]
  },
  {
   "cell_type": "code",
   "execution_count": 31,
   "metadata": {
    "collapsed": false,
    "scrolled": false
   },
   "outputs": [
    {
     "data": {
      "text/html": [
       "<div style=\"max-height:1000px;max-width:1500px;overflow:auto;\">\n",
       "<table border=\"1\" class=\"dataframe\">\n",
       "  <thead>\n",
       "    <tr style=\"text-align: right;\">\n",
       "      <th></th>\n",
       "      <th>pmid</th>\n",
       "      <th>pmid_link</th>\n",
       "      <th>year</th>\n",
       "      <th>title</th>\n",
       "      <th>abstract</th>\n",
       "      <th>journal</th>\n",
       "      <th>inChEMBL</th>\n",
       "      <th>score</th>\n",
       "      <th>avail</th>\n",
       "      <th>pdf_links</th>\n",
       "      <th>other_links</th>\n",
       "      <th>campus_links</th>\n",
       "      <th>request_access</th>\n",
       "      <th>error_comment</th>\n",
       "    </tr>\n",
       "  </thead>\n",
       "  <tbody>\n",
       "    <tr>\n",
       "      <th>1</th>\n",
       "      <td> 14528490</td>\n",
       "      <td> &lt;a target=\"_blank\" href=\"http://www.ncbi.nlm.nih.gov/pubmed/?term=14528490\"&gt;14528490&lt;/a&gt;</td>\n",
       "      <td> 2003</td>\n",
       "      <td>                                                                                                                                  Synthesis and evaluation of pharmacological activities of 3, 5-dialkyl 1, 4-dihydro-2,6-dimethyl-4-nitroimidazole-3, 5-pyridine dicarboxylates.</td>\n",
       "      <td>                                                                                                                                                                                                                                                                                                                                                                                                                                New analogues of nifedipine, in which the 2-nitrophenyl group at position 4 is replaced by a 1-methyl-5-nitro-2-imidazolyl substituent, were synthesized. The symmetrical dialkyl 1, 4-dihydro-2, 6-dimethyl-4-(1-methyl-5-nitro-2-imidazolyl)-3, 5-pyridinedicarboxylates were prepared by a classical Hantzsch condensation. The asymmetrical analogues were synthesized using a procedure reported by Iwanami that involved the condensation of alkylacetoacetate with methyl-, ethyl- or isopropyl3-aminocrotonate and 1-methyl-5-nitroimidazole-2-carboxaldehyde. Calcium channel antagonist activities were determined in vitro using a guinea pig ileum longitudinal smooth muscle (GPILSM)assay. Many compounds exhibited superior, or equipotent, calcium antagonist activity (IC(50) = 10(-10) to 10(-13) M range) relative to the reference drug nifedipine (IC(50) = 1.09 +/- 0.12 x 10(-11) M). Antinociceptive effects of some compounds were evaluated by the mouse tail-flick assay in vivo. Results demonstrate that some of the compounds were active as an antinociceptive.</td>\n",
       "      <td>           Archiv der Pharmazie</td>\n",
       "      <td> 0</td>\n",
       "      <td> 19.27</td>\n",
       "      <td> S</td>\n",
       "      <td> </td>\n",
       "      <td> </td>\n",
       "      <td>                                                &lt;a target=\"_blank\" href=\"http://onlinelibrary.wiley.com/doi/10.1002/ardp.200300762/abstract\"&gt;campus_link_0&lt;/a&gt;</td>\n",
       "      <td> </td>\n",
       "      <td> </td>\n",
       "    </tr>\n",
       "    <tr>\n",
       "      <th>2</th>\n",
       "      <td> 10575370</td>\n",
       "      <td> &lt;a target=\"_blank\" href=\"http://www.ncbi.nlm.nih.gov/pubmed/?term=10575370\"&gt;10575370&lt;/a&gt;</td>\n",
       "      <td> 1999</td>\n",
       "      <td> Synthesis, calcium channel antagonist activity, and anticonvulsant activity of 3-ethyl 5-methyl 1,4-dihydro-2-[(2-hydroxyethoxy) methyl]-6-methyl-4-(2,3-dichlorophenyl)-3,5-pyridinedicarboxylate coupled to a 1-methyl-1,4-dihydropyridyl-3-carbonyl chemical delivery system.</td>\n",
       "      <td>                                                                                 3-Ethyl 5-methyl 1,4-dihydro-2-[(2-hydroxyethoxy) methyl]-6-methyl-4-(2,3-dichlorophenyl)-3,5-pyridinedicarboxylate (13), a bioisostere of amlodipine, was prepared by the reaction of ethyl 4-(2-hydroxyethoxy)acetoacetate (11) with methyl 2-(2,3-dichlorobenzylidene)acetoacetate (12) and NH4OAc. Compound 13 was elaborated to the target product 3-ethyl 5-methyl 1,4-dihydro-2-[2- [(1-methyl-1,4-dihydropyridyl-3-carbonyloxy)ethoxy]methyl]- 6-methyl-4-(2,3-dichlorophenyl)-3,5-pyridinedicarboxylate (16). The C-2 CH2OCH2CH2OH compound (13, IC50 = 6.56 x 10(-9) M) was about 44-fold more active as a calcium channel antagonist than the reference drug nimodipine (IC50 = 1.49 x 10(-8) M), but 4-fold less potent than felodipine (IC50 = 1.45 x 10(-9) M). Compound 16, possessing the 1-methyl-3-pyridylcarbonyloxy chemical delivery system moiety is a slightly less potent calcium channel antagonist (IC50 = 2.99 x 10(-8) M) than the parent compound 13. Compounds 13, 16, felodipine and nimodipine are highly lipophilic (Kp = 227, 344, 442 and 187, respectively). The C-2 CH2OCH2CH2OH compound (13) exhibited equipotent anticonvulsant activity to nimodipine in the maximal electroshock (MES) anticonvulsant screen. Unlike nimodipine, 13 provided modest protection in the subcutaneous metrazol (scMet) anticonvulsant screen. In contrast, compound 16 was inactive in both the MES and scMet screens.</td>\n",
       "      <td>           Archiv der Pharmazie</td>\n",
       "      <td> 0</td>\n",
       "      <td> 17.36</td>\n",
       "      <td> S</td>\n",
       "      <td> </td>\n",
       "      <td> </td>\n",
       "      <td> &lt;a target=\"_blank\" href=\"http://onlinelibrary.wiley.com/doi/10.1002/(SICI)1521-4184(199910)332:10%3C363::AID-ARDP363%3E3.0.CO;2-T/abstract\"&gt;campus_link_0&lt;/a&gt;</td>\n",
       "      <td> </td>\n",
       "      <td> </td>\n",
       "    </tr>\n",
       "    <tr>\n",
       "      <th>3</th>\n",
       "      <td> 21975802</td>\n",
       "      <td> &lt;a target=\"_blank\" href=\"http://www.ncbi.nlm.nih.gov/pubmed/?term=21975802\"&gt;21975802&lt;/a&gt;</td>\n",
       "      <td> 2011</td>\n",
       "      <td>                                                                                                                                          Design and synthesis of new 1,4-dihydropyridines containing 4(5)-chloro-5(4)-imidazolyl substituent as a novel calcium channel blocker.</td>\n",
       "      <td> New analogues of nifedipine, in which the ortho-nitro phenyl group at position 4 has been replaced by 4(5)-chloro-5(4)-imidazolyl substituent and which are able to interact with the receptor by hydrogen binding were designed, synthesized, and evaluated as calcium channel antagonists. The designed dihydropyridines were synthesized using the Hantzsch condensation and evaluated as calcium channel antagonists using the high K+ contraction of guineapig ileal longitudinal smooth muscle. A docking study was performed using the AutoDock4 program, and QSAR equations were obtained using multilinear regression. Our computational studies indicated that the oxygen of the ester (O10) and the N3' of the imidazole ring form a hydrogen bonding interaction with the NH of HIS 363 and NH of LYS354, respectively, and that the sum of the BEHp5 and RDF075p are the most significant descriptors. The results of calcium channel antagonist evaluation demonstrated that increasing the chain length in C3 and C5 ester substituents increased activity. The most potent compound was the bis-phenylpropyl ester (5l) derivative, in that it was more active than the reference drug nifedipine and that the bis-phenylethyl ester (5k) derivative had comparable activity with nifedipine. The present research revealed that the 4(5)-chloro-5(4)-imidazolyl moiety is a bioisoster of o-nitrophenyl in nifedipine and provided novel dihydropyridines with more activity as calcium channel antagonists.</td>\n",
       "      <td> Archives of pharmacal research</td>\n",
       "      <td> 0</td>\n",
       "      <td> 17.16</td>\n",
       "      <td> S</td>\n",
       "      <td> </td>\n",
       "      <td> </td>\n",
       "      <td>                                                        &lt;a target=\"_blank\" href=\"http://link.springer.com/article/10.1007/s12272-011-0902-9\"&gt;campus_link_0&lt;/a&gt;</td>\n",
       "      <td> </td>\n",
       "      <td> </td>\n",
       "    </tr>\n",
       "  </tbody>\n",
       "</table>\n",
       "</div>"
      ],
      "text/plain": [
       "       pmid  \\\n",
       "1  14528490   \n",
       "2  10575370   \n",
       "3  21975802   \n",
       "\n",
       "                                                                                  pmid_link  \\\n",
       "1  <a target=\"_blank\" href=\"http://www.ncbi.nlm.nih.gov/pubmed/?term=14528490\">14528490</a>   \n",
       "2  <a target=\"_blank\" href=\"http://www.ncbi.nlm.nih.gov/pubmed/?term=10575370\">10575370</a>   \n",
       "3  <a target=\"_blank\" href=\"http://www.ncbi.nlm.nih.gov/pubmed/?term=21975802\">21975802</a>   \n",
       "\n",
       "   year  \\\n",
       "1  2003   \n",
       "2  1999   \n",
       "3  2011   \n",
       "\n",
       "                                                                                                                                                                                                                                                                              title  \\\n",
       "1                                                                                                                                   Synthesis and evaluation of pharmacological activities of 3, 5-dialkyl 1, 4-dihydro-2,6-dimethyl-4-nitroimidazole-3, 5-pyridine dicarboxylates.   \n",
       "2  Synthesis, calcium channel antagonist activity, and anticonvulsant activity of 3-ethyl 5-methyl 1,4-dihydro-2-[(2-hydroxyethoxy) methyl]-6-methyl-4-(2,3-dichlorophenyl)-3,5-pyridinedicarboxylate coupled to a 1-methyl-1,4-dihydropyridyl-3-carbonyl chemical delivery system.   \n",
       "3                                                                                                                                           Design and synthesis of new 1,4-dihydropyridines containing 4(5)-chloro-5(4)-imidazolyl substituent as a novel calcium channel blocker.   \n",
       "\n",
       "                                                                                                                                                                                                                                                                                                                                                                                                                                                                                                                                                                                                                                                                                                                                                                                                                                                                                                                                                                                                                                                                                                                                                                                                                                                                                                                                                                                                                                                                                                                        abstract  \\\n",
       "1                                                                                                                                                                                                                                                                                                                                                                                                                                 New analogues of nifedipine, in which the 2-nitrophenyl group at position 4 is replaced by a 1-methyl-5-nitro-2-imidazolyl substituent, were synthesized. The symmetrical dialkyl 1, 4-dihydro-2, 6-dimethyl-4-(1-methyl-5-nitro-2-imidazolyl)-3, 5-pyridinedicarboxylates were prepared by a classical Hantzsch condensation. The asymmetrical analogues were synthesized using a procedure reported by Iwanami that involved the condensation of alkylacetoacetate with methyl-, ethyl- or isopropyl3-aminocrotonate and 1-methyl-5-nitroimidazole-2-carboxaldehyde. Calcium channel antagonist activities were determined in vitro using a guinea pig ileum longitudinal smooth muscle (GPILSM)assay. Many compounds exhibited superior, or equipotent, calcium antagonist activity (IC(50) = 10(-10) to 10(-13) M range) relative to the reference drug nifedipine (IC(50) = 1.09 +/- 0.12 x 10(-11) M). Antinociceptive effects of some compounds were evaluated by the mouse tail-flick assay in vivo. Results demonstrate that some of the compounds were active as an antinociceptive.   \n",
       "2                                                                                  3-Ethyl 5-methyl 1,4-dihydro-2-[(2-hydroxyethoxy) methyl]-6-methyl-4-(2,3-dichlorophenyl)-3,5-pyridinedicarboxylate (13), a bioisostere of amlodipine, was prepared by the reaction of ethyl 4-(2-hydroxyethoxy)acetoacetate (11) with methyl 2-(2,3-dichlorobenzylidene)acetoacetate (12) and NH4OAc. Compound 13 was elaborated to the target product 3-ethyl 5-methyl 1,4-dihydro-2-[2- [(1-methyl-1,4-dihydropyridyl-3-carbonyloxy)ethoxy]methyl]- 6-methyl-4-(2,3-dichlorophenyl)-3,5-pyridinedicarboxylate (16). The C-2 CH2OCH2CH2OH compound (13, IC50 = 6.56 x 10(-9) M) was about 44-fold more active as a calcium channel antagonist than the reference drug nimodipine (IC50 = 1.49 x 10(-8) M), but 4-fold less potent than felodipine (IC50 = 1.45 x 10(-9) M). Compound 16, possessing the 1-methyl-3-pyridylcarbonyloxy chemical delivery system moiety is a slightly less potent calcium channel antagonist (IC50 = 2.99 x 10(-8) M) than the parent compound 13. Compounds 13, 16, felodipine and nimodipine are highly lipophilic (Kp = 227, 344, 442 and 187, respectively). The C-2 CH2OCH2CH2OH compound (13) exhibited equipotent anticonvulsant activity to nimodipine in the maximal electroshock (MES) anticonvulsant screen. Unlike nimodipine, 13 provided modest protection in the subcutaneous metrazol (scMet) anticonvulsant screen. In contrast, compound 16 was inactive in both the MES and scMet screens.   \n",
       "3  New analogues of nifedipine, in which the ortho-nitro phenyl group at position 4 has been replaced by 4(5)-chloro-5(4)-imidazolyl substituent and which are able to interact with the receptor by hydrogen binding were designed, synthesized, and evaluated as calcium channel antagonists. The designed dihydropyridines were synthesized using the Hantzsch condensation and evaluated as calcium channel antagonists using the high K+ contraction of guineapig ileal longitudinal smooth muscle. A docking study was performed using the AutoDock4 program, and QSAR equations were obtained using multilinear regression. Our computational studies indicated that the oxygen of the ester (O10) and the N3' of the imidazole ring form a hydrogen bonding interaction with the NH of HIS 363 and NH of LYS354, respectively, and that the sum of the BEHp5 and RDF075p are the most significant descriptors. The results of calcium channel antagonist evaluation demonstrated that increasing the chain length in C3 and C5 ester substituents increased activity. The most potent compound was the bis-phenylpropyl ester (5l) derivative, in that it was more active than the reference drug nifedipine and that the bis-phenylethyl ester (5k) derivative had comparable activity with nifedipine. The present research revealed that the 4(5)-chloro-5(4)-imidazolyl moiety is a bioisoster of o-nitrophenyl in nifedipine and provided novel dihydropyridines with more activity as calcium channel antagonists.   \n",
       "\n",
       "                          journal  inChEMBL  score avail pdf_links  \\\n",
       "1            Archiv der Pharmazie         0  19.27     S             \n",
       "2            Archiv der Pharmazie         0  17.36     S             \n",
       "3  Archives of pharmacal research         0  17.16     S             \n",
       "\n",
       "  other_links  \\\n",
       "1               \n",
       "2               \n",
       "3               \n",
       "\n",
       "                                                                                                                                                    campus_links  \\\n",
       "1                                                 <a target=\"_blank\" href=\"http://onlinelibrary.wiley.com/doi/10.1002/ardp.200300762/abstract\">campus_link_0</a>   \n",
       "2  <a target=\"_blank\" href=\"http://onlinelibrary.wiley.com/doi/10.1002/(SICI)1521-4184(199910)332:10%3C363::AID-ARDP363%3E3.0.CO;2-T/abstract\">campus_link_0</a>   \n",
       "3                                                         <a target=\"_blank\" href=\"http://link.springer.com/article/10.1007/s12272-011-0902-9\">campus_link_0</a>   \n",
       "\n",
       "  request_access error_comment  \n",
       "1                               \n",
       "2                               \n",
       "3                               "
      ]
     },
     "execution_count": 31,
     "metadata": {},
     "output_type": "execute_result"
    }
   ],
   "source": [
    "small_df = c.get_df(query_id_list = [my_query_id2], db_name = 'cluster_db')\n",
    "small_df[0]"
   ]
  },
  {
   "cell_type": "markdown",
   "metadata": {},
   "source": [
    "#### To colour the terms defined as interesting (see terms_for_highlighting.ipynb) you need to have a pickled list of the interesting terms."
   ]
  },
  {
   "cell_type": "code",
   "execution_count": 32,
   "metadata": {
    "collapsed": false
   },
   "outputs": [
    {
     "name": "stdout",
     "output_type": "stream",
     "text": [
      "Will colour the terms in the df according to the markup_list and return an HTML object with the colours. Supply a df(non-HTML) and list of dictionaries. Each dictionary should have keys 'name'(of dict), 'terms'(value is list of terms), and 'colour'.\n",
      "    kwargs: df -- a dataframe with a column 'abstracts' and 'title'\n",
      "            markup_list -- a list of dictionaries with markup specification (list of terms and colour assigned)\n",
      "    \n"
     ]
    }
   ],
   "source": [
    "print(c.colour_terms.__doc__)"
   ]
  },
  {
   "cell_type": "code",
   "execution_count": 33,
   "metadata": {
    "collapsed": false
   },
   "outputs": [],
   "source": [
    "with open('terms_for_highlighting.pkl', 'rb') as f: \n",
    "    broader_terms = pickle.load(f)  "
   ]
  },
  {
   "cell_type": "code",
   "execution_count": 34,
   "metadata": {
    "collapsed": false,
    "scrolled": true
   },
   "outputs": [
    {
     "data": {
      "text/html": [
       "<style>.chem { color: red; }\n",
       ".bio { color: blue; }\n",
       ".tissue { color: magenta; }\n",
       ".other_terms { color: DarkTurquoise; }\n",
       ".sodium { color: Lime; }</style><table border=\"1\" class=\"dataframe\">\n",
       "  <thead>\n",
       "    <tr style=\"text-align: right;\">\n",
       "      <th></th>\n",
       "      <th>pmid</th>\n",
       "      <th>pmid_link</th>\n",
       "      <th>year</th>\n",
       "      <th>title</th>\n",
       "      <th>abstract</th>\n",
       "      <th>journal</th>\n",
       "      <th>inChEMBL</th>\n",
       "      <th>score</th>\n",
       "      <th>avail</th>\n",
       "      <th>pdf_links</th>\n",
       "      <th>other_links</th>\n",
       "      <th>campus_links</th>\n",
       "      <th>request_access</th>\n",
       "      <th>error_comment</th>\n",
       "    </tr>\n",
       "  </thead>\n",
       "  <tbody>\n",
       "    <tr>\n",
       "      <th>1</th>\n",
       "      <td> 14528490</td>\n",
       "      <td> <a target=\"_blank\" href=\"http://www.ncbi.nlm.nih.gov/pubmed/?term=14528490\">14528490</a></td>\n",
       "      <td> 2003</td>\n",
       "      <td>                                                                                                                                                                                                                      Synthesis and evaluation of pharmacological activities of 3, 5-dialkyl 1, 4-dihydro-2,6-dimethyl-4-nitroimidazole-3, 5-pyridine dicarboxylates.</td>\n",
       "      <td>                                                                                                                                                                                                                                                                                                                                                                                                                                                                                                           New <span class=\"chem\">analogues</span> of nifedipine, in which the 2-nitrophenyl group at position 4 is replaced by a 1-methyl-5-nitro-2-imidazolyl substituent, were synthesized. The symmetrical dialkyl 1, 4-dihydro-2, 6-dimethyl-4-(1-methyl-5-nitro-2-imidazolyl)-3, 5-pyridinedicarboxylates were prepared by a classical Hantzsch condensation. The asymmetrical <span class=\"chem\">analogues</span> were synthesized using a procedure reported by Iwanami that involved the condensation of alkylacetoacetate with methyl-, ethyl- or isopropyl3-aminocrotonate and 1-methyl-5-nitroimidazole-2-carboxaldehyde. <span class=\"bio\">Calcium channel</span> <span class=\"other_terms\">antagonist</span> activities were determined in vitro using a guinea pig ileum longitudinal smooth muscle (GPILSM)assay. Many <span class=\"chem\">compounds</span> exhibited superior, or equipotent, <span class=\"bio\">calcium</span> <span class=\"other_terms\">antagonist</span> activity (<span class=\"chem\">IC(50</span>) = 10(-10) to 10(-13) M range) relative to the reference drug nifedipine (<span class=\"chem\">IC(50</span>) = 1.09 +/- 0.12 x 10(-11) M). Antinociceptive effects of some <span class=\"chem\">compounds</span> were evaluated by the mouse tail-flick assay in vivo. Results demonstrate that some of the <span class=\"chem\">compounds</span> were active as an antinociceptive.</td>\n",
       "      <td>           Archiv der Pharmazie</td>\n",
       "      <td> 0</td>\n",
       "      <td> 19.27</td>\n",
       "      <td> S</td>\n",
       "      <td> </td>\n",
       "      <td> </td>\n",
       "      <td>                                                <a target=\"_blank\" href=\"http://onlinelibrary.wiley.com/doi/10.1002/ardp.200300762/abstract\">campus_link_0</a></td>\n",
       "      <td> </td>\n",
       "      <td> </td>\n",
       "    </tr>\n",
       "    <tr>\n",
       "      <th>2</th>\n",
       "      <td> 10575370</td>\n",
       "      <td> <a target=\"_blank\" href=\"http://www.ncbi.nlm.nih.gov/pubmed/?term=10575370\">10575370</a></td>\n",
       "      <td> 1999</td>\n",
       "      <td> Synthesis, <span class=\"bio\">calcium channel</span> <span class=\"other_terms\">antagonist</span> activity, and anticonvulsant activity of 3-ethyl 5-methyl 1,4-dihydro-2-[(2-hydroxyethoxy) methyl]-6-methyl-4-(2,3-dichlorophenyl)-3,5-pyridinedicarboxylate coupled to a 1-methyl-1,4-dihydropyridyl-3-carbonyl <span class=\"chem\">chemical</span> delivery system.</td>\n",
       "      <td> 3-Ethyl 5-methyl 1,4-dihydro-2-[(2-hydroxyethoxy) methyl]-6-methyl-4-(2,3-dichlorophenyl)-3,5-pyridinedicarboxylate (13), a bioisostere of amlodipine, was prepared by the reaction of ethyl 4-(2-hydroxyethoxy)acetoacetate (11) with methyl 2-(2,3-dichlorobenzylidene)acetoacetate (12) and NH4OAc. <span class=\"chem\">Compound</span> 13 was elaborated to the <span class=\"bio\">target</span> product 3-ethyl 5-methyl 1,4-dihydro-2-[2- [(1-methyl-1,4-dihydropyridyl-3-carbonyloxy)ethoxy]methyl]- 6-methyl-4-(2,3-dichlorophenyl)-3,5-pyridinedicarboxylate (16). The C-2 CH2OCH2CH2OH <span class=\"chem\">compound</span> (13, <span class=\"chem\">IC50</span> = 6.56 x 10(-9) M) was about 44-fold more active as a <span class=\"bio\">calcium channel</span> <span class=\"other_terms\">antagonist</span> than the reference drug nimodipine (<span class=\"chem\">IC50</span> = 1.49 x 10(-8) M), but 4-fold less potent than felodipine (<span class=\"chem\">IC50</span> = 1.45 x 10(-9) M). <span class=\"chem\">Compound</span> 16, possessing the 1-methyl-3-pyridylcarbonyloxy <span class=\"chem\">chemical</span> delivery system moiety is a slightly less potent <span class=\"bio\">calcium channel</span> <span class=\"other_terms\">antagonist</span> (<span class=\"chem\">IC50</span> = 2.99 x 10(-8) M) than the parent <span class=\"chem\">compound</span> 13. <span class=\"chem\">Compounds</span> 13, 16, felodipine and nimodipine are highly lipophilic (Kp = 227, 344, 442 and 187, respectively). The C-2 CH2OCH2CH2OH <span class=\"chem\">compound</span> (13) exhibited equipotent anticonvulsant activity to nimodipine in the maximal electroshock (MES) anticonvulsant screen. Unlike nimodipine, 13 provided modest protection in the subcutaneous metrazol (scMet) anticonvulsant screen. In contrast, <span class=\"chem\">compound</span> 16 was inactive in both the MES and scMet screens.</td>\n",
       "      <td>           Archiv der Pharmazie</td>\n",
       "      <td> 0</td>\n",
       "      <td> 17.36</td>\n",
       "      <td> S</td>\n",
       "      <td> </td>\n",
       "      <td> </td>\n",
       "      <td> <a target=\"_blank\" href=\"http://onlinelibrary.wiley.com/doi/10.1002/(SICI)1521-4184(199910)332:10%3C363::AID-ARDP363%3E3.0.CO;2-T/abstract\">campus_link_0</a></td>\n",
       "      <td> </td>\n",
       "      <td> </td>\n",
       "    </tr>\n",
       "    <tr>\n",
       "      <th>3</th>\n",
       "      <td> 21975802</td>\n",
       "      <td> <a target=\"_blank\" href=\"http://www.ncbi.nlm.nih.gov/pubmed/?term=21975802\">21975802</a></td>\n",
       "      <td> 2011</td>\n",
       "      <td>                                                                                                                                                                    Design and synthesis of new 1,4-dihydropyridines containing 4(5)-chloro-5(4)-imidazolyl substituent as a novel <span class=\"bio\">calcium channel</span> <span class=\"other_terms\">blocker</span>.</td>\n",
       "      <td>                                                                                                                                                                   New <span class=\"chem\">analogues</span> of nifedipine, in which the ortho-nitro phenyl group at position 4 has been replaced by 4(5)-chloro-5(4)-imidazolyl substituent and which are able to interact with the receptor by hydrogen <span class=\"chem\">binding</span> were designed, synthesized, and evaluated as <span class=\"bio\">calcium channel</span> antagonists. The designed dihydropyridines were synthesized using the Hantzsch condensation and evaluated as <span class=\"bio\">calcium channel</span> antagonists using the high K+ contraction of guineapig ileal longitudinal smooth muscle. A docking study was performed using the AutoDock4 program, and QSAR equations were obtained using multilinear regression. Our computational studies indicated that the oxygen of the ester (O10) and the N3' of the imidazole ring form a hydrogen bonding interaction with the NH of HIS 363 and NH of LYS354, respectively, and that the sum of the BEHp5 and RDF075p are the most significant descriptors. The results of <span class=\"bio\">calcium channel</span> <span class=\"other_terms\">antagonist</span> evaluation demonstrated that increasing the chain length in C3 and C5 ester substituents increased activity. The most potent <span class=\"chem\">compound</span> was the bis-phenylpropyl ester (5l) derivative, in that it was more active than the reference drug nifedipine and that the bis-phenylethyl ester (5k) derivative had comparable activity with nifedipine. The present research revealed that the 4(5)-chloro-5(4)-imidazolyl moiety is a bioisoster of o-nitrophenyl in nifedipine and provided novel dihydropyridines with more activity as <span class=\"bio\">calcium channel</span> antagonists.</td>\n",
       "      <td> Archives of pharmacal research</td>\n",
       "      <td> 0</td>\n",
       "      <td> 17.16</td>\n",
       "      <td> S</td>\n",
       "      <td> </td>\n",
       "      <td> </td>\n",
       "      <td>                                                        <a target=\"_blank\" href=\"http://link.springer.com/article/10.1007/s12272-011-0902-9\">campus_link_0</a></td>\n",
       "      <td> </td>\n",
       "      <td> </td>\n",
       "    </tr>\n",
       "  </tbody>\n",
       "</table>"
      ],
      "text/plain": [
       "<IPython.core.display.HTML object>"
      ]
     },
     "execution_count": 34,
     "metadata": {},
     "output_type": "execute_result"
    }
   ],
   "source": [
    "c.colour_terms(small_df[0], broader_terms)"
   ]
  },
  {
   "cell_type": "markdown",
   "metadata": {},
   "source": [
    "#### You can also select abstracts from multiple query_ids and add further filtering here"
   ]
  },
  {
   "cell_type": "code",
   "execution_count": 35,
   "metadata": {
    "collapsed": false,
    "scrolled": true
   },
   "outputs": [
    {
     "data": {
      "text/html": [
       "<style>.chem { color: red; }\n",
       ".bio { color: blue; }\n",
       ".tissue { color: magenta; }\n",
       ".other_terms { color: DarkTurquoise; }\n",
       ".sodium { color: Lime; }</style><table border=\"1\" class=\"dataframe\">\n",
       "  <thead>\n",
       "    <tr style=\"text-align: right;\">\n",
       "      <th></th>\n",
       "      <th>pmid</th>\n",
       "      <th>pmid_link</th>\n",
       "      <th>year</th>\n",
       "      <th>title</th>\n",
       "      <th>abstract</th>\n",
       "      <th>journal</th>\n",
       "      <th>inChEMBL</th>\n",
       "      <th>score</th>\n",
       "      <th>avail</th>\n",
       "      <th>pdf_links</th>\n",
       "      <th>other_links</th>\n",
       "      <th>campus_links</th>\n",
       "      <th>request_access</th>\n",
       "      <th>error_comment</th>\n",
       "    </tr>\n",
       "  </thead>\n",
       "  <tbody>\n",
       "    <tr>\n",
       "      <th>1 </th>\n",
       "      <td> 14528490</td>\n",
       "      <td> <a target=\"_blank\" href=\"http://www.ncbi.nlm.nih.gov/pubmed/?term=14528490\">14528490</a></td>\n",
       "      <td> 2003</td>\n",
       "      <td>                                                                                     Synthesis and evaluation of pharmacological activities of 3, 5-dialkyl 1, 4-dihydro-2,6-dimethyl-4-nitroimidazole-3, 5-pyridine dicarboxylates.</td>\n",
       "      <td>                                                                                                                                                                                                                                                                                                                                                                                                                                                                                                                                                                                                                                                                        New <span class=\"chem\">analogues</span> of nifedipine, in which the 2-nitrophenyl group at position 4 is replaced by a 1-methyl-5-nitro-2-imidazolyl substituent, were synthesized. The symmetrical dialkyl 1, 4-dihydro-2, 6-dimethyl-4-(1-methyl-5-nitro-2-imidazolyl)-3, 5-pyridinedicarboxylates were prepared by a classical Hantzsch condensation. The asymmetrical <span class=\"chem\">analogues</span> were synthesized using a procedure reported by Iwanami that involved the condensation of alkylacetoacetate with methyl-, ethyl- or isopropyl3-aminocrotonate and 1-methyl-5-nitroimidazole-2-carboxaldehyde. <span class=\"bio\">Calcium channel</span> <span class=\"other_terms\">antagonist</span> activities were determined in vitro using a guinea pig ileum longitudinal smooth muscle (GPILSM)assay. Many <span class=\"chem\">compounds</span> exhibited superior, or equipotent, <span class=\"bio\">calcium</span> <span class=\"other_terms\">antagonist</span> activity (<span class=\"chem\">IC(50</span>) = 10(-10) to 10(-13) M range) relative to the reference drug nifedipine (<span class=\"chem\">IC(50</span>) = 1.09 +/- 0.12 x 10(-11) M). Antinociceptive effects of some <span class=\"chem\">compounds</span> were evaluated by the mouse tail-flick assay in vivo. Results demonstrate that some of the <span class=\"chem\">compounds</span> were active as an antinociceptive.</td>\n",
       "      <td>                                      Archiv der Pharmazie</td>\n",
       "      <td> 0</td>\n",
       "      <td> 19.27</td>\n",
       "      <td> S</td>\n",
       "      <td> </td>\n",
       "      <td> </td>\n",
       "      <td> <a target=\"_blank\" href=\"http://onlinelibrary.wiley.com/doi/10.1002/ardp.200300762/abstract\">campus_link_0</a></td>\n",
       "      <td>                                                                                                                                                                                                                                                                                                                                                                                                                                                                                                                                                                                                                                     </td>\n",
       "      <td> </td>\n",
       "    </tr>\n",
       "    <tr>\n",
       "      <th>2 </th>\n",
       "      <td> 21975802</td>\n",
       "      <td> <a target=\"_blank\" href=\"http://www.ncbi.nlm.nih.gov/pubmed/?term=21975802\">21975802</a></td>\n",
       "      <td> 2011</td>\n",
       "      <td>                                   Design and synthesis of new 1,4-dihydropyridines containing 4(5)-chloro-5(4)-imidazolyl substituent as a novel <span class=\"bio\">calcium channel</span> <span class=\"other_terms\">blocker</span>.</td>\n",
       "      <td>                                                                                                                                                                                                                                                                                                                                New <span class=\"chem\">analogues</span> of nifedipine, in which the ortho-nitro phenyl group at position 4 has been replaced by 4(5)-chloro-5(4)-imidazolyl substituent and which are able to interact with the receptor by hydrogen <span class=\"chem\">binding</span> were designed, synthesized, and evaluated as <span class=\"bio\">calcium channel</span> antagonists. The designed dihydropyridines were synthesized using the Hantzsch condensation and evaluated as <span class=\"bio\">calcium channel</span> antagonists using the high K+ contraction of guineapig ileal longitudinal smooth muscle. A docking study was performed using the AutoDock4 program, and QSAR equations were obtained using multilinear regression. Our computational studies indicated that the oxygen of the ester (O10) and the N3' of the imidazole ring form a hydrogen bonding interaction with the NH of HIS 363 and NH of LYS354, respectively, and that the sum of the BEHp5 and RDF075p are the most significant descriptors. The results of <span class=\"bio\">calcium channel</span> <span class=\"other_terms\">antagonist</span> evaluation demonstrated that increasing the chain length in C3 and C5 ester substituents increased activity. The most potent <span class=\"chem\">compound</span> was the bis-phenylpropyl ester (5l) derivative, in that it was more active than the reference drug nifedipine and that the bis-phenylethyl ester (5k) derivative had comparable activity with nifedipine. The present research revealed that the 4(5)-chloro-5(4)-imidazolyl moiety is a bioisoster of o-nitrophenyl in nifedipine and provided novel dihydropyridines with more activity as <span class=\"bio\">calcium channel</span> antagonists.</td>\n",
       "      <td>                            Archives of pharmacal research</td>\n",
       "      <td> 0</td>\n",
       "      <td> 17.16</td>\n",
       "      <td> S</td>\n",
       "      <td> </td>\n",
       "      <td> </td>\n",
       "      <td>         <a target=\"_blank\" href=\"http://link.springer.com/article/10.1007/s12272-011-0902-9\">campus_link_0</a></td>\n",
       "      <td>                                                                                                                                                                                                                                                                                                                                                                                                                                                                                                                                                                                                                                     </td>\n",
       "      <td> </td>\n",
       "    </tr>\n",
       "    <tr>\n",
       "      <th>3 </th>\n",
       "      <td> 15911322</td>\n",
       "      <td> <a target=\"_blank\" href=\"http://www.ncbi.nlm.nih.gov/pubmed/?term=15911322\">15911322</a></td>\n",
       "      <td> 2005</td>\n",
       "      <td>                  Design and synthesis of alkyl 7,7-dihalo-3-methyl-5-(nitrophenyl)-2-azabicyclo[4.1.0]hept-3-ene-4-carboxylates with <span class=\"bio\">calcium channel</span> <span class=\"other_terms\">antagonist</span> activity.</td>\n",
       "      <td>                                                                                                                                                                                                                                                                                                                                                                                             A group of alkyl 7,7-dihalo-3-methyl-5-(2- or 3-nitrophenyl)-2-azabicyclo[4.1.0]hept-3-ene-4-carboxylates were prepared by reaction of dihalocarbenes (:CX(2), X=Br, Cl) with alkyl 2-methyl-4-(2- or 3-nitrophenyl)-1,4-dihydropyridine-3-carboxylates. In vitro <span class=\"bio\">calcium channel</span> <span class=\"other_terms\">antagonist</span> activities were determined using a guinea pig ileum longitudinal smooth muscle assay. The title <span class=\"chem\">compounds</span> exhibited weaker CC <span class=\"other_terms\">antagonist</span> activity (10(-5) to 10(-7)M range) than the reference drug nifedipine (1.4 x 10(-8)M). Structure-activity relationships showed that the position (ortho or meta) of the nitro-substituent on the C-5 phenyl ring, the size (van der Waal's radius for Br and Cl are 1.95 and 1.80A, respectively) and/or electronegativity (Cl>Br) of the C-7 geminal halogen atoms do not appear to have a significant effect on CC <span class=\"other_terms\">antagonist</span> activity. In contrast, the effect of the alkyl ester substituent was more pronounced where <span class=\"chem\">compounds</span> having a Me or Et alkyl ester group showed superior <span class=\"chem\">potency</span> (<span class=\"chem\">IC(50</span>) in the 10(-7)M range) relative to the reference drug nifedipine (<span class=\"chem\">IC(50</span>)=1.40 x 10(-8)M). Replacement of a 2-methyl-3-methoxycarbonylvinyl moiety present in nifedipine by a bioisosteric geminal-dihalocyclopropyl moiety provided a novel class of <span class=\"bio\">calcium channel</span> antagonists that do not exhibit any inotropic effect on guinea pig atria.</td>\n",
       "      <td>                          Bioorganic & medicinal chemistry</td>\n",
       "      <td> 0</td>\n",
       "      <td> 16.23</td>\n",
       "      <td> S</td>\n",
       "      <td> </td>\n",
       "      <td> </td>\n",
       "      <td> <a target=\"_blank\" href=\"http://www.sciencedirect.com/science/article/pii/S0968089605002725\">campus_link_0</a></td>\n",
       "      <td>                                                                                                                                                                                                                                                                                                                                                                                                                                                                                                                                                                                                                                     </td>\n",
       "      <td> </td>\n",
       "    </tr>\n",
       "    <tr>\n",
       "      <th>4 </th>\n",
       "      <td> 12659776</td>\n",
       "      <td> <a target=\"_blank\" href=\"http://www.ncbi.nlm.nih.gov/pubmed/?term=12659776\">12659776</a></td>\n",
       "      <td> 2003</td>\n",
       "      <td>                                                                                                                            Structure-activity study of L-amino acid-based N-type <span class=\"bio\">calcium channel</span> blockers.</td>\n",
       "      <td> Synthesis and structure-activity relationship (SAR) study of L-amino acid-based N-type <span class=\"bio\">calcium channel</span> blockers are described. The <span class=\"chem\">compounds</span> synthesized were evaluated for <span class=\"chem\">inhibitory activity</span> against both N-type and <span class=\"bio\">L-type calcium channels</span> focusing on selectivity to reduce <span class=\"tissue\">cardiovascular </span>side effects due to blocking of <span class=\"bio\">L-type calcium channels</span>. In the course of screening of our <span class=\"chem\">compound</span> library, N-(t-butoxycarbonyl)-L-aspartic acid derivative 1a was identified as an initial lead <span class=\"chem\">compound</span> for a new series of N-type <span class=\"bio\">calcium channel</span> blockers, which inhibited <span class=\"bio\">calcium</span> influx into IMR-32 human neuroblastoma cells with an <span class=\"chem\">IC(50</span>) of 3.4 microM. <span class=\"chem\">Compound</span> 1a also exhibited blockade of N-type <span class=\"bio\">calcium channel</span> current in electrophysiological experiment using IMR-32 cells (34% inhibition at 10 microM, n=3). As a consequence of conversion of amino acid residue of 1a, <span class=\"chem\">compound</span> 12a, that include N-(t-butoxycarbonyl)-L-cysteine, was found to be a potent N-type <span class=\"bio\">calcium channel</span> <span class=\"other_terms\">blocker</span> with an <span class=\"chem\">IC(50</span>) of 0.61 microM. Thus, L-cysteine was selected as a potential structural motif for further modification. Optimization of C- and N-terminals of L-cysteine using S-cyclohexylmethyl-L-cysteine as a central scaffold led to potent and selective N-type <span class=\"bio\">calcium channel</span> <span class=\"other_terms\">blocker</span> 21f, which showed improved inhibitory <span class=\"chem\">potency</span> (<span class=\"chem\">IC(50</span>) 0.12 microM) and 12-fold selectivity for N-type <span class=\"bio\">calcium</span> <span class=\"bio\">channels</span> over <sp...</td>\n",
       "      <td>                          Bioorganic & medicinal chemistry</td>\n",
       "      <td> 0</td>\n",
       "      <td> 15.19</td>\n",
       "      <td> S</td>\n",
       "      <td> </td>\n",
       "      <td> </td>\n",
       "      <td> <a target=\"_blank\" href=\"http://www.sciencedirect.com/science/article/pii/S0968089602005588\">campus_link_0</a></td>\n",
       "      <td>                                                                                                                                                                                                                                                                                                                                                                                                                                                                                                                                                                                                                                     </td>\n",
       "      <td> </td>\n",
       "    </tr>\n",
       "    <tr>\n",
       "      <th>5 </th>\n",
       "      <td> 15158789</td>\n",
       "      <td> <a target=\"_blank\" href=\"http://www.ncbi.nlm.nih.gov/pubmed/?term=15158789\">15158789</a></td>\n",
       "      <td> 2004</td>\n",
       "      <td>                        Design and synthesis of methyl 2-methyl-7,7-dihalo-5-phenyl-2-azabicyclo[4.1.0]hept-3-ene-4-carboxylates with <span class=\"bio\">calcium channel</span> <span class=\"other_terms\">antagonist</span> activity.</td>\n",
       "      <td>                                                                                                                                                                                                                                                                                                                                                                                                                                                                                                                                                                                                                                                                             A group of methyl 2-methyl-7,7-dihalo-5-(substituted-phenyl)-2-azabicyclo[4.1.0]hept-3-ene-4-carboxylates were prepared by reaction of dihalocarbenes (:CX2, X = Br, Cl) with methyl 1-methyl-4-(substituted-phenyl)-1,4-dihydropyridine-3-carboxylates. In vitro <span class=\"bio\">calcium channel</span> <span class=\"other_terms\">antagonist</span> activities were determined using a guinea pig ileum longitudinal smooth muscle assay. The title <span class=\"chem\">compounds</span> exhibited weaker CC <span class=\"other_terms\">antagonist</span> activity (10(-5)-10(-6)M range) than the reference drug nifedipine (1.4 x 10(-8)M). Structure-activity relationship studies showed that the position of a nitro substituent on the C-5 phenyl ring where the relative <span class=\"chem\">potency</span> order was ortho > meta > para, and the size and/or electronegativity of the C-7 geminal-dihalo substituents (Br > Cl), were determinants of <span class=\"bio\">calcium channel</span> <span class=\"other_terms\">antagonist</span> activity. This class of <span class=\"chem\">compounds</span> did not exhibit any inotropic effect on guinea pig left atria. A dihalocyclopropyl moiety is a potential bioisostere for the 2-methyl-3-methoxycarbonylvinyl moiety present in the <span class=\"bio\">calcium channel</span> <span class=\"other_terms\">antagonist</span> nifedipine.</td>\n",
       "      <td>                          Bioorganic & medicinal chemistry</td>\n",
       "      <td> 0</td>\n",
       "      <td> 15.17</td>\n",
       "      <td> S</td>\n",
       "      <td> </td>\n",
       "      <td> </td>\n",
       "      <td> <a target=\"_blank\" href=\"http://www.sciencedirect.com/science/article/pii/S0968089604002688\">campus_link_0</a></td>\n",
       "      <td>                                                                                                                                                                                                                                                                                                                                                                                                                                                                                                                                                                                                                                     </td>\n",
       "      <td> </td>\n",
       "    </tr>\n",
       "    <tr>\n",
       "      <th>6 </th>\n",
       "      <td> 25445037</td>\n",
       "      <td> <a target=\"_blank\" href=\"http://www.ncbi.nlm.nih.gov/pubmed/?term=25445037\">25445037</a></td>\n",
       "      <td> 2015</td>\n",
       "      <td>                                                                                                                    Cytotoxic and multidrug resistance reversal activities of novel 1,4-dihydropyridines against human cancer cells.</td>\n",
       "      <td>                                                                                                                                                                Multidrug resistance (MDR) caused by P-glycoprotein (P-gp, ABCB1, MDR-1) transporter over-expression in cancer cells substantially limits the effectiveness of chemotherapy. 1,4-Dihydropyridines (DHPs) derivatives possess several pharmacological activities. In this study, 18 novel asymmetrical DHPs bearing 3-pyridyl methyl carboxylate and alkyl carboxylate moieties at C3 and C5 positions, respectively, as well as nitrophenyl or hetero aromatic rings at C4 were synthesized and tested for MDR reversal with the aim of establishing a structure-activity relationship (SAR) for these agents. Effect of these <span class=\"chem\">compounds</span> on P-gp mediated MDR was assessed in P-gp over-expressing MES-SA/DX5 doxorubicin resistant cells by flow cytometric detection of rhodamine 123 efflux. MDR reversal was further examined as the alteration of doxorubicin׳s <span class=\"chem\">IC50</span> in MES-SA/DX5 cells in the presence of DHPs by MTT assay and was compared to nonresistant MES-SA cells. Direct anticancer effect was examined against 4 human cancer cells including HL-60, K562, MCF-7 and LS180. <span class=\"bio\">Calcium channel</span> blocking (CCB) activity was also measured as a potential side effect. Most DHPs, particularly <span class=\"chem\">compounds</span> bearing 3-nitrophenyl (A2B2 and A3B2) and 4-nitrophenyl (A3B1 and A4B1) moieties at C4 significantly inhibited rhodamine 123 efflux at 5-25µM, showing that the mechanism of MDR reversal by these agents is P-gp transporter modulation. Same derivatives were also able to selectively lower the resistance of MES-SA/DX5 to doxorubicin. A2B2 bearing ethyl carboxylate at C5 had also high direct antitumoral effect (<span class=\"chem\">IC50</span> range: 3.77-15.60μM). Our findings suggest that SAR studies of DHPs may lead to the discovery of novel MDR reversal agents.</td>\n",
       "      <td>                          European journal of pharmacology</td>\n",
       "      <td> 0</td>\n",
       "      <td> 14.36</td>\n",
       "      <td> S</td>\n",
       "      <td> </td>\n",
       "      <td> </td>\n",
       "      <td> <a target=\"_blank\" href=\"http://www.sciencedirect.com/science/article/pii/S0014299914007663\">campus_link_0</a></td>\n",
       "      <td>                                                                                                                                                                                                                                                                                                                                                                                                                                                                                                                                                                                                                                     </td>\n",
       "      <td> </td>\n",
       "    </tr>\n",
       "    <tr>\n",
       "      <th>7 </th>\n",
       "      <td> 15795993</td>\n",
       "      <td> <a target=\"_blank\" href=\"http://www.ncbi.nlm.nih.gov/pubmed/?term=15795993\">15795993</a></td>\n",
       "      <td> 2004</td>\n",
       "      <td>                                                                                                                                                         Cholinesterase inhibitory and spasmolytic potential of steroidal alkaloids.</td>\n",
       "      <td>                                                                                                                                                                                                                                                                                                                                                                                                                                                                                                                                                                                                                                                                                                                                                                                          A new steroidal alkaloid, isosarcodine (1) along with four known bases, sarcorine (2), sarcodine (3), sarcocine (4) and alkaloid-C (5) were isolated from the MeOH extract of Sarcococca saligna. The structures of these alkaloids were identified by spectral data interpretation. These <span class=\"chem\">compounds</span> were subjected to acetylcholinesterase (AChE) and butyrylcholinesterase (BChE) inhibition studies, and were found to be noncompetitive inhibitors of AChE (Ki = 21.8, 90.3, 32.2, 16.0 and 50.0 microM, respectively) and uncompetitive or noncompetitive inhibitors of BChE (Ki = 8.3, 7.5, 15.6, 5.0 and 12.0 microM, respectively). The <span class=\"chem\">compounds</span> (2-5) also showed dose-dependent spasmolytic activity in the rabbit jejunum intestinal preparations and also relaxed the high K+ (80 mM)-induced contraction, indicative of a <span class=\"bio\">calcium channel</span>-blocking mechanism. Structure-activity relationship suggested that the nitrogen substituents at C-3 and/or C-20 of steroidal skeleton and the hydrophobic properties of the pregnane skeleton are the key structural features contributed to the inhibitory <span class=\"chem\">potency</span> of these steroidal alkaloids against AChE and BChE.</td>\n",
       "      <td> The Journal of steroid biochemistry and molecular biology</td>\n",
       "      <td> 0</td>\n",
       "      <td> 13.45</td>\n",
       "      <td> S</td>\n",
       "      <td> </td>\n",
       "      <td> </td>\n",
       "      <td> <a target=\"_blank\" href=\"http://www.sciencedirect.com/science/article/pii/S0960076004003796\">campus_link_0</a></td>\n",
       "      <td>                                                                                                                                                                                                                                                                                                                                                                                                                                                                                                                                                                                                                                     </td>\n",
       "      <td> </td>\n",
       "    </tr>\n",
       "    <tr>\n",
       "      <th>8 </th>\n",
       "      <td> 17849444</td>\n",
       "      <td> <a target=\"_blank\" href=\"http://www.ncbi.nlm.nih.gov/pubmed/?term=17849444\">17849444</a></td>\n",
       "      <td> 2007</td>\n",
       "      <td>                   Synthesis, QSAR and <span class=\"bio\">calcium channel</span> <span class=\"other_terms\">antagonist</span> activity of new 1,4-dihydropyridine derivatives containing 1-methyl-4,5-dichloroimidazolyl substituents.</td>\n",
       "      <td>                                                                                                                                                                                                                                                                                                                                                                                                                                                                                                                                                                                                                                                                                                                                                               A group of dialkyl and diarylester <span class=\"chem\">analogues</span> of nifedipine, in which the ortho-nitrophenyl group at position 4 was replaced by a 1-methyl-4,5-dichloroimidazolyl substituent, were synthesized and evaluated as <span class=\"bio\">calcium</span>-<span class=\"bio\">channel</span> antagonists using the high K(+)concentration of guinea-pig ileum longitudinal smooth muscle. The structure of all <span class=\"chem\">compounds</span> was confirmed by IR,(1)H-NMR, and mass spectra. The <span class=\"bio\">calcium</span>-<span class=\"bio\">channel</span> <span class=\"other_terms\">antagonist</span> activity of <span class=\"chem\">compounds</span> 10a-f demonstrated that <span class=\"chem\">compound</span> 10b was the most active and 10f the least active one. With unsymmetrical diesters 12a-k, the most active <span class=\"chem\">compound</span> was the ethyl, phenethyl derivative. Structural parameters on the <span class=\"bio\">calcium</span>-<span class=\"bio\">channel</span> <span class=\"other_terms\">antagonist</span> activity were evaluated by QSAR analysis and a linear correlation was found between the -log <span class=\"chem\">IC(50</span>) values of these <span class=\"chem\">compounds</span> and their constitutional and topological properties.</td>\n",
       "      <td>                                      Archiv der Pharmazie</td>\n",
       "      <td> 0</td>\n",
       "      <td> 11.58</td>\n",
       "      <td> S</td>\n",
       "      <td> </td>\n",
       "      <td> </td>\n",
       "      <td> <a target=\"_blank\" href=\"http://onlinelibrary.wiley.com/doi/10.1002/ardp.200600211/abstract\">campus_link_0</a></td>\n",
       "      <td>                                                                                                                                                                                                                                                                                                                                                                                                                                                                                                                                                                                                                                     </td>\n",
       "      <td> </td>\n",
       "    </tr>\n",
       "    <tr>\n",
       "      <th>9 </th>\n",
       "      <td> 16603367</td>\n",
       "      <td> <a target=\"_blank\" href=\"http://www.ncbi.nlm.nih.gov/pubmed/?term=16603367\">16603367</a></td>\n",
       "      <td> 2006</td>\n",
       "      <td>                       Synthesis, study of 3D structures, and pharmacological activities of lipophilic nitroimidazolyl-1,4-dihydropyridines as <span class=\"bio\">calcium channel</span> <span class=\"other_terms\">antagonist</span>.</td>\n",
       "      <td>                                                                                                                                                                                                                                                                                                                                                                                                                                                                                                                                                                                                                                                                                                                                                                   QSAR studies indicated that the <span class=\"chem\">potency</span> of nifedipine <span class=\"chem\">analogues</span> was dependent upon lipophilicity, an electronic term and separated terms for each position on the DHP ring. Changes in the substitution pattern at the C3, C4, and C5 positions of DHPs alter <span class=\"chem\">potency</span>, tissue selectivity, and the conformation of the 1,4-DHP ring. In this project a group of alkyl ester <span class=\"chem\">analogues</span> of new derivatives of nifedipine, in which the ortho-nitrophenyl group at position 4 is replaced by a 1-methyl-5-nitro-2-imidazolyl substituent, and the methyl group at position 6 is replaced by a phenyl substituent, were synthesized and evaluated as <span class=\"bio\">calcium channel</span> <span class=\"other_terms\">antagonist</span> using the high K+ contraction of guinea-pig ileal longitudinal smooth muscle. The results for asymmetrical esters showed that lengthening of the substituent in C3 ester substituent increased activity. When increasing of the length is accompanied by increasing the hindrance, the activity decreased. The results demonstrate that all <span class=\"chem\">compounds</span> were more active or similar in effect to that of the reference drug nifedipine.</td>\n",
       "      <td>                          Bioorganic & medicinal chemistry</td>\n",
       "      <td> 0</td>\n",
       "      <td> 10.22</td>\n",
       "      <td> S</td>\n",
       "      <td> </td>\n",
       "      <td> </td>\n",
       "      <td> <a target=\"_blank\" href=\"http://www.sciencedirect.com/science/article/pii/S0968089606002173\">campus_link_0</a></td>\n",
       "      <td>                                                                                                                                                                                                                                                                                                                                                                                                                                                                                                                                                                                                                                     </td>\n",
       "      <td> </td>\n",
       "    </tr>\n",
       "    <tr>\n",
       "      <th>10</th>\n",
       "      <td> 25317581</td>\n",
       "      <td> <a target=\"_blank\" href=\"http://www.ncbi.nlm.nih.gov/pubmed/?term=25317581\">25317581</a></td>\n",
       "      <td> 2014</td>\n",
       "      <td> Playing with opening and closing of heterocycles: using the cusmano-ruccia reaction to develop a novel class of oxadiazolothiazinones, active as <span class=\"bio\">calcium channel</span> modulators and P-glycoprotein inhibitors.</td>\n",
       "      <td>                                                                                                                                                                                                                                                                                                                                                                                                                                                                                                                                                                                                             As a result of the ring-into-ring conversion of nitrosoimidazole derivatives, we obtained a molecular scaffold that, when properly decorated, is able to decrease inotropy by blocking <span class=\"bio\">L-type calcium channels</span>. Previously, we used this scaffold to develop a quantitative structure-activity relationship (QSAR) model, and we used the most potent oxadiazolothiazinone as a template for <span class=\"chem\">ligand</span>-based virtual screening. Here, we enlarge the diversity of <span class=\"chem\">chemical</span> decorations, present the synthesis and in vitro data for 11 new derivatives, and develop a new 3D-QSAR model with recent in silico techniques. We observed a key role played by the oxadiazolone moiety: given the presence of positively charged <span class=\"bio\">calcium</span> ions in the transmembrane <span class=\"bio\">channel</span> protein, we hypothesize the formation of a ternary complex between the oxadiazolothiazinone, the Ca2+ ion and the protein. We have supported this hypothesis by means of pharmacophore generation and through the docking of the pharmacophore into a homology model of the protein. We also studied with docking experiments the interaction with a homology model of P-glycoprotein, which is inhibited by this series of <span class=\"chem\">molecules</span>, and provided further evidence toward the relevance of this scaffold in biological interactions.</td>\n",
       "      <td>                            Molecules (Basel, Switzerland)</td>\n",
       "      <td> 0</td>\n",
       "      <td> 13.21</td>\n",
       "      <td> S</td>\n",
       "      <td> </td>\n",
       "      <td> </td>\n",
       "      <td>                                                                                                               </td>\n",
       "      <td> <a target=\"_blank\" href=\"http://wtgcsfx.hosted.exlibrisgroup.com/wtsc/cgi/public/docdel.cgi?source=Entrez%3APubMed+(Via+SFX)&meduid=25317581&author=Spinelli%2C+D&issue=10&ISBN=&article=Playing+with+opening+and+closing+of+heterocycles%3A+using+the+cusmano-ruccia+reaction+to+develop+a+novel+class+of+oxadiazolothiazinones%2C+active+as+calcium+channel+modulators+and+P-glycoprotein+inhibitors.&publisher=Springer&journal=Molecules&doi=10.3390%2Fmolecules191016543&ISSN=1420-3049&recipient=libadmin%40sanger.ac.uk&volume=19&genre=article&publiPlace=Berlin&sender=&pages=16543-72&year=2014\">request_access_link_0</a></td>\n",
       "      <td> </td>\n",
       "    </tr>\n",
       "    <tr>\n",
       "      <th>11</th>\n",
       "      <td> 25093361</td>\n",
       "      <td> <a target=\"_blank\" href=\"http://www.ncbi.nlm.nih.gov/pubmed/?term=25093361\">25093361</a></td>\n",
       "      <td> 2014</td>\n",
       "      <td>                                                                                                                                            The effect of bromine scanning around the phenyl group of 4-phenylquinolone derivatives.</td>\n",
       "      <td>                                                                                                                                                                                                                                                                                                                                                                                                                                                                                                                                                                                                                                                                                                                                           Three quinolone <span class=\"chem\">compounds</span> were synthesized and crystallized in an effort to study the structure-activity relationship of these <span class=\"bio\">calcium</span>-<span class=\"bio\">channel</span> antagonists. In all three quinolones, viz. ethyl 4-(4-bromophenyl)-2,7,7-trimethyl-5-oxo-1,4,5,6,7,8-hexahydroquinoline-3-carboxylate, (I), ethyl 4-(3-bromophenyl)-2,7,7-trimethyl-5-oxo-1,4,5,6,7,8-hexahydroquinoline-3-carboxylate, (II), and ethyl 4-(2-bromophenyl)-2,7,7-trimethyl-5-oxo-1,4,5,6,7,8-hexahydroquinoline-3-carboxylate, (III), all C21H24BrNO3, common structural features such as a flat boat conformation of the 1,4-dihydropyridine (1,4-DHP) ring, an envelope conformation of the fused cyclohexanone ring and a bromophenyl ring at the pseudo-axial position and orthogonal to the 1,4-DHP ring are retained. However, due to the different packing interactions in each <span class=\"chem\">compound</span>, halogen bonds are observed in (I) and (III). <span class=\"chem\">Compound</span> (III) crystallizes with two <span class=\"chem\">molecules</span> in the asymmetric unit. All of the prepared derivatives satisfy the basic structural requirements to possess moderate activity as <span class=\"bio\">calcium</span>-<span class=\"bio\">channel</span> antagonists.</td>\n",
       "      <td>   Acta crystallographica. Section C, Structural chemistry</td>\n",
       "      <td> 0</td>\n",
       "      <td> 12.95</td>\n",
       "      <td> S</td>\n",
       "      <td> </td>\n",
       "      <td> </td>\n",
       "      <td>                                                                                                               </td>\n",
       "      <td>                                                   <a target=\"_blank\" href=\"http://wtgcsfx.hosted.exlibrisgroup.com/wtsc/cgi/public/docdel.cgi?source=Entrez%3APubMed+(Via+SFX)&meduid=25093361&month=8&author=Steiger%2C+S+A&issue=8&ISBN=&article=The+effect+of+bromine+scanning+around+the+phenyl+group+of+4-phenylquinolone+derivatives.&publisher=Wiley&journal=Acta+Crystallographica+Section+C%2C+Structural+Chemistry&doi=10.1107%2FS2053229614015617&ISSN=2053-2296&abbrev=ACTA+CRYSTALLOGR+C+STRUCT+CHEM&recipient=libadmin%40sanger.ac.uk&volume=70&genre=article&sender=&pages=790-5&year=2014\">request_access_link_0</a></td>\n",
       "      <td> </td>\n",
       "    </tr>\n",
       "    <tr>\n",
       "      <th>12</th>\n",
       "      <td> 16246118</td>\n",
       "      <td> <a target=\"_blank\" href=\"http://www.ncbi.nlm.nih.gov/pubmed/?term=16246118\">16246118</a></td>\n",
       "      <td> 2005</td>\n",
       "      <td>                                                                                             New metabolically stabilized <span class=\"chem\">analogues</span> of lysophosphatidic acid: agonists, antagonists and enzyme inhibitors.</td>\n",
       "      <td>                                                                                                                               Lysophosphatidic acid (LPA) is a metabolically labile natural phospholipid with a bewildering array of physiological effects. We describe herein a variety of long-lived receptor-specific agonists and antagonists for LPA receptors. Several LPA and PA (phosphatidic acid) <span class=\"chem\">analogues</span> also inhibit LPP (lipid phosphate phosphatase). The sn-1 or sn-2 hydroxy groups have been replaced by fluorine, difluoromethyl, difluoroethyl, O-methyl or O-hydroxyethoxy groups to give non-migrating LPA <span class=\"chem\">analogues</span> that resist acyltransferases. Alkyl ether replacement of acyl esters produced lipase and acyltransferase-resistant <span class=\"chem\">analogues</span>. Replacement of the bridging oxygen in the monophosphate by an alpha-monofluoromethylene-, alpha-bromomethylene- or alpha,alpha-difluoromethylenephosphonate gave phosphatase-resistant <span class=\"chem\">analogues</span>. Phosphorothioate <span class=\"chem\">analogues</span> with O-acyl and O-alkyl chains are potent, long-lived agonists for LPA1 and LPA3 receptors. Most recently, we have (i) prepared stabilized O-alkyl <span class=\"chem\">analogues</span> of lysobisphosphatidic acid, (ii) explored the structure-activity relationship of stabilized cyclic LPA <span class=\"chem\">analogues</span> and (iii) synthesized neutral head group trifluoromethylsulphonamide <span class=\"chem\">analogues</span> of LPA. Through collaborative studies, we have collected data for these stabilized <span class=\"chem\">analogues</span> as selective LPA receptor (ant)agonists, LPP inhibitors, TREK (transmembrane <span class=\"bio\">calcium channel</span>) K+ <span class=\"bio\">channel</span> agonists, activators of the nuclear transcription factor PPAR-gamma (peroxisome-proliferator-activated receptor-gamma), promoters of cell motility and survival, and radioprotectants for human B-cells.</td>\n",
       "      <td>                          Biochemical Society transactions</td>\n",
       "      <td> 0</td>\n",
       "      <td> 12.86</td>\n",
       "      <td> S</td>\n",
       "      <td> </td>\n",
       "      <td> </td>\n",
       "      <td>                                                                                                               </td>\n",
       "      <td>                   <a target=\"_blank\" href=\"http://wtgcsfx.hosted.exlibrisgroup.com/wtsc/cgi/public/docdel.cgi?source=Entrez%3APubMed+(Via+SFX)&meduid=16246118&month=12&author=Prestwich%2C+G+D&issue=6&ISBN=&article=New+metabolically+stabilized+analogues+of+lysophosphatidic+acid%3A+agonists%2C+antagonists+and+enzyme+inhibitors.&publisher=Portland+Press.&doi=10.1042%2FBST20051357&journal=Biochemical+Society+transactions&ISSN=0300-5127&abbrev=TRANSACTIONS+-+BIOCHEMICAL+SOCIETY&volume=33&recipient=libadmin%40sanger.ac.uk&genre=article&publiPlace=London&sender=&pages=1357-61&year=2005\">request_access_link_0</a></td>\n",
       "      <td> </td>\n",
       "    </tr>\n",
       "    <tr>\n",
       "      <th>13</th>\n",
       "      <td> 17157509</td>\n",
       "      <td> <a target=\"_blank\" href=\"http://www.ncbi.nlm.nih.gov/pubmed/?term=17157509\">17157509</a></td>\n",
       "      <td> 2007</td>\n",
       "      <td>                                                                                                                                   Structure-activity relationships of pentacycloundecylamines at the N-methyl-d-aspartate receptor.</td>\n",
       "      <td> Prompted by our interest in neuroprotective agents with multiple mechanisms of action, we assessed the structure-activity relationship of a series of pentacycloundecylamine derivatives previously shown to have both <span class=\"bio\">L-type calcium channel</span> blocking activity and N-methyl-d-aspartate receptor (NMDAR) antagonistic activity. We utilized a functional assay to measure NMDAR <span class=\"bio\">channel</span> <span class=\"other_terms\">block</span> using (45)Ca(2+) influx into synaptoneurosomes. The cage amine 8-benzylamino-8,11-oxapentacyclo[5.4.0.0(2,6). 0(3,10).0(5,9)]undecane (NPG1-01) proved to be the most potent experimental <span class=\"chem\">compound</span> with an <span class=\"chem\">IC(50</span>) of 2.98microM, while 8-amino-pentacyclo[5.4.0.0(2,6).0(3,10).0(5,9)]undecane had the next most potent <span class=\"chem\">IC(50</span>) of 4.06microM. Increasing the polycyclic cage size of NGP1-01 from a pentacycloundecane to a tridecane cage structure, but retaining the N-benzyl moiety decreased <span class=\"chem\">potency</span> 10-fold, indicating a limitation on the volume of the cage that can be accommodated in the <span class=\"bio\">channel</span> <span class=\"chem\">binding</span> site. In the presence of NGP1-01, NMDA/glycine-induced maximal (45)Ca(2+) influx was attenuated by 34% with an insignificant effect on agonist <span class=\"chem\">potency</span>. These results are consistent with uncompetitive antagonism for this group of <span class=\"chem\">compounds</span>. Radioligand <span class=\"chem\">binding</span> studies with [(3)H]MK-801 or [(3)H]TCP showed little or no <span class=\"chem\">displacement</span> of these <span class=\"chem\">ligands</span> by pentacycloundecylamines, suggesting that the latter <span class=\"chem\">compounds</span> bind to a unique site in the NMDAR <span class=\"bio\">channel</span>. The pentacycloundecylamines tested represent a novel group of NMDAR antagonists that have potential as therapeutic agents for neurodegenera...</td>\n",
       "      <td>                          Bioorganic & medicinal chemistry</td>\n",
       "      <td> 1</td>\n",
       "      <td> 15.60</td>\n",
       "      <td> S</td>\n",
       "      <td> </td>\n",
       "      <td> </td>\n",
       "      <td>                                                                                                               </td>\n",
       "      <td>                                                                                                                                                                                                                                                                                                                                                                                                                                                                                                                                                                                                                                     </td>\n",
       "      <td> </td>\n",
       "    </tr>\n",
       "    <tr>\n",
       "      <th>14</th>\n",
       "      <td> 20672820</td>\n",
       "      <td> <a target=\"_blank\" href=\"http://www.ncbi.nlm.nih.gov/pubmed/?term=20672820\">20672820</a></td>\n",
       "      <td> 2010</td>\n",
       "      <td>                                                                                                                                          Discovery of novel cyanodihydropyridines as potent mineralocorticoid receptor antagonists.</td>\n",
       "      <td>                                                                                                                                                                                                                                                                                                                                                                                                                                                                                                                                                                                                                                                                                   A new 1,4-dihydropyridine 5a, containing a cyano group at the C3 position, was recently reported to possess excellent mineralocorticoid receptor (MR) <span class=\"other_terms\">antagonist</span> in vitro <span class=\"chem\">potency</span> and no <span class=\"bio\">calcium channel</span>-<span class=\"other_terms\">blocker</span> (CCB) activity. In the present study, we report the structure-activity relationships of this novel series of cyano ester dihydropyridines that resulted in R6 substituted <span class=\"chem\">analogues</span> with improved metabolic stability while maintaining excellent MR <span class=\"other_terms\">antagonist</span> activity and selectivity against other nuclear receptors. Further structure optimization with the introduction of five-membered ring heterocycles at R6 resulted in <span class=\"chem\">compounds</span> with excellent MR <span class=\"other_terms\">antagonist</span> <span class=\"chem\">potency</span> and a suitable pharmacokinetic profile. In vivo studies of a promising tool <span class=\"chem\">compound</span> in the Dahl salt-sensitive rat model of hypertension showed similar blood pressure (BP) reduction as the steroidal MR <span class=\"other_terms\">antagonist</span> eplerenone, providing proof-of-concept (POC) for a nonsteroidal, orally efficacious MR <span class=\"other_terms\">antagonist</span>.</td>\n",
       "      <td>                            Journal of medicinal chemistry</td>\n",
       "      <td> 1</td>\n",
       "      <td> 14.17</td>\n",
       "      <td> S</td>\n",
       "      <td> </td>\n",
       "      <td> </td>\n",
       "      <td>                                                                                                               </td>\n",
       "      <td>                                                                                                                                                                                                                                                                                                                                                                                                                                                                                                                                                                                                                                     </td>\n",
       "      <td> </td>\n",
       "    </tr>\n",
       "    <tr>\n",
       "      <th>15</th>\n",
       "      <td> 22560585</td>\n",
       "      <td> <a target=\"_blank\" href=\"http://www.ncbi.nlm.nih.gov/pubmed/?term=22560585\">22560585</a></td>\n",
       "      <td> 2012</td>\n",
       "      <td>                                                                  Discovery and evaluation of selective N-type <span class=\"bio\">calcium channel</span> blockers: 6-unsubstituted-1,4-dihydropyridine-5-carboxylic acid derivatives.</td>\n",
       "      <td>                                                                                                                                                                                                                                                                                                                                                                                                                                                                                                                                                                                                                                                                                                                                                                                                                                                                                                                                                                                                                                                                                                                                                                                                                                                                                                                                                                                                                      A structure-activity relationship study of 6-unsubstituted-1,4-dihydropyridine and 2,6-unsubstituted-1,4-dihydropyridine derivatives was conducted in an attempt to discover N-type <span class=\"bio\">calcium channel</span> blockers that were highly selective over <span class=\"bio\">L-type calcium channel</span> blockers. Among the tested <span class=\"chem\">compounds</span>, (+)-4-(3,5-dichloro-4-methoxy-phenyl)-1,4-dihydro-pyridine-3,5-dicarboxylic acid 3-cinnamyl ester was found to be an effective and selective N-type <span class=\"bio\">calcium channel</span> <span class=\"other_terms\">blocker</span> with oral analgesic potential.</td>\n",
       "      <td>                  Bioorganic & medicinal chemistry letters</td>\n",
       "      <td> 1</td>\n",
       "      <td> 12.03</td>\n",
       "      <td> S</td>\n",
       "      <td> </td>\n",
       "      <td> </td>\n",
       "      <td>                                                                                                               </td>\n",
       "      <td>                                                                                                                                                                                                                                                                                                                                                                                                                                                                                                                                                                                                                                     </td>\n",
       "      <td> </td>\n",
       "    </tr>\n",
       "    <tr>\n",
       "      <th>16</th>\n",
       "      <td> 15801823</td>\n",
       "      <td> <a target=\"_blank\" href=\"http://www.ncbi.nlm.nih.gov/pubmed/?term=15801823\">15801823</a></td>\n",
       "      <td> 2005</td>\n",
       "      <td>                                                                             Structure-activity relationships of pregabalin and <span class=\"chem\">analogues</span> that <span class=\"bio\">target</span> the alpha(2)-delta protein.</td>\n",
       "      <td>                                                                                                                                                                                                                                                                                                                                                                                                                                                                                                                                                                                                                                                                                          Pregabalin exhibits robust activity in preclinical assays indicative of potential antiepileptic, anxiolytic, and antihyperalgesic clinical efficacy. It binds with high <span class=\"other_terms\">affinity</span> to the alpha(2)-delta subunit of <span class=\"bio\">voltage-gated calcium</span> <span class=\"bio\">channels</span> and is a substrate of the system L neutral amino acid transporter. A series of pregabalin <span class=\"chem\">analogues</span> were prepared and evaluated for their alpha(2)-delta <span class=\"chem\">binding</span> <span class=\"other_terms\">affinity</span> as demonstrated by their ability to inhibit <span class=\"chem\">binding</span> of [(3)H]gabapentin to pig brain membranes and for their <span class=\"chem\">potency</span> to inhibit the uptake of [(3)H]leucine into CHO cells, a measure of their ability to compete with the endogenous substrate at the system L transporter. <span class=\"chem\">Compounds</span> were also assessed in vivo for their ability to promote anxiolytic, analgesic, and anticonvulsant actions. These studies suggest that distinct structure activity relationships exist for alpha(2)-delta <span class=\"chem\">binding</span> and system L transport inhibition. However, both interactions appear to play an important role in the in vivo profile of these <span class=\"chem\">compounds</span>.</td>\n",
       "      <td>                            Journal of medicinal chemistry</td>\n",
       "      <td> 1</td>\n",
       "      <td> 11.29</td>\n",
       "      <td> S</td>\n",
       "      <td> </td>\n",
       "      <td> </td>\n",
       "      <td>                                                                                                               </td>\n",
       "      <td>                                                                                                                                                                                                                                                                                                                                                                                                                                                                                                                                                                                                                                     </td>\n",
       "      <td> </td>\n",
       "    </tr>\n",
       "  </tbody>\n",
       "</table>"
      ],
      "text/plain": [
       "<IPython.core.display.HTML object>"
      ]
     },
     "execution_count": 35,
     "metadata": {},
     "output_type": "execute_result"
    }
   ],
   "source": [
    "c.colour_terms(df = c.get_df(query_id_list = [my_query_id1, my_query_id2], db_name = 'cluster_db', sql_condition = 'year > 2000 and score > 10')[0], markup_list = broader_terms)"
   ]
  },
  {
   "cell_type": "markdown",
   "metadata": {},
   "source": [
    "### 6. Check the errors"
   ]
  },
  {
   "cell_type": "code",
   "execution_count": 36,
   "metadata": {
    "collapsed": true
   },
   "outputs": [],
   "source": [
    "import sqlite3 as lite\n",
    "conn = lite.connect('cluster_db')\n",
    "cursor = conn.cursor()"
   ]
  },
  {
   "cell_type": "code",
   "execution_count": 37,
   "metadata": {
    "collapsed": false
   },
   "outputs": [
    {
     "data": {
      "text/plain": [
       "<sqlite3.Cursor at 0x10e665b90>"
      ]
     },
     "execution_count": 37,
     "metadata": {},
     "output_type": "execute_result"
    }
   ],
   "source": [
    "cursor.execute('select * from error_records where query_id in ({})'.format(my_query_id1))"
   ]
  },
  {
   "cell_type": "code",
   "execution_count": 38,
   "metadata": {
    "collapsed": false
   },
   "outputs": [
    {
     "data": {
      "text/plain": [
       "[(6, None, 9167447, '(get scores) error, status code: 404'),\n",
       " (6, None, 9167447, '(get scores) error, status code: 404')]"
      ]
     },
     "execution_count": 38,
     "metadata": {},
     "output_type": "execute_result"
    }
   ],
   "source": [
    "cursor.fetchall()"
   ]
  },
  {
   "cell_type": "code",
   "execution_count": 39,
   "metadata": {
    "collapsed": true
   },
   "outputs": [],
   "source": [
    "conn.close()"
   ]
  },
  {
   "cell_type": "markdown",
   "metadata": {},
   "source": [
    "### 7. You can also see the distriubiton of chembl-likeness scores."
   ]
  },
  {
   "cell_type": "code",
   "execution_count": 40,
   "metadata": {
    "collapsed": false
   },
   "outputs": [
    {
     "name": "stdout",
     "output_type": "stream",
     "text": [
      "Creates a histogram of the chembl-likeness-scores for a given query/queries. Will plot inline.\n",
      "    kwargs: query_id_list\n",
      "            db_name\n",
      "            figure_title\n"
     ]
    }
   ],
   "source": [
    "print(c.plot_scores.__doc__)"
   ]
  },
  {
   "cell_type": "code",
   "execution_count": 41,
   "metadata": {
    "collapsed": false
   },
   "outputs": [
    {
     "data": {
      "image/png": "[encoded data removed]",
      "text/plain": [
       "<matplotlib.figure.Figure at 0x10fd732b0>"
      ]
     },
     "metadata": {},
     "output_type": "display_data"
    }
   ],
   "source": [
    "c.plot_scores([my_query_id1, my_query_id2], 'cluster_db', 'LTCC_big_query')"
   ]
  },
  {
   "cell_type": "code",
   "execution_count": null,
   "metadata": {
    "collapsed": true
   },
   "outputs": [],
   "source": []
  }
 ],
 "metadata": {
  "kernelspec": {
   "display_name": "Python 3",
   "language": "python",
   "name": "python3"
  },
  "language_info": {
   "codemirror_mode": {
    "name": "ipython",
    "version": 3
   },
   "file_extension": ".py",
   "mimetype": "text/x-python",
   "name": "python",
   "nbconvert_exporter": "python",
   "pygments_lexer": "ipython3",
   "version": "3.4.3"
  }
 },
 "nbformat": 4,
 "nbformat_minor": 0
}
