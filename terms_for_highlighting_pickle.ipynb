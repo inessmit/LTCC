{
 "cells": [
  {
   "cell_type": "code",
   "execution_count": 4,
   "metadata": {
    "collapsed": true
   },
   "outputs": [],
   "source": [
    "import pickle\n",
    "import pandas as pd"
   ]
  },
  {
   "cell_type": "markdown",
   "metadata": {},
   "source": [
    "### Compound names from MeSh substance headings\n"
   ]
  },
  {
   "cell_type": "code",
   "execution_count": 5,
   "metadata": {
    "collapsed": true
   },
   "outputs": [],
   "source": [
    "mesh_compounds = ['dihydropyridines?', 'benzothiazepines?', 'phenyl[- ]?alkyl[- ]?amines?', 'AE0047' , 'Amlodipine' , 'Amrinone' , 'anandamide' , 'anipamil' , 'azimilide' , 'Bencyclane' , 'benidipine' , 'Bepridil' , 'berbamine' , 'canadine' , 'carboxyamido-triazoles?' , 'caroverine' , 'CD 349' , 'cilnidipine' , 'Cinnarizine' , 'clentiazem' , 'clevidipine' , 'Conotoxins' , 'Conus magus toxin' , 'darodipine' , 'dauricine' , 'devapamil' , 'Diltiazem' , 'dotarizine' , 'efonidipine' , 'emopamil' , 'enpiperate' , 'eperisone' , 'falipamil' , 'fantofarone' , 'fasudil' , 'Felodipine' , 'fenamic acid' , 'Fendiline' , 'Flunarizine' , 'fosfedil' , 'FTX' , 'gabapentin' , 'Gallopamil' , 'IH 764-3' , 'Isradipine' , 'KT 362' , 'lacidipine' , 'lamotrigine' , 'lercanidipine' , 'Lidoflazine' , 'lomerizine' , 'manidipine' , 'manoalide' , 'mepirodipine' , 'Mibefradil' , 'monatepil' , 'N-(2-guanidinoethyl)-5-isoquinolinesulfonamide' , 'naftopidil' , 'Nicardipine' , 'Nifedipine' , 'niguldipine' , 'niludipin' , 'nilvadipine' , 'Nimodipine' , 'Nisoldipine' , 'Nitrendipine' , 'norverapamil' , 'ochratoxin A' , 'octylonium' , 'Agatoxins?' , 'osthol' , 'oxodipine' , 'Perhexiline' , 'pinaverium' , 'piperidines?' , 'PN 202-791' , 'pranidipine' , 'pregabalin' , 'Prenylamine' , 'R 56865' , 'risedronic acid' , 'ryodipine' , 'SAN 202791' , 'sesamodil' , 'stepholidine' , 'temiverine' , 'terodiline' , 'tetrahydropalmatine' , 'tetrandrine' , 'Tiapamil' , 'tolfenamic acid' , 'tranilast' , 'Verapamil' , 'Win 55212-2' , 'ziconotide']\n",
    "mesh_compounds.remove('N-(2-guanidinoethyl)-5-isoquinolinesulfonamide')"
   ]
  },
  {
   "cell_type": "code",
   "execution_count": 6,
   "metadata": {
    "collapsed": false
   },
   "outputs": [
    {
     "data": {
      "text/plain": [
       "94"
      ]
     },
     "execution_count": 6,
     "metadata": {},
     "output_type": "execute_result"
    }
   ],
   "source": [
    "len(mesh_compounds)"
   ]
  },
  {
   "cell_type": "code",
   "execution_count": 7,
   "metadata": {
    "collapsed": true
   },
   "outputs": [],
   "source": [
    "mesh_compounds.append('N-\\(2-guanidinoethyl\\)-5-isoquinolinesulfonamide')"
   ]
  },
  {
   "cell_type": "code",
   "execution_count": 8,
   "metadata": {
    "collapsed": true
   },
   "outputs": [],
   "source": [
    "mesh_compounds = [i.lower() for i in mesh_compounds]"
   ]
  },
  {
   "cell_type": "markdown",
   "metadata": {},
   "source": [
    "### Preparing Wisniowska compounds to add to the list above\n"
   ]
  },
  {
   "cell_type": "code",
   "execution_count": 9,
   "metadata": {
    "collapsed": true
   },
   "outputs": [],
   "source": [
    "Wisniowska_suppl = pd.read_csv('Wisniowska_suppl.txt', sep = '\\t')"
   ]
  },
  {
   "cell_type": "code",
   "execution_count": 10,
   "metadata": {
    "collapsed": false
   },
   "outputs": [],
   "source": [
    "master_list = [i.lower() for i in Wisniowska_suppl['Compound'].unique()[2:]]"
   ]
  },
  {
   "cell_type": "code",
   "execution_count": 11,
   "metadata": {
    "collapsed": false
   },
   "outputs": [
    {
     "data": {
      "text/plain": [
       "69"
      ]
     },
     "execution_count": 11,
     "metadata": {},
     "output_type": "execute_result"
    }
   ],
   "source": [
    "len(master_list)"
   ]
  },
  {
   "cell_type": "code",
   "execution_count": 12,
   "metadata": {
    "collapsed": true
   },
   "outputs": [],
   "source": [
    "master_list.extend(mesh_compounds)"
   ]
  },
  {
   "cell_type": "code",
   "execution_count": 13,
   "metadata": {
    "collapsed": false
   },
   "outputs": [
    {
     "data": {
      "text/plain": [
       "164"
      ]
     },
     "execution_count": 13,
     "metadata": {},
     "output_type": "execute_result"
    }
   ],
   "source": [
    "len(master_list)"
   ]
  },
  {
   "cell_type": "code",
   "execution_count": 14,
   "metadata": {
    "collapsed": false
   },
   "outputs": [],
   "source": [
    "master_list = list(set(master_list))"
   ]
  },
  {
   "cell_type": "code",
   "execution_count": 15,
   "metadata": {
    "collapsed": false
   },
   "outputs": [
    {
     "data": {
      "text/plain": [
       "148"
      ]
     },
     "execution_count": 15,
     "metadata": {},
     "output_type": "execute_result"
    }
   ],
   "source": [
    "len(master_list)"
   ]
  },
  {
   "cell_type": "code",
   "execution_count": 16,
   "metadata": {
    "collapsed": false
   },
   "outputs": [],
   "source": [
    "master_list.remove('sr33557 (fantofarone)')"
   ]
  },
  {
   "cell_type": "code",
   "execution_count": 17,
   "metadata": {
    "collapsed": true
   },
   "outputs": [],
   "source": [
    "master_list.append('sr33557')"
   ]
  },
  {
   "cell_type": "code",
   "execution_count": 18,
   "metadata": {
    "collapsed": true
   },
   "outputs": [],
   "source": [
    "master_list.append('fantofarone')"
   ]
  },
  {
   "cell_type": "code",
   "execution_count": 19,
   "metadata": {
    "collapsed": true
   },
   "outputs": [],
   "source": [
    "master_list.remove('vanoredxine (gbr-12909)')"
   ]
  },
  {
   "cell_type": "code",
   "execution_count": 20,
   "metadata": {
    "collapsed": true
   },
   "outputs": [],
   "source": [
    "master_list.append('vanoredxine')"
   ]
  },
  {
   "cell_type": "code",
   "execution_count": 21,
   "metadata": {
    "collapsed": true
   },
   "outputs": [],
   "source": [
    "master_list.append('gbr-12909')"
   ]
  },
  {
   "cell_type": "code",
   "execution_count": 22,
   "metadata": {
    "collapsed": false
   },
   "outputs": [
    {
     "data": {
      "text/plain": [
       "150"
      ]
     },
     "execution_count": 22,
     "metadata": {},
     "output_type": "execute_result"
    }
   ],
   "source": [
    "len(master_list)"
   ]
  },
  {
   "cell_type": "markdown",
   "metadata": {},
   "source": [
    "### Define highlighting dictionaries"
   ]
  },
  {
   "cell_type": "code",
   "execution_count": 56,
   "metadata": {
    "collapsed": false
   },
   "outputs": [
    {
     "ename": "NameError",
     "evalue": "name 'Goldenrod' is not defined",
     "output_type": "error",
     "traceback": [
      "\u001b[0;31m---------------------------------------------------------------------------\u001b[0m",
      "\u001b[0;31mNameError\u001b[0m                                 Traceback (most recent call last)",
      "\u001b[0;32m<ipython-input-56-451279b2772c>\u001b[0m in \u001b[0;36m<module>\u001b[0;34m()\u001b[0m\n\u001b[1;32m      8\u001b[0m           \u001b[0;34m'name'\u001b[0m\u001b[0;34m:\u001b[0m\u001b[0;34m'IC50s'\u001b[0m\u001b[0;34m\u001b[0m\u001b[0m\n\u001b[1;32m      9\u001b[0m          \u001b[0;34m,\u001b[0m\u001b[0;34m'terms'\u001b[0m\u001b[0;34m:\u001b[0m \u001b[0;34m[\u001b[0m\u001b[0;34m'[IEXA][CD][0-9]0s?'\u001b[0m\u001b[0;34m,\u001b[0m \u001b[0;34m'[IEXA][CD]\\([0-9]0\\)s?'\u001b[0m\u001b[0;34m,\u001b[0m \u001b[0;34m'inhibitory activit(?:y|ies)'\u001b[0m\u001b[0;34m]\u001b[0m\u001b[0;34m\u001b[0m\u001b[0m\n\u001b[0;32m---> 10\u001b[0;31m          ,'color': Goldenrod}\n\u001b[0m\u001b[1;32m     11\u001b[0m     , {\n\u001b[1;32m     12\u001b[0m           \u001b[0;34m'name'\u001b[0m\u001b[0;34m:\u001b[0m \u001b[0;34m'calcium'\u001b[0m\u001b[0;34m\u001b[0m\u001b[0m\n",
      "\u001b[0;31mNameError\u001b[0m: name 'Goldenrod' is not defined"
     ]
    }
   ],
   "source": [
    "broader_terms = [\n",
    "    {\n",
    "          'name': 'chem'\n",
    "        , 'terms': ['compounds?', 'molecules?', 'analog\\w*', 'ligands?', 'binding', 'potency', 'potencies', 'affinit(?:y|ies)', 'displacement', 'displacing', 'chemicals?', ]\n",
    "        , 'color': 'LightSeaGreen'\n",
    "    }\n",
    "    , {\n",
    "          'name':'IC50s'\n",
    "         ,'terms': ['[IEXA][CD][0-9]0s?', '[IEXA][CD]\\([0-9]0\\)s?', 'inhibitory activit(?:y|ies)']\n",
    "         ,'color': Goldenrod}\n",
    "    , {\n",
    "          'name': 'calcium'\n",
    "        , 'terms': ['calcium channel?','calcium','targets?', '(calcium|ca) (channels?|currents?)', 'channels?', 'L-type',\n",
    "                    'Ca2?(\\+)+[- ]channels?', 'L-type (calcium|ca)[ -](channels?|currents?)', 'L-type Ca2?(\\+)+', 'L-type Ca2?(\\+)+[- ](channels?|currents?)', 'LTCCs?',\n",
    "                   'ICa, ?L', 'I\\(Ca,L\\)', 'DHPRs?', 'Cav[0-9]\\.[0-9a-z]+', 'DHP receptors?', 'DHP channels?', 'calcium channels?', 'voltage-dependent (?:ca|calcium)',\n",
    "                    'voltage-gated (?:ca|calcium)', 'Ca\\(2\\+\\)[- ]?channel[- s]', 'Ca\\(2\\+\\)[ -]channels?',\n",
    "                     'calcium[- ]entry']\n",
    "        , 'color': 'blue'\n",
    "    }\n",
    "    , {\n",
    "          'name': 'other_terms'\n",
    "        , 'terms': ['(?:modulator|antagonis|inhibitor|block)\\w*']\n",
    "        , 'color': 'RoyalBlue'\n",
    "    }\n",
    "    ,{\n",
    "        'name':'interesting_tissue'\n",
    "        , 'terms': ['cardiac', 'heart', 'cardio[\\w-]+', 'atri(?:al|um)', 'ventricles?', 'ventricular', 'myocardi(?:al|um)', 'papillary']\n",
    "        , 'color': 'Magenta'\n",
    "    }\n",
    "    , {\n",
    "          'name':'unwanted_tissue'\n",
    "        , 'terms':['ileal','ileum', 'smooth muscle', 'vascular muscle', 'nervous', 'CNS', 'brain', 'contractions?', 'neurons?', 'skeletal muscle', 'vasodilatory', 'vascular', 'vaso-?(?:dilat|constrict|relax)\\w+', 'constriction', 'dilator\\w*', 'bronchiol\\w*', 'aorta']\n",
    "        , 'color':'red'\n",
    "    } \n",
    "    , {\n",
    "        'name':'effect'\n",
    "        , 'terms': ['inotrop\\w+', 'lusitrop\\w+', 'dromotrop\\w+', 'tachycard\\w+', 'bradycard\\w+', '(?:anti[- ]?)?arrhythmi\\w+', 'tdp', 'torsade de pointes', 'QT', 'phasic', 'tonic', 'voltage[- ](?:sensitive|dependent)', 'use[- ]dependent']\n",
    "        , 'color': 'RosyBrown'\n",
    "    }\n",
    "    , {\n",
    "        'name':'sodium'\n",
    "        , 'terms': ['sodium', 'Na']\n",
    "        , 'color': 'orange'\n",
    "    }\n",
    "    , {\n",
    "        'name':'assays'\n",
    "        , 'terms': ['(?:patch|voltage)[- ]clamp\\w*', 'IonWorks', 'electrophysiolog\\w*', 'patchxpress']\n",
    "        , 'color': 'Chocolate'\n",
    "    }\n",
    "    , {\n",
    "        'name':'species'\n",
    "        , 'terms': ['guinea[- ]pig', 'rabbit', 'rat', 'mouse', 'dog', 'human', 'pig']\n",
    "        , 'color': 'MediumOrchid'\n",
    "    },\n",
    "    {\n",
    "        'name': 'chemicals'\n",
    "        ,'terms': master_list\n",
    "        ,'color':'MediumSeaGreen'\n",
    "    }\n",
    "]"
   ]
  },
  {
   "cell_type": "code",
   "execution_count": 57,
   "metadata": {
    "collapsed": false
   },
   "outputs": [],
   "source": [
    "with open('terms_for_highlighting.pkl', 'wb') as f:\n",
    "    \n",
    "    pickle.dump(broader_terms, f)     "
   ]
  },
  {
   "cell_type": "code",
   "execution_count": null,
   "metadata": {
    "collapsed": true
   },
   "outputs": [],
   "source": []
  }
 ],
 "metadata": {
  "kernelspec": {
   "display_name": "Python 3",
   "language": "python",
   "name": "python3"
  },
  "language_info": {
   "codemirror_mode": {
    "name": "ipython",
    "version": 3
   },
   "file_extension": ".py",
   "mimetype": "text/x-python",
   "name": "python",
   "nbconvert_exporter": "python",
   "pygments_lexer": "ipython3",
   "version": "3.4.3"
  }
 },
 "nbformat": 4,
 "nbformat_minor": 0
}
