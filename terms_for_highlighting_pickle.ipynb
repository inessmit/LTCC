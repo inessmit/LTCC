{
 "cells": [
  {
   "cell_type": "code",
   "execution_count": 2,
   "metadata": {
    "collapsed": true
   },
   "outputs": [],
   "source": [
    "import re"
   ]
  },
  {
   "cell_type": "code",
   "execution_count": 3,
   "metadata": {
    "collapsed": true
   },
   "outputs": [],
   "source": [
    "import pickle\n",
    "import pandas as pd"
   ]
  },
  {
   "cell_type": "markdown",
   "metadata": {},
   "source": [
    "### Compound names from MeSh substance headings\n"
   ]
  },
  {
   "cell_type": "code",
   "execution_count": 4,
   "metadata": {
    "collapsed": true
   },
   "outputs": [],
   "source": [
    "mesh_compounds = ['dihydropyridines?', 'benzothiazepines?', 'phenyl[- ]?alkyl[- ]?amines?', 'AE0047' , 'Amlodipine' , 'Amrinone' , 'anandamide' , 'anipamil' , 'azimilide' , 'Bencyclane' , 'benidipine' , 'Bepridil' , 'berbamine' , 'canadine' , 'carboxyamido-triazoles?' , 'caroverine' , 'CD 349' , 'cilnidipine' , 'Cinnarizine' , 'clentiazem' , 'clevidipine' , 'Conotoxins' , 'Conus magus toxin' , 'darodipine' , 'dauricine' , 'devapamil' , 'Diltiazem' , 'dotarizine' , 'efonidipine' , 'emopamil' , 'enpiperate' , 'eperisone' , 'falipamil' , 'fantofarone' , 'fasudil' , 'Felodipine' , 'fenamic acid' , 'Fendiline' , 'Flunarizine' , 'fosfedil' , 'FTX' , 'gabapentin' , 'Gallopamil' , 'IH 764-3' , 'Isradipine' , 'KT 362' , 'lacidipine' , 'lamotrigine' , 'lercanidipine' , 'Lidoflazine' , 'lomerizine' , 'manidipine' , 'manoalide' , 'mepirodipine' , 'Mibefradil' , 'monatepil' , 'N-(2-guanidinoethyl)-5-isoquinolinesulfonamide' , 'naftopidil' , 'Nicardipine' , 'Nifedipine' , 'niguldipine' , 'niludipin' , 'nilvadipine' , 'Nimodipine' , 'Nisoldipine' , 'Nitrendipine' , 'norverapamil' , 'ochratoxin A' , 'octylonium' , 'Agatoxins?' , 'osthol' , 'oxodipine' , 'Perhexiline' , 'pinaverium' , 'piperidines?' , 'PN 202-791' , 'pranidipine' , 'pregabalin' , 'Prenylamine' , 'R 56865' , 'risedronic acid' , 'ryodipine' , 'SAN 202791' , 'sesamodil' , 'stepholidine' , 'temiverine' , 'terodiline' , 'tetrahydropalmatine' , 'tetrandrine' , 'Tiapamil' , 'tolfenamic acid' , 'tranilast' , 'Verapamil' , 'Win 55212-2' , 'ziconotide']\n",
    "mesh_compounds.remove('N-(2-guanidinoethyl)-5-isoquinolinesulfonamide')"
   ]
  },
  {
   "cell_type": "code",
   "execution_count": 5,
   "metadata": {
    "collapsed": false
   },
   "outputs": [
    {
     "data": {
      "text/plain": [
       "94"
      ]
     },
     "execution_count": 5,
     "metadata": {},
     "output_type": "execute_result"
    }
   ],
   "source": [
    "len(mesh_compounds)"
   ]
  },
  {
   "cell_type": "code",
   "execution_count": 6,
   "metadata": {
    "collapsed": true
   },
   "outputs": [],
   "source": [
    "mesh_compounds.append('N-\\(2-guanidinoethyl\\)-5-isoquinolinesulfonamide')"
   ]
  },
  {
   "cell_type": "code",
   "execution_count": 7,
   "metadata": {
    "collapsed": true
   },
   "outputs": [],
   "source": [
    "mesh_compounds = [i.lower() for i in mesh_compounds]"
   ]
  },
  {
   "cell_type": "markdown",
   "metadata": {},
   "source": [
    "### Preparing Wisniowska compounds to add to the list above\n"
   ]
  },
  {
   "cell_type": "code",
   "execution_count": 8,
   "metadata": {
    "collapsed": true
   },
   "outputs": [],
   "source": [
    "Wisniowska_suppl = pd.read_csv('Wisniowska_suppl.txt', sep = '\\t')"
   ]
  },
  {
   "cell_type": "code",
   "execution_count": 9,
   "metadata": {
    "collapsed": false
   },
   "outputs": [],
   "source": [
    "master_list = [i.lower() for i in Wisniowska_suppl['Compound'].unique()[2:]]"
   ]
  },
  {
   "cell_type": "code",
   "execution_count": 10,
   "metadata": {
    "collapsed": false
   },
   "outputs": [
    {
     "data": {
      "text/plain": [
       "69"
      ]
     },
     "execution_count": 10,
     "metadata": {},
     "output_type": "execute_result"
    }
   ],
   "source": [
    "len(master_list)"
   ]
  },
  {
   "cell_type": "code",
   "execution_count": 11,
   "metadata": {
    "collapsed": true
   },
   "outputs": [],
   "source": [
    "master_list.extend(mesh_compounds)"
   ]
  },
  {
   "cell_type": "code",
   "execution_count": 12,
   "metadata": {
    "collapsed": false
   },
   "outputs": [
    {
     "data": {
      "text/plain": [
       "164"
      ]
     },
     "execution_count": 12,
     "metadata": {},
     "output_type": "execute_result"
    }
   ],
   "source": [
    "len(master_list)"
   ]
  },
  {
   "cell_type": "code",
   "execution_count": 13,
   "metadata": {
    "collapsed": false
   },
   "outputs": [],
   "source": [
    "master_list = list(set(master_list))"
   ]
  },
  {
   "cell_type": "code",
   "execution_count": 14,
   "metadata": {
    "collapsed": false
   },
   "outputs": [
    {
     "data": {
      "text/plain": [
       "148"
      ]
     },
     "execution_count": 14,
     "metadata": {},
     "output_type": "execute_result"
    }
   ],
   "source": [
    "len(master_list)"
   ]
  },
  {
   "cell_type": "code",
   "execution_count": 15,
   "metadata": {
    "collapsed": false
   },
   "outputs": [],
   "source": [
    "master_list.remove('sr33557 (fantofarone)')"
   ]
  },
  {
   "cell_type": "code",
   "execution_count": 16,
   "metadata": {
    "collapsed": true
   },
   "outputs": [],
   "source": [
    "master_list.append('sr33557')"
   ]
  },
  {
   "cell_type": "code",
   "execution_count": 17,
   "metadata": {
    "collapsed": true
   },
   "outputs": [],
   "source": [
    "master_list.append('fantofarone')"
   ]
  },
  {
   "cell_type": "code",
   "execution_count": 18,
   "metadata": {
    "collapsed": true
   },
   "outputs": [],
   "source": [
    "master_list.remove('vanoredxine (gbr-12909)')"
   ]
  },
  {
   "cell_type": "code",
   "execution_count": 19,
   "metadata": {
    "collapsed": true
   },
   "outputs": [],
   "source": [
    "master_list.append('vanoredxine')"
   ]
  },
  {
   "cell_type": "code",
   "execution_count": 20,
   "metadata": {
    "collapsed": true
   },
   "outputs": [],
   "source": [
    "master_list.append('gbr-12909')"
   ]
  },
  {
   "cell_type": "code",
   "execution_count": 21,
   "metadata": {
    "collapsed": false
   },
   "outputs": [
    {
     "data": {
      "text/plain": [
       "150"
      ]
     },
     "execution_count": 21,
     "metadata": {},
     "output_type": "execute_result"
    }
   ],
   "source": [
    "len(master_list)"
   ]
  },
  {
   "cell_type": "markdown",
   "metadata": {},
   "source": [
    "### Define highlighting dictionaries"
   ]
  },
  {
   "cell_type": "code",
   "execution_count": 26,
   "metadata": {
    "collapsed": false
   },
   "outputs": [],
   "source": [
    "broader_terms = [\n",
    "    {\n",
    "          'name': 'chem'\n",
    "        , 'terms': ['analog\\w*', 'ligands?', 'binding', 'potency', 'potencies', 'affinit(?:y|ies)', 'displacement', 'displacing' ]\n",
    "        , 'color': 'LightSeaGreen'\n",
    "    }\n",
    "    , {\n",
    "          'name':'IC50s'\n",
    "         ,'terms': [r'[IEXA][CD](?:50|₅₀)s?', r'[IEXA][CD]\\(50\\)s?', r'inhibitory activit(?:y|ies)', r'\\bKi\\b']\n",
    "         ,'color': 'Goldenrod'}\n",
    "    , {\n",
    "          'name': 'calcium'\n",
    "        , 'terms': ['calcium' \n",
    "                    \n",
    "\n",
    "                    , 'Ca2?(\\+)+[- ]channels?'\n",
    "                    , '(?:calcium|ca)[ -](channels?|currents?)'\n",
    "                    , 'Ca2?(\\+)+'\n",
    "                    , 'Ca2?(\\+)+[- ](channels?|currents?)'\n",
    "                    , 'Ca²⁺'\n",
    "                    , 'L-type'\n",
    "                    , 'LTCCs?'\n",
    "                    ,'ICa, ?L'\n",
    "                    , 'I\\(Ca\\)'\n",
    "                    , 'I\\(Ca,L\\)'\n",
    "                    , 'I\\(Ca\\(L\\)\\)'\n",
    "                    ,'\\(ICa\\)'\n",
    "                    ,'I\\(Ca1.2\\)'\n",
    "                    , r'\\bICa\\b'\n",
    "                    , 'DHPRs?'\n",
    "                    , 'Cav[0-9]\\.[0-9a-z]+'\n",
    "                    , 'DHP receptors?'\n",
    "                    , 'DHP'\n",
    "                    , 'Ca\\(2\\+\\)'\n",
    "                    , r'\\bCa(?:\\b|-)'\n",
    "                    \n",
    "                    \n",
    "                    , 'voltage-dependent (?:ca|calcium)'\n",
    "                    , 'voltage-gated (?:ca|calcium)'\n",
    "                    , 'Ca\\(2\\+\\)[- ]?channel[- s]'\n",
    "                    , 'Ca\\(2\\+\\)[ -]channels?'\n",
    "                    ,'calcium[- ]entry'\n",
    "                    , 'Ca2?(\\+)+'\n",
    "                   ]\n",
    "        , 'color': 'blue'\n",
    "    }\n",
    "    , {\n",
    "          'name': 'other_terms'\n",
    "        , 'terms': ['(?:modulator|antagonis|inhibitor|block)\\w*', 'currents?', 'channels?']\n",
    "        , 'color': 'RoyalBlue'\n",
    "    }\n",
    "    ,{\n",
    "        'name':'interesting_tissue'\n",
    "        , 'terms': ['cardiac', 'hearts?', 'cardio[\\w-]+', 'atri(?:al|um)', 'ventricles?', 'ventricular', 'myocardi(?:al|um)', 'papillary']\n",
    "        , 'color': 'Magenta'\n",
    "    }\n",
    "    , {\n",
    "          'name':'unwanted_tissue'\n",
    "        , 'terms':['ileal','ileum', 'smooth muscle', 'vascular muscle',  'nervous (?:tissues?|systems?)', r'\\bnerves?\\b', 'CNS', 'brain', 'contractions?', 'neuron\\w*', 'skeletal muscle', 'vasodilatory', r'\\bvascular\\b', 'vaso-?(?:dilat|constrict|relax)\\w+', 'constriction', 'dilator\\w*', 'bronchiol\\w*', 'aorta']\n",
    "        , 'color':'red'\n",
    "    } \n",
    "    , {\n",
    "        'name':'effect'\n",
    "        , 'terms': ['inotrop\\w+', 'lusitrop\\w+', 'dromotrop\\w+', 'tachycard\\w+', 'bradycard\\w+', '(?:anti[- ]?)?arrhythmi\\w+', 'tdp', 'torsade de pointes', 'QT', 'phasic', 'tonic', 'voltage[- ](?:sensitive|dependent)', 'use[- ]dependent']\n",
    "        , 'color': 'RosyBrown'\n",
    "    }\n",
    "    , {\n",
    "        'name':'other_channels'\n",
    "        , 'terms': ['sodium', r'\\bNa\\b', 'potassium', r'\\bK\\+', r'\\bK\\b', 'N-type', 'T-type', '(?:[PQ]|P/Q)-type', 'R-type','ATPase' ]\n",
    "        , 'color': 'Crimson'\n",
    "    }\n",
    "    , {\n",
    "        'name':'assays'\n",
    "        , 'terms': ['(?:patch|voltage)[- ]clamp\\w*', 'IonWorks', 'electrophysiolog\\w*', 'patchxpress']\n",
    "        , 'color': 'Chocolate'\n",
    "    }\n",
    "    , {\n",
    "        'name':'species'\n",
    "        , 'terms': ['guinea[- ]pig', 'rabbit', r'\\brat\\b', 'mouse', 'dog', 'human', 'pig']\n",
    "        , 'color': 'MediumOrchid'\n",
    "    },\n",
    "    {\n",
    "        'name': 'chemicals'\n",
    "        ,'terms': master_list\n",
    "        ,'color':'MediumSeaGreen'\n",
    "    }\n",
    "]"
   ]
  },
  {
   "cell_type": "code",
   "execution_count": 27,
   "metadata": {
    "collapsed": false
   },
   "outputs": [],
   "source": [
    "with open('terms_for_highlighting.pkl', 'wb') as f:\n",
    "    \n",
    "    pickle.dump(broader_terms, f)     "
   ]
  },
  {
   "cell_type": "code",
   "execution_count": 24,
   "metadata": {
    "collapsed": true
   },
   "outputs": [],
   "source": [
    "p = re.compile('IC₅₀|IC50|IC\\(50\\)', re.I)"
   ]
  },
  {
   "cell_type": "code",
   "execution_count": 25,
   "metadata": {
    "collapsed": false
   },
   "outputs": [
    {
     "data": {
      "text/plain": [
       "<_sre.SRE_Match object; span=(0, 4), match='IC₅₀'>"
      ]
     },
     "execution_count": 25,
     "metadata": {},
     "output_type": "execute_result"
    }
   ],
   "source": [
    "p.search('IC₅₀')"
   ]
  },
  {
   "cell_type": "code",
   "execution_count": null,
   "metadata": {
    "collapsed": true
   },
   "outputs": [],
   "source": []
  }
 ],
 "metadata": {
  "kernelspec": {
   "display_name": "Python 3",
   "language": "python",
   "name": "python3"
  },
  "language_info": {
   "codemirror_mode": {
    "name": "ipython",
    "version": 3
   },
   "file_extension": ".py",
   "mimetype": "text/x-python",
   "name": "python",
   "nbconvert_exporter": "python",
   "pygments_lexer": "ipython3",
   "version": "3.4.3"
  }
 },
 "nbformat": 4,
 "nbformat_minor": 0
}
