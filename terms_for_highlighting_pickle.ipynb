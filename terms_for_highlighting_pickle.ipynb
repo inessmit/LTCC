{
 "cells": [
  {
   "cell_type": "code",
   "execution_count": 6,
   "metadata": {
    "collapsed": true
   },
   "outputs": [],
   "source": [
    "import pickle"
   ]
  },
  {
   "cell_type": "code",
   "execution_count": 7,
   "metadata": {
    "collapsed": true
   },
   "outputs": [],
   "source": [
    "broader_terms = [\n",
    "{\n",
    "          'name': 'chem'\n",
    "        , 'terms': ['compounds?', 'molecules?', 'IC50', 'AC50', 'XC50', 'EC50', 'EC\\(50\\)', '\\(?IC\\(?50\\)?', '[IEXA][CD]\\(?[0-9]0\\)?', 'inhibitory activity', 'analogues?', 'ligands?', 'binding', 'potency', 'potencies', 'displacement', 'displacing', 'chemicals?']\n",
    "        , 'color': 'red'\n",
    "    }\n",
    "    , {\n",
    "          'name': 'bio'\n",
    "        , 'terms': ['calcium channel?', 'channels?' ,'calcium','targets?', '(calcium|ca) (channel?|currents?)', 'Ca2?(\\+)+ channels?', 'L-type (calcium|ca)[ -](channels?|currents?)', 'L-type Ca2?(\\+)+', 'L-type Ca2?(\\+)+ (channels?|currents?)', 'L-type', 'ICa, ?L', 'I\\(Ca,L\\)', 'DHPR', 'Cav[0-9]\\.[0-9a-z]+', 'DHP receptors?', 'DHP channels?', 'calcium channel', 'voltage-dependent (ca|calcium)', 'voltage-gated (ca|calcium)']\n",
    "        , 'color': 'blue'\n",
    "    },\n",
    "    {\n",
    "        'name':'tissue'\n",
    "        , 'terms': ['cardiac', 'heart', 'cardio.{0,10}']\n",
    "        , 'color': 'magenta'\n",
    "    }\n",
    "    , {\n",
    "        'name':'other_terms'\n",
    "        , 'terms': ['modulator', 'antagonist', 'block', 'blocker', 'inhibitor', 'affinity', 'antagonist', 'Ca(2+)-channel-blocking', 'Ca(2+)-channel block', 'calcium entry antagonist', 'calcium-channel blocking']\n",
    "        , 'color': 'DarkTurquoise'\n",
    "    }\n",
    "    , {\n",
    "        'name':'sodium'\n",
    "        , 'terms': ['sodium', 'Na']\n",
    "        , 'color': 'Lime'\n",
    "    }\n",
    "]"
   ]
  },
  {
   "cell_type": "code",
   "execution_count": 8,
   "metadata": {
    "collapsed": false
   },
   "outputs": [],
   "source": [
    "with open('terms_for_highlighting.pkl', 'wb') as f:\n",
    "    pickle.dump(broader_terms, f)     "
   ]
  },
  {
   "cell_type": "code",
   "execution_count": null,
   "metadata": {
    "collapsed": true
   },
   "outputs": [],
   "source": []
  }
 ],
 "metadata": {
  "kernelspec": {
   "display_name": "Python 3",
   "language": "python",
   "name": "python3"
  },
  "language_info": {
   "codemirror_mode": {
    "name": "ipython",
    "version": 3
   },
   "file_extension": ".py",
   "mimetype": "text/x-python",
   "name": "python",
   "nbconvert_exporter": "python",
   "pygments_lexer": "ipython3",
   "version": "3.4.3"
  }
 },
 "nbformat": 4,
 "nbformat_minor": 0
}
